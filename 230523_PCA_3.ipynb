{
 "cells": [
  {
   "cell_type": "code",
   "execution_count": 1,
   "id": "04c5400f",
   "metadata": {},
   "outputs": [
    {
     "name": "stdout",
     "output_type": "stream",
     "text": [
      "scikit-allel version: 1.3.5\n",
      "pandas version: 1.4.2\n",
      "numpy version: 1.22.4\n"
     ]
    }
   ],
   "source": [
    "import allel\n",
    "import numpy as np\n",
    "import pandas as pd\n",
    "import matplotlib.pyplot as plt\n",
    "import seaborn as sns\n",
    "print('scikit-allel version: %s' %allel.__version__)\n",
    "print('pandas version: %s' %pd.__version__)\n",
    "print('numpy version: %s' %np.__version__)"
   ]
  },
  {
   "cell_type": "code",
   "execution_count": 2,
   "id": "59d03489",
   "metadata": {},
   "outputs": [
    {
     "name": "stdout",
     "output_type": "stream",
     "text": [
      "malariagen_data version 5.0.1\n"
     ]
    },
    {
     "data": {
      "application/javascript": [
       "(function(root) {\n",
       "  function now() {\n",
       "    return new Date();\n",
       "  }\n",
       "\n",
       "  const force = true;\n",
       "\n",
       "  if (typeof root._bokeh_onload_callbacks === \"undefined\" || force === true) {\n",
       "    root._bokeh_onload_callbacks = [];\n",
       "    root._bokeh_is_loading = undefined;\n",
       "  }\n",
       "\n",
       "const JS_MIME_TYPE = 'application/javascript';\n",
       "  const HTML_MIME_TYPE = 'text/html';\n",
       "  const EXEC_MIME_TYPE = 'application/vnd.bokehjs_exec.v0+json';\n",
       "  const CLASS_NAME = 'output_bokeh rendered_html';\n",
       "\n",
       "  /**\n",
       "   * Render data to the DOM node\n",
       "   */\n",
       "  function render(props, node) {\n",
       "    const script = document.createElement(\"script\");\n",
       "    node.appendChild(script);\n",
       "  }\n",
       "\n",
       "  /**\n",
       "   * Handle when an output is cleared or removed\n",
       "   */\n",
       "  function handleClearOutput(event, handle) {\n",
       "    const cell = handle.cell;\n",
       "\n",
       "    const id = cell.output_area._bokeh_element_id;\n",
       "    const server_id = cell.output_area._bokeh_server_id;\n",
       "    // Clean up Bokeh references\n",
       "    if (id != null && id in Bokeh.index) {\n",
       "      Bokeh.index[id].model.document.clear();\n",
       "      delete Bokeh.index[id];\n",
       "    }\n",
       "\n",
       "    if (server_id !== undefined) {\n",
       "      // Clean up Bokeh references\n",
       "      const cmd_clean = \"from bokeh.io.state import curstate; print(curstate().uuid_to_server['\" + server_id + \"'].get_sessions()[0].document.roots[0]._id)\";\n",
       "      cell.notebook.kernel.execute(cmd_clean, {\n",
       "        iopub: {\n",
       "          output: function(msg) {\n",
       "            const id = msg.content.text.trim();\n",
       "            if (id in Bokeh.index) {\n",
       "              Bokeh.index[id].model.document.clear();\n",
       "              delete Bokeh.index[id];\n",
       "            }\n",
       "          }\n",
       "        }\n",
       "      });\n",
       "      // Destroy server and session\n",
       "      const cmd_destroy = \"import bokeh.io.notebook as ion; ion.destroy_server('\" + server_id + \"')\";\n",
       "      cell.notebook.kernel.execute(cmd_destroy);\n",
       "    }\n",
       "  }\n",
       "\n",
       "  /**\n",
       "   * Handle when a new output is added\n",
       "   */\n",
       "  function handleAddOutput(event, handle) {\n",
       "    const output_area = handle.output_area;\n",
       "    const output = handle.output;\n",
       "\n",
       "    // limit handleAddOutput to display_data with EXEC_MIME_TYPE content only\n",
       "    if ((output.output_type != \"display_data\") || (!Object.prototype.hasOwnProperty.call(output.data, EXEC_MIME_TYPE))) {\n",
       "      return\n",
       "    }\n",
       "\n",
       "    const toinsert = output_area.element.find(\".\" + CLASS_NAME.split(' ')[0]);\n",
       "\n",
       "    if (output.metadata[EXEC_MIME_TYPE][\"id\"] !== undefined) {\n",
       "      toinsert[toinsert.length - 1].firstChild.textContent = output.data[JS_MIME_TYPE];\n",
       "      // store reference to embed id on output_area\n",
       "      output_area._bokeh_element_id = output.metadata[EXEC_MIME_TYPE][\"id\"];\n",
       "    }\n",
       "    if (output.metadata[EXEC_MIME_TYPE][\"server_id\"] !== undefined) {\n",
       "      const bk_div = document.createElement(\"div\");\n",
       "      bk_div.innerHTML = output.data[HTML_MIME_TYPE];\n",
       "      const script_attrs = bk_div.children[0].attributes;\n",
       "      for (let i = 0; i < script_attrs.length; i++) {\n",
       "        toinsert[toinsert.length - 1].firstChild.setAttribute(script_attrs[i].name, script_attrs[i].value);\n",
       "        toinsert[toinsert.length - 1].firstChild.textContent = bk_div.children[0].textContent\n",
       "      }\n",
       "      // store reference to server id on output_area\n",
       "      output_area._bokeh_server_id = output.metadata[EXEC_MIME_TYPE][\"server_id\"];\n",
       "    }\n",
       "  }\n",
       "\n",
       "  function register_renderer(events, OutputArea) {\n",
       "\n",
       "    function append_mime(data, metadata, element) {\n",
       "      // create a DOM node to render to\n",
       "      const toinsert = this.create_output_subarea(\n",
       "        metadata,\n",
       "        CLASS_NAME,\n",
       "        EXEC_MIME_TYPE\n",
       "      );\n",
       "      this.keyboard_manager.register_events(toinsert);\n",
       "      // Render to node\n",
       "      const props = {data: data, metadata: metadata[EXEC_MIME_TYPE]};\n",
       "      render(props, toinsert[toinsert.length - 1]);\n",
       "      element.append(toinsert);\n",
       "      return toinsert\n",
       "    }\n",
       "\n",
       "    /* Handle when an output is cleared or removed */\n",
       "    events.on('clear_output.CodeCell', handleClearOutput);\n",
       "    events.on('delete.Cell', handleClearOutput);\n",
       "\n",
       "    /* Handle when a new output is added */\n",
       "    events.on('output_added.OutputArea', handleAddOutput);\n",
       "\n",
       "    /**\n",
       "     * Register the mime type and append_mime function with output_area\n",
       "     */\n",
       "    OutputArea.prototype.register_mime_type(EXEC_MIME_TYPE, append_mime, {\n",
       "      /* Is output safe? */\n",
       "      safe: true,\n",
       "      /* Index of renderer in `output_area.display_order` */\n",
       "      index: 0\n",
       "    });\n",
       "  }\n",
       "\n",
       "  // register the mime type if in Jupyter Notebook environment and previously unregistered\n",
       "  if (root.Jupyter !== undefined) {\n",
       "    const events = require('base/js/events');\n",
       "    const OutputArea = require('notebook/js/outputarea').OutputArea;\n",
       "\n",
       "    if (OutputArea.prototype.mime_types().indexOf(EXEC_MIME_TYPE) == -1) {\n",
       "      register_renderer(events, OutputArea);\n",
       "    }\n",
       "  }\n",
       "  if (typeof (root._bokeh_timeout) === \"undefined\" || force === true) {\n",
       "    root._bokeh_timeout = Date.now() + 5000;\n",
       "    root._bokeh_failed_load = false;\n",
       "  }\n",
       "\n",
       "  const NB_LOAD_WARNING = {'data': {'text/html':\n",
       "     \"<div style='background-color: #fdd'>\\n\"+\n",
       "     \"<p>\\n\"+\n",
       "     \"BokehJS does not appear to have successfully loaded. If loading BokehJS from CDN, this \\n\"+\n",
       "     \"may be due to a slow or bad network connection. Possible fixes:\\n\"+\n",
       "     \"</p>\\n\"+\n",
       "     \"<ul>\\n\"+\n",
       "     \"<li>re-rerun `output_notebook()` to attempt to load from CDN again, or</li>\\n\"+\n",
       "     \"<li>use INLINE resources instead, as so:</li>\\n\"+\n",
       "     \"</ul>\\n\"+\n",
       "     \"<code>\\n\"+\n",
       "     \"from bokeh.resources import INLINE\\n\"+\n",
       "     \"output_notebook(resources=INLINE)\\n\"+\n",
       "     \"</code>\\n\"+\n",
       "     \"</div>\"}};\n",
       "\n",
       "  function display_loaded() {\n",
       "    const el = document.getElementById(null);\n",
       "    if (el != null) {\n",
       "      el.textContent = \"BokehJS is loading...\";\n",
       "    }\n",
       "    if (root.Bokeh !== undefined) {\n",
       "      if (el != null) {\n",
       "        el.textContent = \"BokehJS \" + root.Bokeh.version + \" successfully loaded.\";\n",
       "      }\n",
       "    } else if (Date.now() < root._bokeh_timeout) {\n",
       "      setTimeout(display_loaded, 100)\n",
       "    }\n",
       "  }\n",
       "\n",
       "  function run_callbacks() {\n",
       "    try {\n",
       "      root._bokeh_onload_callbacks.forEach(function(callback) {\n",
       "        if (callback != null)\n",
       "          callback();\n",
       "      });\n",
       "    } finally {\n",
       "      delete root._bokeh_onload_callbacks\n",
       "    }\n",
       "    console.debug(\"Bokeh: all callbacks have finished\");\n",
       "  }\n",
       "\n",
       "  function load_libs(css_urls, js_urls, callback) {\n",
       "    if (css_urls == null) css_urls = [];\n",
       "    if (js_urls == null) js_urls = [];\n",
       "\n",
       "    root._bokeh_onload_callbacks.push(callback);\n",
       "    if (root._bokeh_is_loading > 0) {\n",
       "      console.debug(\"Bokeh: BokehJS is being loaded, scheduling callback at\", now());\n",
       "      return null;\n",
       "    }\n",
       "    if (js_urls == null || js_urls.length === 0) {\n",
       "      run_callbacks();\n",
       "      return null;\n",
       "    }\n",
       "    console.debug(\"Bokeh: BokehJS not loaded, scheduling load and callback at\", now());\n",
       "    root._bokeh_is_loading = css_urls.length + js_urls.length;\n",
       "\n",
       "    function on_load() {\n",
       "      root._bokeh_is_loading--;\n",
       "      if (root._bokeh_is_loading === 0) {\n",
       "        console.debug(\"Bokeh: all BokehJS libraries/stylesheets loaded\");\n",
       "        run_callbacks()\n",
       "      }\n",
       "    }\n",
       "\n",
       "    function on_error(url) {\n",
       "      console.error(\"failed to load \" + url);\n",
       "    }\n",
       "\n",
       "    for (let i = 0; i < css_urls.length; i++) {\n",
       "      const url = css_urls[i];\n",
       "      const element = document.createElement(\"link\");\n",
       "      element.onload = on_load;\n",
       "      element.onerror = on_error.bind(null, url);\n",
       "      element.rel = \"stylesheet\";\n",
       "      element.type = \"text/css\";\n",
       "      element.href = url;\n",
       "      console.debug(\"Bokeh: injecting link tag for BokehJS stylesheet: \", url);\n",
       "      document.body.appendChild(element);\n",
       "    }\n",
       "\n",
       "    for (let i = 0; i < js_urls.length; i++) {\n",
       "      const url = js_urls[i];\n",
       "      const element = document.createElement('script');\n",
       "      element.onload = on_load;\n",
       "      element.onerror = on_error.bind(null, url);\n",
       "      element.async = false;\n",
       "      element.src = url;\n",
       "      console.debug(\"Bokeh: injecting script tag for BokehJS library: \", url);\n",
       "      document.head.appendChild(element);\n",
       "    }\n",
       "  };\n",
       "\n",
       "  function inject_raw_css(css) {\n",
       "    const element = document.createElement(\"style\");\n",
       "    element.appendChild(document.createTextNode(css));\n",
       "    document.body.appendChild(element);\n",
       "  }\n",
       "\n",
       "  const js_urls = [\"https://cdn.bokeh.org/bokeh/release/bokeh-2.4.3.min.js\", \"https://cdn.bokeh.org/bokeh/release/bokeh-gl-2.4.3.min.js\", \"https://cdn.bokeh.org/bokeh/release/bokeh-widgets-2.4.3.min.js\", \"https://cdn.bokeh.org/bokeh/release/bokeh-tables-2.4.3.min.js\", \"https://cdn.bokeh.org/bokeh/release/bokeh-mathjax-2.4.3.min.js\"];\n",
       "  const css_urls = [];\n",
       "\n",
       "  const inline_js = [    function(Bokeh) {\n",
       "      Bokeh.set_log_level(\"info\");\n",
       "    },\n",
       "function(Bokeh) {\n",
       "    }\n",
       "  ];\n",
       "\n",
       "  function run_inline_js() {\n",
       "    if (root.Bokeh !== undefined || force === true) {\n",
       "          for (let i = 0; i < inline_js.length; i++) {\n",
       "      inline_js[i].call(root, root.Bokeh);\n",
       "    }\n",
       "} else if (Date.now() < root._bokeh_timeout) {\n",
       "      setTimeout(run_inline_js, 100);\n",
       "    } else if (!root._bokeh_failed_load) {\n",
       "      console.log(\"Bokeh: BokehJS failed to load within specified timeout.\");\n",
       "      root._bokeh_failed_load = true;\n",
       "    } else if (force !== true) {\n",
       "      const cell = $(document.getElementById(null)).parents('.cell').data().cell;\n",
       "      cell.output_area.append_execute_result(NB_LOAD_WARNING)\n",
       "    }\n",
       "  }\n",
       "\n",
       "  if (root._bokeh_is_loading === 0) {\n",
       "    console.debug(\"Bokeh: BokehJS loaded, going straight to plotting\");\n",
       "    run_inline_js();\n",
       "  } else {\n",
       "    load_libs(css_urls, js_urls, function() {\n",
       "      console.debug(\"Bokeh: BokehJS plotting callback run at\", now());\n",
       "      run_inline_js();\n",
       "    });\n",
       "  }\n",
       "}(window));"
      ],
      "application/vnd.bokehjs_load.v0+json": "(function(root) {\n  function now() {\n    return new Date();\n  }\n\n  const force = true;\n\n  if (typeof root._bokeh_onload_callbacks === \"undefined\" || force === true) {\n    root._bokeh_onload_callbacks = [];\n    root._bokeh_is_loading = undefined;\n  }\n\n\n  if (typeof (root._bokeh_timeout) === \"undefined\" || force === true) {\n    root._bokeh_timeout = Date.now() + 5000;\n    root._bokeh_failed_load = false;\n  }\n\n  const NB_LOAD_WARNING = {'data': {'text/html':\n     \"<div style='background-color: #fdd'>\\n\"+\n     \"<p>\\n\"+\n     \"BokehJS does not appear to have successfully loaded. If loading BokehJS from CDN, this \\n\"+\n     \"may be due to a slow or bad network connection. Possible fixes:\\n\"+\n     \"</p>\\n\"+\n     \"<ul>\\n\"+\n     \"<li>re-rerun `output_notebook()` to attempt to load from CDN again, or</li>\\n\"+\n     \"<li>use INLINE resources instead, as so:</li>\\n\"+\n     \"</ul>\\n\"+\n     \"<code>\\n\"+\n     \"from bokeh.resources import INLINE\\n\"+\n     \"output_notebook(resources=INLINE)\\n\"+\n     \"</code>\\n\"+\n     \"</div>\"}};\n\n  function display_loaded() {\n    const el = document.getElementById(null);\n    if (el != null) {\n      el.textContent = \"BokehJS is loading...\";\n    }\n    if (root.Bokeh !== undefined) {\n      if (el != null) {\n        el.textContent = \"BokehJS \" + root.Bokeh.version + \" successfully loaded.\";\n      }\n    } else if (Date.now() < root._bokeh_timeout) {\n      setTimeout(display_loaded, 100)\n    }\n  }\n\n  function run_callbacks() {\n    try {\n      root._bokeh_onload_callbacks.forEach(function(callback) {\n        if (callback != null)\n          callback();\n      });\n    } finally {\n      delete root._bokeh_onload_callbacks\n    }\n    console.debug(\"Bokeh: all callbacks have finished\");\n  }\n\n  function load_libs(css_urls, js_urls, callback) {\n    if (css_urls == null) css_urls = [];\n    if (js_urls == null) js_urls = [];\n\n    root._bokeh_onload_callbacks.push(callback);\n    if (root._bokeh_is_loading > 0) {\n      console.debug(\"Bokeh: BokehJS is being loaded, scheduling callback at\", now());\n      return null;\n    }\n    if (js_urls == null || js_urls.length === 0) {\n      run_callbacks();\n      return null;\n    }\n    console.debug(\"Bokeh: BokehJS not loaded, scheduling load and callback at\", now());\n    root._bokeh_is_loading = css_urls.length + js_urls.length;\n\n    function on_load() {\n      root._bokeh_is_loading--;\n      if (root._bokeh_is_loading === 0) {\n        console.debug(\"Bokeh: all BokehJS libraries/stylesheets loaded\");\n        run_callbacks()\n      }\n    }\n\n    function on_error(url) {\n      console.error(\"failed to load \" + url);\n    }\n\n    for (let i = 0; i < css_urls.length; i++) {\n      const url = css_urls[i];\n      const element = document.createElement(\"link\");\n      element.onload = on_load;\n      element.onerror = on_error.bind(null, url);\n      element.rel = \"stylesheet\";\n      element.type = \"text/css\";\n      element.href = url;\n      console.debug(\"Bokeh: injecting link tag for BokehJS stylesheet: \", url);\n      document.body.appendChild(element);\n    }\n\n    for (let i = 0; i < js_urls.length; i++) {\n      const url = js_urls[i];\n      const element = document.createElement('script');\n      element.onload = on_load;\n      element.onerror = on_error.bind(null, url);\n      element.async = false;\n      element.src = url;\n      console.debug(\"Bokeh: injecting script tag for BokehJS library: \", url);\n      document.head.appendChild(element);\n    }\n  };\n\n  function inject_raw_css(css) {\n    const element = document.createElement(\"style\");\n    element.appendChild(document.createTextNode(css));\n    document.body.appendChild(element);\n  }\n\n  const js_urls = [\"https://cdn.bokeh.org/bokeh/release/bokeh-2.4.3.min.js\", \"https://cdn.bokeh.org/bokeh/release/bokeh-gl-2.4.3.min.js\", \"https://cdn.bokeh.org/bokeh/release/bokeh-widgets-2.4.3.min.js\", \"https://cdn.bokeh.org/bokeh/release/bokeh-tables-2.4.3.min.js\", \"https://cdn.bokeh.org/bokeh/release/bokeh-mathjax-2.4.3.min.js\"];\n  const css_urls = [];\n\n  const inline_js = [    function(Bokeh) {\n      Bokeh.set_log_level(\"info\");\n    },\nfunction(Bokeh) {\n    }\n  ];\n\n  function run_inline_js() {\n    if (root.Bokeh !== undefined || force === true) {\n          for (let i = 0; i < inline_js.length; i++) {\n      inline_js[i].call(root, root.Bokeh);\n    }\n} else if (Date.now() < root._bokeh_timeout) {\n      setTimeout(run_inline_js, 100);\n    } else if (!root._bokeh_failed_load) {\n      console.log(\"Bokeh: BokehJS failed to load within specified timeout.\");\n      root._bokeh_failed_load = true;\n    } else if (force !== true) {\n      const cell = $(document.getElementById(null)).parents('.cell').data().cell;\n      cell.output_area.append_execute_result(NB_LOAD_WARNING)\n    }\n  }\n\n  if (root._bokeh_is_loading === 0) {\n    console.debug(\"Bokeh: BokehJS loaded, going straight to plotting\");\n    run_inline_js();\n  } else {\n    load_libs(css_urls, js_urls, function() {\n      console.debug(\"Bokeh: BokehJS plotting callback run at\", now());\n      run_inline_js();\n    });\n  }\n}(window));"
     },
     "metadata": {},
     "output_type": "display_data"
    },
    {
     "data": {
      "text/html": [
       "\n",
       "            <table class=\"malariagen-ag3\">\n",
       "                <thead>\n",
       "                    <tr>\n",
       "                        <th style=\"text-align: left\" colspan=\"2\">MalariaGEN Ag3 API client</th>\n",
       "                    </tr>\n",
       "                    <tr><td colspan=\"2\" style=\"text-align: left\">\n",
       "                        Please note that data are subject to terms of use,\n",
       "                        for more information see <a href=\"https://www.malariagen.net/data\">\n",
       "                        the MalariaGEN website</a> or contact data@malariagen.net.\n",
       "                        See also the <a href=\"https://malariagen.github.io/vector-data/ag3/api.html\">Ag3 API docs</a>.\n",
       "                    </td></tr>\n",
       "                </thead>\n",
       "                <tbody>\n",
       "                    <tr>\n",
       "                        <th style=\"text-align: left\">\n",
       "                            Storage URL\n",
       "                        </th>\n",
       "                        <td>gs://vo_agam_release/</td>\n",
       "                    </tr>\n",
       "                    <tr>\n",
       "                        <th style=\"text-align: left\">\n",
       "                            Data releases available\n",
       "                        </th>\n",
       "                        <td>3.0</td>\n",
       "                    </tr>\n",
       "                    <tr>\n",
       "                        <th style=\"text-align: left\">\n",
       "                            Results cache\n",
       "                        </th>\n",
       "                        <td>None</td>\n",
       "                    </tr>\n",
       "                    <tr>\n",
       "                        <th style=\"text-align: left\">\n",
       "                            Cohorts analysis\n",
       "                        </th>\n",
       "                        <td>20211101</td>\n",
       "                    </tr>\n",
       "                    <tr>\n",
       "                        <th style=\"text-align: left\">\n",
       "                            Species analysis\n",
       "                        </th>\n",
       "                        <td>aim_20220528</td>\n",
       "                    </tr>\n",
       "                    <tr>\n",
       "                        <th style=\"text-align: left\">\n",
       "                            Site filters analysis\n",
       "                        </th>\n",
       "                        <td>dt_20200416</td>\n",
       "                    </tr>\n",
       "                    <tr>\n",
       "                        <th style=\"text-align: left\">\n",
       "                            Software version\n",
       "                        </th>\n",
       "                        <td>malariagen_data 5.0.1</td>\n",
       "                    </tr>\n",
       "                    <tr>\n",
       "                        <th style=\"text-align: left\">\n",
       "                            Client location\n",
       "                        </th>\n",
       "                        <td>Iowa, US (Google Cloud)</td>\n",
       "                    </tr>\n",
       "                </tbody>\n",
       "            </table>\n",
       "        "
      ],
      "text/plain": [
       "<MalariaGEN Ag3 API client>\n",
       "Storage URL             : gs://vo_agam_release/\n",
       "Data releases available : 3.0\n",
       "Results cache           : None\n",
       "Cohorts analysis        : 20211101\n",
       "Species analysis        : aim_20220528\n",
       "Site filters analysis   : dt_20200416\n",
       "Software version        : malariagen_data 5.0.1\n",
       "Client location         : Iowa, US (Google Cloud)\n",
       "---\n",
       "Please note that data are subject to terms of use,\n",
       "for more information see https://www.malariagen.net/data\n",
       "or contact data@malariagen.net. For API documentation see \n",
       "https://malariagen.github.io/vector-data/ag3/api.html"
      ]
     },
     "execution_count": 2,
     "metadata": {},
     "output_type": "execute_result"
    }
   ],
   "source": [
    "import malariagen_data\n",
    "print('malariagen_data version %s' %malariagen_data.__version__)\n",
    "ag3 = malariagen_data.Ag3(\"gs://vo_agam_release/\")\n",
    "ag3"
   ]
  },
  {
   "cell_type": "code",
   "execution_count": 3,
   "id": "4a94326f-9bd6-4014-a3ab-0f33f397c65f",
   "metadata": {},
   "outputs": [],
   "source": [
    "# gain access to the gateway\n",
    "from dask_gateway import Gateway\n",
    "gateway = Gateway()"
   ]
  },
  {
   "cell_type": "code",
   "execution_count": 4,
   "id": "b1c27be8-1859-4403-adf5-38a1728ab34f",
   "metadata": {},
   "outputs": [
    {
     "data": {
      "application/vnd.jupyter.widget-view+json": {
       "model_id": "7757f81d37e14c8cb3220d1d1c4bab7c",
       "version_major": 2,
       "version_minor": 0
      },
      "text/plain": [
       "VBox(children=(HTML(value='<h2>Cluster Options</h2>'), GridBox(children=(HTML(value=\"<p style='font-weight: bo…"
      ]
     },
     "metadata": {},
     "output_type": "display_data"
    }
   ],
   "source": [
    "# list available options\n",
    "options = gateway.cluster_options()\n",
    "options"
   ]
  },
  {
   "cell_type": "code",
   "execution_count": 5,
   "id": "51e3662e-5726-4844-a546-03d1bad9e3c0",
   "metadata": {},
   "outputs": [
    {
     "data": {
      "application/vnd.jupyter.widget-view+json": {
       "model_id": "d31060abde6a4c5cb1873325566a6735",
       "version_major": 2,
       "version_minor": 0
      },
      "text/plain": [
       "VBox(children=(HTML(value='<h2>GatewayCluster</h2>'), HBox(children=(HTML(value='\\n<div>\\n<style scoped>\\n    …"
      ]
     },
     "metadata": {},
     "output_type": "display_data"
    }
   ],
   "source": [
    "# create a cluster with the options selected via the widgets above\n",
    "# ... may take a few minutes to provision a VM for the scheduler\n",
    "cluster = gateway.new_cluster(options)\n",
    "cluster"
   ]
  },
  {
   "cell_type": "code",
   "execution_count": 6,
   "id": "2ae157fb-fec8-46e4-bb98-e4f9fe8afb97",
   "metadata": {},
   "outputs": [],
   "source": [
    "cluster.scale(20)"
   ]
  },
  {
   "cell_type": "code",
   "execution_count": 7,
   "id": "6deff043-959d-414b-8db1-6b7185e8bac1",
   "metadata": {},
   "outputs": [],
   "source": [
    "client = cluster.get_client()"
   ]
  },
  {
   "cell_type": "markdown",
   "id": "31e0a9fd-558e-4cd2-a23e-3b8be0a85022",
   "metadata": {},
   "source": [
    "------------------------------------------"
   ]
  },
  {
   "cell_type": "code",
   "execution_count": 8,
   "id": "5cfc7334-f696-4dca-b889-ed3d1fea6207",
   "metadata": {},
   "outputs": [
    {
     "data": {
      "application/vnd.jupyter.widget-view+json": {
       "model_id": "a8a3c2054c554f4ca2e0595e73473f10",
       "version_major": 2,
       "version_minor": 0
      },
      "text/plain": [
       "Load sample metadata:   0%|          | 0/13 [00:00<?, ?it/s]"
      ]
     },
     "metadata": {},
     "output_type": "display_data"
    },
    {
     "data": {
      "text/html": [
       "<div>\n",
       "<style scoped>\n",
       "    .dataframe tbody tr th:only-of-type {\n",
       "        vertical-align: middle;\n",
       "    }\n",
       "\n",
       "    .dataframe tbody tr th {\n",
       "        vertical-align: top;\n",
       "    }\n",
       "\n",
       "    .dataframe thead th {\n",
       "        text-align: right;\n",
       "    }\n",
       "</style>\n",
       "<table border=\"1\" class=\"dataframe\">\n",
       "  <thead>\n",
       "    <tr style=\"text-align: right;\">\n",
       "      <th></th>\n",
       "      <th>sample_id</th>\n",
       "      <th>partner_sample_id</th>\n",
       "      <th>contributor</th>\n",
       "      <th>country</th>\n",
       "      <th>location</th>\n",
       "      <th>year</th>\n",
       "      <th>month</th>\n",
       "      <th>latitude</th>\n",
       "      <th>longitude</th>\n",
       "      <th>sex_call</th>\n",
       "      <th>...</th>\n",
       "      <th>aim_species</th>\n",
       "      <th>country_iso</th>\n",
       "      <th>admin1_name</th>\n",
       "      <th>admin1_iso</th>\n",
       "      <th>admin2_name</th>\n",
       "      <th>taxon</th>\n",
       "      <th>cohort_admin1_year</th>\n",
       "      <th>cohort_admin1_month</th>\n",
       "      <th>cohort_admin2_year</th>\n",
       "      <th>cohort_admin2_month</th>\n",
       "    </tr>\n",
       "  </thead>\n",
       "  <tbody>\n",
       "    <tr>\n",
       "      <th>0</th>\n",
       "      <td>AB0085-Cx</td>\n",
       "      <td>BF2-4</td>\n",
       "      <td>Austin Burt</td>\n",
       "      <td>Burkina Faso</td>\n",
       "      <td>Pala</td>\n",
       "      <td>2012</td>\n",
       "      <td>7</td>\n",
       "      <td>11.151</td>\n",
       "      <td>-4.235</td>\n",
       "      <td>F</td>\n",
       "      <td>...</td>\n",
       "      <td>gambiae</td>\n",
       "      <td>BFA</td>\n",
       "      <td>Hauts-Bassins</td>\n",
       "      <td>BF-09</td>\n",
       "      <td>Houet</td>\n",
       "      <td>gambiae</td>\n",
       "      <td>BF-09_gamb_2012</td>\n",
       "      <td>BF-09_gamb_2012_07</td>\n",
       "      <td>BF-09_Houet_gamb_2012</td>\n",
       "      <td>BF-09_Houet_gamb_2012_07</td>\n",
       "    </tr>\n",
       "    <tr>\n",
       "      <th>1</th>\n",
       "      <td>AB0086-Cx</td>\n",
       "      <td>BF2-6</td>\n",
       "      <td>Austin Burt</td>\n",
       "      <td>Burkina Faso</td>\n",
       "      <td>Pala</td>\n",
       "      <td>2012</td>\n",
       "      <td>7</td>\n",
       "      <td>11.151</td>\n",
       "      <td>-4.235</td>\n",
       "      <td>F</td>\n",
       "      <td>...</td>\n",
       "      <td>gambiae</td>\n",
       "      <td>BFA</td>\n",
       "      <td>Hauts-Bassins</td>\n",
       "      <td>BF-09</td>\n",
       "      <td>Houet</td>\n",
       "      <td>gambiae</td>\n",
       "      <td>BF-09_gamb_2012</td>\n",
       "      <td>BF-09_gamb_2012_07</td>\n",
       "      <td>BF-09_Houet_gamb_2012</td>\n",
       "      <td>BF-09_Houet_gamb_2012_07</td>\n",
       "    </tr>\n",
       "    <tr>\n",
       "      <th>2</th>\n",
       "      <td>AB0087-C</td>\n",
       "      <td>BF3-3</td>\n",
       "      <td>Austin Burt</td>\n",
       "      <td>Burkina Faso</td>\n",
       "      <td>Bana Village</td>\n",
       "      <td>2012</td>\n",
       "      <td>7</td>\n",
       "      <td>11.233</td>\n",
       "      <td>-4.472</td>\n",
       "      <td>F</td>\n",
       "      <td>...</td>\n",
       "      <td>coluzzii</td>\n",
       "      <td>BFA</td>\n",
       "      <td>Hauts-Bassins</td>\n",
       "      <td>BF-09</td>\n",
       "      <td>Houet</td>\n",
       "      <td>coluzzii</td>\n",
       "      <td>BF-09_colu_2012</td>\n",
       "      <td>BF-09_colu_2012_07</td>\n",
       "      <td>BF-09_Houet_colu_2012</td>\n",
       "      <td>BF-09_Houet_colu_2012_07</td>\n",
       "    </tr>\n",
       "    <tr>\n",
       "      <th>3</th>\n",
       "      <td>AB0088-C</td>\n",
       "      <td>BF3-5</td>\n",
       "      <td>Austin Burt</td>\n",
       "      <td>Burkina Faso</td>\n",
       "      <td>Bana Village</td>\n",
       "      <td>2012</td>\n",
       "      <td>7</td>\n",
       "      <td>11.233</td>\n",
       "      <td>-4.472</td>\n",
       "      <td>F</td>\n",
       "      <td>...</td>\n",
       "      <td>coluzzii</td>\n",
       "      <td>BFA</td>\n",
       "      <td>Hauts-Bassins</td>\n",
       "      <td>BF-09</td>\n",
       "      <td>Houet</td>\n",
       "      <td>coluzzii</td>\n",
       "      <td>BF-09_colu_2012</td>\n",
       "      <td>BF-09_colu_2012_07</td>\n",
       "      <td>BF-09_Houet_colu_2012</td>\n",
       "      <td>BF-09_Houet_colu_2012_07</td>\n",
       "    </tr>\n",
       "    <tr>\n",
       "      <th>4</th>\n",
       "      <td>AB0089-Cx</td>\n",
       "      <td>BF3-8</td>\n",
       "      <td>Austin Burt</td>\n",
       "      <td>Burkina Faso</td>\n",
       "      <td>Bana Village</td>\n",
       "      <td>2012</td>\n",
       "      <td>7</td>\n",
       "      <td>11.233</td>\n",
       "      <td>-4.472</td>\n",
       "      <td>F</td>\n",
       "      <td>...</td>\n",
       "      <td>coluzzii</td>\n",
       "      <td>BFA</td>\n",
       "      <td>Hauts-Bassins</td>\n",
       "      <td>BF-09</td>\n",
       "      <td>Houet</td>\n",
       "      <td>coluzzii</td>\n",
       "      <td>BF-09_colu_2012</td>\n",
       "      <td>BF-09_colu_2012_07</td>\n",
       "      <td>BF-09_Houet_colu_2012</td>\n",
       "      <td>BF-09_Houet_colu_2012_07</td>\n",
       "    </tr>\n",
       "  </tbody>\n",
       "</table>\n",
       "<p>5 rows × 27 columns</p>\n",
       "</div>"
      ],
      "text/plain": [
       "   sample_id partner_sample_id  contributor       country      location  year  \\\n",
       "0  AB0085-Cx             BF2-4  Austin Burt  Burkina Faso          Pala  2012   \n",
       "1  AB0086-Cx             BF2-6  Austin Burt  Burkina Faso          Pala  2012   \n",
       "2   AB0087-C             BF3-3  Austin Burt  Burkina Faso  Bana Village  2012   \n",
       "3   AB0088-C             BF3-5  Austin Burt  Burkina Faso  Bana Village  2012   \n",
       "4  AB0089-Cx             BF3-8  Austin Burt  Burkina Faso  Bana Village  2012   \n",
       "\n",
       "   month  latitude  longitude sex_call  ... aim_species country_iso  \\\n",
       "0      7    11.151     -4.235        F  ...     gambiae         BFA   \n",
       "1      7    11.151     -4.235        F  ...     gambiae         BFA   \n",
       "2      7    11.233     -4.472        F  ...    coluzzii         BFA   \n",
       "3      7    11.233     -4.472        F  ...    coluzzii         BFA   \n",
       "4      7    11.233     -4.472        F  ...    coluzzii         BFA   \n",
       "\n",
       "     admin1_name  admin1_iso  admin2_name     taxon cohort_admin1_year  \\\n",
       "0  Hauts-Bassins       BF-09        Houet   gambiae    BF-09_gamb_2012   \n",
       "1  Hauts-Bassins       BF-09        Houet   gambiae    BF-09_gamb_2012   \n",
       "2  Hauts-Bassins       BF-09        Houet  coluzzii    BF-09_colu_2012   \n",
       "3  Hauts-Bassins       BF-09        Houet  coluzzii    BF-09_colu_2012   \n",
       "4  Hauts-Bassins       BF-09        Houet  coluzzii    BF-09_colu_2012   \n",
       "\n",
       "  cohort_admin1_month     cohort_admin2_year       cohort_admin2_month  \n",
       "0  BF-09_gamb_2012_07  BF-09_Houet_gamb_2012  BF-09_Houet_gamb_2012_07  \n",
       "1  BF-09_gamb_2012_07  BF-09_Houet_gamb_2012  BF-09_Houet_gamb_2012_07  \n",
       "2  BF-09_colu_2012_07  BF-09_Houet_colu_2012  BF-09_Houet_colu_2012_07  \n",
       "3  BF-09_colu_2012_07  BF-09_Houet_colu_2012  BF-09_Houet_colu_2012_07  \n",
       "4  BF-09_colu_2012_07  BF-09_Houet_colu_2012  BF-09_Houet_colu_2012_07  \n",
       "\n",
       "[5 rows x 27 columns]"
      ]
     },
     "execution_count": 8,
     "metadata": {},
     "output_type": "execute_result"
    }
   ],
   "source": [
    "df_samples = ag3.sample_metadata(sample_sets=[\"AG1000G-BF-A\", \"AG1000G-BF-B\", \"AG1000G-BF-C\", \"AG1000G-CI\", \"AG1000G-GH\", \"AG1000G-GM-A\", \"AG1000G-GM-B\", \n",
    "                                       \"AG1000G-GM-C\", \"AG1000G-GN-A\", \"AG1000G-GN-B\", \"AG1000G-ML-A\", \"AG1000G-ML-B\", \"AG1000G-GW\"])\n",
    "df_samples.head()"
   ]
  },
  {
   "cell_type": "code",
   "execution_count": 9,
   "id": "226e0a03",
   "metadata": {},
   "outputs": [
    {
     "data": {
      "text/html": [
       "<div>\n",
       "<style scoped>\n",
       "    .dataframe tbody tr th:only-of-type {\n",
       "        vertical-align: middle;\n",
       "    }\n",
       "\n",
       "    .dataframe tbody tr th {\n",
       "        vertical-align: top;\n",
       "    }\n",
       "\n",
       "    .dataframe thead th {\n",
       "        text-align: right;\n",
       "    }\n",
       "</style>\n",
       "<table border=\"1\" class=\"dataframe\">\n",
       "  <thead>\n",
       "    <tr style=\"text-align: right;\">\n",
       "      <th></th>\n",
       "      <th>sample_id</th>\n",
       "      <th>partner_sample_id</th>\n",
       "      <th>contributor</th>\n",
       "      <th>country</th>\n",
       "      <th>location</th>\n",
       "      <th>year</th>\n",
       "      <th>month</th>\n",
       "      <th>longitude</th>\n",
       "      <th>latitude</th>\n",
       "      <th>sex_call</th>\n",
       "      <th>...</th>\n",
       "      <th>pca_pops</th>\n",
       "      <th>pca_country</th>\n",
       "      <th>aim_species_fraction_colu_no2l</th>\n",
       "      <th>taxon</th>\n",
       "      <th>cohort_admin1_year</th>\n",
       "      <th>cohort_admin1_month</th>\n",
       "      <th>cohort_admin1_quarter</th>\n",
       "      <th>cohort_admin2_year</th>\n",
       "      <th>cohort_admin2_month</th>\n",
       "      <th>cohort_admin2_quarter</th>\n",
       "    </tr>\n",
       "  </thead>\n",
       "  <tbody>\n",
       "    <tr>\n",
       "      <th>0</th>\n",
       "      <td>AB0085-Cx</td>\n",
       "      <td>BF2-4</td>\n",
       "      <td>Austin Burt</td>\n",
       "      <td>Burkina Faso</td>\n",
       "      <td>Pala</td>\n",
       "      <td>2012</td>\n",
       "      <td>7</td>\n",
       "      <td>-4.235</td>\n",
       "      <td>11.150</td>\n",
       "      <td>F</td>\n",
       "      <td>...</td>\n",
       "      <td>An.gam</td>\n",
       "      <td>BFgam</td>\n",
       "      <td>0.016488</td>\n",
       "      <td>gambiae</td>\n",
       "      <td>BF-09_gamb_2012</td>\n",
       "      <td>BF-09_gamb_2012_07</td>\n",
       "      <td>BF-09_gamb_2012_Q3</td>\n",
       "      <td>BF-09_Houet_gamb_2012</td>\n",
       "      <td>BF-09_Houet_gamb_2012_07</td>\n",
       "      <td>BF-09_Houet_gamb_2012_Q3</td>\n",
       "    </tr>\n",
       "    <tr>\n",
       "      <th>1</th>\n",
       "      <td>AB0086-Cx</td>\n",
       "      <td>BF2-6</td>\n",
       "      <td>Austin Burt</td>\n",
       "      <td>Burkina Faso</td>\n",
       "      <td>Pala</td>\n",
       "      <td>2012</td>\n",
       "      <td>7</td>\n",
       "      <td>-4.235</td>\n",
       "      <td>11.150</td>\n",
       "      <td>F</td>\n",
       "      <td>...</td>\n",
       "      <td>An.gam</td>\n",
       "      <td>BFgam</td>\n",
       "      <td>0.026316</td>\n",
       "      <td>gambiae</td>\n",
       "      <td>BF-09_gamb_2012</td>\n",
       "      <td>BF-09_gamb_2012_07</td>\n",
       "      <td>BF-09_gamb_2012_Q3</td>\n",
       "      <td>BF-09_Houet_gamb_2012</td>\n",
       "      <td>BF-09_Houet_gamb_2012_07</td>\n",
       "      <td>BF-09_Houet_gamb_2012_Q3</td>\n",
       "    </tr>\n",
       "    <tr>\n",
       "      <th>2</th>\n",
       "      <td>AB0087-C</td>\n",
       "      <td>BF3-3</td>\n",
       "      <td>Austin Burt</td>\n",
       "      <td>Burkina Faso</td>\n",
       "      <td>Bana</td>\n",
       "      <td>2012</td>\n",
       "      <td>7</td>\n",
       "      <td>-4.472</td>\n",
       "      <td>11.233</td>\n",
       "      <td>F</td>\n",
       "      <td>...</td>\n",
       "      <td>An.col</td>\n",
       "      <td>BFcol</td>\n",
       "      <td>0.981007</td>\n",
       "      <td>coluzzii</td>\n",
       "      <td>BF-09_colu_2012</td>\n",
       "      <td>BF-09_colu_2012_07</td>\n",
       "      <td>BF-09_colu_2012_Q3</td>\n",
       "      <td>BF-09_Houet_colu_2012</td>\n",
       "      <td>BF-09_Houet_colu_2012_07</td>\n",
       "      <td>BF-09_Houet_colu_2012_Q3</td>\n",
       "    </tr>\n",
       "    <tr>\n",
       "      <th>3</th>\n",
       "      <td>AB0088-C</td>\n",
       "      <td>BF3-5</td>\n",
       "      <td>Austin Burt</td>\n",
       "      <td>Burkina Faso</td>\n",
       "      <td>Bana</td>\n",
       "      <td>2012</td>\n",
       "      <td>7</td>\n",
       "      <td>-4.472</td>\n",
       "      <td>11.233</td>\n",
       "      <td>F</td>\n",
       "      <td>...</td>\n",
       "      <td>An.col</td>\n",
       "      <td>BFcol</td>\n",
       "      <td>0.987593</td>\n",
       "      <td>coluzzii</td>\n",
       "      <td>BF-09_colu_2012</td>\n",
       "      <td>BF-09_colu_2012_07</td>\n",
       "      <td>BF-09_colu_2012_Q3</td>\n",
       "      <td>BF-09_Houet_colu_2012</td>\n",
       "      <td>BF-09_Houet_colu_2012_07</td>\n",
       "      <td>BF-09_Houet_colu_2012_Q3</td>\n",
       "    </tr>\n",
       "    <tr>\n",
       "      <th>4</th>\n",
       "      <td>AB0089-Cx</td>\n",
       "      <td>BF3-8</td>\n",
       "      <td>Austin Burt</td>\n",
       "      <td>Burkina Faso</td>\n",
       "      <td>Bana</td>\n",
       "      <td>2012</td>\n",
       "      <td>7</td>\n",
       "      <td>-4.472</td>\n",
       "      <td>11.233</td>\n",
       "      <td>F</td>\n",
       "      <td>...</td>\n",
       "      <td>An.col</td>\n",
       "      <td>BFcol</td>\n",
       "      <td>0.973597</td>\n",
       "      <td>coluzzii</td>\n",
       "      <td>BF-09_colu_2012</td>\n",
       "      <td>BF-09_colu_2012_07</td>\n",
       "      <td>BF-09_colu_2012_Q3</td>\n",
       "      <td>BF-09_Houet_colu_2012</td>\n",
       "      <td>BF-09_Houet_colu_2012_07</td>\n",
       "      <td>BF-09_Houet_colu_2012_Q3</td>\n",
       "    </tr>\n",
       "  </tbody>\n",
       "</table>\n",
       "<p>5 rows × 31 columns</p>\n",
       "</div>"
      ],
      "text/plain": [
       "   sample_id partner_sample_id  contributor       country location  year  \\\n",
       "0  AB0085-Cx             BF2-4  Austin Burt  Burkina Faso     Pala  2012   \n",
       "1  AB0086-Cx             BF2-6  Austin Burt  Burkina Faso     Pala  2012   \n",
       "2   AB0087-C             BF3-3  Austin Burt  Burkina Faso     Bana  2012   \n",
       "3   AB0088-C             BF3-5  Austin Burt  Burkina Faso     Bana  2012   \n",
       "4  AB0089-Cx             BF3-8  Austin Burt  Burkina Faso     Bana  2012   \n",
       "\n",
       "   month  longitude  latitude sex_call  ... pca_pops pca_country  \\\n",
       "0      7     -4.235    11.150        F  ...   An.gam       BFgam   \n",
       "1      7     -4.235    11.150        F  ...   An.gam       BFgam   \n",
       "2      7     -4.472    11.233        F  ...   An.col       BFcol   \n",
       "3      7     -4.472    11.233        F  ...   An.col       BFcol   \n",
       "4      7     -4.472    11.233        F  ...   An.col       BFcol   \n",
       "\n",
       "   aim_species_fraction_colu_no2l     taxon cohort_admin1_year  \\\n",
       "0                        0.016488   gambiae    BF-09_gamb_2012   \n",
       "1                        0.026316   gambiae    BF-09_gamb_2012   \n",
       "2                        0.981007  coluzzii    BF-09_colu_2012   \n",
       "3                        0.987593  coluzzii    BF-09_colu_2012   \n",
       "4                        0.973597  coluzzii    BF-09_colu_2012   \n",
       "\n",
       "  cohort_admin1_month cohort_admin1_quarter     cohort_admin2_year  \\\n",
       "0  BF-09_gamb_2012_07    BF-09_gamb_2012_Q3  BF-09_Houet_gamb_2012   \n",
       "1  BF-09_gamb_2012_07    BF-09_gamb_2012_Q3  BF-09_Houet_gamb_2012   \n",
       "2  BF-09_colu_2012_07    BF-09_colu_2012_Q3  BF-09_Houet_colu_2012   \n",
       "3  BF-09_colu_2012_07    BF-09_colu_2012_Q3  BF-09_Houet_colu_2012   \n",
       "4  BF-09_colu_2012_07    BF-09_colu_2012_Q3  BF-09_Houet_colu_2012   \n",
       "\n",
       "        cohort_admin2_month     cohort_admin2_quarter  \n",
       "0  BF-09_Houet_gamb_2012_07  BF-09_Houet_gamb_2012_Q3  \n",
       "1  BF-09_Houet_gamb_2012_07  BF-09_Houet_gamb_2012_Q3  \n",
       "2  BF-09_Houet_colu_2012_07  BF-09_Houet_colu_2012_Q3  \n",
       "3  BF-09_Houet_colu_2012_07  BF-09_Houet_colu_2012_Q3  \n",
       "4  BF-09_Houet_colu_2012_07  BF-09_Houet_colu_2012_Q3  \n",
       "\n",
       "[5 rows x 31 columns]"
      ]
     },
     "execution_count": 9,
     "metadata": {},
     "output_type": "execute_result"
    }
   ],
   "source": [
    "meta_fw = pd.read_excel('../Data/Meta/meta_new_3_0.xlsx', sheet_name=\"meta3.0\")\n",
    "meta_fw.head()"
   ]
  },
  {
   "cell_type": "code",
   "execution_count": 10,
   "id": "b15da081-800b-4263-a675-a6a2953d5188",
   "metadata": {},
   "outputs": [
    {
     "data": {
      "text/plain": [
       "array([ True,  True,  True, ...,  True,  True,  True])"
      ]
     },
     "execution_count": 10,
     "metadata": {},
     "output_type": "execute_result"
    }
   ],
   "source": [
    "#excluding samples from location <5 and arabiensis\n",
    "mysel = np.array(df_samples['sample_id'].isin(meta_fw['sample_id']))\n",
    "mysel"
   ]
  },
  {
   "cell_type": "code",
   "execution_count": 11,
   "id": "0a411645-4e3f-4cc4-bb87-c672bc847e88",
   "metadata": {},
   "outputs": [],
   "source": [
    "def ld_prune(gn, pos, size, step, threshold=.1, n_iter=1):\n",
    "    for i in range(n_iter):\n",
    "        loc_unlinked = allel.locate_unlinked(gn, size=size, step=step, threshold=threshold)\n",
    "        n = np.count_nonzero(loc_unlinked)\n",
    "        n_remove = gn.shape[0] - n\n",
    "        print('iteration', i+1, 'retaining', n, 'removing', n_remove, 'variants')\n",
    "        gn = gn.compress(loc_unlinked, axis=0)\n",
    "        pos_pruned = pos.compress(loc_unlinked, axis=0)\n",
    "    return gn, pos_pruned"
   ]
  },
  {
   "cell_type": "markdown",
   "id": "fe2dba31",
   "metadata": {
    "tags": []
   },
   "source": [
    "-----------------------------------\n",
    "## Chromosome 3R"
   ]
  },
  {
   "cell_type": "code",
   "execution_count": 12,
   "id": "1e146c65",
   "metadata": {},
   "outputs": [
    {
     "data": {
      "text/html": [
       "<div class=\"allel allel-DisplayAs2D\"><span>&lt;GenotypeDaskArray shape=(37199402, 1190, 2) dtype=int8&gt;</span><table><thead><tr><th></th><th style=\"text-align: center\">0</th><th style=\"text-align: center\">1</th><th style=\"text-align: center\">2</th><th style=\"text-align: center\">3</th><th style=\"text-align: center\">4</th><th style=\"text-align: center\">...</th><th style=\"text-align: center\">1185</th><th style=\"text-align: center\">1186</th><th style=\"text-align: center\">1187</th><th style=\"text-align: center\">1188</th><th style=\"text-align: center\">1189</th></tr></thead><tbody><tr><th style=\"text-align: center; background-color: white; border-right: 1px solid black; \">0</th><td style=\"text-align: center\">0/0</td><td style=\"text-align: center\">0/0</td><td style=\"text-align: center\">0/0</td><td style=\"text-align: center\">0/0</td><td style=\"text-align: center\">0/0</td><td style=\"text-align: center\">...</td><td style=\"text-align: center\">0/0</td><td style=\"text-align: center\">0/0</td><td style=\"text-align: center\">0/0</td><td style=\"text-align: center\">0/0</td><td style=\"text-align: center\">0/0</td></tr><tr><th style=\"text-align: center; background-color: white; border-right: 1px solid black; \">1</th><td style=\"text-align: center\">0/0</td><td style=\"text-align: center\">0/0</td><td style=\"text-align: center\">0/0</td><td style=\"text-align: center\">0/0</td><td style=\"text-align: center\">0/0</td><td style=\"text-align: center\">...</td><td style=\"text-align: center\">0/0</td><td style=\"text-align: center\">0/0</td><td style=\"text-align: center\">0/0</td><td style=\"text-align: center\">0/0</td><td style=\"text-align: center\">0/0</td></tr><tr><th style=\"text-align: center; background-color: white; border-right: 1px solid black; \">2</th><td style=\"text-align: center\">0/0</td><td style=\"text-align: center\">0/0</td><td style=\"text-align: center\">0/0</td><td style=\"text-align: center\">0/0</td><td style=\"text-align: center\">0/0</td><td style=\"text-align: center\">...</td><td style=\"text-align: center\">0/0</td><td style=\"text-align: center\">0/0</td><td style=\"text-align: center\">0/0</td><td style=\"text-align: center\">0/0</td><td style=\"text-align: center\">0/0</td></tr><tr><th style=\"text-align: center; background-color: white; border-right: 1px solid black; \">...</th><td style=\"text-align: center\" colspan=\"12\">...</td></tr><tr><th style=\"text-align: center; background-color: white; border-right: 1px solid black; \">37199399</th><td style=\"text-align: center\">0/0</td><td style=\"text-align: center\">0/0</td><td style=\"text-align: center\">0/0</td><td style=\"text-align: center\">0/0</td><td style=\"text-align: center\">0/0</td><td style=\"text-align: center\">...</td><td style=\"text-align: center\">0/0</td><td style=\"text-align: center\">0/0</td><td style=\"text-align: center\">0/0</td><td style=\"text-align: center\">0/0</td><td style=\"text-align: center\">0/0</td></tr><tr><th style=\"text-align: center; background-color: white; border-right: 1px solid black; \">37199400</th><td style=\"text-align: center\">0/0</td><td style=\"text-align: center\">0/0</td><td style=\"text-align: center\">0/0</td><td style=\"text-align: center\">0/0</td><td style=\"text-align: center\">0/0</td><td style=\"text-align: center\">...</td><td style=\"text-align: center\">0/0</td><td style=\"text-align: center\">0/0</td><td style=\"text-align: center\">0/0</td><td style=\"text-align: center\">0/0</td><td style=\"text-align: center\">0/0</td></tr><tr><th style=\"text-align: center; background-color: white; border-right: 1px solid black; \">37199401</th><td style=\"text-align: center\">0/0</td><td style=\"text-align: center\">0/0</td><td style=\"text-align: center\">0/0</td><td style=\"text-align: center\">0/0</td><td style=\"text-align: center\">0/0</td><td style=\"text-align: center\">...</td><td style=\"text-align: center\">0/0</td><td style=\"text-align: center\">0/0</td><td style=\"text-align: center\">0/0</td><td style=\"text-align: center\">0/0</td><td style=\"text-align: center\">0/0</td></tr></tbody></table></div>"
      ],
      "text/plain": [
       "<GenotypeDaskArray shape=(37199402, 1190, 2) dtype=int8>"
      ]
     },
     "execution_count": 12,
     "metadata": {},
     "output_type": "execute_result"
    }
   ],
   "source": [
    "gt = ag3.snp_genotypes(region=[\"3R\"], site_mask=\"gamb_colu\", sample_sets=[\"AG1000G-BF-A\", \"AG1000G-BF-B\", \"AG1000G-BF-C\", \"AG1000G-CI\", \"AG1000G-GH\", \"AG1000G-GM-A\", \"AG1000G-GM-B\", \n",
    "                                       \"AG1000G-GM-C\", \"AG1000G-GN-A\", \"AG1000G-GN-B\", \"AG1000G-ML-A\", \"AG1000G-ML-B\", \"AG1000G-GW\"])\n",
    "gt = allel.GenotypeDaskArray(gt).subset(sel1 = mysel)\n",
    "gt"
   ]
  },
  {
   "cell_type": "code",
   "execution_count": 13,
   "id": "9580b90f",
   "metadata": {},
   "outputs": [],
   "source": [
    "pos = ag3.snp_sites(region=[\"3R\"], field='POS', site_mask=\"gamb_colu\")\n",
    "ref = ag3.snp_sites(region=[\"3R\"], field='REF', site_mask=\"gamb_colu\")\n",
    "alt = ag3.snp_sites(region=[\"3R\"], field='ALT', site_mask=\"gamb_colu\")"
   ]
  },
  {
   "cell_type": "markdown",
   "id": "2eeacc06-4b73-436e-86e6-5ddfbc0833c3",
   "metadata": {
    "tags": []
   },
   "source": [
    "---------------------------\n",
    "### Biallelic and MAF selection"
   ]
  },
  {
   "cell_type": "code",
   "execution_count": 14,
   "id": "acd239f5-75c7-4217-9a66-36ed1678342f",
   "metadata": {},
   "outputs": [],
   "source": [
    "ac = gt.count_alleles(max_allele=1).compute()\n",
    "biallel = ac.is_biallelic()"
   ]
  },
  {
   "cell_type": "code",
   "execution_count": 15,
   "id": "3bdb43ba-1278-4246-91af-9aae286a8afa",
   "metadata": {},
   "outputs": [],
   "source": [
    "gt_biallelic = gt.compress(biallel, axis=0)\n",
    "ac_biallel = ac[biallel]"
   ]
  },
  {
   "cell_type": "code",
   "execution_count": 16,
   "id": "20d63239-d40b-488b-b19f-6cfc18a002ed",
   "metadata": {},
   "outputs": [],
   "source": [
    "pos_biallelic = pos[biallel]\n",
    "ref_biallelic = ref[biallel]\n",
    "alt_biallelic = alt[:,0][biallel]"
   ]
  },
  {
   "cell_type": "code",
   "execution_count": 17,
   "id": "6af31da2-63b3-4624-9249-ff1b1718dc54",
   "metadata": {},
   "outputs": [],
   "source": [
    "maf_min = 0.01"
   ]
  },
  {
   "cell_type": "code",
   "execution_count": 18,
   "id": "848e8338-9354-4f66-984a-3b21c2ba4c6d",
   "metadata": {},
   "outputs": [],
   "source": [
    "freqs = ac_biallel.to_frequencies()\n",
    "maf_ok = np.min(np.array(freqs), axis=1) >= maf_min\n",
    "gt_biallelic_maf = gt_biallelic.compress(maf_ok, axis=0)\n",
    "pos_biallelic_maf = np.compress(maf_ok, pos, axis=0)"
   ]
  },
  {
   "cell_type": "markdown",
   "id": "3ab8dcd7-de42-47e0-978c-f2ec5e231938",
   "metadata": {},
   "source": [
    "----------------------\n",
    "### Downsampling"
   ]
  },
  {
   "cell_type": "code",
   "execution_count": 19,
   "id": "9e53ee30-9c86-4106-bec3-31c560410be3",
   "metadata": {},
   "outputs": [],
   "source": [
    "downsample_n = 100000"
   ]
  },
  {
   "cell_type": "code",
   "execution_count": 20,
   "id": "08ef3bb7-ae68-4b3e-995d-740fe04c6df2",
   "metadata": {},
   "outputs": [
    {
     "name": "stdout",
     "output_type": "stream",
     "text": [
      "Downsampling... to 100000 from 1527138\n"
     ]
    }
   ],
   "source": [
    "if pos.size > downsample_n:\n",
    "        print(\"Downsampling... to {0} from {1}\".format(downsample_n, pos_biallelic_maf.size))\n",
    "        idx = np.random.choice(np.arange(0, pos_biallelic_maf.size), downsample_n, False)\n",
    "        idx.sort()\n",
    "        pos_downsampled = np.take(pos_biallelic_maf, idx)\n",
    "        ref_downsampled = np.take(ref_biallelic, idx)\n",
    "        alt_downsampled = np.take(alt_biallelic, idx)\n",
    "        g_downsampled = gt_biallelic_maf.take(idx, axis=0)"
   ]
  },
  {
   "cell_type": "code",
   "execution_count": 21,
   "id": "95c645ed-5108-4fc0-a804-15cfab46d4c4",
   "metadata": {},
   "outputs": [],
   "source": [
    "g_3R = g_downsampled.compute()\n",
    "pos_3R = pos_downsampled.compute()\n",
    "ref_3R = ref_downsampled\n",
    "alt_3R = alt_downsampled"
   ]
  },
  {
   "cell_type": "code",
   "execution_count": 22,
   "id": "ae56b6b0-c34b-4d99-858b-fb37d0061efd",
   "metadata": {},
   "outputs": [
    {
     "name": "stdout",
     "output_type": "stream",
     "text": [
      "iteration 1 retaining 80812 removing 19188 variants\n",
      "iteration 2 retaining 80489 removing 323 variants\n",
      "iteration 3 retaining 80459 removing 30 variants\n",
      "iteration 4 retaining 80454 removing 5 variants\n",
      "iteration 5 retaining 80454 removing 0 variants\n"
     ]
    }
   ],
   "source": [
    "gn_3R = g_3R.to_n_alt()\n",
    "gnu_3R, pos_3R_prun = ld_prune(gn_3R, pos_3R, size=500, step=200,  threshold=.1, n_iter=5)"
   ]
  },
  {
   "cell_type": "markdown",
   "id": "d4de96bb-dd22-4e47-843b-e7fe4fd6d68a",
   "metadata": {},
   "source": [
    "-----------------------------"
   ]
  },
  {
   "cell_type": "markdown",
   "id": "1256ac11-db41-4cce-8a10-575da18871d7",
   "metadata": {
    "tags": []
   },
   "source": [
    "-----------------------------------\n",
    "## Chromosome 3L"
   ]
  },
  {
   "cell_type": "code",
   "execution_count": 23,
   "id": "8a13e542-0dc8-4da6-a6d7-bb0eb04a78e0",
   "metadata": {},
   "outputs": [
    {
     "data": {
      "text/html": [
       "<div class=\"allel allel-DisplayAs2D\"><span>&lt;GenotypeDaskArray shape=(28707856, 1190, 2) dtype=int8&gt;</span><table><thead><tr><th></th><th style=\"text-align: center\">0</th><th style=\"text-align: center\">1</th><th style=\"text-align: center\">2</th><th style=\"text-align: center\">3</th><th style=\"text-align: center\">4</th><th style=\"text-align: center\">...</th><th style=\"text-align: center\">1185</th><th style=\"text-align: center\">1186</th><th style=\"text-align: center\">1187</th><th style=\"text-align: center\">1188</th><th style=\"text-align: center\">1189</th></tr></thead><tbody><tr><th style=\"text-align: center; background-color: white; border-right: 1px solid black; \">0</th><td style=\"text-align: center\">0/0</td><td style=\"text-align: center\">0/0</td><td style=\"text-align: center\">0/0</td><td style=\"text-align: center\">0/0</td><td style=\"text-align: center\">0/0</td><td style=\"text-align: center\">...</td><td style=\"text-align: center\">0/0</td><td style=\"text-align: center\">0/0</td><td style=\"text-align: center\">0/0</td><td style=\"text-align: center\">0/0</td><td style=\"text-align: center\">0/0</td></tr><tr><th style=\"text-align: center; background-color: white; border-right: 1px solid black; \">1</th><td style=\"text-align: center\">0/0</td><td style=\"text-align: center\">0/0</td><td style=\"text-align: center\">0/0</td><td style=\"text-align: center\">0/0</td><td style=\"text-align: center\">0/0</td><td style=\"text-align: center\">...</td><td style=\"text-align: center\">0/0</td><td style=\"text-align: center\">0/0</td><td style=\"text-align: center\">0/0</td><td style=\"text-align: center\">0/0</td><td style=\"text-align: center\">0/0</td></tr><tr><th style=\"text-align: center; background-color: white; border-right: 1px solid black; \">2</th><td style=\"text-align: center\">0/0</td><td style=\"text-align: center\">0/0</td><td style=\"text-align: center\">0/0</td><td style=\"text-align: center\">0/0</td><td style=\"text-align: center\">0/0</td><td style=\"text-align: center\">...</td><td style=\"text-align: center\">0/0</td><td style=\"text-align: center\">0/0</td><td style=\"text-align: center\">0/0</td><td style=\"text-align: center\">0/0</td><td style=\"text-align: center\">0/0</td></tr><tr><th style=\"text-align: center; background-color: white; border-right: 1px solid black; \">...</th><td style=\"text-align: center\" colspan=\"12\">...</td></tr><tr><th style=\"text-align: center; background-color: white; border-right: 1px solid black; \">28707853</th><td style=\"text-align: center\">0/0</td><td style=\"text-align: center\">0/0</td><td style=\"text-align: center\">0/0</td><td style=\"text-align: center\">0/0</td><td style=\"text-align: center\">0/0</td><td style=\"text-align: center\">...</td><td style=\"text-align: center\">0/0</td><td style=\"text-align: center\">0/0</td><td style=\"text-align: center\">0/0</td><td style=\"text-align: center\">0/0</td><td style=\"text-align: center\">0/0</td></tr><tr><th style=\"text-align: center; background-color: white; border-right: 1px solid black; \">28707854</th><td style=\"text-align: center\">0/0</td><td style=\"text-align: center\">0/0</td><td style=\"text-align: center\">0/0</td><td style=\"text-align: center\">0/0</td><td style=\"text-align: center\">0/0</td><td style=\"text-align: center\">...</td><td style=\"text-align: center\">0/0</td><td style=\"text-align: center\">0/0</td><td style=\"text-align: center\">0/0</td><td style=\"text-align: center\">0/0</td><td style=\"text-align: center\">0/0</td></tr><tr><th style=\"text-align: center; background-color: white; border-right: 1px solid black; \">28707855</th><td style=\"text-align: center\">0/0</td><td style=\"text-align: center\">0/0</td><td style=\"text-align: center\">0/0</td><td style=\"text-align: center\">0/0</td><td style=\"text-align: center\">0/0</td><td style=\"text-align: center\">...</td><td style=\"text-align: center\">0/0</td><td style=\"text-align: center\">0/0</td><td style=\"text-align: center\">0/0</td><td style=\"text-align: center\">0/0</td><td style=\"text-align: center\">0/0</td></tr></tbody></table></div>"
      ],
      "text/plain": [
       "<GenotypeDaskArray shape=(28707856, 1190, 2) dtype=int8>"
      ]
     },
     "execution_count": 23,
     "metadata": {},
     "output_type": "execute_result"
    }
   ],
   "source": [
    "gt = ag3.snp_genotypes(region=[\"3L\"], site_mask=\"gamb_colu\", sample_sets=[\"AG1000G-BF-A\", \"AG1000G-BF-B\", \"AG1000G-BF-C\", \"AG1000G-CI\", \"AG1000G-GH\", \"AG1000G-GM-A\", \"AG1000G-GM-B\", \n",
    "                                       \"AG1000G-GM-C\", \"AG1000G-GN-A\", \"AG1000G-GN-B\", \"AG1000G-ML-A\", \"AG1000G-ML-B\", \"AG1000G-GW\"])\n",
    "gt = allel.GenotypeDaskArray(gt).subset(sel1 = mysel)\n",
    "gt"
   ]
  },
  {
   "cell_type": "code",
   "execution_count": 24,
   "id": "069b3f71-95bf-4f8f-b15a-a7ee82184831",
   "metadata": {},
   "outputs": [],
   "source": [
    "pos = ag3.snp_sites(region=[\"3L\"], field='POS', site_mask=\"gamb_colu\")\n",
    "ref = ag3.snp_sites(region=[\"3L\"], field='REF', site_mask=\"gamb_colu\")\n",
    "alt = ag3.snp_sites(region=[\"3L\"], field='ALT', site_mask=\"gamb_colu\")"
   ]
  },
  {
   "cell_type": "markdown",
   "id": "3efb8c6f-6722-4fe2-9746-5a67ee1344df",
   "metadata": {
    "tags": []
   },
   "source": [
    "---------------------------\n",
    "### Biallelic and MAF selection"
   ]
  },
  {
   "cell_type": "code",
   "execution_count": 25,
   "id": "163bb8c2-b752-4a8e-a476-b25b8a697ca5",
   "metadata": {},
   "outputs": [],
   "source": [
    "ac = gt.count_alleles(max_allele=1).compute()\n",
    "biallel = ac.is_biallelic()"
   ]
  },
  {
   "cell_type": "code",
   "execution_count": 26,
   "id": "67732528-1ee4-4da3-ba90-6529c11b4df2",
   "metadata": {},
   "outputs": [],
   "source": [
    "gt_biallelic = gt.compress(biallel, axis=0)\n",
    "ac_biallel = ac[biallel]"
   ]
  },
  {
   "cell_type": "code",
   "execution_count": 27,
   "id": "e5fa6cc3-f931-484b-85e1-8b33956f9a99",
   "metadata": {},
   "outputs": [],
   "source": [
    "pos_biallelic = pos[biallel]\n",
    "ref_biallelic = ref[biallel]\n",
    "alt_biallelic = alt[:,0][biallel]"
   ]
  },
  {
   "cell_type": "code",
   "execution_count": 28,
   "id": "3c664902-17fd-4a0d-9493-c11bd34d2f7d",
   "metadata": {},
   "outputs": [],
   "source": [
    "maf_min = 0.01"
   ]
  },
  {
   "cell_type": "code",
   "execution_count": 29,
   "id": "c274e093-33a6-4df6-bf13-419f341f91b0",
   "metadata": {},
   "outputs": [],
   "source": [
    "freqs = ac_biallel.to_frequencies()\n",
    "maf_ok = np.min(np.array(freqs), axis=1) >= maf_min\n",
    "gt_biallelic_maf = gt_biallelic.compress(maf_ok, axis=0)\n",
    "pos_biallelic_maf = np.compress(maf_ok, pos, axis=0)"
   ]
  },
  {
   "cell_type": "markdown",
   "id": "21599d62-4e24-4efe-854b-bfa3223c0208",
   "metadata": {},
   "source": [
    "----------------------\n",
    "### Downsampling"
   ]
  },
  {
   "cell_type": "code",
   "execution_count": 30,
   "id": "0ee49d46-a98e-40ec-b43e-c4d516507949",
   "metadata": {},
   "outputs": [],
   "source": [
    "downsample_n = 100000"
   ]
  },
  {
   "cell_type": "code",
   "execution_count": 31,
   "id": "39391c99-51c2-4c10-81b8-5c506983688a",
   "metadata": {},
   "outputs": [
    {
     "name": "stdout",
     "output_type": "stream",
     "text": [
      "Downsampling... to 100000 from 1073468\n"
     ]
    }
   ],
   "source": [
    "if pos.size > downsample_n:\n",
    "        print(\"Downsampling... to {0} from {1}\".format(downsample_n, pos_biallelic_maf.size))\n",
    "        idx = np.random.choice(np.arange(0, pos_biallelic_maf.size), downsample_n, False)\n",
    "        idx.sort()\n",
    "        pos_downsampled = np.take(pos_biallelic_maf, idx)\n",
    "        ref_downsampled = np.take(ref_biallelic, idx)\n",
    "        alt_downsampled = np.take(alt_biallelic, idx)\n",
    "        g_downsampled = gt_biallelic_maf.take(idx, axis=0)"
   ]
  },
  {
   "cell_type": "code",
   "execution_count": 32,
   "id": "838a3e5d-d376-4dec-b58b-a33197297642",
   "metadata": {},
   "outputs": [],
   "source": [
    "g_3L = g_downsampled.compute()\n",
    "pos_3L = pos_downsampled.compute()\n",
    "ref_3L = ref_downsampled\n",
    "alt_3L = alt_downsampled"
   ]
  },
  {
   "cell_type": "code",
   "execution_count": 33,
   "id": "e42ee847-5cec-4d03-93c7-157e009e42cd",
   "metadata": {},
   "outputs": [
    {
     "name": "stdout",
     "output_type": "stream",
     "text": [
      "iteration 1 retaining 80769 removing 19231 variants\n",
      "iteration 2 retaining 80496 removing 273 variants\n",
      "iteration 3 retaining 80477 removing 19 variants\n",
      "iteration 4 retaining 80473 removing 4 variants\n",
      "iteration 5 retaining 80472 removing 1 variants\n"
     ]
    }
   ],
   "source": [
    "gn_3L = g_3L.to_n_alt()\n",
    "gnu_3L, pos_3L_prun = ld_prune(gn_3L, pos_3L, size=500, step=200,  threshold=.1, n_iter=5)"
   ]
  },
  {
   "cell_type": "code",
   "execution_count": 34,
   "id": "b0f7bb90-4dfe-484a-a1c4-7401192ebdf1",
   "metadata": {},
   "outputs": [
    {
     "data": {
      "text/plain": [
       "160926"
      ]
     },
     "execution_count": 34,
     "metadata": {},
     "output_type": "execute_result"
    }
   ],
   "source": [
    "len(pos_3R_prun) + len(pos_3L_prun)"
   ]
  },
  {
   "cell_type": "markdown",
   "id": "f27e53be",
   "metadata": {},
   "source": [
    "---------------------------------\n",
    "## Merge"
   ]
  },
  {
   "cell_type": "code",
   "execution_count": 35,
   "id": "d42c4451",
   "metadata": {},
   "outputs": [],
   "source": [
    "gnu_tot = np.vstack((gnu_3R, gnu_3L))"
   ]
  },
  {
   "cell_type": "code",
   "execution_count": 36,
   "id": "0a47b313-fcbb-43ed-b652-640ce6181fe8",
   "metadata": {},
   "outputs": [
    {
     "data": {
      "text/plain": [
       "(160926, 1190)"
      ]
     },
     "execution_count": 36,
     "metadata": {},
     "output_type": "execute_result"
    }
   ],
   "source": [
    "gnu_tot.shape"
   ]
  },
  {
   "cell_type": "markdown",
   "id": "a15165ea",
   "metadata": {
    "tags": []
   },
   "source": [
    "-----------------------------------\n",
    "## PCA"
   ]
  },
  {
   "cell_type": "code",
   "execution_count": 37,
   "id": "b5ee8b5b",
   "metadata": {},
   "outputs": [],
   "source": [
    "coords, model = allel.pca(gnu_tot, n_components=10, scaler='patterson')"
   ]
  },
  {
   "cell_type": "code",
   "execution_count": 38,
   "id": "96742eb3-5e8b-4ec7-99f3-d38dc6534f01",
   "metadata": {},
   "outputs": [],
   "source": [
    "#new df for samples location\n",
    "df_samples_fw = df_samples[mysel].merge(meta_fw, how = 'inner', on='sample_id')"
   ]
  },
  {
   "cell_type": "code",
   "execution_count": 39,
   "id": "d529f853",
   "metadata": {},
   "outputs": [
    {
     "data": {
      "text/plain": [
       "array(['An.gam', 'An.col', 'gcx1-GM', 'gcx2', 'gcx1-GW'], dtype=object)"
      ]
     },
     "execution_count": 39,
     "metadata": {},
     "output_type": "execute_result"
    }
   ],
   "source": [
    "df_samples_fw.pca_pops.unique()"
   ]
  },
  {
   "cell_type": "code",
   "execution_count": 40,
   "id": "2ff293d3",
   "metadata": {},
   "outputs": [],
   "source": [
    "populations = df_samples_fw.pca_pops.unique()"
   ]
  },
  {
   "cell_type": "code",
   "execution_count": 41,
   "id": "e617d101",
   "metadata": {},
   "outputs": [],
   "source": [
    "pop_colours = {\n",
    "'An.gam': '#1838DE',\n",
    "'An.col': '#FF0000',\n",
    "'gcx2': '#FFA500',\n",
    "'gcx1-GW': '#98FB98',\n",
    "'gcx1-GM': '#008000',\n",
    "}\n"
   ]
  },
  {
   "cell_type": "code",
   "execution_count": 42,
   "id": "11b1f601",
   "metadata": {},
   "outputs": [],
   "source": [
    "def plot_pca_coords(coords, model, pc1, pc2, ax, sample_population):\n",
    "    sns.despine(ax=ax, offset=5)\n",
    "    x = coords[:, pc1]\n",
    "    y = coords[:, pc2]\n",
    "    for pop in populations:\n",
    "        flt = (sample_population == pop)\n",
    "        ax.plot(x[flt], y[flt], marker='.', linestyle='', mec=pop_colours[pop], mfc='none', mew=2, label=pop, markersize=6)\n",
    "    ax.set_xlabel('PC%s (%.1f%%)' % (pc1+1, model.explained_variance_ratio_[pc1]*100))\n",
    "    ax.set_ylabel('PC%s (%.1f%%)' % (pc2+1, model.explained_variance_ratio_[pc2]*100))\n",
    "    \n",
    "\n",
    "def fig_pca(coords, model, title, sample_population=None):\n",
    "    if sample_population is None:\n",
    "        sample_population = df_samples_fw.pca_pops.values\n",
    "    fig, ax = plt.subplots()\n",
    "    y = model.explained_variance_\n",
    "    x = np.arange(1, len(y)+1)\n",
    "    ax.plot(x, y, 'ko')\n",
    "    ax.set_xticks(x)\n",
    "    ax.set_xlabel('principal component')\n",
    "    ax.set_ylabel('variance explained')\n",
    "    ax.grid(axis='x')\n",
    "    # plot coords for PCs 1 vs 2, 3 vs 4\n",
    "    fig = plt.figure(figsize=(16, 10))\n",
    "    ax = fig.add_subplot(2, 3, 1)\n",
    "    plot_pca_coords(coords, model, 0, 1, ax, sample_population)\n",
    "    ax = fig.add_subplot(2, 3, 2)\n",
    "    plot_pca_coords(coords, model, 2, 3, ax, sample_population)\n",
    "    ax = fig.add_subplot(2, 3, 3)\n",
    "    plot_pca_coords(coords, model, 4, 5, ax, sample_population)\n",
    "    ax = fig.add_subplot(2, 3, 4)\n",
    "    plot_pca_coords(coords, model, 6, 7, ax, sample_population)\n",
    "    ax = fig.add_subplot(2, 3, 5)\n",
    "    plot_pca_coords(coords, model, 8, 9, ax, sample_population)\n",
    "\n",
    "    ax.legend(bbox_to_anchor=(1, 1), loc='upper left')\n",
    "    fig.suptitle(title, y=1.02)\n",
    "    fig.tight_layout()\n",
    "    fig.savefig('final_pca_3.png', dpi=300)"
   ]
  },
  {
   "cell_type": "code",
   "execution_count": 43,
   "id": "2e638ec8",
   "metadata": {},
   "outputs": [
    {
     "data": {
      "image/png": "[encoded data removed]",
      "text/plain": [
       "<Figure size 432x288 with 1 Axes>"
      ]
     },
     "metadata": {
      "needs_background": "light"
     },
     "output_type": "display_data"
    },
    {
     "data": {
      "image/png": "[encoded data removed]",
      "text/plain": [
       "<Figure size 1152x720 with 5 Axes>"
      ]
     },
     "metadata": {
      "needs_background": "light"
     },
     "output_type": "display_data"
    }
   ],
   "source": [
    "fig_pca(coords, model, 'PCA - Chromosome 3')"
   ]
  },
  {
   "cell_type": "code",
   "execution_count": null,
   "id": "fcac96b0-09ab-4ab2-82ee-8668ad5cc7f9",
   "metadata": {},
   "outputs": [],
   "source": [
    "## Save PCA data\n",
    "data = meta_fw.copy()\n",
    "for i in range(2):\n",
    "    data[f'PC{i+1}'] = coords[:, i]\n",
    "    # save results\n",
    "    evr = model.explained_variance_ratio_\n",
    "    data.to_csv('chr3_pca_final.csv', index=False)\n",
    "    np.save('chr3_pca_final.npy', evr)"
   ]
  },
  {
   "cell_type": "markdown",
   "id": "8e4307f9-53f7-49a1-9a98-8102af55e0f4",
   "metadata": {},
   "source": [
    "------------------------\n",
    "## Save geno"
   ]
  },
  {
   "cell_type": "code",
   "execution_count": 163,
   "id": "7ddb3b27-ab55-4b3f-9e59-fc46ecfd241a",
   "metadata": {},
   "outputs": [],
   "source": [
    "import h5py\n",
    "from allel import chunked\n",
    "\n",
    "g_tot = np.vstack((g_3R.subset(sel0=np.in1d(pos_3R,pos_3R_prun)), g_3L.subset(sel0=np.in1d(pos_3L,pos_3L_prun))))\n",
    "h5f = h5py.File('chrom_3_west_final.h5', mode='w')\n",
    "h5g = h5f.create_group('3')\n",
    "chunked.copy(g_tot, storage='hdf5', group=h5g, name='calldata')\n",
    "h5f.close()"
   ]
  },
  {
   "cell_type": "markdown",
   "id": "cdc9877d-bae4-4907-a4f9-0b0bcc3b601d",
   "metadata": {
    "tags": []
   },
   "source": [
    "-------------------------------------\n",
    "#  Ped files generation for ADMIXTURE ####"
   ]
  },
  {
   "cell_type": "markdown",
   "id": "0bde5fc6-be3c-4ce8-a951-36563016d44a",
   "metadata": {},
   "source": [
    "## New Method"
   ]
  },
  {
   "cell_type": "code",
   "execution_count": 66,
   "id": "0c76f1f6-a7af-4f00-a222-d4fc0a175892",
   "metadata": {
    "tags": []
   },
   "outputs": [],
   "source": [
    "### save pos file\n",
    "import csv\n",
    "with open(\"pos_3R_prun.csv\", 'w') as myfile:\n",
    "    wr = csv.writer(myfile, quoting=csv.QUOTE_ALL)\n",
    "    wr.writerow(list(pos_3R_prun))\n",
    "    \n",
    "with open(\"pos_3L_prun.csv\", 'w') as myfile:\n",
    "    wr = csv.writer(myfile, quoting=csv.QUOTE_ALL)\n",
    "    wr.writerow(list(pos_3L_prun))"
   ]
  },
  {
   "cell_type": "code",
   "execution_count": 130,
   "id": "453f0207-1ecb-4c51-b2a7-e168d1bfeb8a",
   "metadata": {},
   "outputs": [],
   "source": [
    "ds_snps_3R = ag3.snp_calls(\n",
    "    region=\"3R\",\n",
    "    sample_sets=[\"AG1000G-BF-A\", \"AG1000G-BF-B\", \"AG1000G-BF-C\", \"AG1000G-CI\", \"AG1000G-GH\", \"AG1000G-GM-A\", \"AG1000G-GM-B\", \n",
    "                                       \"AG1000G-GM-C\", \"AG1000G-GN-A\", \"AG1000G-GN-B\", \"AG1000G-ML-A\", \"AG1000G-ML-B\", \"AG1000G-GW\"],\n",
    "    site_mask=\"gamb_colu\",\n",
    ")\n",
    "ds_snps_asc_3R = (\n",
    "    ds_snps_3R\n",
    "    [[\"variant_contig\", \"variant_position\", \"variant_allele\", \"sample_id\", \"call_genotype\"]]\n",
    "    .isel(alleles=slice(0, 2))\n",
    "    .sel(variants=ds_snps_3R.variants.isin(pos_3R_prun))\n",
    "    .sel(samples=mysel)\n",
    ")\n",
    "gt = ds_snps_asc_3R[\"call_genotype\"].data\n",
    "ds_snps_asc_3R[\"call_gn_ref\"] = (\"variants\", \"samples\"), gnu_3R\n",
    "val = ds_snps_asc_3R[\"call_gn_ref\"].values.T\n",
    "val_3R = np.where(val==-1, np.nan, val)\n",
    "alleles_3R = ds_snps_asc_3R[\"variant_allele\"].values\n",
    "properties_3R = {\n",
    "    \"iid\": ds_snps_asc_3R[\"sample_id\"].values,\n",
    "    \"chromosome\": ds_snps_asc_3R[\"variant_contig\"].values,\n",
    "    \"bp_position\": ds_snps_asc_3R[\"variant_position\"].values,\n",
    "    \"allele_1\": alleles_3R[:, 0],\n",
    "    \"allele_2\": alleles_3R[:, 1],\n",
    "}"
   ]
  },
  {
   "cell_type": "code",
   "execution_count": 131,
   "id": "ddd77910-3e3e-4dfd-8228-a34eba65b283",
   "metadata": {},
   "outputs": [],
   "source": [
    "ds_snps_3L = ag3.snp_calls(\n",
    "    region=\"3L\",\n",
    "    sample_sets=[\"AG1000G-BF-A\", \"AG1000G-BF-B\", \"AG1000G-BF-C\", \"AG1000G-CI\", \"AG1000G-GH\", \"AG1000G-GM-A\", \"AG1000G-GM-B\", \n",
    "                                       \"AG1000G-GM-C\", \"AG1000G-GN-A\", \"AG1000G-GN-B\", \"AG1000G-ML-A\", \"AG1000G-ML-B\", \"AG1000G-GW\"],\n",
    "    site_mask=\"gamb_colu\",\n",
    ")\n",
    "ds_snps_asc_3L = (\n",
    "    ds_snps_3L\n",
    "    [[\"variant_contig\", \"variant_position\", \"variant_allele\", \"sample_id\", \"call_genotype\"]]\n",
    "    .isel(alleles=slice(0, 2))\n",
    "    .sel(variants=ds_snps_3L.variants.isin(pos_3L_prun))\n",
    "    .sel(samples=mysel)\n",
    ")\n",
    "gt = ds_snps_asc_3L[\"call_genotype\"].data\n",
    "ds_snps_asc_3L[\"call_gn_ref\"] = (\"variants\", \"samples\"), gnu_3L\n",
    "val = ds_snps_asc_3L[\"call_gn_ref\"].values.T\n",
    "val_3L = np.where(val==-1, np.nan, val)\n",
    "alleles_3L = ds_snps_asc_3L[\"variant_allele\"].values\n",
    "properties_3L = {\n",
    "    \"iid\": ds_snps_asc_3L[\"sample_id\"].values,\n",
    "    \"chromosome\": ds_snps_asc_3L[\"variant_contig\"].values,\n",
    "    \"bp_position\": ds_snps_asc_3L[\"variant_position\"].values,\n",
    "    \"allele_1\": alleles_3L[:, 0],\n",
    "    \"allele_2\": alleles_3L[:, 1],\n",
    "}"
   ]
  },
  {
   "cell_type": "code",
   "execution_count": 132,
   "id": "e7794745-7c10-45ff-8f90-468f9049768c",
   "metadata": {},
   "outputs": [],
   "source": [
    "alleles_full = np.vstack((alleles_3R,alleles_3L))"
   ]
  },
  {
   "cell_type": "code",
   "execution_count": 133,
   "id": "69ecda6d-4d91-4378-998e-83d96cd9fc68",
   "metadata": {},
   "outputs": [
    {
     "data": {
      "text/plain": [
       "{}"
      ]
     },
     "execution_count": 133,
     "metadata": {},
     "output_type": "execute_result"
    }
   ],
   "source": [
    "properties_full_3 = {}\n",
    "properties_full_3"
   ]
  },
  {
   "cell_type": "code",
   "execution_count": 134,
   "id": "0fd2f592-1e73-4ef9-b65c-8b1cf1ba830d",
   "metadata": {},
   "outputs": [],
   "source": [
    "properties_full_3[\"iid\"] = ds_snps_asc_3L[\"sample_id\"].values\n",
    "properties_full_3['chromosome'] = np.hstack((properties_3R['chromosome'], properties_3L['chromosome']))\n",
    "properties_full_3['bp_position'] = np.hstack((properties_3R['bp_position'], properties_3L['bp_position']))\n",
    "properties_full_3['allele_1'] = np.hstack((properties_3R['allele_1'], properties_3L['allele_1']))\n",
    "properties_full_3['allele_2'] = np.hstack((properties_3R['allele_2'], properties_3L['allele_2']))"
   ]
  },
  {
   "cell_type": "code",
   "execution_count": 135,
   "id": "9b677df9-92e9-4826-97c7-712c50de8cea",
   "metadata": {},
   "outputs": [
    {
     "data": {
      "text/plain": [
       "((1190,), (160926,), (160926,), (160926,), (160926,))"
      ]
     },
     "execution_count": 135,
     "metadata": {},
     "output_type": "execute_result"
    }
   ],
   "source": [
    "properties_full_3[\"iid\"].shape, properties_full_3[\"chromosome\"].shape, properties_full_3[\"bp_position\"].shape, properties_full_3[\"allele_1\"].shape, properties_full_3[\"allele_2\"].shape"
   ]
  },
  {
   "cell_type": "code",
   "execution_count": 136,
   "id": "b18bb7fc-b801-4658-9366-02de125ea4b5",
   "metadata": {},
   "outputs": [],
   "source": [
    "val_full = np.hstack((val_3R,val_3L))"
   ]
  },
  {
   "cell_type": "code",
   "execution_count": 137,
   "id": "d6057f93-8d14-474e-bd7b-196cac09aa16",
   "metadata": {},
   "outputs": [],
   "source": [
    "import bed_reader"
   ]
  },
  {
   "cell_type": "code",
   "execution_count": 138,
   "id": "be9e8e4d-ca69-40e8-8d54-7f9cb6f7dd41",
   "metadata": {},
   "outputs": [],
   "source": [
    "bed_reader.to_bed(\n",
    "    filepath=\"chrom_3_full_pruned.bed\",\n",
    "    val=val_full,\n",
    "    properties=properties_full_3,\n",
    "    count_A1=True,\n",
    ")"
   ]
  },
  {
   "cell_type": "markdown",
   "id": "a87d3de5-d42a-4d6d-ab0c-c6c1ce17c640",
   "metadata": {
    "jp-MarkdownHeadingCollapsed": true,
    "tags": []
   },
   "source": [
    "## Old Method"
   ]
  },
  {
   "cell_type": "markdown",
   "id": "b012a15b-a173-4453-b6f5-cdf9c5ef161b",
   "metadata": {
    "tags": []
   },
   "source": [
    "### Chrom 3R"
   ]
  },
  {
   "cell_type": "code",
   "execution_count": null,
   "id": "bc0e3ba1-c544-4cb7-b265-b5cd623b6f33",
   "metadata": {},
   "outputs": [],
   "source": [
    "refalt = np.column_stack([ref_3R, alt_3R])\n",
    "refalt, refalt.shape"
   ]
  },
  {
   "cell_type": "code",
   "execution_count": null,
   "id": "83bb6da3-080e-454b-b78e-9c83ab4c6c30",
   "metadata": {},
   "outputs": [],
   "source": [
    "df_alleles = pd.DataFrame(refalt.astype('<U16'), columns=['ref', 'alt'])"
   ]
  },
  {
   "cell_type": "code",
   "execution_count": null,
   "id": "bb425850-851b-4c76-b044-711f20c7f281",
   "metadata": {},
   "outputs": [],
   "source": [
    "df_alleles['0'] = df_alleles['ref'] + \" \" + df_alleles['ref']\n",
    "df_alleles['1'] = df_alleles['ref'] + \" \" + df_alleles['alt']\n",
    "df_alleles['2'] = df_alleles['alt'] + \" \" + df_alleles['alt']"
   ]
  },
  {
   "cell_type": "code",
   "execution_count": null,
   "id": "abf1cfa1-ce07-4b0d-a2de-fd5e504d5b30",
   "metadata": {},
   "outputs": [],
   "source": [
    "g_d = g_3R.to_n_alt(fill=-1).compute()\n",
    "g_reshaped = np.transpose(g_d, (1,0))\n",
    "g_reshaped_df = pd.DataFrame((g_reshaped).astype(str))"
   ]
  },
  {
   "cell_type": "code",
   "execution_count": null,
   "id": "e533666e-47ae-438a-ace0-6aea4de22978",
   "metadata": {},
   "outputs": [],
   "source": [
    "df_alleles_T = df_alleles.T\n",
    "dict_alleles = df_alleles_T.to_dict()\n",
    "df_ped = (g_reshaped_df.astype(str).replace(dict_alleles))\n",
    "df_ped['Family ID'] = meta_fw['sample_id'].loc[:]\n",
    "df_ped['Individual ID'] = meta_fw['sample_id'].loc[:]\n",
    "df_ped = df_ped.set_index('Individual ID').reset_index()\n",
    "df_ped = df_ped.set_index('Family ID').reset_index()\n",
    "df_ped['phenotype'] = df_ped[df_ped.columns[2:]].apply(lambda x: ' '.join(x.dropna().astype(str)), axis=1)\n",
    "df_ped['Paternal ID'] = 0\n",
    "df_ped['Maternal ID'] = 0\n",
    "df_ped['Sex'] = 2\n",
    "df_ped['Not used'] = 0\n",
    "df_ped = df_ped[['Family ID', 'Individual ID', 'Paternal ID', 'Maternal ID', 'Sex', 'Not used', 'phenotype']]\n",
    "df_ped.head()"
   ]
  },
  {
   "cell_type": "code",
   "execution_count": null,
   "id": "284fe648-6eb7-46c3-9f2c-e3ea917881f6",
   "metadata": {},
   "outputs": [],
   "source": [
    "df_ped.to_csv('/home/randomx/Ag1000G/Data/Extras/chrom_3R.ped', sep=\" \", header=None, index=False)"
   ]
  },
  {
   "cell_type": "code",
   "execution_count": null,
   "id": "af5bc6d2-8a17-4353-92de-1a010b0f1f3d",
   "metadata": {},
   "outputs": [],
   "source": [
    "df_map_n = pd.DataFrame()\n",
    "df_map_n['3'] = pos_3R\n",
    "df_map_n['1'] = '3R'+\":\"+df_map_n['3'].astype(\"str\")\n",
    "df_map_n['2'] = '0'\n",
    "df_map_n['0'] = '3R'\n",
    "df_map_n = df_map_n[['0','1','2','3']]\n",
    "df_map_n.head()"
   ]
  },
  {
   "cell_type": "code",
   "execution_count": null,
   "id": "4815f4dd-e5cf-41a3-93aa-ec77df8240c6",
   "metadata": {},
   "outputs": [],
   "source": [
    "df_map_n.to_csv('/home/randomx/Ag1000G/Data/Extras/chrom_3R.map', sep=\"\\t\", header=None, index=False)"
   ]
  },
  {
   "cell_type": "code",
   "execution_count": null,
   "id": "1cfd0fad-4fa1-437e-9d7f-d8939ff788d1",
   "metadata": {},
   "outputs": [],
   "source": [
    "df_nosex_n = pd.DataFrame()\n",
    "df_nosex_n['0'] = meta_fw['sample_id']\n",
    "df_nosex_n.to_csv('/home/randomx/Ag1000G/Data/Extras/chrom_3R.nosex', sep=\" \", header=None, index=False)"
   ]
  },
  {
   "cell_type": "markdown",
   "id": "5b230ec9-4f06-4f6c-a0ab-31ce434b0337",
   "metadata": {
    "tags": []
   },
   "source": [
    "###  Chrom 3L"
   ]
  },
  {
   "cell_type": "code",
   "execution_count": null,
   "id": "69051aab-55d5-49bc-8ce3-fbb6f8095985",
   "metadata": {},
   "outputs": [],
   "source": [
    "refalt = np.column_stack([ref_3L, alt_3L])\n",
    "refalt, refalt.shape"
   ]
  },
  {
   "cell_type": "code",
   "execution_count": null,
   "id": "af4b06e6-5b1e-488e-8fa2-2bed45b4be3a",
   "metadata": {},
   "outputs": [],
   "source": [
    "df_alleles = pd.DataFrame(refalt.astype('<U16'), columns=['ref', 'alt'])"
   ]
  },
  {
   "cell_type": "code",
   "execution_count": null,
   "id": "ee8a6a96-454a-4446-a5ee-876868b0c24d",
   "metadata": {},
   "outputs": [],
   "source": [
    "df_alleles['0'] = df_alleles['ref'] + \" \" + df_alleles['ref']\n",
    "df_alleles['1'] = df_alleles['ref'] + \" \" + df_alleles['alt']\n",
    "df_alleles['2'] = df_alleles['alt'] + \" \" + df_alleles['alt']"
   ]
  },
  {
   "cell_type": "code",
   "execution_count": null,
   "id": "6fcc9bb9-a446-4ff7-9127-b90a9239b774",
   "metadata": {},
   "outputs": [],
   "source": [
    "g_d = g_3L.to_n_alt(fill=-1).compute()\n",
    "g_reshaped = np.transpose(g_d, (1,0))\n",
    "g_reshaped_df = pd.DataFrame((g_reshaped).astype(str))"
   ]
  },
  {
   "cell_type": "code",
   "execution_count": null,
   "id": "2f2f8093-c725-40d1-89be-3cc6e475fe19",
   "metadata": {},
   "outputs": [],
   "source": [
    "df_alleles_T = df_alleles.T\n",
    "dict_alleles = df_alleles_T.to_dict()\n",
    "df_ped = (g_reshaped_df.astype(str).replace(dict_alleles))\n",
    "df_ped['Family ID'] = meta_fw['sample_id'].loc[:]\n",
    "df_ped['Individual ID'] = meta_fw['sample_id'].loc[:]\n",
    "df_ped = df_ped.set_index('Individual ID').reset_index()\n",
    "df_ped = df_ped.set_index('Family ID').reset_index()\n",
    "df_ped['phenotype'] = df_ped[df_ped.columns[2:]].apply(lambda x: ' '.join(x.dropna().astype(str)), axis=1)\n",
    "df_ped['Paternal ID'] = 0\n",
    "df_ped['Maternal ID'] = 0\n",
    "df_ped['Sex'] = 2\n",
    "df_ped['Not used'] = 0\n",
    "df_ped = df_ped[['Family ID', 'Individual ID', 'Paternal ID', 'Maternal ID', 'Sex', 'Not used', 'phenotype']]\n",
    "df_ped.head()"
   ]
  },
  {
   "cell_type": "code",
   "execution_count": null,
   "id": "a6d26925-1c99-48ed-b095-064cf63225f2",
   "metadata": {},
   "outputs": [],
   "source": [
    "df_ped.to_csv('/home/randomx/Ag1000G/Data/Extras/chrom_3L.ped', sep=\" \", header=None, index=False)"
   ]
  },
  {
   "cell_type": "code",
   "execution_count": null,
   "id": "0de11ea9-ee9b-4cec-9a2b-c77e965563f9",
   "metadata": {},
   "outputs": [],
   "source": [
    "df_map_n = pd.DataFrame()\n",
    "df_map_n['3'] = pos_3L\n",
    "df_map_n['1'] = '3L'+\":\"+df_map_n['3'].astype(\"str\")\n",
    "df_map_n['2'] = '0'\n",
    "df_map_n['0'] = '3L'\n",
    "df_map_n = df_map_n[['0','1','2','3']]\n",
    "df_map_n.head()"
   ]
  },
  {
   "cell_type": "code",
   "execution_count": null,
   "id": "b1830ce5-e365-4533-b6fd-88ec2d2c3b5d",
   "metadata": {},
   "outputs": [],
   "source": [
    "df_map_n.to_csv('/home/randomx/Ag1000G/Data/Extras/chrom_3L.map', sep=\"\\t\", header=None, index=False)"
   ]
  },
  {
   "cell_type": "code",
   "execution_count": null,
   "id": "9eac543e-8f79-4a51-86eb-8dd9e19406cf",
   "metadata": {},
   "outputs": [],
   "source": [
    "df_nosex_n = pd.DataFrame()\n",
    "df_nosex_n['0'] = meta_fw['sample_id']\n",
    "df_nosex_n.to_csv('/home/randomx/Ag1000G/Data/Extras/chrom_3L.nosex', sep=\" \", header=None, index=False)"
   ]
  }
 ],
 "metadata": {
  "kernelspec": {
   "display_name": "Python 3 (ipykernel)",
   "language": "python",
   "name": "python3"
  },
  "language_info": {
   "codemirror_mode": {
    "name": "ipython",
    "version": 3
   },
   "file_extension": ".py",
   "mimetype": "text/x-python",
   "name": "python",
   "nbconvert_exporter": "python",
   "pygments_lexer": "ipython3",
   "version": "3.11.7"
  }
 },
 "nbformat": 4,
 "nbformat_minor": 5
}
