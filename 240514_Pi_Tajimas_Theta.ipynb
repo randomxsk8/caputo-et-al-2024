{
 "cells": [
  {
   "cell_type": "code",
   "execution_count": 1,
   "id": "cd6261b5-5474-4813-8897-e416284296b0",
   "metadata": {},
   "outputs": [
    {
     "data": {
      "application/javascript": [
       "'use strict';\n",
       "(function(root) {\n",
       "  function now() {\n",
       "    return new Date();\n",
       "  }\n",
       "\n",
       "  const force = true;\n",
       "\n",
       "  if (typeof root._bokeh_onload_callbacks === \"undefined\" || force === true) {\n",
       "    root._bokeh_onload_callbacks = [];\n",
       "    root._bokeh_is_loading = undefined;\n",
       "  }\n",
       "\n",
       "const JS_MIME_TYPE = 'application/javascript';\n",
       "  const HTML_MIME_TYPE = 'text/html';\n",
       "  const EXEC_MIME_TYPE = 'application/vnd.bokehjs_exec.v0+json';\n",
       "  const CLASS_NAME = 'output_bokeh rendered_html';\n",
       "\n",
       "  /**\n",
       "   * Render data to the DOM node\n",
       "   */\n",
       "  function render(props, node) {\n",
       "    const script = document.createElement(\"script\");\n",
       "    node.appendChild(script);\n",
       "  }\n",
       "\n",
       "  /**\n",
       "   * Handle when an output is cleared or removed\n",
       "   */\n",
       "  function handleClearOutput(event, handle) {\n",
       "    function drop(id) {\n",
       "      const view = Bokeh.index.get_by_id(id)\n",
       "      if (view != null) {\n",
       "        view.model.document.clear()\n",
       "        Bokeh.index.delete(view)\n",
       "      }\n",
       "    }\n",
       "\n",
       "    const cell = handle.cell;\n",
       "\n",
       "    const id = cell.output_area._bokeh_element_id;\n",
       "    const server_id = cell.output_area._bokeh_server_id;\n",
       "\n",
       "    // Clean up Bokeh references\n",
       "    if (id != null) {\n",
       "      drop(id)\n",
       "    }\n",
       "\n",
       "    if (server_id !== undefined) {\n",
       "      // Clean up Bokeh references\n",
       "      const cmd_clean = \"from bokeh.io.state import curstate; print(curstate().uuid_to_server['\" + server_id + \"'].get_sessions()[0].document.roots[0]._id)\";\n",
       "      cell.notebook.kernel.execute(cmd_clean, {\n",
       "        iopub: {\n",
       "          output: function(msg) {\n",
       "            const id = msg.content.text.trim()\n",
       "            drop(id)\n",
       "          }\n",
       "        }\n",
       "      });\n",
       "      // Destroy server and session\n",
       "      const cmd_destroy = \"import bokeh.io.notebook as ion; ion.destroy_server('\" + server_id + \"')\";\n",
       "      cell.notebook.kernel.execute(cmd_destroy);\n",
       "    }\n",
       "  }\n",
       "\n",
       "  /**\n",
       "   * Handle when a new output is added\n",
       "   */\n",
       "  function handleAddOutput(event, handle) {\n",
       "    const output_area = handle.output_area;\n",
       "    const output = handle.output;\n",
       "\n",
       "    // limit handleAddOutput to display_data with EXEC_MIME_TYPE content only\n",
       "    if ((output.output_type != \"display_data\") || (!Object.prototype.hasOwnProperty.call(output.data, EXEC_MIME_TYPE))) {\n",
       "      return\n",
       "    }\n",
       "\n",
       "    const toinsert = output_area.element.find(\".\" + CLASS_NAME.split(' ')[0]);\n",
       "\n",
       "    if (output.metadata[EXEC_MIME_TYPE][\"id\"] !== undefined) {\n",
       "      toinsert[toinsert.length - 1].firstChild.textContent = output.data[JS_MIME_TYPE];\n",
       "      // store reference to embed id on output_area\n",
       "      output_area._bokeh_element_id = output.metadata[EXEC_MIME_TYPE][\"id\"];\n",
       "    }\n",
       "    if (output.metadata[EXEC_MIME_TYPE][\"server_id\"] !== undefined) {\n",
       "      const bk_div = document.createElement(\"div\");\n",
       "      bk_div.innerHTML = output.data[HTML_MIME_TYPE];\n",
       "      const script_attrs = bk_div.children[0].attributes;\n",
       "      for (let i = 0; i < script_attrs.length; i++) {\n",
       "        toinsert[toinsert.length - 1].firstChild.setAttribute(script_attrs[i].name, script_attrs[i].value);\n",
       "        toinsert[toinsert.length - 1].firstChild.textContent = bk_div.children[0].textContent\n",
       "      }\n",
       "      // store reference to server id on output_area\n",
       "      output_area._bokeh_server_id = output.metadata[EXEC_MIME_TYPE][\"server_id\"];\n",
       "    }\n",
       "  }\n",
       "\n",
       "  function register_renderer(events, OutputArea) {\n",
       "\n",
       "    function append_mime(data, metadata, element) {\n",
       "      // create a DOM node to render to\n",
       "      const toinsert = this.create_output_subarea(\n",
       "        metadata,\n",
       "        CLASS_NAME,\n",
       "        EXEC_MIME_TYPE\n",
       "      );\n",
       "      this.keyboard_manager.register_events(toinsert);\n",
       "      // Render to node\n",
       "      const props = {data: data, metadata: metadata[EXEC_MIME_TYPE]};\n",
       "      render(props, toinsert[toinsert.length - 1]);\n",
       "      element.append(toinsert);\n",
       "      return toinsert\n",
       "    }\n",
       "\n",
       "    /* Handle when an output is cleared or removed */\n",
       "    events.on('clear_output.CodeCell', handleClearOutput);\n",
       "    events.on('delete.Cell', handleClearOutput);\n",
       "\n",
       "    /* Handle when a new output is added */\n",
       "    events.on('output_added.OutputArea', handleAddOutput);\n",
       "\n",
       "    /**\n",
       "     * Register the mime type and append_mime function with output_area\n",
       "     */\n",
       "    OutputArea.prototype.register_mime_type(EXEC_MIME_TYPE, append_mime, {\n",
       "      /* Is output safe? */\n",
       "      safe: true,\n",
       "      /* Index of renderer in `output_area.display_order` */\n",
       "      index: 0\n",
       "    });\n",
       "  }\n",
       "\n",
       "  // register the mime type if in Jupyter Notebook environment and previously unregistered\n",
       "  if (root.Jupyter !== undefined) {\n",
       "    const events = require('base/js/events');\n",
       "    const OutputArea = require('notebook/js/outputarea').OutputArea;\n",
       "\n",
       "    if (OutputArea.prototype.mime_types().indexOf(EXEC_MIME_TYPE) == -1) {\n",
       "      register_renderer(events, OutputArea);\n",
       "    }\n",
       "  }\n",
       "  if (typeof (root._bokeh_timeout) === \"undefined\" || force === true) {\n",
       "    root._bokeh_timeout = Date.now() + 5000;\n",
       "    root._bokeh_failed_load = false;\n",
       "  }\n",
       "\n",
       "  const NB_LOAD_WARNING = {'data': {'text/html':\n",
       "     \"<div style='background-color: #fdd'>\\n\"+\n",
       "     \"<p>\\n\"+\n",
       "     \"BokehJS does not appear to have successfully loaded. If loading BokehJS from CDN, this \\n\"+\n",
       "     \"may be due to a slow or bad network connection. Possible fixes:\\n\"+\n",
       "     \"</p>\\n\"+\n",
       "     \"<ul>\\n\"+\n",
       "     \"<li>re-rerun `output_notebook()` to attempt to load from CDN again, or</li>\\n\"+\n",
       "     \"<li>use INLINE resources instead, as so:</li>\\n\"+\n",
       "     \"</ul>\\n\"+\n",
       "     \"<code>\\n\"+\n",
       "     \"from bokeh.resources import INLINE\\n\"+\n",
       "     \"output_notebook(resources=INLINE)\\n\"+\n",
       "     \"</code>\\n\"+\n",
       "     \"</div>\"}};\n",
       "\n",
       "  function display_loaded(error = null) {\n",
       "    const el = document.getElementById(null);\n",
       "    if (el != null) {\n",
       "      const html = (() => {\n",
       "        if (typeof root.Bokeh === \"undefined\") {\n",
       "          if (error == null) {\n",
       "            return \"BokehJS is loading ...\";\n",
       "          } else {\n",
       "            return \"BokehJS failed to load.\";\n",
       "          }\n",
       "        } else {\n",
       "          const prefix = `BokehJS ${root.Bokeh.version}`;\n",
       "          if (error == null) {\n",
       "            return `${prefix} successfully loaded.`;\n",
       "          } else {\n",
       "            return `${prefix} <b>encountered errors</b> while loading and may not function as expected.`;\n",
       "          }\n",
       "        }\n",
       "      })();\n",
       "      el.innerHTML = html;\n",
       "\n",
       "      if (error != null) {\n",
       "        const wrapper = document.createElement(\"div\");\n",
       "        wrapper.style.overflow = \"auto\";\n",
       "        wrapper.style.height = \"5em\";\n",
       "        wrapper.style.resize = \"vertical\";\n",
       "        const content = document.createElement(\"div\");\n",
       "        content.style.fontFamily = \"monospace\";\n",
       "        content.style.whiteSpace = \"pre-wrap\";\n",
       "        content.style.backgroundColor = \"rgb(255, 221, 221)\";\n",
       "        content.textContent = error.stack ?? error.toString();\n",
       "        wrapper.append(content);\n",
       "        el.append(wrapper);\n",
       "      }\n",
       "    } else if (Date.now() < root._bokeh_timeout) {\n",
       "      setTimeout(() => display_loaded(error), 100);\n",
       "    }\n",
       "  }\n",
       "\n",
       "  function run_callbacks() {\n",
       "    try {\n",
       "      root._bokeh_onload_callbacks.forEach(function(callback) {\n",
       "        if (callback != null)\n",
       "          callback();\n",
       "      });\n",
       "    } finally {\n",
       "      delete root._bokeh_onload_callbacks\n",
       "    }\n",
       "    console.debug(\"Bokeh: all callbacks have finished\");\n",
       "  }\n",
       "\n",
       "  function load_libs(css_urls, js_urls, callback) {\n",
       "    if (css_urls == null) css_urls = [];\n",
       "    if (js_urls == null) js_urls = [];\n",
       "\n",
       "    root._bokeh_onload_callbacks.push(callback);\n",
       "    if (root._bokeh_is_loading > 0) {\n",
       "      console.debug(\"Bokeh: BokehJS is being loaded, scheduling callback at\", now());\n",
       "      return null;\n",
       "    }\n",
       "    if (js_urls == null || js_urls.length === 0) {\n",
       "      run_callbacks();\n",
       "      return null;\n",
       "    }\n",
       "    console.debug(\"Bokeh: BokehJS not loaded, scheduling load and callback at\", now());\n",
       "    root._bokeh_is_loading = css_urls.length + js_urls.length;\n",
       "\n",
       "    function on_load() {\n",
       "      root._bokeh_is_loading--;\n",
       "      if (root._bokeh_is_loading === 0) {\n",
       "        console.debug(\"Bokeh: all BokehJS libraries/stylesheets loaded\");\n",
       "        run_callbacks()\n",
       "      }\n",
       "    }\n",
       "\n",
       "    function on_error(url) {\n",
       "      console.error(\"failed to load \" + url);\n",
       "    }\n",
       "\n",
       "    for (let i = 0; i < css_urls.length; i++) {\n",
       "      const url = css_urls[i];\n",
       "      const element = document.createElement(\"link\");\n",
       "      element.onload = on_load;\n",
       "      element.onerror = on_error.bind(null, url);\n",
       "      element.rel = \"stylesheet\";\n",
       "      element.type = \"text/css\";\n",
       "      element.href = url;\n",
       "      console.debug(\"Bokeh: injecting link tag for BokehJS stylesheet: \", url);\n",
       "      document.body.appendChild(element);\n",
       "    }\n",
       "\n",
       "    for (let i = 0; i < js_urls.length; i++) {\n",
       "      const url = js_urls[i];\n",
       "      const element = document.createElement('script');\n",
       "      element.onload = on_load;\n",
       "      element.onerror = on_error.bind(null, url);\n",
       "      element.async = false;\n",
       "      element.src = url;\n",
       "      console.debug(\"Bokeh: injecting script tag for BokehJS library: \", url);\n",
       "      document.head.appendChild(element);\n",
       "    }\n",
       "  };\n",
       "\n",
       "  function inject_raw_css(css) {\n",
       "    const element = document.createElement(\"style\");\n",
       "    element.appendChild(document.createTextNode(css));\n",
       "    document.body.appendChild(element);\n",
       "  }\n",
       "\n",
       "  const js_urls = [\"https://cdn.bokeh.org/bokeh/release/bokeh-3.4.1.min.js\", \"https://cdn.bokeh.org/bokeh/release/bokeh-gl-3.4.1.min.js\", \"https://cdn.bokeh.org/bokeh/release/bokeh-widgets-3.4.1.min.js\", \"https://cdn.bokeh.org/bokeh/release/bokeh-tables-3.4.1.min.js\", \"https://cdn.bokeh.org/bokeh/release/bokeh-mathjax-3.4.1.min.js\"];\n",
       "  const css_urls = [];\n",
       "\n",
       "  const inline_js = [    function(Bokeh) {\n",
       "      Bokeh.set_log_level(\"info\");\n",
       "    },\n",
       "function(Bokeh) {\n",
       "    }\n",
       "  ];\n",
       "\n",
       "  function run_inline_js() {\n",
       "    if (root.Bokeh !== undefined || force === true) {\n",
       "      try {\n",
       "            for (let i = 0; i < inline_js.length; i++) {\n",
       "      inline_js[i].call(root, root.Bokeh);\n",
       "    }\n",
       "\n",
       "      } catch (error) {throw error;\n",
       "      }} else if (Date.now() < root._bokeh_timeout) {\n",
       "      setTimeout(run_inline_js, 100);\n",
       "    } else if (!root._bokeh_failed_load) {\n",
       "      console.log(\"Bokeh: BokehJS failed to load within specified timeout.\");\n",
       "      root._bokeh_failed_load = true;\n",
       "    } else if (force !== true) {\n",
       "      const cell = $(document.getElementById(null)).parents('.cell').data().cell;\n",
       "      cell.output_area.append_execute_result(NB_LOAD_WARNING)\n",
       "    }\n",
       "  }\n",
       "\n",
       "  if (root._bokeh_is_loading === 0) {\n",
       "    console.debug(\"Bokeh: BokehJS loaded, going straight to plotting\");\n",
       "    run_inline_js();\n",
       "  } else {\n",
       "    load_libs(css_urls, js_urls, function() {\n",
       "      console.debug(\"Bokeh: BokehJS plotting callback run at\", now());\n",
       "      run_inline_js();\n",
       "    });\n",
       "  }\n",
       "}(window));"
      ],
      "application/vnd.bokehjs_load.v0+json": "'use strict';\n(function(root) {\n  function now() {\n    return new Date();\n  }\n\n  const force = true;\n\n  if (typeof root._bokeh_onload_callbacks === \"undefined\" || force === true) {\n    root._bokeh_onload_callbacks = [];\n    root._bokeh_is_loading = undefined;\n  }\n\n\n  if (typeof (root._bokeh_timeout) === \"undefined\" || force === true) {\n    root._bokeh_timeout = Date.now() + 5000;\n    root._bokeh_failed_load = false;\n  }\n\n  const NB_LOAD_WARNING = {'data': {'text/html':\n     \"<div style='background-color: #fdd'>\\n\"+\n     \"<p>\\n\"+\n     \"BokehJS does not appear to have successfully loaded. If loading BokehJS from CDN, this \\n\"+\n     \"may be due to a slow or bad network connection. Possible fixes:\\n\"+\n     \"</p>\\n\"+\n     \"<ul>\\n\"+\n     \"<li>re-rerun `output_notebook()` to attempt to load from CDN again, or</li>\\n\"+\n     \"<li>use INLINE resources instead, as so:</li>\\n\"+\n     \"</ul>\\n\"+\n     \"<code>\\n\"+\n     \"from bokeh.resources import INLINE\\n\"+\n     \"output_notebook(resources=INLINE)\\n\"+\n     \"</code>\\n\"+\n     \"</div>\"}};\n\n  function display_loaded(error = null) {\n    const el = document.getElementById(null);\n    if (el != null) {\n      const html = (() => {\n        if (typeof root.Bokeh === \"undefined\") {\n          if (error == null) {\n            return \"BokehJS is loading ...\";\n          } else {\n            return \"BokehJS failed to load.\";\n          }\n        } else {\n          const prefix = `BokehJS ${root.Bokeh.version}`;\n          if (error == null) {\n            return `${prefix} successfully loaded.`;\n          } else {\n            return `${prefix} <b>encountered errors</b> while loading and may not function as expected.`;\n          }\n        }\n      })();\n      el.innerHTML = html;\n\n      if (error != null) {\n        const wrapper = document.createElement(\"div\");\n        wrapper.style.overflow = \"auto\";\n        wrapper.style.height = \"5em\";\n        wrapper.style.resize = \"vertical\";\n        const content = document.createElement(\"div\");\n        content.style.fontFamily = \"monospace\";\n        content.style.whiteSpace = \"pre-wrap\";\n        content.style.backgroundColor = \"rgb(255, 221, 221)\";\n        content.textContent = error.stack ?? error.toString();\n        wrapper.append(content);\n        el.append(wrapper);\n      }\n    } else if (Date.now() < root._bokeh_timeout) {\n      setTimeout(() => display_loaded(error), 100);\n    }\n  }\n\n  function run_callbacks() {\n    try {\n      root._bokeh_onload_callbacks.forEach(function(callback) {\n        if (callback != null)\n          callback();\n      });\n    } finally {\n      delete root._bokeh_onload_callbacks\n    }\n    console.debug(\"Bokeh: all callbacks have finished\");\n  }\n\n  function load_libs(css_urls, js_urls, callback) {\n    if (css_urls == null) css_urls = [];\n    if (js_urls == null) js_urls = [];\n\n    root._bokeh_onload_callbacks.push(callback);\n    if (root._bokeh_is_loading > 0) {\n      console.debug(\"Bokeh: BokehJS is being loaded, scheduling callback at\", now());\n      return null;\n    }\n    if (js_urls == null || js_urls.length === 0) {\n      run_callbacks();\n      return null;\n    }\n    console.debug(\"Bokeh: BokehJS not loaded, scheduling load and callback at\", now());\n    root._bokeh_is_loading = css_urls.length + js_urls.length;\n\n    function on_load() {\n      root._bokeh_is_loading--;\n      if (root._bokeh_is_loading === 0) {\n        console.debug(\"Bokeh: all BokehJS libraries/stylesheets loaded\");\n        run_callbacks()\n      }\n    }\n\n    function on_error(url) {\n      console.error(\"failed to load \" + url);\n    }\n\n    for (let i = 0; i < css_urls.length; i++) {\n      const url = css_urls[i];\n      const element = document.createElement(\"link\");\n      element.onload = on_load;\n      element.onerror = on_error.bind(null, url);\n      element.rel = \"stylesheet\";\n      element.type = \"text/css\";\n      element.href = url;\n      console.debug(\"Bokeh: injecting link tag for BokehJS stylesheet: \", url);\n      document.body.appendChild(element);\n    }\n\n    for (let i = 0; i < js_urls.length; i++) {\n      const url = js_urls[i];\n      const element = document.createElement('script');\n      element.onload = on_load;\n      element.onerror = on_error.bind(null, url);\n      element.async = false;\n      element.src = url;\n      console.debug(\"Bokeh: injecting script tag for BokehJS library: \", url);\n      document.head.appendChild(element);\n    }\n  };\n\n  function inject_raw_css(css) {\n    const element = document.createElement(\"style\");\n    element.appendChild(document.createTextNode(css));\n    document.body.appendChild(element);\n  }\n\n  const js_urls = [\"https://cdn.bokeh.org/bokeh/release/bokeh-3.4.1.min.js\", \"https://cdn.bokeh.org/bokeh/release/bokeh-gl-3.4.1.min.js\", \"https://cdn.bokeh.org/bokeh/release/bokeh-widgets-3.4.1.min.js\", \"https://cdn.bokeh.org/bokeh/release/bokeh-tables-3.4.1.min.js\", \"https://cdn.bokeh.org/bokeh/release/bokeh-mathjax-3.4.1.min.js\"];\n  const css_urls = [];\n\n  const inline_js = [    function(Bokeh) {\n      Bokeh.set_log_level(\"info\");\n    },\nfunction(Bokeh) {\n    }\n  ];\n\n  function run_inline_js() {\n    if (root.Bokeh !== undefined || force === true) {\n      try {\n            for (let i = 0; i < inline_js.length; i++) {\n      inline_js[i].call(root, root.Bokeh);\n    }\n\n      } catch (error) {throw error;\n      }} else if (Date.now() < root._bokeh_timeout) {\n      setTimeout(run_inline_js, 100);\n    } else if (!root._bokeh_failed_load) {\n      console.log(\"Bokeh: BokehJS failed to load within specified timeout.\");\n      root._bokeh_failed_load = true;\n    } else if (force !== true) {\n      const cell = $(document.getElementById(null)).parents('.cell').data().cell;\n      cell.output_area.append_execute_result(NB_LOAD_WARNING)\n    }\n  }\n\n  if (root._bokeh_is_loading === 0) {\n    console.debug(\"Bokeh: BokehJS loaded, going straight to plotting\");\n    run_inline_js();\n  } else {\n    load_libs(css_urls, js_urls, function() {\n      console.debug(\"Bokeh: BokehJS plotting callback run at\", now());\n      run_inline_js();\n    });\n  }\n}(window));"
     },
     "metadata": {},
     "output_type": "display_data"
    }
   ],
   "source": [
    "import os\n",
    "import allel\n",
    "import zarr\n",
    "import pandas as pd\n",
    "import petl as etl\n",
    "import numpy as np\n",
    "import matplotlib.pyplot as plt\n",
    "import seaborn as sns\n",
    "import h5py\n",
    "import plotly.express as px\n",
    "#import pyfasta\n",
    "import sys\n",
    "from os.path import isfile, join, isdir\n",
    "import dask\n",
    "# quieten dask warnings about large chunks\n",
    "dask.config.set(**{'array.slicing.split_large_chunks': True})\n",
    "import malariagen_data\n",
    "ag3 = malariagen_data.Ag3(\"gs://vo_agam_release/\")"
   ]
  },
  {
   "cell_type": "code",
   "execution_count": 69,
   "id": "920cef83-fce3-4602-ba26-37d703c15fae",
   "metadata": {},
   "outputs": [],
   "source": [
    "df_3R = pd.read_csv('/mnt/c/Users/rando/Documenti/Ag1000G/Data/Extras/windows_eqaccess.1000000.3R.txt', sep = '\\t')\n",
    "df_3L = pd.read_csv('/mnt/c/Users/rando/Documenti/Ag1000G/Data/Extras/windows_eqaccess.1000000.3L.txt', sep = '\\t')"
   ]
  },
  {
   "cell_type": "code",
   "execution_count": 70,
   "id": "dc7cae38-0cec-4041-8a6d-0e28e8692d7e",
   "metadata": {},
   "outputs": [
    {
     "data": {
      "text/html": [
       "<div>\n",
       "<style scoped>\n",
       "    .dataframe tbody tr th:only-of-type {\n",
       "        vertical-align: middle;\n",
       "    }\n",
       "\n",
       "    .dataframe tbody tr th {\n",
       "        vertical-align: top;\n",
       "    }\n",
       "\n",
       "    .dataframe thead th {\n",
       "        text-align: right;\n",
       "    }\n",
       "</style>\n",
       "<table border=\"1\" class=\"dataframe\">\n",
       "  <thead>\n",
       "    <tr style=\"text-align: right;\">\n",
       "      <th></th>\n",
       "      <th>chrom</th>\n",
       "      <th>start</th>\n",
       "      <th>stop</th>\n",
       "      <th>midpoint</th>\n",
       "      <th>pi_BFcol</th>\n",
       "      <th>pi_CIcol</th>\n",
       "      <th>pi_GHcol</th>\n",
       "      <th>pi_GNcol</th>\n",
       "      <th>pi_MAcol</th>\n",
       "      <th>pi_BFgam</th>\n",
       "      <th>...</th>\n",
       "      <th>theta_GNcol</th>\n",
       "      <th>theta_MAcol</th>\n",
       "      <th>theta_BFgam</th>\n",
       "      <th>theta_GHgam</th>\n",
       "      <th>theta_GNgam</th>\n",
       "      <th>theta_MAgam</th>\n",
       "      <th>theta_GWgam</th>\n",
       "      <th>theta_gcx2</th>\n",
       "      <th>theta_gcx1-GM</th>\n",
       "      <th>theta_gcx1-GW</th>\n",
       "    </tr>\n",
       "  </thead>\n",
       "  <tbody>\n",
       "    <tr>\n",
       "      <th>0</th>\n",
       "      <td>3L</td>\n",
       "      <td>9779</td>\n",
       "      <td>2773591</td>\n",
       "      <td>1391685.0</td>\n",
       "      <td>0.000958</td>\n",
       "      <td>0.001053</td>\n",
       "      <td>0.000994</td>\n",
       "      <td>0.000954</td>\n",
       "      <td>0.001033</td>\n",
       "      <td>0.001196</td>\n",
       "      <td>...</td>\n",
       "      <td>0.001077</td>\n",
       "      <td>0.002674</td>\n",
       "      <td>0.002770</td>\n",
       "      <td>0.001568</td>\n",
       "      <td>0.002838</td>\n",
       "      <td>0.002803</td>\n",
       "      <td>0.001433</td>\n",
       "      <td>0.004051</td>\n",
       "      <td>0.002829</td>\n",
       "      <td>0.003098</td>\n",
       "    </tr>\n",
       "    <tr>\n",
       "      <th>1</th>\n",
       "      <td>3L</td>\n",
       "      <td>2773592</td>\n",
       "      <td>4210839</td>\n",
       "      <td>3492216.0</td>\n",
       "      <td>0.001349</td>\n",
       "      <td>0.001413</td>\n",
       "      <td>0.001340</td>\n",
       "      <td>0.001477</td>\n",
       "      <td>0.001370</td>\n",
       "      <td>0.001543</td>\n",
       "      <td>...</td>\n",
       "      <td>0.001705</td>\n",
       "      <td>0.003239</td>\n",
       "      <td>0.003398</td>\n",
       "      <td>0.002150</td>\n",
       "      <td>0.003477</td>\n",
       "      <td>0.003263</td>\n",
       "      <td>0.001953</td>\n",
       "      <td>0.004865</td>\n",
       "      <td>0.003299</td>\n",
       "      <td>0.003821</td>\n",
       "    </tr>\n",
       "    <tr>\n",
       "      <th>2</th>\n",
       "      <td>3L</td>\n",
       "      <td>4210840</td>\n",
       "      <td>6216420</td>\n",
       "      <td>5213630.0</td>\n",
       "      <td>0.001291</td>\n",
       "      <td>0.001370</td>\n",
       "      <td>0.001322</td>\n",
       "      <td>0.001294</td>\n",
       "      <td>0.001316</td>\n",
       "      <td>0.001444</td>\n",
       "      <td>...</td>\n",
       "      <td>0.001495</td>\n",
       "      <td>0.003225</td>\n",
       "      <td>0.003315</td>\n",
       "      <td>0.001881</td>\n",
       "      <td>0.003348</td>\n",
       "      <td>0.003238</td>\n",
       "      <td>0.001714</td>\n",
       "      <td>0.004860</td>\n",
       "      <td>0.003263</td>\n",
       "      <td>0.003966</td>\n",
       "    </tr>\n",
       "    <tr>\n",
       "      <th>3</th>\n",
       "      <td>3L</td>\n",
       "      <td>6216421</td>\n",
       "      <td>8237501</td>\n",
       "      <td>7226961.0</td>\n",
       "      <td>0.001804</td>\n",
       "      <td>0.001911</td>\n",
       "      <td>0.001830</td>\n",
       "      <td>0.001937</td>\n",
       "      <td>0.001817</td>\n",
       "      <td>0.002025</td>\n",
       "      <td>...</td>\n",
       "      <td>0.002096</td>\n",
       "      <td>0.004692</td>\n",
       "      <td>0.004458</td>\n",
       "      <td>0.002632</td>\n",
       "      <td>0.004484</td>\n",
       "      <td>0.004121</td>\n",
       "      <td>0.002573</td>\n",
       "      <td>0.006427</td>\n",
       "      <td>0.004096</td>\n",
       "      <td>0.005174</td>\n",
       "    </tr>\n",
       "    <tr>\n",
       "      <th>4</th>\n",
       "      <td>3L</td>\n",
       "      <td>8237502</td>\n",
       "      <td>10247116</td>\n",
       "      <td>9242309.0</td>\n",
       "      <td>0.002773</td>\n",
       "      <td>0.002827</td>\n",
       "      <td>0.002722</td>\n",
       "      <td>0.002811</td>\n",
       "      <td>0.002825</td>\n",
       "      <td>0.002703</td>\n",
       "      <td>...</td>\n",
       "      <td>0.003164</td>\n",
       "      <td>0.007227</td>\n",
       "      <td>0.006124</td>\n",
       "      <td>0.003916</td>\n",
       "      <td>0.006130</td>\n",
       "      <td>0.005636</td>\n",
       "      <td>0.003589</td>\n",
       "      <td>0.008815</td>\n",
       "      <td>0.005491</td>\n",
       "      <td>0.006965</td>\n",
       "    </tr>\n",
       "    <tr>\n",
       "      <th>5</th>\n",
       "      <td>3L</td>\n",
       "      <td>10247117</td>\n",
       "      <td>12103703</td>\n",
       "      <td>11175410.0</td>\n",
       "      <td>0.003189</td>\n",
       "      <td>0.003392</td>\n",
       "      <td>0.003417</td>\n",
       "      <td>0.003364</td>\n",
       "      <td>0.003230</td>\n",
       "      <td>0.003494</td>\n",
       "      <td>...</td>\n",
       "      <td>0.003547</td>\n",
       "      <td>0.007049</td>\n",
       "      <td>0.008995</td>\n",
       "      <td>0.005545</td>\n",
       "      <td>0.008374</td>\n",
       "      <td>0.007628</td>\n",
       "      <td>0.004509</td>\n",
       "      <td>0.009628</td>\n",
       "      <td>0.006262</td>\n",
       "      <td>0.008515</td>\n",
       "    </tr>\n",
       "    <tr>\n",
       "      <th>6</th>\n",
       "      <td>3L</td>\n",
       "      <td>12103704</td>\n",
       "      <td>13678807</td>\n",
       "      <td>12891256.0</td>\n",
       "      <td>0.004090</td>\n",
       "      <td>0.003952</td>\n",
       "      <td>0.003908</td>\n",
       "      <td>0.003684</td>\n",
       "      <td>0.004099</td>\n",
       "      <td>0.004222</td>\n",
       "      <td>...</td>\n",
       "      <td>0.004275</td>\n",
       "      <td>0.011143</td>\n",
       "      <td>0.012152</td>\n",
       "      <td>0.007180</td>\n",
       "      <td>0.011357</td>\n",
       "      <td>0.010597</td>\n",
       "      <td>0.005831</td>\n",
       "      <td>0.012458</td>\n",
       "      <td>0.008105</td>\n",
       "      <td>0.010451</td>\n",
       "    </tr>\n",
       "    <tr>\n",
       "      <th>7</th>\n",
       "      <td>3L</td>\n",
       "      <td>13678808</td>\n",
       "      <td>15396153</td>\n",
       "      <td>14537480.0</td>\n",
       "      <td>0.004617</td>\n",
       "      <td>0.004521</td>\n",
       "      <td>0.004487</td>\n",
       "      <td>0.004193</td>\n",
       "      <td>0.004641</td>\n",
       "      <td>0.004831</td>\n",
       "      <td>...</td>\n",
       "      <td>0.004552</td>\n",
       "      <td>0.012763</td>\n",
       "      <td>0.015506</td>\n",
       "      <td>0.009002</td>\n",
       "      <td>0.014240</td>\n",
       "      <td>0.013091</td>\n",
       "      <td>0.006691</td>\n",
       "      <td>0.014924</td>\n",
       "      <td>0.008986</td>\n",
       "      <td>0.012008</td>\n",
       "    </tr>\n",
       "    <tr>\n",
       "      <th>8</th>\n",
       "      <td>3L</td>\n",
       "      <td>15396154</td>\n",
       "      <td>17150858</td>\n",
       "      <td>16273506.0</td>\n",
       "      <td>0.004576</td>\n",
       "      <td>0.004477</td>\n",
       "      <td>0.004502</td>\n",
       "      <td>0.004190</td>\n",
       "      <td>0.004605</td>\n",
       "      <td>0.004901</td>\n",
       "      <td>...</td>\n",
       "      <td>0.004846</td>\n",
       "      <td>0.012711</td>\n",
       "      <td>0.016803</td>\n",
       "      <td>0.009754</td>\n",
       "      <td>0.015255</td>\n",
       "      <td>0.014093</td>\n",
       "      <td>0.007140</td>\n",
       "      <td>0.014801</td>\n",
       "      <td>0.008821</td>\n",
       "      <td>0.012503</td>\n",
       "    </tr>\n",
       "    <tr>\n",
       "      <th>9</th>\n",
       "      <td>3L</td>\n",
       "      <td>17150859</td>\n",
       "      <td>18602688</td>\n",
       "      <td>17876774.0</td>\n",
       "      <td>0.004375</td>\n",
       "      <td>0.004243</td>\n",
       "      <td>0.004237</td>\n",
       "      <td>0.003999</td>\n",
       "      <td>0.004390</td>\n",
       "      <td>0.004673</td>\n",
       "      <td>...</td>\n",
       "      <td>0.004668</td>\n",
       "      <td>0.012714</td>\n",
       "      <td>0.017289</td>\n",
       "      <td>0.009601</td>\n",
       "      <td>0.015722</td>\n",
       "      <td>0.014285</td>\n",
       "      <td>0.006640</td>\n",
       "      <td>0.014805</td>\n",
       "      <td>0.009044</td>\n",
       "      <td>0.012695</td>\n",
       "    </tr>\n",
       "    <tr>\n",
       "      <th>10</th>\n",
       "      <td>3L</td>\n",
       "      <td>18602689</td>\n",
       "      <td>20066798</td>\n",
       "      <td>19334744.0</td>\n",
       "      <td>0.004604</td>\n",
       "      <td>0.004499</td>\n",
       "      <td>0.004500</td>\n",
       "      <td>0.004196</td>\n",
       "      <td>0.004608</td>\n",
       "      <td>0.004846</td>\n",
       "      <td>...</td>\n",
       "      <td>0.004972</td>\n",
       "      <td>0.013083</td>\n",
       "      <td>0.017843</td>\n",
       "      <td>0.010061</td>\n",
       "      <td>0.016051</td>\n",
       "      <td>0.014998</td>\n",
       "      <td>0.007049</td>\n",
       "      <td>0.015533</td>\n",
       "      <td>0.009586</td>\n",
       "      <td>0.013216</td>\n",
       "    </tr>\n",
       "    <tr>\n",
       "      <th>11</th>\n",
       "      <td>3L</td>\n",
       "      <td>20066799</td>\n",
       "      <td>21834103</td>\n",
       "      <td>20950451.0</td>\n",
       "      <td>0.004811</td>\n",
       "      <td>0.004683</td>\n",
       "      <td>0.004651</td>\n",
       "      <td>0.004286</td>\n",
       "      <td>0.004807</td>\n",
       "      <td>0.005037</td>\n",
       "      <td>...</td>\n",
       "      <td>0.004714</td>\n",
       "      <td>0.013519</td>\n",
       "      <td>0.018027</td>\n",
       "      <td>0.010022</td>\n",
       "      <td>0.016531</td>\n",
       "      <td>0.015049</td>\n",
       "      <td>0.007268</td>\n",
       "      <td>0.015691</td>\n",
       "      <td>0.009640</td>\n",
       "      <td>0.013296</td>\n",
       "    </tr>\n",
       "    <tr>\n",
       "      <th>12</th>\n",
       "      <td>3L</td>\n",
       "      <td>21834104</td>\n",
       "      <td>23638854</td>\n",
       "      <td>22736479.0</td>\n",
       "      <td>0.004905</td>\n",
       "      <td>0.004793</td>\n",
       "      <td>0.004784</td>\n",
       "      <td>0.004442</td>\n",
       "      <td>0.004925</td>\n",
       "      <td>0.005064</td>\n",
       "      <td>...</td>\n",
       "      <td>0.004952</td>\n",
       "      <td>0.013466</td>\n",
       "      <td>0.018659</td>\n",
       "      <td>0.010540</td>\n",
       "      <td>0.016921</td>\n",
       "      <td>0.016012</td>\n",
       "      <td>0.007392</td>\n",
       "      <td>0.016305</td>\n",
       "      <td>0.010115</td>\n",
       "      <td>0.013728</td>\n",
       "    </tr>\n",
       "    <tr>\n",
       "      <th>13</th>\n",
       "      <td>3L</td>\n",
       "      <td>23638855</td>\n",
       "      <td>25376352</td>\n",
       "      <td>24507604.0</td>\n",
       "      <td>0.004783</td>\n",
       "      <td>0.004689</td>\n",
       "      <td>0.004677</td>\n",
       "      <td>0.004335</td>\n",
       "      <td>0.004793</td>\n",
       "      <td>0.004934</td>\n",
       "      <td>...</td>\n",
       "      <td>0.004919</td>\n",
       "      <td>0.013671</td>\n",
       "      <td>0.019223</td>\n",
       "      <td>0.010697</td>\n",
       "      <td>0.017327</td>\n",
       "      <td>0.016442</td>\n",
       "      <td>0.007245</td>\n",
       "      <td>0.016459</td>\n",
       "      <td>0.010049</td>\n",
       "      <td>0.013765</td>\n",
       "    </tr>\n",
       "    <tr>\n",
       "      <th>14</th>\n",
       "      <td>3L</td>\n",
       "      <td>25376353</td>\n",
       "      <td>27146102</td>\n",
       "      <td>26261228.0</td>\n",
       "      <td>0.005171</td>\n",
       "      <td>0.005040</td>\n",
       "      <td>0.005034</td>\n",
       "      <td>0.004584</td>\n",
       "      <td>0.005184</td>\n",
       "      <td>0.005270</td>\n",
       "      <td>...</td>\n",
       "      <td>0.005227</td>\n",
       "      <td>0.014856</td>\n",
       "      <td>0.020616</td>\n",
       "      <td>0.011342</td>\n",
       "      <td>0.018497</td>\n",
       "      <td>0.017715</td>\n",
       "      <td>0.007597</td>\n",
       "      <td>0.017612</td>\n",
       "      <td>0.010540</td>\n",
       "      <td>0.014835</td>\n",
       "    </tr>\n",
       "    <tr>\n",
       "      <th>15</th>\n",
       "      <td>3L</td>\n",
       "      <td>27146103</td>\n",
       "      <td>28688683</td>\n",
       "      <td>27917393.0</td>\n",
       "      <td>0.005051</td>\n",
       "      <td>0.004875</td>\n",
       "      <td>0.004881</td>\n",
       "      <td>0.004502</td>\n",
       "      <td>0.005063</td>\n",
       "      <td>0.005230</td>\n",
       "      <td>...</td>\n",
       "      <td>0.005148</td>\n",
       "      <td>0.015216</td>\n",
       "      <td>0.021547</td>\n",
       "      <td>0.011996</td>\n",
       "      <td>0.019185</td>\n",
       "      <td>0.018461</td>\n",
       "      <td>0.007641</td>\n",
       "      <td>0.018104</td>\n",
       "      <td>0.010758</td>\n",
       "      <td>0.015182</td>\n",
       "    </tr>\n",
       "    <tr>\n",
       "      <th>16</th>\n",
       "      <td>3L</td>\n",
       "      <td>28688684</td>\n",
       "      <td>30242152</td>\n",
       "      <td>29465418.0</td>\n",
       "      <td>0.005047</td>\n",
       "      <td>0.004894</td>\n",
       "      <td>0.004904</td>\n",
       "      <td>0.004466</td>\n",
       "      <td>0.005055</td>\n",
       "      <td>0.005270</td>\n",
       "      <td>...</td>\n",
       "      <td>0.005018</td>\n",
       "      <td>0.015818</td>\n",
       "      <td>0.022754</td>\n",
       "      <td>0.012249</td>\n",
       "      <td>0.019959</td>\n",
       "      <td>0.019442</td>\n",
       "      <td>0.007842</td>\n",
       "      <td>0.019127</td>\n",
       "      <td>0.010950</td>\n",
       "      <td>0.015720</td>\n",
       "    </tr>\n",
       "    <tr>\n",
       "      <th>17</th>\n",
       "      <td>3L</td>\n",
       "      <td>30242153</td>\n",
       "      <td>31776426</td>\n",
       "      <td>31009290.0</td>\n",
       "      <td>0.004930</td>\n",
       "      <td>0.004798</td>\n",
       "      <td>0.004788</td>\n",
       "      <td>0.004425</td>\n",
       "      <td>0.004940</td>\n",
       "      <td>0.005053</td>\n",
       "      <td>...</td>\n",
       "      <td>0.004984</td>\n",
       "      <td>0.014509</td>\n",
       "      <td>0.020413</td>\n",
       "      <td>0.011322</td>\n",
       "      <td>0.017963</td>\n",
       "      <td>0.017275</td>\n",
       "      <td>0.007308</td>\n",
       "      <td>0.016983</td>\n",
       "      <td>0.010375</td>\n",
       "      <td>0.014425</td>\n",
       "    </tr>\n",
       "    <tr>\n",
       "      <th>18</th>\n",
       "      <td>3L</td>\n",
       "      <td>31776427</td>\n",
       "      <td>33338927</td>\n",
       "      <td>32557677.0</td>\n",
       "      <td>0.004829</td>\n",
       "      <td>0.004728</td>\n",
       "      <td>0.004759</td>\n",
       "      <td>0.004404</td>\n",
       "      <td>0.004851</td>\n",
       "      <td>0.005006</td>\n",
       "      <td>...</td>\n",
       "      <td>0.004956</td>\n",
       "      <td>0.014270</td>\n",
       "      <td>0.020198</td>\n",
       "      <td>0.011178</td>\n",
       "      <td>0.017958</td>\n",
       "      <td>0.016900</td>\n",
       "      <td>0.007233</td>\n",
       "      <td>0.016788</td>\n",
       "      <td>0.010213</td>\n",
       "      <td>0.014124</td>\n",
       "    </tr>\n",
       "    <tr>\n",
       "      <th>19</th>\n",
       "      <td>3L</td>\n",
       "      <td>33338928</td>\n",
       "      <td>34796002</td>\n",
       "      <td>34067465.0</td>\n",
       "      <td>0.004832</td>\n",
       "      <td>0.004654</td>\n",
       "      <td>0.004700</td>\n",
       "      <td>0.004384</td>\n",
       "      <td>0.004848</td>\n",
       "      <td>0.004908</td>\n",
       "      <td>...</td>\n",
       "      <td>0.005071</td>\n",
       "      <td>0.014414</td>\n",
       "      <td>0.020789</td>\n",
       "      <td>0.010987</td>\n",
       "      <td>0.018464</td>\n",
       "      <td>0.017694</td>\n",
       "      <td>0.007149</td>\n",
       "      <td>0.017123</td>\n",
       "      <td>0.010428</td>\n",
       "      <td>0.014424</td>\n",
       "    </tr>\n",
       "    <tr>\n",
       "      <th>20</th>\n",
       "      <td>3L</td>\n",
       "      <td>34796003</td>\n",
       "      <td>36333929</td>\n",
       "      <td>35564966.0</td>\n",
       "      <td>0.004953</td>\n",
       "      <td>0.004724</td>\n",
       "      <td>0.004616</td>\n",
       "      <td>0.004484</td>\n",
       "      <td>0.004967</td>\n",
       "      <td>0.005119</td>\n",
       "      <td>...</td>\n",
       "      <td>0.005201</td>\n",
       "      <td>0.013872</td>\n",
       "      <td>0.019911</td>\n",
       "      <td>0.011145</td>\n",
       "      <td>0.017807</td>\n",
       "      <td>0.017017</td>\n",
       "      <td>0.007426</td>\n",
       "      <td>0.016497</td>\n",
       "      <td>0.010053</td>\n",
       "      <td>0.013843</td>\n",
       "    </tr>\n",
       "    <tr>\n",
       "      <th>21</th>\n",
       "      <td>3L</td>\n",
       "      <td>36333930</td>\n",
       "      <td>38108737</td>\n",
       "      <td>37221334.0</td>\n",
       "      <td>0.004841</td>\n",
       "      <td>0.004723</td>\n",
       "      <td>0.004705</td>\n",
       "      <td>0.004457</td>\n",
       "      <td>0.004874</td>\n",
       "      <td>0.004889</td>\n",
       "      <td>...</td>\n",
       "      <td>0.005314</td>\n",
       "      <td>0.013400</td>\n",
       "      <td>0.018855</td>\n",
       "      <td>0.010346</td>\n",
       "      <td>0.016897</td>\n",
       "      <td>0.015965</td>\n",
       "      <td>0.006872</td>\n",
       "      <td>0.015350</td>\n",
       "      <td>0.009215</td>\n",
       "      <td>0.012995</td>\n",
       "    </tr>\n",
       "    <tr>\n",
       "      <th>22</th>\n",
       "      <td>3L</td>\n",
       "      <td>38108738</td>\n",
       "      <td>39550784</td>\n",
       "      <td>38829761.0</td>\n",
       "      <td>0.004967</td>\n",
       "      <td>0.004839</td>\n",
       "      <td>0.004879</td>\n",
       "      <td>0.004515</td>\n",
       "      <td>0.004989</td>\n",
       "      <td>0.004924</td>\n",
       "      <td>...</td>\n",
       "      <td>0.005437</td>\n",
       "      <td>0.013436</td>\n",
       "      <td>0.018529</td>\n",
       "      <td>0.010064</td>\n",
       "      <td>0.016537</td>\n",
       "      <td>0.015706</td>\n",
       "      <td>0.006762</td>\n",
       "      <td>0.015783</td>\n",
       "      <td>0.009842</td>\n",
       "      <td>0.013425</td>\n",
       "    </tr>\n",
       "  </tbody>\n",
       "</table>\n",
       "<p>23 rows × 43 columns</p>\n",
       "</div>"
      ],
      "text/plain": [
       "   chrom     start      stop    midpoint  pi_BFcol  pi_CIcol  pi_GHcol  \\\n",
       "0     3L      9779   2773591   1391685.0  0.000958  0.001053  0.000994   \n",
       "1     3L   2773592   4210839   3492216.0  0.001349  0.001413  0.001340   \n",
       "2     3L   4210840   6216420   5213630.0  0.001291  0.001370  0.001322   \n",
       "3     3L   6216421   8237501   7226961.0  0.001804  0.001911  0.001830   \n",
       "4     3L   8237502  10247116   9242309.0  0.002773  0.002827  0.002722   \n",
       "5     3L  10247117  12103703  11175410.0  0.003189  0.003392  0.003417   \n",
       "6     3L  12103704  13678807  12891256.0  0.004090  0.003952  0.003908   \n",
       "7     3L  13678808  15396153  14537480.0  0.004617  0.004521  0.004487   \n",
       "8     3L  15396154  17150858  16273506.0  0.004576  0.004477  0.004502   \n",
       "9     3L  17150859  18602688  17876774.0  0.004375  0.004243  0.004237   \n",
       "10    3L  18602689  20066798  19334744.0  0.004604  0.004499  0.004500   \n",
       "11    3L  20066799  21834103  20950451.0  0.004811  0.004683  0.004651   \n",
       "12    3L  21834104  23638854  22736479.0  0.004905  0.004793  0.004784   \n",
       "13    3L  23638855  25376352  24507604.0  0.004783  0.004689  0.004677   \n",
       "14    3L  25376353  27146102  26261228.0  0.005171  0.005040  0.005034   \n",
       "15    3L  27146103  28688683  27917393.0  0.005051  0.004875  0.004881   \n",
       "16    3L  28688684  30242152  29465418.0  0.005047  0.004894  0.004904   \n",
       "17    3L  30242153  31776426  31009290.0  0.004930  0.004798  0.004788   \n",
       "18    3L  31776427  33338927  32557677.0  0.004829  0.004728  0.004759   \n",
       "19    3L  33338928  34796002  34067465.0  0.004832  0.004654  0.004700   \n",
       "20    3L  34796003  36333929  35564966.0  0.004953  0.004724  0.004616   \n",
       "21    3L  36333930  38108737  37221334.0  0.004841  0.004723  0.004705   \n",
       "22    3L  38108738  39550784  38829761.0  0.004967  0.004839  0.004879   \n",
       "\n",
       "    pi_GNcol  pi_MAcol  pi_BFgam  ...  theta_GNcol  theta_MAcol  theta_BFgam  \\\n",
       "0   0.000954  0.001033  0.001196  ...     0.001077     0.002674     0.002770   \n",
       "1   0.001477  0.001370  0.001543  ...     0.001705     0.003239     0.003398   \n",
       "2   0.001294  0.001316  0.001444  ...     0.001495     0.003225     0.003315   \n",
       "3   0.001937  0.001817  0.002025  ...     0.002096     0.004692     0.004458   \n",
       "4   0.002811  0.002825  0.002703  ...     0.003164     0.007227     0.006124   \n",
       "5   0.003364  0.003230  0.003494  ...     0.003547     0.007049     0.008995   \n",
       "6   0.003684  0.004099  0.004222  ...     0.004275     0.011143     0.012152   \n",
       "7   0.004193  0.004641  0.004831  ...     0.004552     0.012763     0.015506   \n",
       "8   0.004190  0.004605  0.004901  ...     0.004846     0.012711     0.016803   \n",
       "9   0.003999  0.004390  0.004673  ...     0.004668     0.012714     0.017289   \n",
       "10  0.004196  0.004608  0.004846  ...     0.004972     0.013083     0.017843   \n",
       "11  0.004286  0.004807  0.005037  ...     0.004714     0.013519     0.018027   \n",
       "12  0.004442  0.004925  0.005064  ...     0.004952     0.013466     0.018659   \n",
       "13  0.004335  0.004793  0.004934  ...     0.004919     0.013671     0.019223   \n",
       "14  0.004584  0.005184  0.005270  ...     0.005227     0.014856     0.020616   \n",
       "15  0.004502  0.005063  0.005230  ...     0.005148     0.015216     0.021547   \n",
       "16  0.004466  0.005055  0.005270  ...     0.005018     0.015818     0.022754   \n",
       "17  0.004425  0.004940  0.005053  ...     0.004984     0.014509     0.020413   \n",
       "18  0.004404  0.004851  0.005006  ...     0.004956     0.014270     0.020198   \n",
       "19  0.004384  0.004848  0.004908  ...     0.005071     0.014414     0.020789   \n",
       "20  0.004484  0.004967  0.005119  ...     0.005201     0.013872     0.019911   \n",
       "21  0.004457  0.004874  0.004889  ...     0.005314     0.013400     0.018855   \n",
       "22  0.004515  0.004989  0.004924  ...     0.005437     0.013436     0.018529   \n",
       "\n",
       "    theta_GHgam  theta_GNgam  theta_MAgam  theta_GWgam  theta_gcx2  \\\n",
       "0      0.001568     0.002838     0.002803     0.001433    0.004051   \n",
       "1      0.002150     0.003477     0.003263     0.001953    0.004865   \n",
       "2      0.001881     0.003348     0.003238     0.001714    0.004860   \n",
       "3      0.002632     0.004484     0.004121     0.002573    0.006427   \n",
       "4      0.003916     0.006130     0.005636     0.003589    0.008815   \n",
       "5      0.005545     0.008374     0.007628     0.004509    0.009628   \n",
       "6      0.007180     0.011357     0.010597     0.005831    0.012458   \n",
       "7      0.009002     0.014240     0.013091     0.006691    0.014924   \n",
       "8      0.009754     0.015255     0.014093     0.007140    0.014801   \n",
       "9      0.009601     0.015722     0.014285     0.006640    0.014805   \n",
       "10     0.010061     0.016051     0.014998     0.007049    0.015533   \n",
       "11     0.010022     0.016531     0.015049     0.007268    0.015691   \n",
       "12     0.010540     0.016921     0.016012     0.007392    0.016305   \n",
       "13     0.010697     0.017327     0.016442     0.007245    0.016459   \n",
       "14     0.011342     0.018497     0.017715     0.007597    0.017612   \n",
       "15     0.011996     0.019185     0.018461     0.007641    0.018104   \n",
       "16     0.012249     0.019959     0.019442     0.007842    0.019127   \n",
       "17     0.011322     0.017963     0.017275     0.007308    0.016983   \n",
       "18     0.011178     0.017958     0.016900     0.007233    0.016788   \n",
       "19     0.010987     0.018464     0.017694     0.007149    0.017123   \n",
       "20     0.011145     0.017807     0.017017     0.007426    0.016497   \n",
       "21     0.010346     0.016897     0.015965     0.006872    0.015350   \n",
       "22     0.010064     0.016537     0.015706     0.006762    0.015783   \n",
       "\n",
       "    theta_gcx1-GM  theta_gcx1-GW  \n",
       "0        0.002829       0.003098  \n",
       "1        0.003299       0.003821  \n",
       "2        0.003263       0.003966  \n",
       "3        0.004096       0.005174  \n",
       "4        0.005491       0.006965  \n",
       "5        0.006262       0.008515  \n",
       "6        0.008105       0.010451  \n",
       "7        0.008986       0.012008  \n",
       "8        0.008821       0.012503  \n",
       "9        0.009044       0.012695  \n",
       "10       0.009586       0.013216  \n",
       "11       0.009640       0.013296  \n",
       "12       0.010115       0.013728  \n",
       "13       0.010049       0.013765  \n",
       "14       0.010540       0.014835  \n",
       "15       0.010758       0.015182  \n",
       "16       0.010950       0.015720  \n",
       "17       0.010375       0.014425  \n",
       "18       0.010213       0.014124  \n",
       "19       0.010428       0.014424  \n",
       "20       0.010053       0.013843  \n",
       "21       0.009215       0.012995  \n",
       "22       0.009842       0.013425  \n",
       "\n",
       "[23 rows x 43 columns]"
      ]
     },
     "execution_count": 70,
     "metadata": {},
     "output_type": "execute_result"
    }
   ],
   "source": [
    "df_3L"
   ]
  },
  {
   "cell_type": "code",
   "execution_count": 71,
   "id": "98fff73f-d93e-4f1d-9e4c-e53c9c09e177",
   "metadata": {},
   "outputs": [],
   "source": [
    "new_df_3R = df_3R[((df_3R['start'] > 1000000) & (df_3R['stop'] < 24000000))].drop(columns=(['chrom','start','stop','midpoint']))\n",
    "new_df_3L = df_3L[((df_3L['start'] > 18000000) & (df_3L['stop'] < 41000000))].drop(columns=(['chrom','start','stop','midpoint']))"
   ]
  },
  {
   "cell_type": "code",
   "execution_count": 72,
   "id": "335cd41e-8e41-473a-8933-abc0a43593f9",
   "metadata": {},
   "outputs": [],
   "source": [
    "frames = [new_df_3R, new_df_3L]\n",
    "df = pd.concat(frames)"
   ]
  },
  {
   "cell_type": "code",
   "execution_count": 76,
   "id": "f7eaac5d-fe69-48a8-af28-24b016099687",
   "metadata": {},
   "outputs": [],
   "source": [
    "df_pi = df.iloc[:, :13].drop(columns=[\"pi_GNcol\",\"pi_GWgam\"])[order]\n",
    "df_tjd = df.iloc[:, [13,14,15,16,17,18,19,20,21,22,23,24,25]].drop(columns=[\"tajima_d_GNcol\",\"tajima_d_GWgam\"])[order2]"
   ]
  },
  {
   "cell_type": "code",
   "execution_count": 75,
   "id": "b0d57f12-3abf-4511-ac42-c0326e293995",
   "metadata": {},
   "outputs": [],
   "source": [
    "order = [\"pi_BFcol\",\"pi_MAcol\",\"pi_CIcol\",\"pi_GHcol\",\"pi_BFgam\",\"pi_MAgam\",\"pi_GHgam\",\"pi_GNgam\",\"pi_gcx2\",\"pi_gcx1-GM\",\"pi_gcx1-GW\"]\n",
    "order2 = [\"tajima_d_BFcol\",\"tajima_d_MAcol\",\"tajima_d_CIcol\",\"tajima_d_GHcol\",\"tajima_d_BFgam\",\"tajima_d_MAgam\",\"tajima_d_GHgam\",\"tajima_d_GNgam\",\"tajima_d_gcx2\",\"tajima_d_gcx1-GM\",\"tajima_d_gcx1-GW\"]"
   ]
  },
  {
   "cell_type": "code",
   "execution_count": 77,
   "id": "2a44c9f8-2c3f-4c3a-ac75-f7a382b97d96",
   "metadata": {},
   "outputs": [
    {
     "data": {
      "text/html": [
       "<div>\n",
       "<style scoped>\n",
       "    .dataframe tbody tr th:only-of-type {\n",
       "        vertical-align: middle;\n",
       "    }\n",
       "\n",
       "    .dataframe tbody tr th {\n",
       "        vertical-align: top;\n",
       "    }\n",
       "\n",
       "    .dataframe thead th {\n",
       "        text-align: right;\n",
       "    }\n",
       "</style>\n",
       "<table border=\"1\" class=\"dataframe\">\n",
       "  <thead>\n",
       "    <tr style=\"text-align: right;\">\n",
       "      <th></th>\n",
       "      <th>tajima_d_BFcol</th>\n",
       "      <th>tajima_d_MAcol</th>\n",
       "      <th>tajima_d_CIcol</th>\n",
       "      <th>tajima_d_GHcol</th>\n",
       "      <th>tajima_d_BFgam</th>\n",
       "      <th>tajima_d_MAgam</th>\n",
       "      <th>tajima_d_GHgam</th>\n",
       "      <th>tajima_d_GNgam</th>\n",
       "      <th>tajima_d_gcx2</th>\n",
       "      <th>tajima_d_gcx1-GM</th>\n",
       "      <th>tajima_d_gcx1-GW</th>\n",
       "    </tr>\n",
       "  </thead>\n",
       "  <tbody>\n",
       "    <tr>\n",
       "      <th>1</th>\n",
       "      <td>-2.152622</td>\n",
       "      <td>-2.099208</td>\n",
       "      <td>-1.741935</td>\n",
       "      <td>-1.698784</td>\n",
       "      <td>-2.348834</td>\n",
       "      <td>-2.257208</td>\n",
       "      <td>-1.914712</td>\n",
       "      <td>-2.280089</td>\n",
       "      <td>-2.131057</td>\n",
       "      <td>-1.654185</td>\n",
       "      <td>-2.047256</td>\n",
       "    </tr>\n",
       "    <tr>\n",
       "      <th>2</th>\n",
       "      <td>-2.201722</td>\n",
       "      <td>-2.148817</td>\n",
       "      <td>-1.802512</td>\n",
       "      <td>-1.748776</td>\n",
       "      <td>-2.372468</td>\n",
       "      <td>-2.263789</td>\n",
       "      <td>-1.908046</td>\n",
       "      <td>-2.296382</td>\n",
       "      <td>-2.185651</td>\n",
       "      <td>-1.758495</td>\n",
       "      <td>-2.110104</td>\n",
       "    </tr>\n",
       "    <tr>\n",
       "      <th>3</th>\n",
       "      <td>-2.207069</td>\n",
       "      <td>-2.142729</td>\n",
       "      <td>-1.805811</td>\n",
       "      <td>-1.815235</td>\n",
       "      <td>-2.340440</td>\n",
       "      <td>-2.238053</td>\n",
       "      <td>-1.819616</td>\n",
       "      <td>-2.265278</td>\n",
       "      <td>-2.192012</td>\n",
       "      <td>-1.751923</td>\n",
       "      <td>-2.125090</td>\n",
       "    </tr>\n",
       "    <tr>\n",
       "      <th>4</th>\n",
       "      <td>-2.185334</td>\n",
       "      <td>-2.124199</td>\n",
       "      <td>-1.771726</td>\n",
       "      <td>-1.782682</td>\n",
       "      <td>-2.330420</td>\n",
       "      <td>-2.244746</td>\n",
       "      <td>-1.915136</td>\n",
       "      <td>-2.267482</td>\n",
       "      <td>-2.180857</td>\n",
       "      <td>-1.733733</td>\n",
       "      <td>-2.106309</td>\n",
       "    </tr>\n",
       "    <tr>\n",
       "      <th>5</th>\n",
       "      <td>-2.171738</td>\n",
       "      <td>-2.113136</td>\n",
       "      <td>-1.728319</td>\n",
       "      <td>-1.746888</td>\n",
       "      <td>-2.320847</td>\n",
       "      <td>-2.231441</td>\n",
       "      <td>-1.923244</td>\n",
       "      <td>-2.259656</td>\n",
       "      <td>-2.156620</td>\n",
       "      <td>-1.705262</td>\n",
       "      <td>-2.081156</td>\n",
       "    </tr>\n",
       "  </tbody>\n",
       "</table>\n",
       "</div>"
      ],
      "text/plain": [
       "   tajima_d_BFcol  tajima_d_MAcol  tajima_d_CIcol  tajima_d_GHcol  \\\n",
       "1       -2.152622       -2.099208       -1.741935       -1.698784   \n",
       "2       -2.201722       -2.148817       -1.802512       -1.748776   \n",
       "3       -2.207069       -2.142729       -1.805811       -1.815235   \n",
       "4       -2.185334       -2.124199       -1.771726       -1.782682   \n",
       "5       -2.171738       -2.113136       -1.728319       -1.746888   \n",
       "\n",
       "   tajima_d_BFgam  tajima_d_MAgam  tajima_d_GHgam  tajima_d_GNgam  \\\n",
       "1       -2.348834       -2.257208       -1.914712       -2.280089   \n",
       "2       -2.372468       -2.263789       -1.908046       -2.296382   \n",
       "3       -2.340440       -2.238053       -1.819616       -2.265278   \n",
       "4       -2.330420       -2.244746       -1.915136       -2.267482   \n",
       "5       -2.320847       -2.231441       -1.923244       -2.259656   \n",
       "\n",
       "   tajima_d_gcx2  tajima_d_gcx1-GM  tajima_d_gcx1-GW  \n",
       "1      -2.131057         -1.654185         -2.047256  \n",
       "2      -2.185651         -1.758495         -2.110104  \n",
       "3      -2.192012         -1.751923         -2.125090  \n",
       "4      -2.180857         -1.733733         -2.106309  \n",
       "5      -2.156620         -1.705262         -2.081156  "
      ]
     },
     "execution_count": 77,
     "metadata": {},
     "output_type": "execute_result"
    }
   ],
   "source": [
    "df_tjd.head()"
   ]
  },
  {
   "cell_type": "code",
   "execution_count": 44,
   "id": "8f808d5f-95b7-4f5a-a30c-29406e6a8cd8",
   "metadata": {},
   "outputs": [
    {
     "data": {
      "text/html": [
       "<div>\n",
       "<style scoped>\n",
       "    .dataframe tbody tr th:only-of-type {\n",
       "        vertical-align: middle;\n",
       "    }\n",
       "\n",
       "    .dataframe tbody tr th {\n",
       "        vertical-align: top;\n",
       "    }\n",
       "\n",
       "    .dataframe thead th {\n",
       "        text-align: right;\n",
       "    }\n",
       "</style>\n",
       "<table border=\"1\" class=\"dataframe\">\n",
       "  <thead>\n",
       "    <tr style=\"text-align: right;\">\n",
       "      <th></th>\n",
       "      <th>tajima_d_BFcol</th>\n",
       "      <th>tajima_d_CIcol</th>\n",
       "      <th>tajima_d_GHcol</th>\n",
       "      <th>tajima_d_MAcol</th>\n",
       "      <th>tajima_d_BFgam</th>\n",
       "      <th>tajima_d_GHgam</th>\n",
       "      <th>tajima_d_GNgam</th>\n",
       "      <th>tajima_d_MAgam</th>\n",
       "      <th>tajima_d_gcx2</th>\n",
       "      <th>tajima_d_gcx1-GM</th>\n",
       "      <th>tajima_d_gcx1-GW</th>\n",
       "    </tr>\n",
       "  </thead>\n",
       "  <tbody>\n",
       "    <tr>\n",
       "      <th>1</th>\n",
       "      <td>-2.152622</td>\n",
       "      <td>-1.741935</td>\n",
       "      <td>-1.698784</td>\n",
       "      <td>-2.099208</td>\n",
       "      <td>-2.348834</td>\n",
       "      <td>-1.914712</td>\n",
       "      <td>-2.280089</td>\n",
       "      <td>-2.257208</td>\n",
       "      <td>-2.131057</td>\n",
       "      <td>-1.654185</td>\n",
       "      <td>-2.047256</td>\n",
       "    </tr>\n",
       "    <tr>\n",
       "      <th>2</th>\n",
       "      <td>-2.201722</td>\n",
       "      <td>-1.802512</td>\n",
       "      <td>-1.748776</td>\n",
       "      <td>-2.148817</td>\n",
       "      <td>-2.372468</td>\n",
       "      <td>-1.908046</td>\n",
       "      <td>-2.296382</td>\n",
       "      <td>-2.263789</td>\n",
       "      <td>-2.185651</td>\n",
       "      <td>-1.758495</td>\n",
       "      <td>-2.110104</td>\n",
       "    </tr>\n",
       "    <tr>\n",
       "      <th>3</th>\n",
       "      <td>-2.207069</td>\n",
       "      <td>-1.805811</td>\n",
       "      <td>-1.815235</td>\n",
       "      <td>-2.142729</td>\n",
       "      <td>-2.340440</td>\n",
       "      <td>-1.819616</td>\n",
       "      <td>-2.265278</td>\n",
       "      <td>-2.238053</td>\n",
       "      <td>-2.192012</td>\n",
       "      <td>-1.751923</td>\n",
       "      <td>-2.125090</td>\n",
       "    </tr>\n",
       "    <tr>\n",
       "      <th>4</th>\n",
       "      <td>-2.185334</td>\n",
       "      <td>-1.771726</td>\n",
       "      <td>-1.782682</td>\n",
       "      <td>-2.124199</td>\n",
       "      <td>-2.330420</td>\n",
       "      <td>-1.915136</td>\n",
       "      <td>-2.267482</td>\n",
       "      <td>-2.244746</td>\n",
       "      <td>-2.180857</td>\n",
       "      <td>-1.733733</td>\n",
       "      <td>-2.106309</td>\n",
       "    </tr>\n",
       "    <tr>\n",
       "      <th>5</th>\n",
       "      <td>-2.171738</td>\n",
       "      <td>-1.728319</td>\n",
       "      <td>-1.746888</td>\n",
       "      <td>-2.113136</td>\n",
       "      <td>-2.320847</td>\n",
       "      <td>-1.923244</td>\n",
       "      <td>-2.259656</td>\n",
       "      <td>-2.231441</td>\n",
       "      <td>-2.156620</td>\n",
       "      <td>-1.705262</td>\n",
       "      <td>-2.081156</td>\n",
       "    </tr>\n",
       "    <tr>\n",
       "      <th>6</th>\n",
       "      <td>-2.189885</td>\n",
       "      <td>-1.838744</td>\n",
       "      <td>-1.837090</td>\n",
       "      <td>-2.127422</td>\n",
       "      <td>-2.359559</td>\n",
       "      <td>-1.963324</td>\n",
       "      <td>-2.287809</td>\n",
       "      <td>-2.264320</td>\n",
       "      <td>-2.180335</td>\n",
       "      <td>-1.759892</td>\n",
       "      <td>-2.111352</td>\n",
       "    </tr>\n",
       "    <tr>\n",
       "      <th>7</th>\n",
       "      <td>-2.144924</td>\n",
       "      <td>-1.748657</td>\n",
       "      <td>-1.773943</td>\n",
       "      <td>-2.075560</td>\n",
       "      <td>-2.328366</td>\n",
       "      <td>-1.935974</td>\n",
       "      <td>-2.267245</td>\n",
       "      <td>-2.232573</td>\n",
       "      <td>-2.161592</td>\n",
       "      <td>-1.689863</td>\n",
       "      <td>-2.072031</td>\n",
       "    </tr>\n",
       "    <tr>\n",
       "      <th>8</th>\n",
       "      <td>-2.148893</td>\n",
       "      <td>-1.681880</td>\n",
       "      <td>-1.760460</td>\n",
       "      <td>-2.087894</td>\n",
       "      <td>-2.317417</td>\n",
       "      <td>-1.917415</td>\n",
       "      <td>-2.258547</td>\n",
       "      <td>-2.222563</td>\n",
       "      <td>-2.134587</td>\n",
       "      <td>-1.656729</td>\n",
       "      <td>-2.022204</td>\n",
       "    </tr>\n",
       "    <tr>\n",
       "      <th>9</th>\n",
       "      <td>-2.176391</td>\n",
       "      <td>-1.799498</td>\n",
       "      <td>-1.833771</td>\n",
       "      <td>-2.123654</td>\n",
       "      <td>-2.339622</td>\n",
       "      <td>-1.985907</td>\n",
       "      <td>-2.280910</td>\n",
       "      <td>-2.245977</td>\n",
       "      <td>-2.171736</td>\n",
       "      <td>-1.710905</td>\n",
       "      <td>-2.068788</td>\n",
       "    </tr>\n",
       "    <tr>\n",
       "      <th>10</th>\n",
       "      <td>-2.122095</td>\n",
       "      <td>-1.714472</td>\n",
       "      <td>-1.753123</td>\n",
       "      <td>-2.069623</td>\n",
       "      <td>-2.311370</td>\n",
       "      <td>-1.942210</td>\n",
       "      <td>-2.254579</td>\n",
       "      <td>-2.211189</td>\n",
       "      <td>-2.125615</td>\n",
       "      <td>-1.659245</td>\n",
       "      <td>-2.008239</td>\n",
       "    </tr>\n",
       "    <tr>\n",
       "      <th>11</th>\n",
       "      <td>-2.133014</td>\n",
       "      <td>-1.716743</td>\n",
       "      <td>-1.767248</td>\n",
       "      <td>-2.080095</td>\n",
       "      <td>-2.317468</td>\n",
       "      <td>-1.968700</td>\n",
       "      <td>-2.259930</td>\n",
       "      <td>-2.218565</td>\n",
       "      <td>-2.130686</td>\n",
       "      <td>-1.705977</td>\n",
       "      <td>-2.031795</td>\n",
       "    </tr>\n",
       "    <tr>\n",
       "      <th>12</th>\n",
       "      <td>-2.078493</td>\n",
       "      <td>-1.690328</td>\n",
       "      <td>-1.723686</td>\n",
       "      <td>-2.029142</td>\n",
       "      <td>-2.251227</td>\n",
       "      <td>-1.919720</td>\n",
       "      <td>-2.203320</td>\n",
       "      <td>-2.165844</td>\n",
       "      <td>-2.099215</td>\n",
       "      <td>-1.659212</td>\n",
       "      <td>-2.022379</td>\n",
       "    </tr>\n",
       "    <tr>\n",
       "      <th>13</th>\n",
       "      <td>-2.143312</td>\n",
       "      <td>-1.742671</td>\n",
       "      <td>-1.774683</td>\n",
       "      <td>-2.097572</td>\n",
       "      <td>-2.283126</td>\n",
       "      <td>-1.958286</td>\n",
       "      <td>-2.233396</td>\n",
       "      <td>-2.189666</td>\n",
       "      <td>-2.146492</td>\n",
       "      <td>-1.685050</td>\n",
       "      <td>-2.063194</td>\n",
       "    </tr>\n",
       "    <tr>\n",
       "      <th>14</th>\n",
       "      <td>-2.161623</td>\n",
       "      <td>-1.722297</td>\n",
       "      <td>-1.765611</td>\n",
       "      <td>-2.107666</td>\n",
       "      <td>-2.307496</td>\n",
       "      <td>-1.961821</td>\n",
       "      <td>-2.252894</td>\n",
       "      <td>-2.221684</td>\n",
       "      <td>-2.158768</td>\n",
       "      <td>-1.682441</td>\n",
       "      <td>-2.078070</td>\n",
       "    </tr>\n",
       "    <tr>\n",
       "      <th>10</th>\n",
       "      <td>-2.146555</td>\n",
       "      <td>-1.724236</td>\n",
       "      <td>-1.736143</td>\n",
       "      <td>-2.086014</td>\n",
       "      <td>-2.252886</td>\n",
       "      <td>-1.831629</td>\n",
       "      <td>-2.188338</td>\n",
       "      <td>-2.131298</td>\n",
       "      <td>-2.122907</td>\n",
       "      <td>-1.641891</td>\n",
       "      <td>-2.035158</td>\n",
       "    </tr>\n",
       "    <tr>\n",
       "      <th>11</th>\n",
       "      <td>-2.106688</td>\n",
       "      <td>-1.695141</td>\n",
       "      <td>-1.690368</td>\n",
       "      <td>-2.062717</td>\n",
       "      <td>-2.222494</td>\n",
       "      <td>-1.758526</td>\n",
       "      <td>-2.171402</td>\n",
       "      <td>-2.088509</td>\n",
       "      <td>-2.097452</td>\n",
       "      <td>-1.596651</td>\n",
       "      <td>-2.003739</td>\n",
       "    </tr>\n",
       "    <tr>\n",
       "      <th>12</th>\n",
       "      <td>-2.068404</td>\n",
       "      <td>-1.692454</td>\n",
       "      <td>-1.700871</td>\n",
       "      <td>-2.014107</td>\n",
       "      <td>-2.232573</td>\n",
       "      <td>-1.805115</td>\n",
       "      <td>-2.173855</td>\n",
       "      <td>-2.130942</td>\n",
       "      <td>-2.084987</td>\n",
       "      <td>-1.627443</td>\n",
       "      <td>-1.999253</td>\n",
       "    </tr>\n",
       "    <tr>\n",
       "      <th>13</th>\n",
       "      <td>-2.131416</td>\n",
       "      <td>-1.750181</td>\n",
       "      <td>-1.760416</td>\n",
       "      <td>-2.088992</td>\n",
       "      <td>-2.303381</td>\n",
       "      <td>-1.900697</td>\n",
       "      <td>-2.251644</td>\n",
       "      <td>-2.208318</td>\n",
       "      <td>-2.140996</td>\n",
       "      <td>-1.674849</td>\n",
       "      <td>-2.054623</td>\n",
       "    </tr>\n",
       "    <tr>\n",
       "      <th>14</th>\n",
       "      <td>-2.144378</td>\n",
       "      <td>-1.735411</td>\n",
       "      <td>-1.751947</td>\n",
       "      <td>-2.086160</td>\n",
       "      <td>-2.297912</td>\n",
       "      <td>-1.875393</td>\n",
       "      <td>-2.236427</td>\n",
       "      <td>-2.201397</td>\n",
       "      <td>-2.131136</td>\n",
       "      <td>-1.640352</td>\n",
       "      <td>-2.048701</td>\n",
       "    </tr>\n",
       "    <tr>\n",
       "      <th>15</th>\n",
       "      <td>-2.186315</td>\n",
       "      <td>-1.733403</td>\n",
       "      <td>-1.796336</td>\n",
       "      <td>-2.140625</td>\n",
       "      <td>-2.337257</td>\n",
       "      <td>-1.978684</td>\n",
       "      <td>-2.277932</td>\n",
       "      <td>-2.248498</td>\n",
       "      <td>-2.177647</td>\n",
       "      <td>-1.696025</td>\n",
       "      <td>-2.094356</td>\n",
       "    </tr>\n",
       "    <tr>\n",
       "      <th>16</th>\n",
       "      <td>-2.224673</td>\n",
       "      <td>-1.785734</td>\n",
       "      <td>-1.869280</td>\n",
       "      <td>-2.180027</td>\n",
       "      <td>-2.370215</td>\n",
       "      <td>-2.003060</td>\n",
       "      <td>-2.304573</td>\n",
       "      <td>-2.284794</td>\n",
       "      <td>-2.222765</td>\n",
       "      <td>-1.736957</td>\n",
       "      <td>-2.134623</td>\n",
       "    </tr>\n",
       "    <tr>\n",
       "      <th>17</th>\n",
       "      <td>-2.161722</td>\n",
       "      <td>-1.750573</td>\n",
       "      <td>-1.812444</td>\n",
       "      <td>-2.107051</td>\n",
       "      <td>-2.315017</td>\n",
       "      <td>-1.932617</td>\n",
       "      <td>-2.242403</td>\n",
       "      <td>-2.214924</td>\n",
       "      <td>-2.146859</td>\n",
       "      <td>-1.702999</td>\n",
       "      <td>-2.080788</td>\n",
       "    </tr>\n",
       "    <tr>\n",
       "      <th>18</th>\n",
       "      <td>-2.154120</td>\n",
       "      <td>-1.733111</td>\n",
       "      <td>-1.792701</td>\n",
       "      <td>-2.107361</td>\n",
       "      <td>-2.320391</td>\n",
       "      <td>-1.921840</td>\n",
       "      <td>-2.257077</td>\n",
       "      <td>-2.206655</td>\n",
       "      <td>-2.144828</td>\n",
       "      <td>-1.685531</td>\n",
       "      <td>-2.063786</td>\n",
       "    </tr>\n",
       "    <tr>\n",
       "      <th>19</th>\n",
       "      <td>-2.175584</td>\n",
       "      <td>-1.722289</td>\n",
       "      <td>-1.765449</td>\n",
       "      <td>-2.124311</td>\n",
       "      <td>-2.362789</td>\n",
       "      <td>-1.939805</td>\n",
       "      <td>-2.300355</td>\n",
       "      <td>-2.269665</td>\n",
       "      <td>-2.160625</td>\n",
       "      <td>-1.713357</td>\n",
       "      <td>-2.086634</td>\n",
       "    </tr>\n",
       "    <tr>\n",
       "      <th>20</th>\n",
       "      <td>-2.110408</td>\n",
       "      <td>-1.594087</td>\n",
       "      <td>-1.653451</td>\n",
       "      <td>-2.053676</td>\n",
       "      <td>-2.290569</td>\n",
       "      <td>-1.888784</td>\n",
       "      <td>-2.224162</td>\n",
       "      <td>-2.189566</td>\n",
       "      <td>-2.116183</td>\n",
       "      <td>-1.629938</td>\n",
       "      <td>-2.015416</td>\n",
       "    </tr>\n",
       "    <tr>\n",
       "      <th>21</th>\n",
       "      <td>-2.108411</td>\n",
       "      <td>-1.627571</td>\n",
       "      <td>-1.656932</td>\n",
       "      <td>-2.043780</td>\n",
       "      <td>-2.293080</td>\n",
       "      <td>-1.843337</td>\n",
       "      <td>-2.223777</td>\n",
       "      <td>-2.183591</td>\n",
       "      <td>-2.081633</td>\n",
       "      <td>-1.543977</td>\n",
       "      <td>-1.990017</td>\n",
       "    </tr>\n",
       "    <tr>\n",
       "      <th>22</th>\n",
       "      <td>-2.106470</td>\n",
       "      <td>-1.653123</td>\n",
       "      <td>-1.700688</td>\n",
       "      <td>-2.031031</td>\n",
       "      <td>-2.280837</td>\n",
       "      <td>-1.799208</td>\n",
       "      <td>-2.207867</td>\n",
       "      <td>-2.167370</td>\n",
       "      <td>-2.089175</td>\n",
       "      <td>-1.628550</td>\n",
       "      <td>-2.013955</td>\n",
       "    </tr>\n",
       "  </tbody>\n",
       "</table>\n",
       "</div>"
      ],
      "text/plain": [
       "    tajima_d_BFcol  tajima_d_CIcol  tajima_d_GHcol  tajima_d_MAcol  \\\n",
       "1        -2.152622       -1.741935       -1.698784       -2.099208   \n",
       "2        -2.201722       -1.802512       -1.748776       -2.148817   \n",
       "3        -2.207069       -1.805811       -1.815235       -2.142729   \n",
       "4        -2.185334       -1.771726       -1.782682       -2.124199   \n",
       "5        -2.171738       -1.728319       -1.746888       -2.113136   \n",
       "6        -2.189885       -1.838744       -1.837090       -2.127422   \n",
       "7        -2.144924       -1.748657       -1.773943       -2.075560   \n",
       "8        -2.148893       -1.681880       -1.760460       -2.087894   \n",
       "9        -2.176391       -1.799498       -1.833771       -2.123654   \n",
       "10       -2.122095       -1.714472       -1.753123       -2.069623   \n",
       "11       -2.133014       -1.716743       -1.767248       -2.080095   \n",
       "12       -2.078493       -1.690328       -1.723686       -2.029142   \n",
       "13       -2.143312       -1.742671       -1.774683       -2.097572   \n",
       "14       -2.161623       -1.722297       -1.765611       -2.107666   \n",
       "10       -2.146555       -1.724236       -1.736143       -2.086014   \n",
       "11       -2.106688       -1.695141       -1.690368       -2.062717   \n",
       "12       -2.068404       -1.692454       -1.700871       -2.014107   \n",
       "13       -2.131416       -1.750181       -1.760416       -2.088992   \n",
       "14       -2.144378       -1.735411       -1.751947       -2.086160   \n",
       "15       -2.186315       -1.733403       -1.796336       -2.140625   \n",
       "16       -2.224673       -1.785734       -1.869280       -2.180027   \n",
       "17       -2.161722       -1.750573       -1.812444       -2.107051   \n",
       "18       -2.154120       -1.733111       -1.792701       -2.107361   \n",
       "19       -2.175584       -1.722289       -1.765449       -2.124311   \n",
       "20       -2.110408       -1.594087       -1.653451       -2.053676   \n",
       "21       -2.108411       -1.627571       -1.656932       -2.043780   \n",
       "22       -2.106470       -1.653123       -1.700688       -2.031031   \n",
       "\n",
       "    tajima_d_BFgam  tajima_d_GHgam  tajima_d_GNgam  tajima_d_MAgam  \\\n",
       "1        -2.348834       -1.914712       -2.280089       -2.257208   \n",
       "2        -2.372468       -1.908046       -2.296382       -2.263789   \n",
       "3        -2.340440       -1.819616       -2.265278       -2.238053   \n",
       "4        -2.330420       -1.915136       -2.267482       -2.244746   \n",
       "5        -2.320847       -1.923244       -2.259656       -2.231441   \n",
       "6        -2.359559       -1.963324       -2.287809       -2.264320   \n",
       "7        -2.328366       -1.935974       -2.267245       -2.232573   \n",
       "8        -2.317417       -1.917415       -2.258547       -2.222563   \n",
       "9        -2.339622       -1.985907       -2.280910       -2.245977   \n",
       "10       -2.311370       -1.942210       -2.254579       -2.211189   \n",
       "11       -2.317468       -1.968700       -2.259930       -2.218565   \n",
       "12       -2.251227       -1.919720       -2.203320       -2.165844   \n",
       "13       -2.283126       -1.958286       -2.233396       -2.189666   \n",
       "14       -2.307496       -1.961821       -2.252894       -2.221684   \n",
       "10       -2.252886       -1.831629       -2.188338       -2.131298   \n",
       "11       -2.222494       -1.758526       -2.171402       -2.088509   \n",
       "12       -2.232573       -1.805115       -2.173855       -2.130942   \n",
       "13       -2.303381       -1.900697       -2.251644       -2.208318   \n",
       "14       -2.297912       -1.875393       -2.236427       -2.201397   \n",
       "15       -2.337257       -1.978684       -2.277932       -2.248498   \n",
       "16       -2.370215       -2.003060       -2.304573       -2.284794   \n",
       "17       -2.315017       -1.932617       -2.242403       -2.214924   \n",
       "18       -2.320391       -1.921840       -2.257077       -2.206655   \n",
       "19       -2.362789       -1.939805       -2.300355       -2.269665   \n",
       "20       -2.290569       -1.888784       -2.224162       -2.189566   \n",
       "21       -2.293080       -1.843337       -2.223777       -2.183591   \n",
       "22       -2.280837       -1.799208       -2.207867       -2.167370   \n",
       "\n",
       "    tajima_d_gcx2  tajima_d_gcx1-GM  tajima_d_gcx1-GW  \n",
       "1       -2.131057         -1.654185         -2.047256  \n",
       "2       -2.185651         -1.758495         -2.110104  \n",
       "3       -2.192012         -1.751923         -2.125090  \n",
       "4       -2.180857         -1.733733         -2.106309  \n",
       "5       -2.156620         -1.705262         -2.081156  \n",
       "6       -2.180335         -1.759892         -2.111352  \n",
       "7       -2.161592         -1.689863         -2.072031  \n",
       "8       -2.134587         -1.656729         -2.022204  \n",
       "9       -2.171736         -1.710905         -2.068788  \n",
       "10      -2.125615         -1.659245         -2.008239  \n",
       "11      -2.130686         -1.705977         -2.031795  \n",
       "12      -2.099215         -1.659212         -2.022379  \n",
       "13      -2.146492         -1.685050         -2.063194  \n",
       "14      -2.158768         -1.682441         -2.078070  \n",
       "10      -2.122907         -1.641891         -2.035158  \n",
       "11      -2.097452         -1.596651         -2.003739  \n",
       "12      -2.084987         -1.627443         -1.999253  \n",
       "13      -2.140996         -1.674849         -2.054623  \n",
       "14      -2.131136         -1.640352         -2.048701  \n",
       "15      -2.177647         -1.696025         -2.094356  \n",
       "16      -2.222765         -1.736957         -2.134623  \n",
       "17      -2.146859         -1.702999         -2.080788  \n",
       "18      -2.144828         -1.685531         -2.063786  \n",
       "19      -2.160625         -1.713357         -2.086634  \n",
       "20      -2.116183         -1.629938         -2.015416  \n",
       "21      -2.081633         -1.543977         -1.990017  \n",
       "22      -2.089175         -1.628550         -2.013955  "
      ]
     },
     "execution_count": 44,
     "metadata": {},
     "output_type": "execute_result"
    }
   ],
   "source": [
    "df_tjd"
   ]
  },
  {
   "cell_type": "code",
   "execution_count": 78,
   "id": "689b4f57-9d38-44e8-a69e-d6b879c0f8b3",
   "metadata": {},
   "outputs": [],
   "source": [
    "colors = ['red','red','red','red','blue','blue','blue','blue','darkorange','green','limegreen']\n",
    "labels = [\"BFcol (N=135)\",\"MAcol (N=85)\",\"CIcol (N=80)\",\"GHcol (N=63)\",\"BFgam (N=157)\",\"MAgam (N=125)\",\"GHgam (N=36)\",\"GNgam (N=123)\",\"gcx2 (N=197)\",\"gcx1-GM (N=77)\",\"gcx1-GW (N=93)\"]"
   ]
  },
  {
   "cell_type": "code",
   "execution_count": 83,
   "id": "3575fd3c-78d4-4578-8981-d837b1b63d8e",
   "metadata": {},
   "outputs": [
    {
     "data": {
      "image/png": "[encoded data removed]",
      "text/plain": [
       "<Figure size 1500x500 with 2 Axes>"
      ]
     },
     "metadata": {},
     "output_type": "display_data"
    }
   ],
   "source": [
    "import matplotlib.pyplot as plt\n",
    "\n",
    "fig, (ax1, ax2) = plt.subplots(nrows=1, ncols=2, figsize=(15, 5))\n",
    "\n",
    "boxplot = ax1.boxplot(df_pi,\n",
    "                      vert=True,\n",
    "                      patch_artist=True,\n",
    "                      showfliers=False,\n",
    "                      notch=True)  # Add notches\n",
    "ax1.set_title(r'$\\pi$')\n",
    "for patch, color in zip(boxplot['boxes'], colors):\n",
    "    patch.set_facecolor(color)\n",
    "ax1.set_xticks(range(1, len(labels) + 1))  # Set tick positions\n",
    "ax1.set_xticklabels(labels, rotation=90)  # Set tick labels\n",
    "\n",
    "boxplot2 = ax2.boxplot(df_tjd,\n",
    "                       vert=True,\n",
    "                       patch_artist=True,\n",
    "                       showfliers=False,\n",
    "                       notch=True)  # Add notches\n",
    "ax2.set_title(r\"Tajima's $D$\")\n",
    "for patch, color in zip(boxplot2['boxes'], colors):\n",
    "    patch.set_facecolor(color)\n",
    "ax2.set_xticks(range(1, len(labels) + 1))  # Set tick positions\n",
    "ax2.set_xticklabels(labels, rotation=90)  # Set tick labels\n",
    "\n",
    "fig.tight_layout()\n",
    "plt.show()\n",
    "fig.savefig('stats_pi_tjd.png')\n"
   ]
  },
  {
   "cell_type": "code",
   "execution_count": 61,
   "id": "c7cdb5a1-016e-4ca3-bca6-df910b6a3caf",
   "metadata": {},
   "outputs": [
    {
     "data": {
      "text/html": [
       "<div>\n",
       "<style scoped>\n",
       "    .dataframe tbody tr th:only-of-type {\n",
       "        vertical-align: middle;\n",
       "    }\n",
       "\n",
       "    .dataframe tbody tr th {\n",
       "        vertical-align: top;\n",
       "    }\n",
       "\n",
       "    .dataframe thead th {\n",
       "        text-align: right;\n",
       "    }\n",
       "</style>\n",
       "<table border=\"1\" class=\"dataframe\">\n",
       "  <thead>\n",
       "    <tr style=\"text-align: right;\">\n",
       "      <th>pca_country</th>\n",
       "      <th>BFcol</th>\n",
       "      <th>BFgam</th>\n",
       "      <th>CIcol</th>\n",
       "      <th>GHcol</th>\n",
       "      <th>GHgam</th>\n",
       "      <th>GNcol</th>\n",
       "      <th>GNgam</th>\n",
       "      <th>GWgam</th>\n",
       "      <th>MAcol</th>\n",
       "      <th>MAgam</th>\n",
       "      <th>gcx1-GM</th>\n",
       "      <th>gcx1-GW</th>\n",
       "      <th>gcx2</th>\n",
       "    </tr>\n",
       "    <tr>\n",
       "      <th>country</th>\n",
       "      <th></th>\n",
       "      <th></th>\n",
       "      <th></th>\n",
       "      <th></th>\n",
       "      <th></th>\n",
       "      <th></th>\n",
       "      <th></th>\n",
       "      <th></th>\n",
       "      <th></th>\n",
       "      <th></th>\n",
       "      <th></th>\n",
       "      <th></th>\n",
       "      <th></th>\n",
       "    </tr>\n",
       "  </thead>\n",
       "  <tbody>\n",
       "    <tr>\n",
       "      <th>Burkina Faso</th>\n",
       "      <td>135</td>\n",
       "      <td>157</td>\n",
       "      <td>0</td>\n",
       "      <td>0</td>\n",
       "      <td>0</td>\n",
       "      <td>0</td>\n",
       "      <td>0</td>\n",
       "      <td>0</td>\n",
       "      <td>0</td>\n",
       "      <td>0</td>\n",
       "      <td>0</td>\n",
       "      <td>0</td>\n",
       "      <td>0</td>\n",
       "    </tr>\n",
       "    <tr>\n",
       "      <th>Cote d'Ivoire</th>\n",
       "      <td>0</td>\n",
       "      <td>0</td>\n",
       "      <td>80</td>\n",
       "      <td>0</td>\n",
       "      <td>0</td>\n",
       "      <td>0</td>\n",
       "      <td>0</td>\n",
       "      <td>0</td>\n",
       "      <td>0</td>\n",
       "      <td>0</td>\n",
       "      <td>0</td>\n",
       "      <td>0</td>\n",
       "      <td>0</td>\n",
       "    </tr>\n",
       "    <tr>\n",
       "      <th>Gambia, The</th>\n",
       "      <td>0</td>\n",
       "      <td>0</td>\n",
       "      <td>0</td>\n",
       "      <td>0</td>\n",
       "      <td>0</td>\n",
       "      <td>0</td>\n",
       "      <td>0</td>\n",
       "      <td>0</td>\n",
       "      <td>0</td>\n",
       "      <td>0</td>\n",
       "      <td>77</td>\n",
       "      <td>0</td>\n",
       "      <td>197</td>\n",
       "    </tr>\n",
       "    <tr>\n",
       "      <th>Ghana</th>\n",
       "      <td>0</td>\n",
       "      <td>0</td>\n",
       "      <td>0</td>\n",
       "      <td>63</td>\n",
       "      <td>36</td>\n",
       "      <td>0</td>\n",
       "      <td>0</td>\n",
       "      <td>0</td>\n",
       "      <td>0</td>\n",
       "      <td>0</td>\n",
       "      <td>0</td>\n",
       "      <td>0</td>\n",
       "      <td>0</td>\n",
       "    </tr>\n",
       "    <tr>\n",
       "      <th>Guinea</th>\n",
       "      <td>0</td>\n",
       "      <td>0</td>\n",
       "      <td>0</td>\n",
       "      <td>0</td>\n",
       "      <td>0</td>\n",
       "      <td>11</td>\n",
       "      <td>123</td>\n",
       "      <td>0</td>\n",
       "      <td>0</td>\n",
       "      <td>0</td>\n",
       "      <td>0</td>\n",
       "      <td>0</td>\n",
       "      <td>0</td>\n",
       "    </tr>\n",
       "    <tr>\n",
       "      <th>Guinea-Bissau</th>\n",
       "      <td>0</td>\n",
       "      <td>0</td>\n",
       "      <td>0</td>\n",
       "      <td>0</td>\n",
       "      <td>0</td>\n",
       "      <td>0</td>\n",
       "      <td>0</td>\n",
       "      <td>8</td>\n",
       "      <td>0</td>\n",
       "      <td>0</td>\n",
       "      <td>0</td>\n",
       "      <td>93</td>\n",
       "      <td>0</td>\n",
       "    </tr>\n",
       "    <tr>\n",
       "      <th>Mali</th>\n",
       "      <td>0</td>\n",
       "      <td>0</td>\n",
       "      <td>0</td>\n",
       "      <td>0</td>\n",
       "      <td>0</td>\n",
       "      <td>0</td>\n",
       "      <td>0</td>\n",
       "      <td>0</td>\n",
       "      <td>85</td>\n",
       "      <td>125</td>\n",
       "      <td>0</td>\n",
       "      <td>0</td>\n",
       "      <td>0</td>\n",
       "    </tr>\n",
       "  </tbody>\n",
       "</table>\n",
       "</div>"
      ],
      "text/plain": [
       "pca_country    BFcol  BFgam  CIcol  GHcol  GHgam  GNcol  GNgam  GWgam  MAcol  \\\n",
       "country                                                                        \n",
       "Burkina Faso     135    157      0      0      0      0      0      0      0   \n",
       "Cote d'Ivoire      0      0     80      0      0      0      0      0      0   \n",
       "Gambia, The        0      0      0      0      0      0      0      0      0   \n",
       "Ghana              0      0      0     63     36      0      0      0      0   \n",
       "Guinea             0      0      0      0      0     11    123      0      0   \n",
       "Guinea-Bissau      0      0      0      0      0      0      0      8      0   \n",
       "Mali               0      0      0      0      0      0      0      0     85   \n",
       "\n",
       "pca_country    MAgam  gcx1-GM  gcx1-GW  gcx2  \n",
       "country                                       \n",
       "Burkina Faso       0        0        0     0  \n",
       "Cote d'Ivoire      0        0        0     0  \n",
       "Gambia, The        0       77        0   197  \n",
       "Ghana              0        0        0     0  \n",
       "Guinea             0        0        0     0  \n",
       "Guinea-Bissau      0        0       93     0  \n",
       "Mali             125        0        0     0  "
      ]
     },
     "execution_count": 61,
     "metadata": {},
     "output_type": "execute_result"
    }
   ],
   "source": [
    "meta = pd.read_excel(\"/mnt/c/Users/rando/Documenti/Ag1000G/Data/Meta/meta_new_3_0.xlsx\", sheet_name=0)\n",
    "pivot_country_year_taxon = (\n",
    "    meta\n",
    "    .pivot_table(\n",
    "        index=[\"country\"], \n",
    "        columns=[\"pca_country\"], \n",
    "        values=\"sample_id\",\n",
    "        aggfunc=\"count\",\n",
    "        fill_value=0\n",
    "    )\n",
    ")\n",
    "pivot_country_year_taxon#.sort_values(by=['country',\"year\"])"
   ]
  },
  {
   "cell_type": "code",
   "execution_count": null,
   "id": "3409eb7f-2f42-47ee-b35d-1b640241b163",
   "metadata": {},
   "outputs": [],
   "source": [
    "labels = [\"BFcol (N=135)\",\"CIcol (N=80)\",\"GHcol (N=63)\",\"MAcol (N=85)\",\"BFgam (N=157)\",\"GHgam (N=36)\",\"GNgam (N=123)\",\"MAgam (N=125)\",\"gcx2 (N=197)\",\"gcx1-GM (N=77)\",\"gcx1-GW (N=93)\"]"
   ]
  },
  {
   "cell_type": "markdown",
   "id": "a9ca4d38-7592-4ae9-bc03-bc7c696faf00",
   "metadata": {},
   "source": [
    "---------------------\n",
    "## Sandbox"
   ]
  },
  {
   "cell_type": "code",
   "execution_count": 26,
   "id": "8c00b84c-d73c-4547-a1ed-78385ff9e55e",
   "metadata": {},
   "outputs": [
    {
     "name": "stdout",
     "output_type": "stream",
     "text": [
      "Cohort (GM-N_gcx1_2006) has insufficient samples (9) for requested cohort size (15), dropping.\n",
      "Cohort (GM-W_gcx1_2005) has insufficient samples (1) for requested cohort size (15), dropping.\n",
      "Cohort (GM-W_gcx1_2019) has insufficient samples (5) for requested cohort size (15), dropping.\n",
      "                                   \r"
     ]
    },
    {
     "data": {
      "application/vnd.jupyter.widget-view+json": {
       "model_id": "",
       "version_major": 2,
       "version_minor": 0
      },
      "text/plain": [
       "Compute SNP allele counts:   0%|          | 0/7650 [00:00<?, ?it/s]"
      ]
     },
     "metadata": {},
     "output_type": "display_data"
    },
    {
     "name": "stdout",
     "output_type": "stream",
     "text": [
      "                                   \r"
     ]
    },
    {
     "data": {
      "application/vnd.jupyter.widget-view+json": {
       "model_id": "",
       "version_major": 2,
       "version_minor": 0
      },
      "text/plain": [
       "Compute SNP allele counts:   0%|          | 0/1683 [00:00<?, ?it/s]"
      ]
     },
     "metadata": {},
     "output_type": "display_data"
    },
    {
     "name": "stdout",
     "output_type": "stream",
     "text": [
      "                                   \r"
     ]
    },
    {
     "data": {
      "application/vnd.jupyter.widget-view+json": {
       "model_id": "",
       "version_major": 2,
       "version_minor": 0
      },
      "text/plain": [
       "Compute SNP allele counts:   0%|          | 0/2907 [00:00<?, ?it/s]"
      ]
     },
     "metadata": {},
     "output_type": "display_data"
    },
    {
     "name": "stdout",
     "output_type": "stream",
     "text": [
      "                                   \r"
     ]
    },
    {
     "data": {
      "application/vnd.jupyter.widget-view+json": {
       "model_id": "",
       "version_major": 2,
       "version_minor": 0
      },
      "text/plain": [
       "Compute SNP allele counts:   0%|          | 0/1683 [00:00<?, ?it/s]"
      ]
     },
     "metadata": {},
     "output_type": "display_data"
    },
    {
     "data": {
      "text/html": [
       "<div>\n",
       "<style scoped>\n",
       "    .dataframe tbody tr th:only-of-type {\n",
       "        vertical-align: middle;\n",
       "    }\n",
       "\n",
       "    .dataframe tbody tr th {\n",
       "        vertical-align: top;\n",
       "    }\n",
       "\n",
       "    .dataframe thead th {\n",
       "        text-align: right;\n",
       "    }\n",
       "</style>\n",
       "<table border=\"1\" class=\"dataframe\">\n",
       "  <thead>\n",
       "    <tr style=\"text-align: right;\">\n",
       "      <th></th>\n",
       "      <th>cohort</th>\n",
       "      <th>theta_pi</th>\n",
       "      <th>theta_pi_estimate</th>\n",
       "      <th>theta_pi_bias</th>\n",
       "      <th>theta_pi_std_err</th>\n",
       "      <th>theta_pi_ci_err</th>\n",
       "      <th>theta_pi_ci_low</th>\n",
       "      <th>theta_pi_ci_upp</th>\n",
       "      <th>theta_w</th>\n",
       "      <th>theta_w_estimate</th>\n",
       "      <th>...</th>\n",
       "      <th>tajima_d_ci_upp</th>\n",
       "      <th>taxon</th>\n",
       "      <th>year</th>\n",
       "      <th>month</th>\n",
       "      <th>country</th>\n",
       "      <th>admin1_iso</th>\n",
       "      <th>admin1_name</th>\n",
       "      <th>admin2_name</th>\n",
       "      <th>longitude</th>\n",
       "      <th>latitude</th>\n",
       "    </tr>\n",
       "  </thead>\n",
       "  <tbody>\n",
       "    <tr>\n",
       "      <th>0</th>\n",
       "      <td>GM-M_gcx1_2019</td>\n",
       "      <td>0.015548</td>\n",
       "      <td>0.015548</td>\n",
       "      <td>-3.489374e-09</td>\n",
       "      <td>0.000108</td>\n",
       "      <td>0.000423</td>\n",
       "      <td>0.015336</td>\n",
       "      <td>0.015760</td>\n",
       "      <td>0.025311</td>\n",
       "      <td>0.025311</td>\n",
       "      <td>...</td>\n",
       "      <td>-1.497412</td>\n",
       "      <td>gcx1</td>\n",
       "      <td>2019</td>\n",
       "      <td>10</td>\n",
       "      <td>Gambia, The</td>\n",
       "      <td>GM-M</td>\n",
       "      <td>Kuntaur</td>\n",
       "      <td>[Niani, Nianija]</td>\n",
       "      <td>-14.842966</td>\n",
       "      <td>13.615207</td>\n",
       "    </tr>\n",
       "    <tr>\n",
       "      <th>1</th>\n",
       "      <td>GM-N_gcx1_2011</td>\n",
       "      <td>0.015305</td>\n",
       "      <td>0.015305</td>\n",
       "      <td>-3.404673e-09</td>\n",
       "      <td>0.000106</td>\n",
       "      <td>0.000417</td>\n",
       "      <td>0.015097</td>\n",
       "      <td>0.015514</td>\n",
       "      <td>0.023350</td>\n",
       "      <td>0.023350</td>\n",
       "      <td>...</td>\n",
       "      <td>-1.332318</td>\n",
       "      <td>gcx1</td>\n",
       "      <td>2011</td>\n",
       "      <td>[8, 9, 10]</td>\n",
       "      <td>Gambia, The</td>\n",
       "      <td>GM-N</td>\n",
       "      <td>Kerewan</td>\n",
       "      <td>Central Badibu</td>\n",
       "      <td>-15.900000</td>\n",
       "      <td>13.550000</td>\n",
       "    </tr>\n",
       "    <tr>\n",
       "      <th>2</th>\n",
       "      <td>GM-N_gcx1_2019</td>\n",
       "      <td>0.015515</td>\n",
       "      <td>0.015515</td>\n",
       "      <td>-3.477841e-09</td>\n",
       "      <td>0.000105</td>\n",
       "      <td>0.000410</td>\n",
       "      <td>0.015310</td>\n",
       "      <td>0.015720</td>\n",
       "      <td>0.024284</td>\n",
       "      <td>0.024284</td>\n",
       "      <td>...</td>\n",
       "      <td>-1.400308</td>\n",
       "      <td>gcx1</td>\n",
       "      <td>2019</td>\n",
       "      <td>10</td>\n",
       "      <td>Gambia, The</td>\n",
       "      <td>GM-N</td>\n",
       "      <td>Kerewan</td>\n",
       "      <td>[Illiasa, Lower Niumi, Sabach Sanjar]</td>\n",
       "      <td>-15.722125</td>\n",
       "      <td>13.493000</td>\n",
       "    </tr>\n",
       "    <tr>\n",
       "      <th>3</th>\n",
       "      <td>GM-N_gcx1_2021</td>\n",
       "      <td>0.015373</td>\n",
       "      <td>0.015373</td>\n",
       "      <td>-1.488190e-09</td>\n",
       "      <td>0.000105</td>\n",
       "      <td>0.000412</td>\n",
       "      <td>0.015167</td>\n",
       "      <td>0.015579</td>\n",
       "      <td>0.023610</td>\n",
       "      <td>0.023610</td>\n",
       "      <td>...</td>\n",
       "      <td>-1.351067</td>\n",
       "      <td>gcx1</td>\n",
       "      <td>2021</td>\n",
       "      <td>9</td>\n",
       "      <td>Gambia, The</td>\n",
       "      <td>GM-N</td>\n",
       "      <td>Kerewan</td>\n",
       "      <td>[Central Badibu, Illiasa, Lower Niumi]</td>\n",
       "      <td>-15.848053</td>\n",
       "      <td>13.559526</td>\n",
       "    </tr>\n",
       "  </tbody>\n",
       "</table>\n",
       "<p>4 rows × 31 columns</p>\n",
       "</div>"
      ],
      "text/plain": [
       "           cohort  theta_pi  theta_pi_estimate  theta_pi_bias  \\\n",
       "0  GM-M_gcx1_2019  0.015548           0.015548  -3.489374e-09   \n",
       "1  GM-N_gcx1_2011  0.015305           0.015305  -3.404673e-09   \n",
       "2  GM-N_gcx1_2019  0.015515           0.015515  -3.477841e-09   \n",
       "3  GM-N_gcx1_2021  0.015373           0.015373  -1.488190e-09   \n",
       "\n",
       "   theta_pi_std_err  theta_pi_ci_err  theta_pi_ci_low  theta_pi_ci_upp  \\\n",
       "0          0.000108         0.000423         0.015336         0.015760   \n",
       "1          0.000106         0.000417         0.015097         0.015514   \n",
       "2          0.000105         0.000410         0.015310         0.015720   \n",
       "3          0.000105         0.000412         0.015167         0.015579   \n",
       "\n",
       "    theta_w  theta_w_estimate  ...  tajima_d_ci_upp  taxon  year       month  \\\n",
       "0  0.025311          0.025311  ...        -1.497412   gcx1  2019          10   \n",
       "1  0.023350          0.023350  ...        -1.332318   gcx1  2011  [8, 9, 10]   \n",
       "2  0.024284          0.024284  ...        -1.400308   gcx1  2019          10   \n",
       "3  0.023610          0.023610  ...        -1.351067   gcx1  2021           9   \n",
       "\n",
       "       country  admin1_iso  admin1_name  \\\n",
       "0  Gambia, The        GM-M      Kuntaur   \n",
       "1  Gambia, The        GM-N      Kerewan   \n",
       "2  Gambia, The        GM-N      Kerewan   \n",
       "3  Gambia, The        GM-N      Kerewan   \n",
       "\n",
       "                              admin2_name  longitude   latitude  \n",
       "0                        [Niani, Nianija] -14.842966  13.615207  \n",
       "1                          Central Badibu -15.900000  13.550000  \n",
       "2   [Illiasa, Lower Niumi, Sabach Sanjar] -15.722125  13.493000  \n",
       "3  [Central Badibu, Illiasa, Lower Niumi] -15.848053  13.559526  \n",
       "\n",
       "[4 rows x 31 columns]"
      ]
     },
     "execution_count": 26,
     "metadata": {},
     "output_type": "execute_result"
    }
   ],
   "source": [
    "df_stats_gm2 = ag3.diversity_stats(\n",
    "    cohorts=\"cohort_admin1_year\",\n",
    "    cohort_size=15,\n",
    "    region=[\"3L:18,000,000-41,000,000\",\"3R:1,000,000-24,000,000\"],\n",
    "    site_mask=\"gamb_colu\",\n",
    "    sample_sets = [\"AG1000G-GM-A\",\"AG1000G-GM-B\",\"1323-VO-GM-NGWA-VMF00235\",\"1323-VO-GM-NGWA-VMF00242\"],\n",
    "    sample_query = \"taxon == 'gcx1'\"\n",
    ")\n",
    "df_stats_gm2"
   ]
  },
  {
   "cell_type": "code",
   "execution_count": 27,
   "id": "f1117bcd-edd7-4497-82c7-76845eb06b3c",
   "metadata": {},
   "outputs": [],
   "source": [
    "df_stats_gm2.to_csv(\"diversity_gcx1_cohort.csv\")"
   ]
  },
  {
   "cell_type": "code",
   "execution_count": 28,
   "id": "717eef6a-aa8b-444c-8981-b34c3aea9558",
   "metadata": {},
   "outputs": [
    {
     "data": {
      "text/html": [
       "<div>\n",
       "<style scoped>\n",
       "    .dataframe tbody tr th:only-of-type {\n",
       "        vertical-align: middle;\n",
       "    }\n",
       "\n",
       "    .dataframe tbody tr th {\n",
       "        vertical-align: top;\n",
       "    }\n",
       "\n",
       "    .dataframe thead th {\n",
       "        text-align: right;\n",
       "    }\n",
       "</style>\n",
       "<table border=\"1\" class=\"dataframe\">\n",
       "  <thead>\n",
       "    <tr style=\"text-align: right;\">\n",
       "      <th></th>\n",
       "      <th>cohort</th>\n",
       "      <th>theta_pi</th>\n",
       "      <th>theta_pi_estimate</th>\n",
       "      <th>theta_pi_bias</th>\n",
       "      <th>theta_pi_std_err</th>\n",
       "      <th>theta_pi_ci_err</th>\n",
       "      <th>theta_pi_ci_low</th>\n",
       "      <th>theta_pi_ci_upp</th>\n",
       "      <th>theta_w</th>\n",
       "      <th>theta_w_estimate</th>\n",
       "      <th>...</th>\n",
       "      <th>tajima_d_ci_upp</th>\n",
       "      <th>taxon</th>\n",
       "      <th>year</th>\n",
       "      <th>month</th>\n",
       "      <th>country</th>\n",
       "      <th>admin1_iso</th>\n",
       "      <th>admin1_name</th>\n",
       "      <th>admin2_name</th>\n",
       "      <th>longitude</th>\n",
       "      <th>latitude</th>\n",
       "    </tr>\n",
       "  </thead>\n",
       "  <tbody>\n",
       "    <tr>\n",
       "      <th>0</th>\n",
       "      <td>GM-M_gcx1_2019</td>\n",
       "      <td>0.015548</td>\n",
       "      <td>0.015548</td>\n",
       "      <td>-3.489374e-09</td>\n",
       "      <td>0.000108</td>\n",
       "      <td>0.000423</td>\n",
       "      <td>0.015336</td>\n",
       "      <td>0.015760</td>\n",
       "      <td>0.025311</td>\n",
       "      <td>0.025311</td>\n",
       "      <td>...</td>\n",
       "      <td>-1.497412</td>\n",
       "      <td>gcx1</td>\n",
       "      <td>2019</td>\n",
       "      <td>10</td>\n",
       "      <td>Gambia, The</td>\n",
       "      <td>GM-M</td>\n",
       "      <td>Kuntaur</td>\n",
       "      <td>['Niani', 'Nianija']</td>\n",
       "      <td>-14.842966</td>\n",
       "      <td>13.615207</td>\n",
       "    </tr>\n",
       "    <tr>\n",
       "      <th>1</th>\n",
       "      <td>GM-N_gcx1_2011</td>\n",
       "      <td>0.015305</td>\n",
       "      <td>0.015305</td>\n",
       "      <td>-3.404673e-09</td>\n",
       "      <td>0.000106</td>\n",
       "      <td>0.000417</td>\n",
       "      <td>0.015097</td>\n",
       "      <td>0.015514</td>\n",
       "      <td>0.023350</td>\n",
       "      <td>0.023350</td>\n",
       "      <td>...</td>\n",
       "      <td>-1.332318</td>\n",
       "      <td>gcx1</td>\n",
       "      <td>2011</td>\n",
       "      <td>[8, 9, 10]</td>\n",
       "      <td>Gambia, The</td>\n",
       "      <td>GM-N</td>\n",
       "      <td>Kerewan</td>\n",
       "      <td>Central Badibu</td>\n",
       "      <td>-15.900000</td>\n",
       "      <td>13.550000</td>\n",
       "    </tr>\n",
       "    <tr>\n",
       "      <th>2</th>\n",
       "      <td>GM-N_gcx1_2019</td>\n",
       "      <td>0.015515</td>\n",
       "      <td>0.015515</td>\n",
       "      <td>-3.477841e-09</td>\n",
       "      <td>0.000105</td>\n",
       "      <td>0.000410</td>\n",
       "      <td>0.015310</td>\n",
       "      <td>0.015720</td>\n",
       "      <td>0.024284</td>\n",
       "      <td>0.024284</td>\n",
       "      <td>...</td>\n",
       "      <td>-1.400308</td>\n",
       "      <td>gcx1</td>\n",
       "      <td>2019</td>\n",
       "      <td>10</td>\n",
       "      <td>Gambia, The</td>\n",
       "      <td>GM-N</td>\n",
       "      <td>Kerewan</td>\n",
       "      <td>['Illiasa', 'Lower Niumi', 'Sabach Sanjar']</td>\n",
       "      <td>-15.722125</td>\n",
       "      <td>13.493000</td>\n",
       "    </tr>\n",
       "    <tr>\n",
       "      <th>3</th>\n",
       "      <td>GM-N_gcx1_2021</td>\n",
       "      <td>0.015373</td>\n",
       "      <td>0.015373</td>\n",
       "      <td>-1.488190e-09</td>\n",
       "      <td>0.000105</td>\n",
       "      <td>0.000412</td>\n",
       "      <td>0.015167</td>\n",
       "      <td>0.015579</td>\n",
       "      <td>0.023610</td>\n",
       "      <td>0.023610</td>\n",
       "      <td>...</td>\n",
       "      <td>-1.351067</td>\n",
       "      <td>gcx1</td>\n",
       "      <td>2021</td>\n",
       "      <td>9</td>\n",
       "      <td>Gambia, The</td>\n",
       "      <td>GM-N</td>\n",
       "      <td>Kerewan</td>\n",
       "      <td>['Central Badibu', 'Illiasa', 'Lower Niumi']</td>\n",
       "      <td>-15.848053</td>\n",
       "      <td>13.559526</td>\n",
       "    </tr>\n",
       "  </tbody>\n",
       "</table>\n",
       "<p>4 rows × 31 columns</p>\n",
       "</div>"
      ],
      "text/plain": [
       "           cohort  theta_pi  theta_pi_estimate  theta_pi_bias  \\\n",
       "0  GM-M_gcx1_2019  0.015548           0.015548  -3.489374e-09   \n",
       "1  GM-N_gcx1_2011  0.015305           0.015305  -3.404673e-09   \n",
       "2  GM-N_gcx1_2019  0.015515           0.015515  -3.477841e-09   \n",
       "3  GM-N_gcx1_2021  0.015373           0.015373  -1.488190e-09   \n",
       "\n",
       "   theta_pi_std_err  theta_pi_ci_err  theta_pi_ci_low  theta_pi_ci_upp  \\\n",
       "0          0.000108         0.000423         0.015336         0.015760   \n",
       "1          0.000106         0.000417         0.015097         0.015514   \n",
       "2          0.000105         0.000410         0.015310         0.015720   \n",
       "3          0.000105         0.000412         0.015167         0.015579   \n",
       "\n",
       "    theta_w  theta_w_estimate  ...  tajima_d_ci_upp  taxon  year       month  \\\n",
       "0  0.025311          0.025311  ...        -1.497412   gcx1  2019          10   \n",
       "1  0.023350          0.023350  ...        -1.332318   gcx1  2011  [8, 9, 10]   \n",
       "2  0.024284          0.024284  ...        -1.400308   gcx1  2019          10   \n",
       "3  0.023610          0.023610  ...        -1.351067   gcx1  2021           9   \n",
       "\n",
       "       country  admin1_iso  admin1_name  \\\n",
       "0  Gambia, The        GM-M      Kuntaur   \n",
       "1  Gambia, The        GM-N      Kerewan   \n",
       "2  Gambia, The        GM-N      Kerewan   \n",
       "3  Gambia, The        GM-N      Kerewan   \n",
       "\n",
       "                                    admin2_name  longitude   latitude  \n",
       "0                          ['Niani', 'Nianija'] -14.842966  13.615207  \n",
       "1                                Central Badibu -15.900000  13.550000  \n",
       "2   ['Illiasa', 'Lower Niumi', 'Sabach Sanjar'] -15.722125  13.493000  \n",
       "3  ['Central Badibu', 'Illiasa', 'Lower Niumi'] -15.848053  13.559526  \n",
       "\n",
       "[4 rows x 31 columns]"
      ]
     },
     "execution_count": 28,
     "metadata": {},
     "output_type": "execute_result"
    }
   ],
   "source": [
    "df_stats_gm2 = pd.read_csv(\"diversity_gcx1_cohort.csv\").drop(columns=\"Unnamed: 0\")\n",
    "df_stats_gm2"
   ]
  },
  {
   "cell_type": "code",
   "execution_count": 29,
   "id": "b29e19fd-efc1-4aab-a49d-ac44d4987aa4",
   "metadata": {},
   "outputs": [],
   "source": [
    "def plot_diversity_stats(\n",
    "    df_stats, \n",
    "    color=None, \n",
    "    height=450, \n",
    "    template=\"plotly_white\"\n",
    "):\n",
    "\n",
    "    # set up common plotting parameters\n",
    "    hover_name = \"cohort\"\n",
    "    hover_data = [\n",
    "        \"taxon\",\n",
    "        \"country\",\n",
    "        \"admin1_iso\",\n",
    "        \"admin1_name\",\n",
    "        \"admin2_name\",\n",
    "        \"year\",\n",
    "        \"month\",\n",
    "    ]\n",
    "    labels = {\n",
    "        'theta_pi_estimate': r'$\\widehat{\\theta}_{\\pi}$',\n",
    "        'theta_w_estimate': r'$\\widehat{\\theta}_{w}$',\n",
    "        'tajima_d_estimate': r'$D$',\n",
    "        'cohort': \"Cohort\",\n",
    "        'taxon': 'Taxon',\n",
    "        'country': \"Country\",\n",
    "    }\n",
    "    category_orders = {\n",
    "        \"taxon\": [\"arabiensis\", \"gambiae\", \"gcx3\", \"coluzzii\", \"gcx1\", \"gcx2\"],\n",
    "    }\n",
    "    width = 300 + 30 * len(df_stats)\n",
    "\n",
    "    # nucleotide diversity bar plot\n",
    "    fig = px.bar(\n",
    "        data_frame=df_stats,\n",
    "        x=\"cohort\",\n",
    "        y=\"theta_pi_estimate\",\n",
    "        error_y=\"theta_pi_ci_err\",\n",
    "        title=\"Nucleotide diversity\",\n",
    "        color=color,\n",
    "        height=height,\n",
    "        width=width,\n",
    "        hover_name=hover_name,\n",
    "        hover_data=hover_data,\n",
    "        labels=labels,\n",
    "        template=template,\n",
    "        category_orders=category_orders,\n",
    "    )\n",
    "    fig.show()\n",
    "\n",
    "    # watterson estimator bar plot\n",
    "    fig = px.bar(\n",
    "        data_frame=df_stats,\n",
    "        x=\"cohort\",\n",
    "        y=\"theta_w_estimate\",\n",
    "        error_y=\"theta_w_ci_err\",\n",
    "        title=\"Watterson estimator\",\n",
    "        color=color,\n",
    "        height=height,\n",
    "        width=width,\n",
    "        hover_name=hover_name,\n",
    "        hover_data=hover_data,\n",
    "        labels=labels,\n",
    "        template=template,\n",
    "        category_orders=category_orders,\n",
    "    )\n",
    "    fig.show()\n",
    "\n",
    "    # tajima's d bar plot\n",
    "    fig = px.bar(\n",
    "        data_frame=df_stats,\n",
    "        x=\"cohort\",\n",
    "        y=\"tajima_d_estimate\",\n",
    "        error_y=\"tajima_d_ci_err\",\n",
    "        title=\"Tajima's D\",\n",
    "        color=color,\n",
    "        height=height,\n",
    "        width=width,\n",
    "        hover_name=hover_name,\n",
    "        hover_data=hover_data,\n",
    "        labels=labels,\n",
    "        template=template,\n",
    "        category_orders=category_orders,\n",
    "    )\n",
    "    fig.show()\n",
    "\n",
    "    # scatter plot comparing diversity estimators\n",
    "    fig = px.scatter(\n",
    "        data_frame=df_stats,\n",
    "        x=\"theta_pi_estimate\",\n",
    "        y=\"theta_w_estimate\",\n",
    "        error_x=\"theta_pi_ci_err\",\n",
    "        error_y=\"theta_w_ci_err\",\n",
    "        title=\"Diversity estimators\",\n",
    "        color=color,\n",
    "        width=500,\n",
    "        height=500,\n",
    "        hover_name=hover_name,\n",
    "        hover_data=hover_data,\n",
    "        labels=labels,\n",
    "        template=template,\n",
    "        category_orders=category_orders,\n",
    "    )\n",
    "    fig.show()"
   ]
  },
  {
   "cell_type": "code",
   "execution_count": 30,
   "id": "cc0e8c82-84ee-440b-b943-20ce3d2b11c2",
   "metadata": {},
   "outputs": [],
   "source": [
    "    # set up common plotting parameters\n",
    "hover_name = \"cohort\"\n",
    "hover_data = [\n",
    "        \"taxon\",\n",
    "        \"country\",\n",
    "        \"admin1_iso\",\n",
    "        \"admin1_name\",\n",
    "        \"admin2_name\",\n",
    "        \"year\",\n",
    "        \"month\",\n",
    "    ]\n",
    "labels = {\n",
    "        'theta_pi_estimate': r'$\\widehat{\\theta}_{\\pi}$',\n",
    "        'theta_w_estimate': r'$\\widehat{\\theta}_{w}$',\n",
    "        'tajima_d_estimate': r'$D$',\n",
    "        'cohort': \"Cohort\",\n",
    "        'taxon': 'Taxon',\n",
    "        'country': \"Country\",\n",
    "    }\n",
    "category_orders = {\n",
    "        \"cohort\": [ 'GM-N_gcx1_2011','GM-N_gcx1_2019','GM-N_gcx1_2021', 'GM-M_gcx1_2019'],\n",
    "    }\n",
    "width = 300 + 30 * len(df_stats_gm2)\n",
    "template=\"plotly_white\""
   ]
  },
  {
   "cell_type": "code",
   "execution_count": 32,
   "id": "f5a88e77-9951-4080-b7ae-0ac30d26570c",
   "metadata": {},
   "outputs": [
    {
     "data": {
      "application/vnd.plotly.v1+json": {
       "config": {
        "plotlyServerURL": "https://plot.ly"
       },
       "data": [
        {
         "alignmentgroup": "True",
         "customdata": [
          [
           "gcx1",
           "Gambia, The",
           "GM-N",
           "Kerewan",
           "Central Badibu",
           2011,
           "[8, 9, 10]"
          ]
         ],
         "error_y": {
          "array": [
           0.037375619779616
          ]
         },
         "hovertemplate": "<b>%{hovertext}</b><br><br>cohort=%{x}<br>tajima_d_estimate=%{y}<br>taxon=%{customdata[0]}<br>country=%{customdata[1]}<br>admin1_iso=%{customdata[2]}<br>admin1_name=%{customdata[3]}<br>admin2_name=%{customdata[4]}<br>year=%{customdata[5]}<br>month=%{customdata[6]}<extra></extra>",
         "hovertext": [
          "GM-N_gcx1_2011"
         ],
         "legendgroup": "GM-N_gcx1_2011",
         "marker": {
          "color": "#636efa",
          "pattern": {
           "shape": ""
          }
         },
         "name": "GM-N_gcx1_2011",
         "offsetgroup": "GM-N_gcx1_2011",
         "orientation": "v",
         "showlegend": true,
         "textposition": "auto",
         "type": "bar",
         "x": [
          "GM-N_gcx1_2011"
         ],
         "xaxis": "x",
         "y": [
          -1.3510054086063863
         ],
         "yaxis": "y"
        },
        {
         "alignmentgroup": "True",
         "customdata": [
          [
           "gcx1",
           "Gambia, The",
           "GM-N",
           "Kerewan",
           "['Illiasa', 'Lower Niumi', 'Sabach Sanjar']",
           2019,
           "10"
          ]
         ],
         "error_y": {
          "array": [
           0.0314236301323949
          ]
         },
         "hovertemplate": "<b>%{hovertext}</b><br><br>cohort=%{x}<br>tajima_d_estimate=%{y}<br>taxon=%{customdata[0]}<br>country=%{customdata[1]}<br>admin1_iso=%{customdata[2]}<br>admin1_name=%{customdata[3]}<br>admin2_name=%{customdata[4]}<br>year=%{customdata[5]}<br>month=%{customdata[6]}<extra></extra>",
         "hovertext": [
          "GM-N_gcx1_2019"
         ],
         "legendgroup": "GM-N_gcx1_2019",
         "marker": {
          "color": "#EF553B",
          "pattern": {
           "shape": ""
          }
         },
         "name": "GM-N_gcx1_2019",
         "offsetgroup": "GM-N_gcx1_2019",
         "orientation": "v",
         "showlegend": true,
         "textposition": "auto",
         "type": "bar",
         "x": [
          "GM-N_gcx1_2019"
         ],
         "xaxis": "x",
         "y": [
          -1.4160200806822862
         ],
         "yaxis": "y"
        },
        {
         "alignmentgroup": "True",
         "customdata": [
          [
           "gcx1",
           "Gambia, The",
           "GM-N",
           "Kerewan",
           "['Central Badibu', 'Illiasa', 'Lower Niumi']",
           2021,
           "9"
          ]
         ],
         "error_y": {
          "array": [
           0.0340770495663491
          ]
         },
         "hovertemplate": "<b>%{hovertext}</b><br><br>cohort=%{x}<br>tajima_d_estimate=%{y}<br>taxon=%{customdata[0]}<br>country=%{customdata[1]}<br>admin1_iso=%{customdata[2]}<br>admin1_name=%{customdata[3]}<br>admin2_name=%{customdata[4]}<br>year=%{customdata[5]}<br>month=%{customdata[6]}<extra></extra>",
         "hovertext": [
          "GM-N_gcx1_2021"
         ],
         "legendgroup": "GM-N_gcx1_2021",
         "marker": {
          "color": "#00cc96",
          "pattern": {
           "shape": ""
          }
         },
         "name": "GM-N_gcx1_2021",
         "offsetgroup": "GM-N_gcx1_2021",
         "orientation": "v",
         "showlegend": true,
         "textposition": "auto",
         "type": "bar",
         "x": [
          "GM-N_gcx1_2021"
         ],
         "xaxis": "x",
         "y": [
          -1.368105064467052
         ],
         "yaxis": "y"
        },
        {
         "alignmentgroup": "True",
         "customdata": [
          [
           "gcx1",
           "Gambia, The",
           "GM-M",
           "Kuntaur",
           "['Niani', 'Nianija']",
           2019,
           "10"
          ]
         ],
         "error_y": {
          "array": [
           0.0302390002069061
          ]
         },
         "hovertemplate": "<b>%{hovertext}</b><br><br>cohort=%{x}<br>tajima_d_estimate=%{y}<br>taxon=%{customdata[0]}<br>country=%{customdata[1]}<br>admin1_iso=%{customdata[2]}<br>admin1_name=%{customdata[3]}<br>admin2_name=%{customdata[4]}<br>year=%{customdata[5]}<br>month=%{customdata[6]}<extra></extra>",
         "hovertext": [
          "GM-M_gcx1_2019"
         ],
         "legendgroup": "GM-M_gcx1_2019",
         "marker": {
          "color": "#ab63fa",
          "pattern": {
           "shape": ""
          }
         },
         "name": "GM-M_gcx1_2019",
         "offsetgroup": "GM-M_gcx1_2019",
         "orientation": "v",
         "showlegend": true,
         "textposition": "auto",
         "type": "bar",
         "x": [
          "GM-M_gcx1_2019"
         ],
         "xaxis": "x",
         "y": [
          -1.5125312371905708
         ],
         "yaxis": "y"
        }
       ],
       "layout": {
        "barmode": "relative",
        "height": 450,
        "legend": {
         "title": {
          "text": "cohort"
         },
         "tracegroupgap": 0
        },
        "template": {
         "data": {
          "bar": [
           {
            "error_x": {
             "color": "#2a3f5f"
            },
            "error_y": {
             "color": "#2a3f5f"
            },
            "marker": {
             "line": {
              "color": "white",
              "width": 0.5
             },
             "pattern": {
              "fillmode": "overlay",
              "size": 10,
              "solidity": 0.2
             }
            },
            "type": "bar"
           }
          ],
          "barpolar": [
           {
            "marker": {
             "line": {
              "color": "white",
              "width": 0.5
             },
             "pattern": {
              "fillmode": "overlay",
              "size": 10,
              "solidity": 0.2
             }
            },
            "type": "barpolar"
           }
          ],
          "carpet": [
           {
            "aaxis": {
             "endlinecolor": "#2a3f5f",
             "gridcolor": "#C8D4E3",
             "linecolor": "#C8D4E3",
             "minorgridcolor": "#C8D4E3",
             "startlinecolor": "#2a3f5f"
            },
            "baxis": {
             "endlinecolor": "#2a3f5f",
             "gridcolor": "#C8D4E3",
             "linecolor": "#C8D4E3",
             "minorgridcolor": "#C8D4E3",
             "startlinecolor": "#2a3f5f"
            },
            "type": "carpet"
           }
          ],
          "choropleth": [
           {
            "colorbar": {
             "outlinewidth": 0,
             "ticks": ""
            },
            "type": "choropleth"
           }
          ],
          "contour": [
           {
            "colorbar": {
             "outlinewidth": 0,
             "ticks": ""
            },
            "colorscale": [
             [
              0,
              "#0d0887"
             ],
             [
              0.1111111111111111,
              "#46039f"
             ],
             [
              0.2222222222222222,
              "#7201a8"
             ],
             [
              0.3333333333333333,
              "#9c179e"
             ],
             [
              0.4444444444444444,
              "#bd3786"
             ],
             [
              0.5555555555555556,
              "#d8576b"
             ],
             [
              0.6666666666666666,
              "#ed7953"
             ],
             [
              0.7777777777777778,
              "#fb9f3a"
             ],
             [
              0.8888888888888888,
              "#fdca26"
             ],
             [
              1,
              "#f0f921"
             ]
            ],
            "type": "contour"
           }
          ],
          "contourcarpet": [
           {
            "colorbar": {
             "outlinewidth": 0,
             "ticks": ""
            },
            "type": "contourcarpet"
           }
          ],
          "heatmap": [
           {
            "colorbar": {
             "outlinewidth": 0,
             "ticks": ""
            },
            "colorscale": [
             [
              0,
              "#0d0887"
             ],
             [
              0.1111111111111111,
              "#46039f"
             ],
             [
              0.2222222222222222,
              "#7201a8"
             ],
             [
              0.3333333333333333,
              "#9c179e"
             ],
             [
              0.4444444444444444,
              "#bd3786"
             ],
             [
              0.5555555555555556,
              "#d8576b"
             ],
             [
              0.6666666666666666,
              "#ed7953"
             ],
             [
              0.7777777777777778,
              "#fb9f3a"
             ],
             [
              0.8888888888888888,
              "#fdca26"
             ],
             [
              1,
              "#f0f921"
             ]
            ],
            "type": "heatmap"
           }
          ],
          "heatmapgl": [
           {
            "colorbar": {
             "outlinewidth": 0,
             "ticks": ""
            },
            "colorscale": [
             [
              0,
              "#0d0887"
             ],
             [
              0.1111111111111111,
              "#46039f"
             ],
             [
              0.2222222222222222,
              "#7201a8"
             ],
             [
              0.3333333333333333,
              "#9c179e"
             ],
             [
              0.4444444444444444,
              "#bd3786"
             ],
             [
              0.5555555555555556,
              "#d8576b"
             ],
             [
              0.6666666666666666,
              "#ed7953"
             ],
             [
              0.7777777777777778,
              "#fb9f3a"
             ],
             [
              0.8888888888888888,
              "#fdca26"
             ],
             [
              1,
              "#f0f921"
             ]
            ],
            "type": "heatmapgl"
           }
          ],
          "histogram": [
           {
            "marker": {
             "pattern": {
              "fillmode": "overlay",
              "size": 10,
              "solidity": 0.2
             }
            },
            "type": "histogram"
           }
          ],
          "histogram2d": [
           {
            "colorbar": {
             "outlinewidth": 0,
             "ticks": ""
            },
            "colorscale": [
             [
              0,
              "#0d0887"
             ],
             [
              0.1111111111111111,
              "#46039f"
             ],
             [
              0.2222222222222222,
              "#7201a8"
             ],
             [
              0.3333333333333333,
              "#9c179e"
             ],
             [
              0.4444444444444444,
              "#bd3786"
             ],
             [
              0.5555555555555556,
              "#d8576b"
             ],
             [
              0.6666666666666666,
              "#ed7953"
             ],
             [
              0.7777777777777778,
              "#fb9f3a"
             ],
             [
              0.8888888888888888,
              "#fdca26"
             ],
             [
              1,
              "#f0f921"
             ]
            ],
            "type": "histogram2d"
           }
          ],
          "histogram2dcontour": [
           {
            "colorbar": {
             "outlinewidth": 0,
             "ticks": ""
            },
            "colorscale": [
             [
              0,
              "#0d0887"
             ],
             [
              0.1111111111111111,
              "#46039f"
             ],
             [
              0.2222222222222222,
              "#7201a8"
             ],
             [
              0.3333333333333333,
              "#9c179e"
             ],
             [
              0.4444444444444444,
              "#bd3786"
             ],
             [
              0.5555555555555556,
              "#d8576b"
             ],
             [
              0.6666666666666666,
              "#ed7953"
             ],
             [
              0.7777777777777778,
              "#fb9f3a"
             ],
             [
              0.8888888888888888,
              "#fdca26"
             ],
             [
              1,
              "#f0f921"
             ]
            ],
            "type": "histogram2dcontour"
           }
          ],
          "mesh3d": [
           {
            "colorbar": {
             "outlinewidth": 0,
             "ticks": ""
            },
            "type": "mesh3d"
           }
          ],
          "parcoords": [
           {
            "line": {
             "colorbar": {
              "outlinewidth": 0,
              "ticks": ""
             }
            },
            "type": "parcoords"
           }
          ],
          "pie": [
           {
            "automargin": true,
            "type": "pie"
           }
          ],
          "scatter": [
           {
            "fillpattern": {
             "fillmode": "overlay",
             "size": 10,
             "solidity": 0.2
            },
            "type": "scatter"
           }
          ],
          "scatter3d": [
           {
            "line": {
             "colorbar": {
              "outlinewidth": 0,
              "ticks": ""
             }
            },
            "marker": {
             "colorbar": {
              "outlinewidth": 0,
              "ticks": ""
             }
            },
            "type": "scatter3d"
           }
          ],
          "scattercarpet": [
           {
            "marker": {
             "colorbar": {
              "outlinewidth": 0,
              "ticks": ""
             }
            },
            "type": "scattercarpet"
           }
          ],
          "scattergeo": [
           {
            "marker": {
             "colorbar": {
              "outlinewidth": 0,
              "ticks": ""
             }
            },
            "type": "scattergeo"
           }
          ],
          "scattergl": [
           {
            "marker": {
             "colorbar": {
              "outlinewidth": 0,
              "ticks": ""
             }
            },
            "type": "scattergl"
           }
          ],
          "scattermapbox": [
           {
            "marker": {
             "colorbar": {
              "outlinewidth": 0,
              "ticks": ""
             }
            },
            "type": "scattermapbox"
           }
          ],
          "scatterpolar": [
           {
            "marker": {
             "colorbar": {
              "outlinewidth": 0,
              "ticks": ""
             }
            },
            "type": "scatterpolar"
           }
          ],
          "scatterpolargl": [
           {
            "marker": {
             "colorbar": {
              "outlinewidth": 0,
              "ticks": ""
             }
            },
            "type": "scatterpolargl"
           }
          ],
          "scatterternary": [
           {
            "marker": {
             "colorbar": {
              "outlinewidth": 0,
              "ticks": ""
             }
            },
            "type": "scatterternary"
           }
          ],
          "surface": [
           {
            "colorbar": {
             "outlinewidth": 0,
             "ticks": ""
            },
            "colorscale": [
             [
              0,
              "#0d0887"
             ],
             [
              0.1111111111111111,
              "#46039f"
             ],
             [
              0.2222222222222222,
              "#7201a8"
             ],
             [
              0.3333333333333333,
              "#9c179e"
             ],
             [
              0.4444444444444444,
              "#bd3786"
             ],
             [
              0.5555555555555556,
              "#d8576b"
             ],
             [
              0.6666666666666666,
              "#ed7953"
             ],
             [
              0.7777777777777778,
              "#fb9f3a"
             ],
             [
              0.8888888888888888,
              "#fdca26"
             ],
             [
              1,
              "#f0f921"
             ]
            ],
            "type": "surface"
           }
          ],
          "table": [
           {
            "cells": {
             "fill": {
              "color": "#EBF0F8"
             },
             "line": {
              "color": "white"
             }
            },
            "header": {
             "fill": {
              "color": "#C8D4E3"
             },
             "line": {
              "color": "white"
             }
            },
            "type": "table"
           }
          ]
         },
         "layout": {
          "annotationdefaults": {
           "arrowcolor": "#2a3f5f",
           "arrowhead": 0,
           "arrowwidth": 1
          },
          "autotypenumbers": "strict",
          "coloraxis": {
           "colorbar": {
            "outlinewidth": 0,
            "ticks": ""
           }
          },
          "colorscale": {
           "diverging": [
            [
             0,
             "#8e0152"
            ],
            [
             0.1,
             "#c51b7d"
            ],
            [
             0.2,
             "#de77ae"
            ],
            [
             0.3,
             "#f1b6da"
            ],
            [
             0.4,
             "#fde0ef"
            ],
            [
             0.5,
             "#f7f7f7"
            ],
            [
             0.6,
             "#e6f5d0"
            ],
            [
             0.7,
             "#b8e186"
            ],
            [
             0.8,
             "#7fbc41"
            ],
            [
             0.9,
             "#4d9221"
            ],
            [
             1,
             "#276419"
            ]
           ],
           "sequential": [
            [
             0,
             "#0d0887"
            ],
            [
             0.1111111111111111,
             "#46039f"
            ],
            [
             0.2222222222222222,
             "#7201a8"
            ],
            [
             0.3333333333333333,
             "#9c179e"
            ],
            [
             0.4444444444444444,
             "#bd3786"
            ],
            [
             0.5555555555555556,
             "#d8576b"
            ],
            [
             0.6666666666666666,
             "#ed7953"
            ],
            [
             0.7777777777777778,
             "#fb9f3a"
            ],
            [
             0.8888888888888888,
             "#fdca26"
            ],
            [
             1,
             "#f0f921"
            ]
           ],
           "sequentialminus": [
            [
             0,
             "#0d0887"
            ],
            [
             0.1111111111111111,
             "#46039f"
            ],
            [
             0.2222222222222222,
             "#7201a8"
            ],
            [
             0.3333333333333333,
             "#9c179e"
            ],
            [
             0.4444444444444444,
             "#bd3786"
            ],
            [
             0.5555555555555556,
             "#d8576b"
            ],
            [
             0.6666666666666666,
             "#ed7953"
            ],
            [
             0.7777777777777778,
             "#fb9f3a"
            ],
            [
             0.8888888888888888,
             "#fdca26"
            ],
            [
             1,
             "#f0f921"
            ]
           ]
          },
          "colorway": [
           "#636efa",
           "#EF553B",
           "#00cc96",
           "#ab63fa",
           "#FFA15A",
           "#19d3f3",
           "#FF6692",
           "#B6E880",
           "#FF97FF",
           "#FECB52"
          ],
          "font": {
           "color": "#2a3f5f"
          },
          "geo": {
           "bgcolor": "white",
           "lakecolor": "white",
           "landcolor": "white",
           "showlakes": true,
           "showland": true,
           "subunitcolor": "#C8D4E3"
          },
          "hoverlabel": {
           "align": "left"
          },
          "hovermode": "closest",
          "mapbox": {
           "style": "light"
          },
          "paper_bgcolor": "white",
          "plot_bgcolor": "white",
          "polar": {
           "angularaxis": {
            "gridcolor": "#EBF0F8",
            "linecolor": "#EBF0F8",
            "ticks": ""
           },
           "bgcolor": "white",
           "radialaxis": {
            "gridcolor": "#EBF0F8",
            "linecolor": "#EBF0F8",
            "ticks": ""
           }
          },
          "scene": {
           "xaxis": {
            "backgroundcolor": "white",
            "gridcolor": "#DFE8F3",
            "gridwidth": 2,
            "linecolor": "#EBF0F8",
            "showbackground": true,
            "ticks": "",
            "zerolinecolor": "#EBF0F8"
           },
           "yaxis": {
            "backgroundcolor": "white",
            "gridcolor": "#DFE8F3",
            "gridwidth": 2,
            "linecolor": "#EBF0F8",
            "showbackground": true,
            "ticks": "",
            "zerolinecolor": "#EBF0F8"
           },
           "zaxis": {
            "backgroundcolor": "white",
            "gridcolor": "#DFE8F3",
            "gridwidth": 2,
            "linecolor": "#EBF0F8",
            "showbackground": true,
            "ticks": "",
            "zerolinecolor": "#EBF0F8"
           }
          },
          "shapedefaults": {
           "line": {
            "color": "#2a3f5f"
           }
          },
          "ternary": {
           "aaxis": {
            "gridcolor": "#DFE8F3",
            "linecolor": "#A2B1C6",
            "ticks": ""
           },
           "baxis": {
            "gridcolor": "#DFE8F3",
            "linecolor": "#A2B1C6",
            "ticks": ""
           },
           "bgcolor": "white",
           "caxis": {
            "gridcolor": "#DFE8F3",
            "linecolor": "#A2B1C6",
            "ticks": ""
           }
          },
          "title": {
           "x": 0.05
          },
          "xaxis": {
           "automargin": true,
           "gridcolor": "#EBF0F8",
           "linecolor": "#EBF0F8",
           "ticks": "",
           "title": {
            "standoff": 15
           },
           "zerolinecolor": "#EBF0F8",
           "zerolinewidth": 2
          },
          "yaxis": {
           "automargin": true,
           "gridcolor": "#EBF0F8",
           "linecolor": "#EBF0F8",
           "ticks": "",
           "title": {
            "standoff": 15
           },
           "zerolinecolor": "#EBF0F8",
           "zerolinewidth": 2
          }
         }
        },
        "title": {
         "text": "Tajima's D"
        },
        "width": 500,
        "xaxis": {
         "anchor": "y",
         "autorange": true,
         "categoryarray": [
          "GM-N_gcx1_2011",
          "GM-N_gcx1_2019",
          "GM-N_gcx1_2021",
          "GM-M_gcx1_2019"
         ],
         "categoryorder": "array",
         "domain": [
          0,
          1
         ],
         "range": [
          -0.5,
          3.5
         ],
         "title": {
          "text": "cohort"
         },
         "type": "category"
        },
        "yaxis": {
         "anchor": "x",
         "autorange": true,
         "domain": [
          0,
          1
         ],
         "range": [
          -1.6239686709447125,
          0
         ],
         "title": {
          "text": "tajima_d_estimate"
         },
         "type": "linear"
        }
       }
      },
      "image/png": "[encoded data removed]",
      "text/html": [
       "<div>                            <div id=\"385ef96e-c16e-41a5-8c7f-44f066be3591\" class=\"plotly-graph-div\" style=\"height:450px; width:500px;\"></div>            <script type=\"text/javascript\">                require([\"plotly\"], function(Plotly) {                    window.PLOTLYENV=window.PLOTLYENV || {};                                    if (document.getElementById(\"385ef96e-c16e-41a5-8c7f-44f066be3591\")) {                    Plotly.newPlot(                        \"385ef96e-c16e-41a5-8c7f-44f066be3591\",                        [{\"alignmentgroup\":\"True\",\"customdata\":[[\"gcx1\",\"Gambia, The\",\"GM-N\",\"Kerewan\",\"Central Badibu\",2011,\"[8, 9, 10]\"]],\"error_y\":{\"array\":[0.037375619779616]},\"hovertemplate\":\"\\u003cb\\u003e%{hovertext}\\u003c\\u002fb\\u003e\\u003cbr\\u003e\\u003cbr\\u003ecohort=%{x}\\u003cbr\\u003etajima_d_estimate=%{y}\\u003cbr\\u003etaxon=%{customdata[0]}\\u003cbr\\u003ecountry=%{customdata[1]}\\u003cbr\\u003eadmin1_iso=%{customdata[2]}\\u003cbr\\u003eadmin1_name=%{customdata[3]}\\u003cbr\\u003eadmin2_name=%{customdata[4]}\\u003cbr\\u003eyear=%{customdata[5]}\\u003cbr\\u003emonth=%{customdata[6]}\\u003cextra\\u003e\\u003c\\u002fextra\\u003e\",\"hovertext\":[\"GM-N_gcx1_2011\"],\"legendgroup\":\"GM-N_gcx1_2011\",\"marker\":{\"color\":\"#636efa\",\"pattern\":{\"shape\":\"\"}},\"name\":\"GM-N_gcx1_2011\",\"offsetgroup\":\"GM-N_gcx1_2011\",\"orientation\":\"v\",\"showlegend\":true,\"textposition\":\"auto\",\"x\":[\"GM-N_gcx1_2011\"],\"xaxis\":\"x\",\"y\":[-1.3510054086063863],\"yaxis\":\"y\",\"type\":\"bar\"},{\"alignmentgroup\":\"True\",\"customdata\":[[\"gcx1\",\"Gambia, The\",\"GM-N\",\"Kerewan\",\"['Illiasa', 'Lower Niumi', 'Sabach Sanjar']\",2019,\"10\"]],\"error_y\":{\"array\":[0.0314236301323949]},\"hovertemplate\":\"\\u003cb\\u003e%{hovertext}\\u003c\\u002fb\\u003e\\u003cbr\\u003e\\u003cbr\\u003ecohort=%{x}\\u003cbr\\u003etajima_d_estimate=%{y}\\u003cbr\\u003etaxon=%{customdata[0]}\\u003cbr\\u003ecountry=%{customdata[1]}\\u003cbr\\u003eadmin1_iso=%{customdata[2]}\\u003cbr\\u003eadmin1_name=%{customdata[3]}\\u003cbr\\u003eadmin2_name=%{customdata[4]}\\u003cbr\\u003eyear=%{customdata[5]}\\u003cbr\\u003emonth=%{customdata[6]}\\u003cextra\\u003e\\u003c\\u002fextra\\u003e\",\"hovertext\":[\"GM-N_gcx1_2019\"],\"legendgroup\":\"GM-N_gcx1_2019\",\"marker\":{\"color\":\"#EF553B\",\"pattern\":{\"shape\":\"\"}},\"name\":\"GM-N_gcx1_2019\",\"offsetgroup\":\"GM-N_gcx1_2019\",\"orientation\":\"v\",\"showlegend\":true,\"textposition\":\"auto\",\"x\":[\"GM-N_gcx1_2019\"],\"xaxis\":\"x\",\"y\":[-1.4160200806822862],\"yaxis\":\"y\",\"type\":\"bar\"},{\"alignmentgroup\":\"True\",\"customdata\":[[\"gcx1\",\"Gambia, The\",\"GM-N\",\"Kerewan\",\"['Central Badibu', 'Illiasa', 'Lower Niumi']\",2021,\"9\"]],\"error_y\":{\"array\":[0.0340770495663491]},\"hovertemplate\":\"\\u003cb\\u003e%{hovertext}\\u003c\\u002fb\\u003e\\u003cbr\\u003e\\u003cbr\\u003ecohort=%{x}\\u003cbr\\u003etajima_d_estimate=%{y}\\u003cbr\\u003etaxon=%{customdata[0]}\\u003cbr\\u003ecountry=%{customdata[1]}\\u003cbr\\u003eadmin1_iso=%{customdata[2]}\\u003cbr\\u003eadmin1_name=%{customdata[3]}\\u003cbr\\u003eadmin2_name=%{customdata[4]}\\u003cbr\\u003eyear=%{customdata[5]}\\u003cbr\\u003emonth=%{customdata[6]}\\u003cextra\\u003e\\u003c\\u002fextra\\u003e\",\"hovertext\":[\"GM-N_gcx1_2021\"],\"legendgroup\":\"GM-N_gcx1_2021\",\"marker\":{\"color\":\"#00cc96\",\"pattern\":{\"shape\":\"\"}},\"name\":\"GM-N_gcx1_2021\",\"offsetgroup\":\"GM-N_gcx1_2021\",\"orientation\":\"v\",\"showlegend\":true,\"textposition\":\"auto\",\"x\":[\"GM-N_gcx1_2021\"],\"xaxis\":\"x\",\"y\":[-1.368105064467052],\"yaxis\":\"y\",\"type\":\"bar\"},{\"alignmentgroup\":\"True\",\"customdata\":[[\"gcx1\",\"Gambia, The\",\"GM-M\",\"Kuntaur\",\"['Niani', 'Nianija']\",2019,\"10\"]],\"error_y\":{\"array\":[0.0302390002069061]},\"hovertemplate\":\"\\u003cb\\u003e%{hovertext}\\u003c\\u002fb\\u003e\\u003cbr\\u003e\\u003cbr\\u003ecohort=%{x}\\u003cbr\\u003etajima_d_estimate=%{y}\\u003cbr\\u003etaxon=%{customdata[0]}\\u003cbr\\u003ecountry=%{customdata[1]}\\u003cbr\\u003eadmin1_iso=%{customdata[2]}\\u003cbr\\u003eadmin1_name=%{customdata[3]}\\u003cbr\\u003eadmin2_name=%{customdata[4]}\\u003cbr\\u003eyear=%{customdata[5]}\\u003cbr\\u003emonth=%{customdata[6]}\\u003cextra\\u003e\\u003c\\u002fextra\\u003e\",\"hovertext\":[\"GM-M_gcx1_2019\"],\"legendgroup\":\"GM-M_gcx1_2019\",\"marker\":{\"color\":\"#ab63fa\",\"pattern\":{\"shape\":\"\"}},\"name\":\"GM-M_gcx1_2019\",\"offsetgroup\":\"GM-M_gcx1_2019\",\"orientation\":\"v\",\"showlegend\":true,\"textposition\":\"auto\",\"x\":[\"GM-M_gcx1_2019\"],\"xaxis\":\"x\",\"y\":[-1.5125312371905708],\"yaxis\":\"y\",\"type\":\"bar\"}],                        {\"template\":{\"data\":{\"barpolar\":[{\"marker\":{\"line\":{\"color\":\"white\",\"width\":0.5},\"pattern\":{\"fillmode\":\"overlay\",\"size\":10,\"solidity\":0.2}},\"type\":\"barpolar\"}],\"bar\":[{\"error_x\":{\"color\":\"#2a3f5f\"},\"error_y\":{\"color\":\"#2a3f5f\"},\"marker\":{\"line\":{\"color\":\"white\",\"width\":0.5},\"pattern\":{\"fillmode\":\"overlay\",\"size\":10,\"solidity\":0.2}},\"type\":\"bar\"}],\"carpet\":[{\"aaxis\":{\"endlinecolor\":\"#2a3f5f\",\"gridcolor\":\"#C8D4E3\",\"linecolor\":\"#C8D4E3\",\"minorgridcolor\":\"#C8D4E3\",\"startlinecolor\":\"#2a3f5f\"},\"baxis\":{\"endlinecolor\":\"#2a3f5f\",\"gridcolor\":\"#C8D4E3\",\"linecolor\":\"#C8D4E3\",\"minorgridcolor\":\"#C8D4E3\",\"startlinecolor\":\"#2a3f5f\"},\"type\":\"carpet\"}],\"choropleth\":[{\"colorbar\":{\"outlinewidth\":0,\"ticks\":\"\"},\"type\":\"choropleth\"}],\"contourcarpet\":[{\"colorbar\":{\"outlinewidth\":0,\"ticks\":\"\"},\"type\":\"contourcarpet\"}],\"contour\":[{\"colorbar\":{\"outlinewidth\":0,\"ticks\":\"\"},\"colorscale\":[[0.0,\"#0d0887\"],[0.1111111111111111,\"#46039f\"],[0.2222222222222222,\"#7201a8\"],[0.3333333333333333,\"#9c179e\"],[0.4444444444444444,\"#bd3786\"],[0.5555555555555556,\"#d8576b\"],[0.6666666666666666,\"#ed7953\"],[0.7777777777777778,\"#fb9f3a\"],[0.8888888888888888,\"#fdca26\"],[1.0,\"#f0f921\"]],\"type\":\"contour\"}],\"heatmapgl\":[{\"colorbar\":{\"outlinewidth\":0,\"ticks\":\"\"},\"colorscale\":[[0.0,\"#0d0887\"],[0.1111111111111111,\"#46039f\"],[0.2222222222222222,\"#7201a8\"],[0.3333333333333333,\"#9c179e\"],[0.4444444444444444,\"#bd3786\"],[0.5555555555555556,\"#d8576b\"],[0.6666666666666666,\"#ed7953\"],[0.7777777777777778,\"#fb9f3a\"],[0.8888888888888888,\"#fdca26\"],[1.0,\"#f0f921\"]],\"type\":\"heatmapgl\"}],\"heatmap\":[{\"colorbar\":{\"outlinewidth\":0,\"ticks\":\"\"},\"colorscale\":[[0.0,\"#0d0887\"],[0.1111111111111111,\"#46039f\"],[0.2222222222222222,\"#7201a8\"],[0.3333333333333333,\"#9c179e\"],[0.4444444444444444,\"#bd3786\"],[0.5555555555555556,\"#d8576b\"],[0.6666666666666666,\"#ed7953\"],[0.7777777777777778,\"#fb9f3a\"],[0.8888888888888888,\"#fdca26\"],[1.0,\"#f0f921\"]],\"type\":\"heatmap\"}],\"histogram2dcontour\":[{\"colorbar\":{\"outlinewidth\":0,\"ticks\":\"\"},\"colorscale\":[[0.0,\"#0d0887\"],[0.1111111111111111,\"#46039f\"],[0.2222222222222222,\"#7201a8\"],[0.3333333333333333,\"#9c179e\"],[0.4444444444444444,\"#bd3786\"],[0.5555555555555556,\"#d8576b\"],[0.6666666666666666,\"#ed7953\"],[0.7777777777777778,\"#fb9f3a\"],[0.8888888888888888,\"#fdca26\"],[1.0,\"#f0f921\"]],\"type\":\"histogram2dcontour\"}],\"histogram2d\":[{\"colorbar\":{\"outlinewidth\":0,\"ticks\":\"\"},\"colorscale\":[[0.0,\"#0d0887\"],[0.1111111111111111,\"#46039f\"],[0.2222222222222222,\"#7201a8\"],[0.3333333333333333,\"#9c179e\"],[0.4444444444444444,\"#bd3786\"],[0.5555555555555556,\"#d8576b\"],[0.6666666666666666,\"#ed7953\"],[0.7777777777777778,\"#fb9f3a\"],[0.8888888888888888,\"#fdca26\"],[1.0,\"#f0f921\"]],\"type\":\"histogram2d\"}],\"histogram\":[{\"marker\":{\"pattern\":{\"fillmode\":\"overlay\",\"size\":10,\"solidity\":0.2}},\"type\":\"histogram\"}],\"mesh3d\":[{\"colorbar\":{\"outlinewidth\":0,\"ticks\":\"\"},\"type\":\"mesh3d\"}],\"parcoords\":[{\"line\":{\"colorbar\":{\"outlinewidth\":0,\"ticks\":\"\"}},\"type\":\"parcoords\"}],\"pie\":[{\"automargin\":true,\"type\":\"pie\"}],\"scatter3d\":[{\"line\":{\"colorbar\":{\"outlinewidth\":0,\"ticks\":\"\"}},\"marker\":{\"colorbar\":{\"outlinewidth\":0,\"ticks\":\"\"}},\"type\":\"scatter3d\"}],\"scattercarpet\":[{\"marker\":{\"colorbar\":{\"outlinewidth\":0,\"ticks\":\"\"}},\"type\":\"scattercarpet\"}],\"scattergeo\":[{\"marker\":{\"colorbar\":{\"outlinewidth\":0,\"ticks\":\"\"}},\"type\":\"scattergeo\"}],\"scattergl\":[{\"marker\":{\"colorbar\":{\"outlinewidth\":0,\"ticks\":\"\"}},\"type\":\"scattergl\"}],\"scattermapbox\":[{\"marker\":{\"colorbar\":{\"outlinewidth\":0,\"ticks\":\"\"}},\"type\":\"scattermapbox\"}],\"scatterpolargl\":[{\"marker\":{\"colorbar\":{\"outlinewidth\":0,\"ticks\":\"\"}},\"type\":\"scatterpolargl\"}],\"scatterpolar\":[{\"marker\":{\"colorbar\":{\"outlinewidth\":0,\"ticks\":\"\"}},\"type\":\"scatterpolar\"}],\"scatter\":[{\"fillpattern\":{\"fillmode\":\"overlay\",\"size\":10,\"solidity\":0.2},\"type\":\"scatter\"}],\"scatterternary\":[{\"marker\":{\"colorbar\":{\"outlinewidth\":0,\"ticks\":\"\"}},\"type\":\"scatterternary\"}],\"surface\":[{\"colorbar\":{\"outlinewidth\":0,\"ticks\":\"\"},\"colorscale\":[[0.0,\"#0d0887\"],[0.1111111111111111,\"#46039f\"],[0.2222222222222222,\"#7201a8\"],[0.3333333333333333,\"#9c179e\"],[0.4444444444444444,\"#bd3786\"],[0.5555555555555556,\"#d8576b\"],[0.6666666666666666,\"#ed7953\"],[0.7777777777777778,\"#fb9f3a\"],[0.8888888888888888,\"#fdca26\"],[1.0,\"#f0f921\"]],\"type\":\"surface\"}],\"table\":[{\"cells\":{\"fill\":{\"color\":\"#EBF0F8\"},\"line\":{\"color\":\"white\"}},\"header\":{\"fill\":{\"color\":\"#C8D4E3\"},\"line\":{\"color\":\"white\"}},\"type\":\"table\"}]},\"layout\":{\"annotationdefaults\":{\"arrowcolor\":\"#2a3f5f\",\"arrowhead\":0,\"arrowwidth\":1},\"autotypenumbers\":\"strict\",\"coloraxis\":{\"colorbar\":{\"outlinewidth\":0,\"ticks\":\"\"}},\"colorscale\":{\"diverging\":[[0,\"#8e0152\"],[0.1,\"#c51b7d\"],[0.2,\"#de77ae\"],[0.3,\"#f1b6da\"],[0.4,\"#fde0ef\"],[0.5,\"#f7f7f7\"],[0.6,\"#e6f5d0\"],[0.7,\"#b8e186\"],[0.8,\"#7fbc41\"],[0.9,\"#4d9221\"],[1,\"#276419\"]],\"sequential\":[[0.0,\"#0d0887\"],[0.1111111111111111,\"#46039f\"],[0.2222222222222222,\"#7201a8\"],[0.3333333333333333,\"#9c179e\"],[0.4444444444444444,\"#bd3786\"],[0.5555555555555556,\"#d8576b\"],[0.6666666666666666,\"#ed7953\"],[0.7777777777777778,\"#fb9f3a\"],[0.8888888888888888,\"#fdca26\"],[1.0,\"#f0f921\"]],\"sequentialminus\":[[0.0,\"#0d0887\"],[0.1111111111111111,\"#46039f\"],[0.2222222222222222,\"#7201a8\"],[0.3333333333333333,\"#9c179e\"],[0.4444444444444444,\"#bd3786\"],[0.5555555555555556,\"#d8576b\"],[0.6666666666666666,\"#ed7953\"],[0.7777777777777778,\"#fb9f3a\"],[0.8888888888888888,\"#fdca26\"],[1.0,\"#f0f921\"]]},\"colorway\":[\"#636efa\",\"#EF553B\",\"#00cc96\",\"#ab63fa\",\"#FFA15A\",\"#19d3f3\",\"#FF6692\",\"#B6E880\",\"#FF97FF\",\"#FECB52\"],\"font\":{\"color\":\"#2a3f5f\"},\"geo\":{\"bgcolor\":\"white\",\"lakecolor\":\"white\",\"landcolor\":\"white\",\"showlakes\":true,\"showland\":true,\"subunitcolor\":\"#C8D4E3\"},\"hoverlabel\":{\"align\":\"left\"},\"hovermode\":\"closest\",\"mapbox\":{\"style\":\"light\"},\"paper_bgcolor\":\"white\",\"plot_bgcolor\":\"white\",\"polar\":{\"angularaxis\":{\"gridcolor\":\"#EBF0F8\",\"linecolor\":\"#EBF0F8\",\"ticks\":\"\"},\"bgcolor\":\"white\",\"radialaxis\":{\"gridcolor\":\"#EBF0F8\",\"linecolor\":\"#EBF0F8\",\"ticks\":\"\"}},\"scene\":{\"xaxis\":{\"backgroundcolor\":\"white\",\"gridcolor\":\"#DFE8F3\",\"gridwidth\":2,\"linecolor\":\"#EBF0F8\",\"showbackground\":true,\"ticks\":\"\",\"zerolinecolor\":\"#EBF0F8\"},\"yaxis\":{\"backgroundcolor\":\"white\",\"gridcolor\":\"#DFE8F3\",\"gridwidth\":2,\"linecolor\":\"#EBF0F8\",\"showbackground\":true,\"ticks\":\"\",\"zerolinecolor\":\"#EBF0F8\"},\"zaxis\":{\"backgroundcolor\":\"white\",\"gridcolor\":\"#DFE8F3\",\"gridwidth\":2,\"linecolor\":\"#EBF0F8\",\"showbackground\":true,\"ticks\":\"\",\"zerolinecolor\":\"#EBF0F8\"}},\"shapedefaults\":{\"line\":{\"color\":\"#2a3f5f\"}},\"ternary\":{\"aaxis\":{\"gridcolor\":\"#DFE8F3\",\"linecolor\":\"#A2B1C6\",\"ticks\":\"\"},\"baxis\":{\"gridcolor\":\"#DFE8F3\",\"linecolor\":\"#A2B1C6\",\"ticks\":\"\"},\"bgcolor\":\"white\",\"caxis\":{\"gridcolor\":\"#DFE8F3\",\"linecolor\":\"#A2B1C6\",\"ticks\":\"\"}},\"title\":{\"x\":0.05},\"xaxis\":{\"automargin\":true,\"gridcolor\":\"#EBF0F8\",\"linecolor\":\"#EBF0F8\",\"ticks\":\"\",\"title\":{\"standoff\":15},\"zerolinecolor\":\"#EBF0F8\",\"zerolinewidth\":2},\"yaxis\":{\"automargin\":true,\"gridcolor\":\"#EBF0F8\",\"linecolor\":\"#EBF0F8\",\"ticks\":\"\",\"title\":{\"standoff\":15},\"zerolinecolor\":\"#EBF0F8\",\"zerolinewidth\":2}}},\"xaxis\":{\"anchor\":\"y\",\"domain\":[0.0,1.0],\"title\":{\"text\":\"cohort\"},\"categoryorder\":\"array\",\"categoryarray\":[\"GM-N_gcx1_2011\",\"GM-N_gcx1_2019\",\"GM-N_gcx1_2021\",\"GM-M_gcx1_2019\"]},\"yaxis\":{\"anchor\":\"x\",\"domain\":[0.0,1.0],\"title\":{\"text\":\"tajima_d_estimate\"}},\"legend\":{\"title\":{\"text\":\"cohort\"},\"tracegroupgap\":0},\"title\":{\"text\":\"Tajima's D\"},\"barmode\":\"relative\",\"height\":450,\"width\":500},                        {\"responsive\": true}                    ).then(function(){\n",
       "                            \n",
       "var gd = document.getElementById('385ef96e-c16e-41a5-8c7f-44f066be3591');\n",
       "var x = new MutationObserver(function (mutations, observer) {{\n",
       "        var display = window.getComputedStyle(gd).display;\n",
       "        if (!display || display === 'none') {{\n",
       "            console.log([gd, 'removed!']);\n",
       "            Plotly.purge(gd);\n",
       "            observer.disconnect();\n",
       "        }}\n",
       "}});\n",
       "\n",
       "// Listen for the removal of the full notebook cells\n",
       "var notebookContainer = gd.closest('#notebook-container');\n",
       "if (notebookContainer) {{\n",
       "    x.observe(notebookContainer, {childList: true});\n",
       "}}\n",
       "\n",
       "// Listen for the clearing of the current output cell\n",
       "var outputEl = gd.closest('.output');\n",
       "if (outputEl) {{\n",
       "    x.observe(outputEl, {childList: true});\n",
       "}}\n",
       "\n",
       "                        })                };                });            </script>        </div>"
      ]
     },
     "metadata": {},
     "output_type": "display_data"
    }
   ],
   "source": [
    "fig = px.bar(\n",
    "        data_frame=df_stats_gm2,\n",
    "        x=\"cohort\",\n",
    "        y=\"tajima_d_estimate\",\n",
    "        error_y=\"tajima_d_ci_err\",\n",
    "        title=\"Tajima's D\",\n",
    "        color=\"cohort\",\n",
    "        height=450,\n",
    "        width=500,\n",
    "        hover_name=hover_name,\n",
    "        hover_data=hover_data,\n",
    "        #labels={'tajima_d_estimate':r'$D$'},\n",
    "        template=template,\n",
    "        category_orders=category_orders,\n",
    "    )\n",
    "fig.write_image('tajima_gcx1.png', scale=2)\n",
    "fig.show()"
   ]
  },
  {
   "cell_type": "code",
   "execution_count": 33,
   "id": "f934dd6e-d347-47f3-b47d-83987e24c6e8",
   "metadata": {},
   "outputs": [],
   "source": [
    "order = ['GM-N_gcx1_2011','GM-N_gcx1_2019','GM-N_gcx1_2021', 'GM-M_gcx1_2019']"
   ]
  },
  {
   "cell_type": "markdown",
   "id": "645b6858-75da-4f18-8893-6de66ca0d86b",
   "metadata": {},
   "source": [
    "-----------------------"
   ]
  },
  {
   "cell_type": "code",
   "execution_count": 35,
   "id": "fc28e2c2-78ae-4006-8ac3-598440e8d71a",
   "metadata": {},
   "outputs": [
    {
     "name": "stdout",
     "output_type": "stream",
     "text": [
      "Cohort (GM-L_colu_2005) has insufficient samples (4) for requested cohort size (15), dropping.\n",
      "Cohort (GM-M_colu_2021) has insufficient samples (5) for requested cohort size (15), dropping.\n",
      "Cohort (GM-N_colu_2006) has insufficient samples (3) for requested cohort size (15), dropping.\n",
      "Cohort (GM-N_colu_2011) has insufficient samples (6) for requested cohort size (15), dropping.\n",
      "Cohort (GM-N_colu_2021) has insufficient samples (4) for requested cohort size (15), dropping.\n",
      "Cohort (GM-N_gcx1_2006) has insufficient samples (9) for requested cohort size (15), dropping.\n",
      "Cohort (GM-U_gamb_2019) has insufficient samples (14) for requested cohort size (15), dropping.\n",
      "Cohort (GM-W_colu_2005) has insufficient samples (14) for requested cohort size (15), dropping.\n",
      "Cohort (GM-W_colu_2019) has insufficient samples (3) for requested cohort size (15), dropping.\n",
      "Cohort (GM-W_gamb_2019) has insufficient samples (2) for requested cohort size (15), dropping.\n",
      "Cohort (GM-W_gcx1_2005) has insufficient samples (1) for requested cohort size (15), dropping.\n",
      "Cohort (GM-W_gcx1_2019) has insufficient samples (5) for requested cohort size (15), dropping.\n",
      "Cohort (GW-GA_gamb_2010) has insufficient samples (7) for requested cohort size (15), dropping.\n",
      "                                   \r"
     ]
    },
    {
     "data": {
      "application/vnd.jupyter.widget-view+json": {
       "model_id": "",
       "version_major": 2,
       "version_minor": 0
      },
      "text/plain": [
       "Compute SNP allele counts:   0%|          | 0/1683 [00:00<?, ?it/s]"
      ]
     },
     "metadata": {},
     "output_type": "display_data"
    },
    {
     "name": "stdout",
     "output_type": "stream",
     "text": [
      "                                   \r"
     ]
    },
    {
     "data": {
      "application/vnd.jupyter.widget-view+json": {
       "model_id": "",
       "version_major": 2,
       "version_minor": 0
      },
      "text/plain": [
       "Compute SNP allele counts:   0%|          | 0/1683 [00:00<?, ?it/s]"
      ]
     },
     "metadata": {},
     "output_type": "display_data"
    },
    {
     "name": "stdout",
     "output_type": "stream",
     "text": [
      "                                   \r"
     ]
    },
    {
     "data": {
      "application/vnd.jupyter.widget-view+json": {
       "model_id": "",
       "version_major": 2,
       "version_minor": 0
      },
      "text/plain": [
       "Compute SNP allele counts:   0%|          | 0/918 [00:00<?, ?it/s]"
      ]
     },
     "metadata": {},
     "output_type": "display_data"
    },
    {
     "name": "stdout",
     "output_type": "stream",
     "text": [
      "                                   \r"
     ]
    },
    {
     "data": {
      "application/vnd.jupyter.widget-view+json": {
       "model_id": "",
       "version_major": 2,
       "version_minor": 0
      },
      "text/plain": [
       "Compute SNP allele counts:   0%|          | 0/6273 [00:00<?, ?it/s]"
      ]
     },
     "metadata": {},
     "output_type": "display_data"
    },
    {
     "name": "stdout",
     "output_type": "stream",
     "text": [
      "                                   \r"
     ]
    },
    {
     "data": {
      "application/vnd.jupyter.widget-view+json": {
       "model_id": "",
       "version_major": 2,
       "version_minor": 0
      },
      "text/plain": [
       "Compute SNP allele counts:   0%|          | 0/6273 [00:00<?, ?it/s]"
      ]
     },
     "metadata": {},
     "output_type": "display_data"
    },
    {
     "name": "stdout",
     "output_type": "stream",
     "text": [
      "                                   \r"
     ]
    },
    {
     "data": {
      "application/vnd.jupyter.widget-view+json": {
       "model_id": "",
       "version_major": 2,
       "version_minor": 0
      },
      "text/plain": [
       "Compute SNP allele counts:   0%|          | 0/7650 [00:00<?, ?it/s]"
      ]
     },
     "metadata": {},
     "output_type": "display_data"
    },
    {
     "name": "stdout",
     "output_type": "stream",
     "text": [
      "                                   \r"
     ]
    },
    {
     "data": {
      "application/vnd.jupyter.widget-view+json": {
       "model_id": "",
       "version_major": 2,
       "version_minor": 0
      },
      "text/plain": [
       "Compute SNP allele counts:   0%|          | 0/2295 [00:00<?, ?it/s]"
      ]
     },
     "metadata": {},
     "output_type": "display_data"
    },
    {
     "name": "stdout",
     "output_type": "stream",
     "text": [
      "                                   \r"
     ]
    },
    {
     "data": {
      "application/vnd.jupyter.widget-view+json": {
       "model_id": "",
       "version_major": 2,
       "version_minor": 0
      },
      "text/plain": [
       "Compute SNP allele counts:   0%|          | 0/1683 [00:00<?, ?it/s]"
      ]
     },
     "metadata": {},
     "output_type": "display_data"
    },
    {
     "name": "stdout",
     "output_type": "stream",
     "text": [
      "                                   \r"
     ]
    },
    {
     "data": {
      "application/vnd.jupyter.widget-view+json": {
       "model_id": "",
       "version_major": 2,
       "version_minor": 0
      },
      "text/plain": [
       "Compute SNP allele counts:   0%|          | 0/2907 [00:00<?, ?it/s]"
      ]
     },
     "metadata": {},
     "output_type": "display_data"
    },
    {
     "name": "stdout",
     "output_type": "stream",
     "text": [
      "                                   \r"
     ]
    },
    {
     "data": {
      "application/vnd.jupyter.widget-view+json": {
       "model_id": "",
       "version_major": 2,
       "version_minor": 0
      },
      "text/plain": [
       "Compute SNP allele counts:   0%|          | 0/1683 [00:00<?, ?it/s]"
      ]
     },
     "metadata": {},
     "output_type": "display_data"
    },
    {
     "name": "stdout",
     "output_type": "stream",
     "text": [
      "                                   \r"
     ]
    },
    {
     "data": {
      "application/vnd.jupyter.widget-view+json": {
       "model_id": "",
       "version_major": 2,
       "version_minor": 0
      },
      "text/plain": [
       "Compute SNP allele counts:   0%|          | 0/5049 [00:00<?, ?it/s]"
      ]
     },
     "metadata": {},
     "output_type": "display_data"
    },
    {
     "name": "stdout",
     "output_type": "stream",
     "text": [
      "                                   \r"
     ]
    },
    {
     "data": {
      "application/vnd.jupyter.widget-view+json": {
       "model_id": "",
       "version_major": 2,
       "version_minor": 0
      },
      "text/plain": [
       "Compute SNP allele counts:   0%|          | 0/1683 [00:00<?, ?it/s]"
      ]
     },
     "metadata": {},
     "output_type": "display_data"
    },
    {
     "name": "stdout",
     "output_type": "stream",
     "text": [
      "                                   \r"
     ]
    },
    {
     "data": {
      "application/vnd.jupyter.widget-view+json": {
       "model_id": "",
       "version_major": 2,
       "version_minor": 0
      },
      "text/plain": [
       "Compute SNP allele counts:   0%|          | 0/918 [00:00<?, ?it/s]"
      ]
     },
     "metadata": {},
     "output_type": "display_data"
    },
    {
     "name": "stdout",
     "output_type": "stream",
     "text": [
      "                                   \r"
     ]
    },
    {
     "data": {
      "application/vnd.jupyter.widget-view+json": {
       "model_id": "",
       "version_major": 2,
       "version_minor": 0
      },
      "text/plain": [
       "Compute SNP allele counts:   0%|          | 0/2295 [00:00<?, ?it/s]"
      ]
     },
     "metadata": {},
     "output_type": "display_data"
    },
    {
     "data": {
      "text/html": [
       "<div>\n",
       "<style scoped>\n",
       "    .dataframe tbody tr th:only-of-type {\n",
       "        vertical-align: middle;\n",
       "    }\n",
       "\n",
       "    .dataframe tbody tr th {\n",
       "        vertical-align: top;\n",
       "    }\n",
       "\n",
       "    .dataframe thead th {\n",
       "        text-align: right;\n",
       "    }\n",
       "</style>\n",
       "<table border=\"1\" class=\"dataframe\">\n",
       "  <thead>\n",
       "    <tr style=\"text-align: right;\">\n",
       "      <th></th>\n",
       "      <th>cohort</th>\n",
       "      <th>theta_pi</th>\n",
       "      <th>theta_pi_estimate</th>\n",
       "      <th>theta_pi_bias</th>\n",
       "      <th>theta_pi_std_err</th>\n",
       "      <th>theta_pi_ci_err</th>\n",
       "      <th>theta_pi_ci_low</th>\n",
       "      <th>theta_pi_ci_upp</th>\n",
       "      <th>theta_w</th>\n",
       "      <th>theta_w_estimate</th>\n",
       "      <th>...</th>\n",
       "      <th>tajima_d_ci_upp</th>\n",
       "      <th>taxon</th>\n",
       "      <th>year</th>\n",
       "      <th>month</th>\n",
       "      <th>country</th>\n",
       "      <th>admin1_iso</th>\n",
       "      <th>admin1_name</th>\n",
       "      <th>admin2_name</th>\n",
       "      <th>longitude</th>\n",
       "      <th>latitude</th>\n",
       "    </tr>\n",
       "  </thead>\n",
       "  <tbody>\n",
       "    <tr>\n",
       "      <th>0</th>\n",
       "      <td>BF-09_colu_2014</td>\n",
       "      <td>0.015326</td>\n",
       "      <td>0.015326</td>\n",
       "      <td>-3.411990e-09</td>\n",
       "      <td>0.000104</td>\n",
       "      <td>0.000408</td>\n",
       "      <td>0.015122</td>\n",
       "      <td>0.015530</td>\n",
       "      <td>0.025669</td>\n",
       "      <td>0.025669</td>\n",
       "      <td>...</td>\n",
       "      <td>-1.567596</td>\n",
       "      <td>coluzzii</td>\n",
       "      <td>2014</td>\n",
       "      <td>7</td>\n",
       "      <td>Burkina Faso</td>\n",
       "      <td>BF-09</td>\n",
       "      <td>Hauts-Bassins</td>\n",
       "      <td>Houet</td>\n",
       "      <td>-4.445170</td>\n",
       "      <td>11.233566</td>\n",
       "    </tr>\n",
       "    <tr>\n",
       "      <th>1</th>\n",
       "      <td>BF-09_gamb_2014</td>\n",
       "      <td>0.015607</td>\n",
       "      <td>0.015607</td>\n",
       "      <td>-3.509818e-09</td>\n",
       "      <td>0.000112</td>\n",
       "      <td>0.000438</td>\n",
       "      <td>0.015387</td>\n",
       "      <td>0.015826</td>\n",
       "      <td>0.027311</td>\n",
       "      <td>0.027311</td>\n",
       "      <td>...</td>\n",
       "      <td>-1.667693</td>\n",
       "      <td>gambiae</td>\n",
       "      <td>2014</td>\n",
       "      <td>7</td>\n",
       "      <td>Burkina Faso</td>\n",
       "      <td>BF-09</td>\n",
       "      <td>Hauts-Bassins</td>\n",
       "      <td>Houet</td>\n",
       "      <td>-4.312283</td>\n",
       "      <td>11.206109</td>\n",
       "    </tr>\n",
       "    <tr>\n",
       "      <th>2</th>\n",
       "      <td>GM-L_colu_2006</td>\n",
       "      <td>0.015660</td>\n",
       "      <td>0.015660</td>\n",
       "      <td>2.157734e-09</td>\n",
       "      <td>0.000109</td>\n",
       "      <td>0.000426</td>\n",
       "      <td>0.015447</td>\n",
       "      <td>0.015873</td>\n",
       "      <td>0.026341</td>\n",
       "      <td>0.026341</td>\n",
       "      <td>...</td>\n",
       "      <td>-1.577831</td>\n",
       "      <td>coluzzii</td>\n",
       "      <td>2006</td>\n",
       "      <td>8</td>\n",
       "      <td>Gambia, The</td>\n",
       "      <td>GM-L</td>\n",
       "      <td>Mansakonko</td>\n",
       "      <td>Kiang West</td>\n",
       "      <td>-16.033000</td>\n",
       "      <td>13.417000</td>\n",
       "    </tr>\n",
       "    <tr>\n",
       "      <th>3</th>\n",
       "      <td>GM-M_colu_2019</td>\n",
       "      <td>0.015821</td>\n",
       "      <td>0.015821</td>\n",
       "      <td>-5.524754e-09</td>\n",
       "      <td>0.000106</td>\n",
       "      <td>0.000417</td>\n",
       "      <td>0.015613</td>\n",
       "      <td>0.016029</td>\n",
       "      <td>0.026870</td>\n",
       "      <td>0.026870</td>\n",
       "      <td>...</td>\n",
       "      <td>-1.599908</td>\n",
       "      <td>coluzzii</td>\n",
       "      <td>2019</td>\n",
       "      <td>[8, 10]</td>\n",
       "      <td>Gambia, The</td>\n",
       "      <td>GM-M</td>\n",
       "      <td>[Janjanbureh, Kuntaur]</td>\n",
       "      <td>[Niamina East, Niani, Nianija, Sami]</td>\n",
       "      <td>-14.862410</td>\n",
       "      <td>13.615204</td>\n",
       "    </tr>\n",
       "    <tr>\n",
       "      <th>4</th>\n",
       "      <td>GM-M_gamb_2019</td>\n",
       "      <td>0.015986</td>\n",
       "      <td>0.015986</td>\n",
       "      <td>-5.582259e-09</td>\n",
       "      <td>0.000112</td>\n",
       "      <td>0.000440</td>\n",
       "      <td>0.015766</td>\n",
       "      <td>0.016206</td>\n",
       "      <td>0.028624</td>\n",
       "      <td>0.028624</td>\n",
       "      <td>...</td>\n",
       "      <td>-1.719703</td>\n",
       "      <td>gambiae</td>\n",
       "      <td>2019</td>\n",
       "      <td>[8, 10]</td>\n",
       "      <td>Gambia, The</td>\n",
       "      <td>GM-M</td>\n",
       "      <td>Kuntaur</td>\n",
       "      <td>[Niani, Nianija, Sami]</td>\n",
       "      <td>-14.851500</td>\n",
       "      <td>13.620062</td>\n",
       "    </tr>\n",
       "    <tr>\n",
       "      <th>5</th>\n",
       "      <td>GM-M_gcx1_2019</td>\n",
       "      <td>0.015548</td>\n",
       "      <td>0.015548</td>\n",
       "      <td>-3.489374e-09</td>\n",
       "      <td>0.000108</td>\n",
       "      <td>0.000423</td>\n",
       "      <td>0.015336</td>\n",
       "      <td>0.015760</td>\n",
       "      <td>0.025311</td>\n",
       "      <td>0.025311</td>\n",
       "      <td>...</td>\n",
       "      <td>-1.497412</td>\n",
       "      <td>gcx1</td>\n",
       "      <td>2019</td>\n",
       "      <td>10</td>\n",
       "      <td>Gambia, The</td>\n",
       "      <td>GM-M</td>\n",
       "      <td>Kuntaur</td>\n",
       "      <td>[Niani, Nianija]</td>\n",
       "      <td>-14.842966</td>\n",
       "      <td>13.615207</td>\n",
       "    </tr>\n",
       "    <tr>\n",
       "      <th>6</th>\n",
       "      <td>GM-N_colu_2019</td>\n",
       "      <td>0.015553</td>\n",
       "      <td>0.015553</td>\n",
       "      <td>-3.491079e-09</td>\n",
       "      <td>0.000107</td>\n",
       "      <td>0.000421</td>\n",
       "      <td>0.015342</td>\n",
       "      <td>0.015764</td>\n",
       "      <td>0.025924</td>\n",
       "      <td>0.025924</td>\n",
       "      <td>...</td>\n",
       "      <td>-1.555615</td>\n",
       "      <td>coluzzii</td>\n",
       "      <td>2019</td>\n",
       "      <td>10</td>\n",
       "      <td>Gambia, The</td>\n",
       "      <td>GM-N</td>\n",
       "      <td>Kerewan</td>\n",
       "      <td>[Illiasa, Lower Niumi, Sabach Sanjar]</td>\n",
       "      <td>-15.694944</td>\n",
       "      <td>13.493556</td>\n",
       "    </tr>\n",
       "    <tr>\n",
       "      <th>7</th>\n",
       "      <td>GM-N_gcx1_2011</td>\n",
       "      <td>0.015305</td>\n",
       "      <td>0.015305</td>\n",
       "      <td>-3.404673e-09</td>\n",
       "      <td>0.000106</td>\n",
       "      <td>0.000417</td>\n",
       "      <td>0.015097</td>\n",
       "      <td>0.015514</td>\n",
       "      <td>0.023350</td>\n",
       "      <td>0.023350</td>\n",
       "      <td>...</td>\n",
       "      <td>-1.332318</td>\n",
       "      <td>gcx1</td>\n",
       "      <td>2011</td>\n",
       "      <td>[8, 9, 10]</td>\n",
       "      <td>Gambia, The</td>\n",
       "      <td>GM-N</td>\n",
       "      <td>Kerewan</td>\n",
       "      <td>Central Badibu</td>\n",
       "      <td>-15.900000</td>\n",
       "      <td>13.550000</td>\n",
       "    </tr>\n",
       "    <tr>\n",
       "      <th>8</th>\n",
       "      <td>GM-N_gcx1_2019</td>\n",
       "      <td>0.015515</td>\n",
       "      <td>0.015515</td>\n",
       "      <td>-3.477841e-09</td>\n",
       "      <td>0.000105</td>\n",
       "      <td>0.000410</td>\n",
       "      <td>0.015310</td>\n",
       "      <td>0.015720</td>\n",
       "      <td>0.024284</td>\n",
       "      <td>0.024284</td>\n",
       "      <td>...</td>\n",
       "      <td>-1.400308</td>\n",
       "      <td>gcx1</td>\n",
       "      <td>2019</td>\n",
       "      <td>10</td>\n",
       "      <td>Gambia, The</td>\n",
       "      <td>GM-N</td>\n",
       "      <td>Kerewan</td>\n",
       "      <td>[Illiasa, Lower Niumi, Sabach Sanjar]</td>\n",
       "      <td>-15.722125</td>\n",
       "      <td>13.493000</td>\n",
       "    </tr>\n",
       "    <tr>\n",
       "      <th>9</th>\n",
       "      <td>GM-N_gcx1_2021</td>\n",
       "      <td>0.015373</td>\n",
       "      <td>0.015373</td>\n",
       "      <td>-1.488190e-09</td>\n",
       "      <td>0.000105</td>\n",
       "      <td>0.000412</td>\n",
       "      <td>0.015167</td>\n",
       "      <td>0.015579</td>\n",
       "      <td>0.023610</td>\n",
       "      <td>0.023610</td>\n",
       "      <td>...</td>\n",
       "      <td>-1.351067</td>\n",
       "      <td>gcx1</td>\n",
       "      <td>2021</td>\n",
       "      <td>9</td>\n",
       "      <td>Gambia, The</td>\n",
       "      <td>GM-N</td>\n",
       "      <td>Kerewan</td>\n",
       "      <td>[Central Badibu, Illiasa, Lower Niumi]</td>\n",
       "      <td>-15.848053</td>\n",
       "      <td>13.559526</td>\n",
       "    </tr>\n",
       "    <tr>\n",
       "      <th>10</th>\n",
       "      <td>GM-U_colu_2019</td>\n",
       "      <td>0.015471</td>\n",
       "      <td>0.015471</td>\n",
       "      <td>3.506536e-10</td>\n",
       "      <td>0.000107</td>\n",
       "      <td>0.000420</td>\n",
       "      <td>0.015261</td>\n",
       "      <td>0.015681</td>\n",
       "      <td>0.025710</td>\n",
       "      <td>0.025710</td>\n",
       "      <td>...</td>\n",
       "      <td>-1.548991</td>\n",
       "      <td>coluzzii</td>\n",
       "      <td>2019</td>\n",
       "      <td>[8, 10]</td>\n",
       "      <td>Gambia, The</td>\n",
       "      <td>GM-U</td>\n",
       "      <td>Basse</td>\n",
       "      <td>[Jimara, Tumana]</td>\n",
       "      <td>-14.197910</td>\n",
       "      <td>13.311441</td>\n",
       "    </tr>\n",
       "    <tr>\n",
       "      <th>11</th>\n",
       "      <td>GM-U_colu_2021</td>\n",
       "      <td>0.015463</td>\n",
       "      <td>0.015463</td>\n",
       "      <td>-3.459638e-09</td>\n",
       "      <td>0.000106</td>\n",
       "      <td>0.000416</td>\n",
       "      <td>0.015255</td>\n",
       "      <td>0.015671</td>\n",
       "      <td>0.025665</td>\n",
       "      <td>0.025665</td>\n",
       "      <td>...</td>\n",
       "      <td>-1.545525</td>\n",
       "      <td>coluzzii</td>\n",
       "      <td>2021</td>\n",
       "      <td>9</td>\n",
       "      <td>Gambia, The</td>\n",
       "      <td>GM-U</td>\n",
       "      <td>Basse</td>\n",
       "      <td>[Basse, Jimara]</td>\n",
       "      <td>-14.257750</td>\n",
       "      <td>13.284583</td>\n",
       "    </tr>\n",
       "    <tr>\n",
       "      <th>12</th>\n",
       "      <td>GW-BM_gcx1_2010</td>\n",
       "      <td>0.015510</td>\n",
       "      <td>0.015510</td>\n",
       "      <td>-3.476043e-09</td>\n",
       "      <td>0.000107</td>\n",
       "      <td>0.000419</td>\n",
       "      <td>0.015300</td>\n",
       "      <td>0.015720</td>\n",
       "      <td>0.025579</td>\n",
       "      <td>0.025579</td>\n",
       "      <td>...</td>\n",
       "      <td>-1.530196</td>\n",
       "      <td>gcx1</td>\n",
       "      <td>2010</td>\n",
       "      <td>-1</td>\n",
       "      <td>Guinea-Bissau</td>\n",
       "      <td>GW-BM</td>\n",
       "      <td>Biombo</td>\n",
       "      <td>Setor De Safim</td>\n",
       "      <td>-15.649000</td>\n",
       "      <td>11.957000</td>\n",
       "    </tr>\n",
       "    <tr>\n",
       "      <th>13</th>\n",
       "      <td>GW-BS_gcx1_2010</td>\n",
       "      <td>0.015534</td>\n",
       "      <td>0.015534</td>\n",
       "      <td>-5.424439e-09</td>\n",
       "      <td>0.000107</td>\n",
       "      <td>0.000420</td>\n",
       "      <td>0.015324</td>\n",
       "      <td>0.015744</td>\n",
       "      <td>0.025624</td>\n",
       "      <td>0.025624</td>\n",
       "      <td>...</td>\n",
       "      <td>-1.530264</td>\n",
       "      <td>gcx1</td>\n",
       "      <td>2010</td>\n",
       "      <td>-1</td>\n",
       "      <td>Guinea-Bissau</td>\n",
       "      <td>GW-BS</td>\n",
       "      <td>Bissau</td>\n",
       "      <td>Bissau Autonomous Sector</td>\n",
       "      <td>-15.582000</td>\n",
       "      <td>11.891000</td>\n",
       "    </tr>\n",
       "  </tbody>\n",
       "</table>\n",
       "<p>14 rows × 31 columns</p>\n",
       "</div>"
      ],
      "text/plain": [
       "             cohort  theta_pi  theta_pi_estimate  theta_pi_bias  \\\n",
       "0   BF-09_colu_2014  0.015326           0.015326  -3.411990e-09   \n",
       "1   BF-09_gamb_2014  0.015607           0.015607  -3.509818e-09   \n",
       "2    GM-L_colu_2006  0.015660           0.015660   2.157734e-09   \n",
       "3    GM-M_colu_2019  0.015821           0.015821  -5.524754e-09   \n",
       "4    GM-M_gamb_2019  0.015986           0.015986  -5.582259e-09   \n",
       "5    GM-M_gcx1_2019  0.015548           0.015548  -3.489374e-09   \n",
       "6    GM-N_colu_2019  0.015553           0.015553  -3.491079e-09   \n",
       "7    GM-N_gcx1_2011  0.015305           0.015305  -3.404673e-09   \n",
       "8    GM-N_gcx1_2019  0.015515           0.015515  -3.477841e-09   \n",
       "9    GM-N_gcx1_2021  0.015373           0.015373  -1.488190e-09   \n",
       "10   GM-U_colu_2019  0.015471           0.015471   3.506536e-10   \n",
       "11   GM-U_colu_2021  0.015463           0.015463  -3.459638e-09   \n",
       "12  GW-BM_gcx1_2010  0.015510           0.015510  -3.476043e-09   \n",
       "13  GW-BS_gcx1_2010  0.015534           0.015534  -5.424439e-09   \n",
       "\n",
       "    theta_pi_std_err  theta_pi_ci_err  theta_pi_ci_low  theta_pi_ci_upp  \\\n",
       "0           0.000104         0.000408         0.015122         0.015530   \n",
       "1           0.000112         0.000438         0.015387         0.015826   \n",
       "2           0.000109         0.000426         0.015447         0.015873   \n",
       "3           0.000106         0.000417         0.015613         0.016029   \n",
       "4           0.000112         0.000440         0.015766         0.016206   \n",
       "5           0.000108         0.000423         0.015336         0.015760   \n",
       "6           0.000107         0.000421         0.015342         0.015764   \n",
       "7           0.000106         0.000417         0.015097         0.015514   \n",
       "8           0.000105         0.000410         0.015310         0.015720   \n",
       "9           0.000105         0.000412         0.015167         0.015579   \n",
       "10          0.000107         0.000420         0.015261         0.015681   \n",
       "11          0.000106         0.000416         0.015255         0.015671   \n",
       "12          0.000107         0.000419         0.015300         0.015720   \n",
       "13          0.000107         0.000420         0.015324         0.015744   \n",
       "\n",
       "     theta_w  theta_w_estimate  ...  tajima_d_ci_upp     taxon  year  \\\n",
       "0   0.025669          0.025669  ...        -1.567596  coluzzii  2014   \n",
       "1   0.027311          0.027311  ...        -1.667693   gambiae  2014   \n",
       "2   0.026341          0.026341  ...        -1.577831  coluzzii  2006   \n",
       "3   0.026870          0.026870  ...        -1.599908  coluzzii  2019   \n",
       "4   0.028624          0.028624  ...        -1.719703   gambiae  2019   \n",
       "5   0.025311          0.025311  ...        -1.497412      gcx1  2019   \n",
       "6   0.025924          0.025924  ...        -1.555615  coluzzii  2019   \n",
       "7   0.023350          0.023350  ...        -1.332318      gcx1  2011   \n",
       "8   0.024284          0.024284  ...        -1.400308      gcx1  2019   \n",
       "9   0.023610          0.023610  ...        -1.351067      gcx1  2021   \n",
       "10  0.025710          0.025710  ...        -1.548991  coluzzii  2019   \n",
       "11  0.025665          0.025665  ...        -1.545525  coluzzii  2021   \n",
       "12  0.025579          0.025579  ...        -1.530196      gcx1  2010   \n",
       "13  0.025624          0.025624  ...        -1.530264      gcx1  2010   \n",
       "\n",
       "         month        country  admin1_iso             admin1_name  \\\n",
       "0            7   Burkina Faso       BF-09           Hauts-Bassins   \n",
       "1            7   Burkina Faso       BF-09           Hauts-Bassins   \n",
       "2            8    Gambia, The        GM-L              Mansakonko   \n",
       "3      [8, 10]    Gambia, The        GM-M  [Janjanbureh, Kuntaur]   \n",
       "4      [8, 10]    Gambia, The        GM-M                 Kuntaur   \n",
       "5           10    Gambia, The        GM-M                 Kuntaur   \n",
       "6           10    Gambia, The        GM-N                 Kerewan   \n",
       "7   [8, 9, 10]    Gambia, The        GM-N                 Kerewan   \n",
       "8           10    Gambia, The        GM-N                 Kerewan   \n",
       "9            9    Gambia, The        GM-N                 Kerewan   \n",
       "10     [8, 10]    Gambia, The        GM-U                   Basse   \n",
       "11           9    Gambia, The        GM-U                   Basse   \n",
       "12          -1  Guinea-Bissau       GW-BM                  Biombo   \n",
       "13          -1  Guinea-Bissau       GW-BS                  Bissau   \n",
       "\n",
       "                               admin2_name  longitude   latitude  \n",
       "0                                    Houet  -4.445170  11.233566  \n",
       "1                                    Houet  -4.312283  11.206109  \n",
       "2                               Kiang West -16.033000  13.417000  \n",
       "3     [Niamina East, Niani, Nianija, Sami] -14.862410  13.615204  \n",
       "4                   [Niani, Nianija, Sami] -14.851500  13.620062  \n",
       "5                         [Niani, Nianija] -14.842966  13.615207  \n",
       "6    [Illiasa, Lower Niumi, Sabach Sanjar] -15.694944  13.493556  \n",
       "7                           Central Badibu -15.900000  13.550000  \n",
       "8    [Illiasa, Lower Niumi, Sabach Sanjar] -15.722125  13.493000  \n",
       "9   [Central Badibu, Illiasa, Lower Niumi] -15.848053  13.559526  \n",
       "10                        [Jimara, Tumana] -14.197910  13.311441  \n",
       "11                         [Basse, Jimara] -14.257750  13.284583  \n",
       "12                          Setor De Safim -15.649000  11.957000  \n",
       "13                Bissau Autonomous Sector -15.582000  11.891000  \n",
       "\n",
       "[14 rows x 31 columns]"
      ]
     },
     "execution_count": 35,
     "metadata": {},
     "output_type": "execute_result"
    }
   ],
   "source": [
    "df_stats_gm2 = ag3.diversity_stats(\n",
    "    cohorts=\"cohort_admin1_year\",\n",
    "    cohort_size=15,\n",
    "    region=[\"3L:18,000,000-41,000,000\",\"3R:1,000,000-24,000,000\"],\n",
    "    site_mask=\"gamb_colu\",\n",
    "    sample_sets = [\"AG1000G-GM-A\",\"AG1000G-GM-B\",\"1323-VO-GM-NGWA-VMF00235\",\"1323-VO-GM-NGWA-VMF00242\",\"AG1000G-GW\",\"AG1000G-BF-B\"],\n",
    "    sample_query = \"taxon == ['gcx1','coluzzii','gambiae']\"\n",
    ")\n",
    "df_stats_gm2"
   ]
  },
  {
   "cell_type": "code",
   "execution_count": 36,
   "id": "dab9b459-4d98-4e98-a0cb-b4a69f2cfd8a",
   "metadata": {},
   "outputs": [],
   "source": [
    "#df_stats_gm2.to_csv(\"diversity_gcx1_cohort_2.csv\")"
   ]
  },
  {
   "cell_type": "code",
   "execution_count": 38,
   "id": "4a8a3cff-e9e8-4a49-ab96-629a87361760",
   "metadata": {},
   "outputs": [
    {
     "data": {
      "text/plain": [
       "array(['BF-09_colu_2014', 'BF-09_gamb_2014', 'GM-L_colu_2006',\n",
       "       'GM-M_colu_2019', 'GM-M_gamb_2019', 'GM-M_gcx1_2019',\n",
       "       'GM-N_colu_2019', 'GM-N_gcx1_2011', 'GM-N_gcx1_2019',\n",
       "       'GM-N_gcx1_2021', 'GM-U_colu_2019', 'GM-U_colu_2021',\n",
       "       'GW-BM_gcx1_2010', 'GW-BS_gcx1_2010'], dtype=object)"
      ]
     },
     "execution_count": 38,
     "metadata": {},
     "output_type": "execute_result"
    }
   ],
   "source": [
    "df_stats_gm2.cohort.unique()"
   ]
  },
  {
   "cell_type": "code",
   "execution_count": 80,
   "id": "14ffa850-0bb7-43fc-87bf-74c57369f22c",
   "metadata": {},
   "outputs": [],
   "source": [
    "category_orders = {\n",
    "        \"cohort\": [ 'BF-09_colu_2014','BF-09_gamb_2014','GM-N_gcx1_2011', 'GM-N_gcx1_2019','GM-N_gcx1_2021','GM-M_gcx1_2019'],\n",
    "    }"
   ]
  },
  {
   "cell_type": "code",
   "execution_count": 81,
   "id": "a9aa4ccb-0f02-4730-adeb-61577bd32b67",
   "metadata": {},
   "outputs": [],
   "source": [
    "set_ = ['BF-09_colu_2014','BF-09_gamb_2014','GM-N_gcx1_2011', 'GM-N_gcx1_2019','GM-N_gcx1_2021','GM-M_gcx1_2019']\n",
    "subset_df = df_stats_gm2[df_stats_gm2['cohort'].isin(set_)]"
   ]
  },
  {
   "cell_type": "code",
   "execution_count": 82,
   "id": "f6e36abd-5624-4ab2-a304-90082d478fcb",
   "metadata": {},
   "outputs": [
    {
     "data": {
      "text/html": [
       "<div>\n",
       "<style scoped>\n",
       "    .dataframe tbody tr th:only-of-type {\n",
       "        vertical-align: middle;\n",
       "    }\n",
       "\n",
       "    .dataframe tbody tr th {\n",
       "        vertical-align: top;\n",
       "    }\n",
       "\n",
       "    .dataframe thead th {\n",
       "        text-align: right;\n",
       "    }\n",
       "</style>\n",
       "<table border=\"1\" class=\"dataframe\">\n",
       "  <thead>\n",
       "    <tr style=\"text-align: right;\">\n",
       "      <th></th>\n",
       "      <th>cohort</th>\n",
       "      <th>theta_pi</th>\n",
       "      <th>theta_pi_estimate</th>\n",
       "      <th>theta_pi_bias</th>\n",
       "      <th>theta_pi_std_err</th>\n",
       "      <th>theta_pi_ci_err</th>\n",
       "      <th>theta_pi_ci_low</th>\n",
       "      <th>theta_pi_ci_upp</th>\n",
       "      <th>theta_w</th>\n",
       "      <th>theta_w_estimate</th>\n",
       "      <th>...</th>\n",
       "      <th>tajima_d_ci_upp</th>\n",
       "      <th>taxon</th>\n",
       "      <th>year</th>\n",
       "      <th>month</th>\n",
       "      <th>country</th>\n",
       "      <th>admin1_iso</th>\n",
       "      <th>admin1_name</th>\n",
       "      <th>admin2_name</th>\n",
       "      <th>longitude</th>\n",
       "      <th>latitude</th>\n",
       "    </tr>\n",
       "  </thead>\n",
       "  <tbody>\n",
       "    <tr>\n",
       "      <th>0</th>\n",
       "      <td>BF-09_colu_2014</td>\n",
       "      <td>0.015326</td>\n",
       "      <td>0.015326</td>\n",
       "      <td>-3.411990e-09</td>\n",
       "      <td>0.000104</td>\n",
       "      <td>0.000408</td>\n",
       "      <td>0.015122</td>\n",
       "      <td>0.015530</td>\n",
       "      <td>0.025669</td>\n",
       "      <td>0.025669</td>\n",
       "      <td>...</td>\n",
       "      <td>-1.567596</td>\n",
       "      <td>coluzzii</td>\n",
       "      <td>2014</td>\n",
       "      <td>7</td>\n",
       "      <td>Burkina Faso</td>\n",
       "      <td>BF-09</td>\n",
       "      <td>Hauts-Bassins</td>\n",
       "      <td>Houet</td>\n",
       "      <td>-4.445170</td>\n",
       "      <td>11.233566</td>\n",
       "    </tr>\n",
       "    <tr>\n",
       "      <th>1</th>\n",
       "      <td>BF-09_gamb_2014</td>\n",
       "      <td>0.015607</td>\n",
       "      <td>0.015607</td>\n",
       "      <td>-3.509818e-09</td>\n",
       "      <td>0.000112</td>\n",
       "      <td>0.000438</td>\n",
       "      <td>0.015387</td>\n",
       "      <td>0.015826</td>\n",
       "      <td>0.027311</td>\n",
       "      <td>0.027311</td>\n",
       "      <td>...</td>\n",
       "      <td>-1.667693</td>\n",
       "      <td>gambiae</td>\n",
       "      <td>2014</td>\n",
       "      <td>7</td>\n",
       "      <td>Burkina Faso</td>\n",
       "      <td>BF-09</td>\n",
       "      <td>Hauts-Bassins</td>\n",
       "      <td>Houet</td>\n",
       "      <td>-4.312283</td>\n",
       "      <td>11.206109</td>\n",
       "    </tr>\n",
       "    <tr>\n",
       "      <th>5</th>\n",
       "      <td>GM-M_gcx1_2019</td>\n",
       "      <td>0.015548</td>\n",
       "      <td>0.015548</td>\n",
       "      <td>-3.489374e-09</td>\n",
       "      <td>0.000108</td>\n",
       "      <td>0.000423</td>\n",
       "      <td>0.015336</td>\n",
       "      <td>0.015760</td>\n",
       "      <td>0.025311</td>\n",
       "      <td>0.025311</td>\n",
       "      <td>...</td>\n",
       "      <td>-1.497412</td>\n",
       "      <td>gcx1</td>\n",
       "      <td>2019</td>\n",
       "      <td>10</td>\n",
       "      <td>Gambia, The</td>\n",
       "      <td>GM-M</td>\n",
       "      <td>Kuntaur</td>\n",
       "      <td>[Niani, Nianija]</td>\n",
       "      <td>-14.842966</td>\n",
       "      <td>13.615207</td>\n",
       "    </tr>\n",
       "    <tr>\n",
       "      <th>7</th>\n",
       "      <td>GM-N_gcx1_2011</td>\n",
       "      <td>0.015305</td>\n",
       "      <td>0.015305</td>\n",
       "      <td>-3.404673e-09</td>\n",
       "      <td>0.000106</td>\n",
       "      <td>0.000417</td>\n",
       "      <td>0.015097</td>\n",
       "      <td>0.015514</td>\n",
       "      <td>0.023350</td>\n",
       "      <td>0.023350</td>\n",
       "      <td>...</td>\n",
       "      <td>-1.332318</td>\n",
       "      <td>gcx1</td>\n",
       "      <td>2011</td>\n",
       "      <td>[8, 9, 10]</td>\n",
       "      <td>Gambia, The</td>\n",
       "      <td>GM-N</td>\n",
       "      <td>Kerewan</td>\n",
       "      <td>Central Badibu</td>\n",
       "      <td>-15.900000</td>\n",
       "      <td>13.550000</td>\n",
       "    </tr>\n",
       "    <tr>\n",
       "      <th>8</th>\n",
       "      <td>GM-N_gcx1_2019</td>\n",
       "      <td>0.015515</td>\n",
       "      <td>0.015515</td>\n",
       "      <td>-3.477841e-09</td>\n",
       "      <td>0.000105</td>\n",
       "      <td>0.000410</td>\n",
       "      <td>0.015310</td>\n",
       "      <td>0.015720</td>\n",
       "      <td>0.024284</td>\n",
       "      <td>0.024284</td>\n",
       "      <td>...</td>\n",
       "      <td>-1.400308</td>\n",
       "      <td>gcx1</td>\n",
       "      <td>2019</td>\n",
       "      <td>10</td>\n",
       "      <td>Gambia, The</td>\n",
       "      <td>GM-N</td>\n",
       "      <td>Kerewan</td>\n",
       "      <td>[Illiasa, Lower Niumi, Sabach Sanjar]</td>\n",
       "      <td>-15.722125</td>\n",
       "      <td>13.493000</td>\n",
       "    </tr>\n",
       "    <tr>\n",
       "      <th>9</th>\n",
       "      <td>GM-N_gcx1_2021</td>\n",
       "      <td>0.015373</td>\n",
       "      <td>0.015373</td>\n",
       "      <td>-1.488190e-09</td>\n",
       "      <td>0.000105</td>\n",
       "      <td>0.000412</td>\n",
       "      <td>0.015167</td>\n",
       "      <td>0.015579</td>\n",
       "      <td>0.023610</td>\n",
       "      <td>0.023610</td>\n",
       "      <td>...</td>\n",
       "      <td>-1.351067</td>\n",
       "      <td>gcx1</td>\n",
       "      <td>2021</td>\n",
       "      <td>9</td>\n",
       "      <td>Gambia, The</td>\n",
       "      <td>GM-N</td>\n",
       "      <td>Kerewan</td>\n",
       "      <td>[Central Badibu, Illiasa, Lower Niumi]</td>\n",
       "      <td>-15.848053</td>\n",
       "      <td>13.559526</td>\n",
       "    </tr>\n",
       "  </tbody>\n",
       "</table>\n",
       "<p>6 rows × 31 columns</p>\n",
       "</div>"
      ],
      "text/plain": [
       "            cohort  theta_pi  theta_pi_estimate  theta_pi_bias  \\\n",
       "0  BF-09_colu_2014  0.015326           0.015326  -3.411990e-09   \n",
       "1  BF-09_gamb_2014  0.015607           0.015607  -3.509818e-09   \n",
       "5   GM-M_gcx1_2019  0.015548           0.015548  -3.489374e-09   \n",
       "7   GM-N_gcx1_2011  0.015305           0.015305  -3.404673e-09   \n",
       "8   GM-N_gcx1_2019  0.015515           0.015515  -3.477841e-09   \n",
       "9   GM-N_gcx1_2021  0.015373           0.015373  -1.488190e-09   \n",
       "\n",
       "   theta_pi_std_err  theta_pi_ci_err  theta_pi_ci_low  theta_pi_ci_upp  \\\n",
       "0          0.000104         0.000408         0.015122         0.015530   \n",
       "1          0.000112         0.000438         0.015387         0.015826   \n",
       "5          0.000108         0.000423         0.015336         0.015760   \n",
       "7          0.000106         0.000417         0.015097         0.015514   \n",
       "8          0.000105         0.000410         0.015310         0.015720   \n",
       "9          0.000105         0.000412         0.015167         0.015579   \n",
       "\n",
       "    theta_w  theta_w_estimate  ...  tajima_d_ci_upp     taxon  year  \\\n",
       "0  0.025669          0.025669  ...        -1.567596  coluzzii  2014   \n",
       "1  0.027311          0.027311  ...        -1.667693   gambiae  2014   \n",
       "5  0.025311          0.025311  ...        -1.497412      gcx1  2019   \n",
       "7  0.023350          0.023350  ...        -1.332318      gcx1  2011   \n",
       "8  0.024284          0.024284  ...        -1.400308      gcx1  2019   \n",
       "9  0.023610          0.023610  ...        -1.351067      gcx1  2021   \n",
       "\n",
       "        month       country  admin1_iso    admin1_name  \\\n",
       "0           7  Burkina Faso       BF-09  Hauts-Bassins   \n",
       "1           7  Burkina Faso       BF-09  Hauts-Bassins   \n",
       "5          10   Gambia, The        GM-M        Kuntaur   \n",
       "7  [8, 9, 10]   Gambia, The        GM-N        Kerewan   \n",
       "8          10   Gambia, The        GM-N        Kerewan   \n",
       "9           9   Gambia, The        GM-N        Kerewan   \n",
       "\n",
       "                              admin2_name  longitude   latitude  \n",
       "0                                   Houet  -4.445170  11.233566  \n",
       "1                                   Houet  -4.312283  11.206109  \n",
       "5                        [Niani, Nianija] -14.842966  13.615207  \n",
       "7                          Central Badibu -15.900000  13.550000  \n",
       "8   [Illiasa, Lower Niumi, Sabach Sanjar] -15.722125  13.493000  \n",
       "9  [Central Badibu, Illiasa, Lower Niumi] -15.848053  13.559526  \n",
       "\n",
       "[6 rows x 31 columns]"
      ]
     },
     "execution_count": 82,
     "metadata": {},
     "output_type": "execute_result"
    }
   ],
   "source": [
    "subset_df"
   ]
  },
  {
   "cell_type": "code",
   "execution_count": 83,
   "id": "7e8d8fd4-40b4-484f-91bd-2e9695ba72cf",
   "metadata": {},
   "outputs": [
    {
     "data": {
      "text/plain": [
       "array(['BF-09_colu_2014', 'BF-09_gamb_2014', 'GM-M_gcx1_2019',\n",
       "       'GM-N_gcx1_2011', 'GM-N_gcx1_2019', 'GM-N_gcx1_2021'], dtype=object)"
      ]
     },
     "execution_count": 83,
     "metadata": {},
     "output_type": "execute_result"
    }
   ],
   "source": [
    "subset_df.cohort.unique()"
   ]
  },
  {
   "cell_type": "code",
   "execution_count": 105,
   "id": "c6c98688-6774-49b9-9728-3f9014589249",
   "metadata": {},
   "outputs": [
    {
     "data": {
      "application/vnd.plotly.v1+json": {
       "config": {
        "plotlyServerURL": "https://plot.ly"
       },
       "data": [
        {
         "alignmentgroup": "True",
         "customdata": [
          [
           "coluzzii",
           "Burkina Faso",
           "BF-09",
           "Hauts-Bassins",
           "Houet",
           2014,
           7
          ]
         ],
         "error_y": {
          "array": [
           0.024726061214786172
          ]
         },
         "hovertemplate": "<b>%{hovertext}</b><br><br>taxon=%{customdata[0]}<br>cohort=%{x}<br>tajima_d_estimate=%{y}<br>country=%{customdata[1]}<br>admin1_iso=%{customdata[2]}<br>admin1_name=%{customdata[3]}<br>admin2_name=%{customdata[4]}<br>year=%{customdata[5]}<br>month=%{customdata[6]}<extra></extra>",
         "hovertext": [
          "BF-09_colu_2014"
         ],
         "legendgroup": "coluzzii",
         "marker": {
          "color": "rgb(228,26,28)",
          "pattern": {
           "shape": ""
          }
         },
         "name": "coluzzii",
         "offsetgroup": "coluzzii",
         "orientation": "v",
         "showlegend": true,
         "textposition": "auto",
         "type": "bar",
         "x": [
          "BF-09_colu_2014"
         ],
         "xaxis": "x",
         "y": [
          -1.579958536389947
         ],
         "yaxis": "y"
        },
        {
         "alignmentgroup": "True",
         "customdata": [
          [
           "gambiae",
           "Burkina Faso",
           "BF-09",
           "Hauts-Bassins",
           "Houet",
           2014,
           7
          ]
         ],
         "error_y": {
          "array": [
           0.0255785808263909
          ]
         },
         "hovertemplate": "<b>%{hovertext}</b><br><br>taxon=%{customdata[0]}<br>cohort=%{x}<br>tajima_d_estimate=%{y}<br>country=%{customdata[1]}<br>admin1_iso=%{customdata[2]}<br>admin1_name=%{customdata[3]}<br>admin2_name=%{customdata[4]}<br>year=%{customdata[5]}<br>month=%{customdata[6]}<extra></extra>",
         "hovertext": [
          "BF-09_gamb_2014"
         ],
         "legendgroup": "gambiae",
         "marker": {
          "color": "#1616A7",
          "pattern": {
           "shape": ""
          }
         },
         "name": "gambiae",
         "offsetgroup": "gambiae",
         "orientation": "v",
         "showlegend": true,
         "textposition": "auto",
         "type": "bar",
         "x": [
          "BF-09_gamb_2014"
         ],
         "xaxis": "x",
         "y": [
          -1.6804821628302482
         ],
         "yaxis": "y"
        },
        {
         "alignmentgroup": "True",
         "customdata": [
          [
           "gcx1",
           "Gambia, The",
           "GM-M",
           "Kuntaur",
           [
            "Niani",
            "Nianija"
           ],
           2019,
           10
          ],
          [
           "gcx1",
           "Gambia, The",
           "GM-N",
           "Kerewan",
           "Central Badibu",
           2011,
           [
            8,
            9,
            10
           ]
          ],
          [
           "gcx1",
           "Gambia, The",
           "GM-N",
           "Kerewan",
           [
            "Illiasa",
            "Lower Niumi",
            "Sabach Sanjar"
           ],
           2019,
           10
          ],
          [
           "gcx1",
           "Gambia, The",
           "GM-N",
           "Kerewan",
           [
            "Central Badibu",
            "Illiasa",
            "Lower Niumi"
           ],
           2021,
           9
          ]
         ],
         "error_y": {
          "array": [
           0.030239000206906157,
           0.03737561977961609,
           0.03142363013239491,
           0.034077049566349195
          ]
         },
         "hovertemplate": "<b>%{hovertext}</b><br><br>taxon=%{customdata[0]}<br>cohort=%{x}<br>tajima_d_estimate=%{y}<br>country=%{customdata[1]}<br>admin1_iso=%{customdata[2]}<br>admin1_name=%{customdata[3]}<br>admin2_name=%{customdata[4]}<br>year=%{customdata[5]}<br>month=%{customdata[6]}<extra></extra>",
         "hovertext": [
          "GM-M_gcx1_2019",
          "GM-N_gcx1_2011",
          "GM-N_gcx1_2019",
          "GM-N_gcx1_2021"
         ],
         "legendgroup": "gcx1",
         "marker": {
          "color": "#1CA71C",
          "pattern": {
           "shape": ""
          }
         },
         "name": "gcx1",
         "offsetgroup": "gcx1",
         "orientation": "v",
         "showlegend": true,
         "textposition": "auto",
         "type": "bar",
         "x": [
          "GM-M_gcx1_2019",
          "GM-N_gcx1_2011",
          "GM-N_gcx1_2019",
          "GM-N_gcx1_2021"
         ],
         "xaxis": "x",
         "y": [
          -1.5125312371905708,
          -1.3510054086063863,
          -1.4160200806822862,
          -1.368105064467052
         ],
         "yaxis": "y"
        }
       ],
       "layout": {
        "barmode": "relative",
        "height": 650,
        "legend": {
         "title": {
          "text": "taxon"
         },
         "tracegroupgap": 0
        },
        "template": {
         "data": {
          "bar": [
           {
            "error_x": {
             "color": "#2a3f5f"
            },
            "error_y": {
             "color": "#2a3f5f"
            },
            "marker": {
             "line": {
              "color": "white",
              "width": 0.5
             },
             "pattern": {
              "fillmode": "overlay",
              "size": 10,
              "solidity": 0.2
             }
            },
            "type": "bar"
           }
          ],
          "barpolar": [
           {
            "marker": {
             "line": {
              "color": "white",
              "width": 0.5
             },
             "pattern": {
              "fillmode": "overlay",
              "size": 10,
              "solidity": 0.2
             }
            },
            "type": "barpolar"
           }
          ],
          "carpet": [
           {
            "aaxis": {
             "endlinecolor": "#2a3f5f",
             "gridcolor": "#C8D4E3",
             "linecolor": "#C8D4E3",
             "minorgridcolor": "#C8D4E3",
             "startlinecolor": "#2a3f5f"
            },
            "baxis": {
             "endlinecolor": "#2a3f5f",
             "gridcolor": "#C8D4E3",
             "linecolor": "#C8D4E3",
             "minorgridcolor": "#C8D4E3",
             "startlinecolor": "#2a3f5f"
            },
            "type": "carpet"
           }
          ],
          "choropleth": [
           {
            "colorbar": {
             "outlinewidth": 0,
             "ticks": ""
            },
            "type": "choropleth"
           }
          ],
          "contour": [
           {
            "colorbar": {
             "outlinewidth": 0,
             "ticks": ""
            },
            "colorscale": [
             [
              0,
              "#0d0887"
             ],
             [
              0.1111111111111111,
              "#46039f"
             ],
             [
              0.2222222222222222,
              "#7201a8"
             ],
             [
              0.3333333333333333,
              "#9c179e"
             ],
             [
              0.4444444444444444,
              "#bd3786"
             ],
             [
              0.5555555555555556,
              "#d8576b"
             ],
             [
              0.6666666666666666,
              "#ed7953"
             ],
             [
              0.7777777777777778,
              "#fb9f3a"
             ],
             [
              0.8888888888888888,
              "#fdca26"
             ],
             [
              1,
              "#f0f921"
             ]
            ],
            "type": "contour"
           }
          ],
          "contourcarpet": [
           {
            "colorbar": {
             "outlinewidth": 0,
             "ticks": ""
            },
            "type": "contourcarpet"
           }
          ],
          "heatmap": [
           {
            "colorbar": {
             "outlinewidth": 0,
             "ticks": ""
            },
            "colorscale": [
             [
              0,
              "#0d0887"
             ],
             [
              0.1111111111111111,
              "#46039f"
             ],
             [
              0.2222222222222222,
              "#7201a8"
             ],
             [
              0.3333333333333333,
              "#9c179e"
             ],
             [
              0.4444444444444444,
              "#bd3786"
             ],
             [
              0.5555555555555556,
              "#d8576b"
             ],
             [
              0.6666666666666666,
              "#ed7953"
             ],
             [
              0.7777777777777778,
              "#fb9f3a"
             ],
             [
              0.8888888888888888,
              "#fdca26"
             ],
             [
              1,
              "#f0f921"
             ]
            ],
            "type": "heatmap"
           }
          ],
          "heatmapgl": [
           {
            "colorbar": {
             "outlinewidth": 0,
             "ticks": ""
            },
            "colorscale": [
             [
              0,
              "#0d0887"
             ],
             [
              0.1111111111111111,
              "#46039f"
             ],
             [
              0.2222222222222222,
              "#7201a8"
             ],
             [
              0.3333333333333333,
              "#9c179e"
             ],
             [
              0.4444444444444444,
              "#bd3786"
             ],
             [
              0.5555555555555556,
              "#d8576b"
             ],
             [
              0.6666666666666666,
              "#ed7953"
             ],
             [
              0.7777777777777778,
              "#fb9f3a"
             ],
             [
              0.8888888888888888,
              "#fdca26"
             ],
             [
              1,
              "#f0f921"
             ]
            ],
            "type": "heatmapgl"
           }
          ],
          "histogram": [
           {
            "marker": {
             "pattern": {
              "fillmode": "overlay",
              "size": 10,
              "solidity": 0.2
             }
            },
            "type": "histogram"
           }
          ],
          "histogram2d": [
           {
            "colorbar": {
             "outlinewidth": 0,
             "ticks": ""
            },
            "colorscale": [
             [
              0,
              "#0d0887"
             ],
             [
              0.1111111111111111,
              "#46039f"
             ],
             [
              0.2222222222222222,
              "#7201a8"
             ],
             [
              0.3333333333333333,
              "#9c179e"
             ],
             [
              0.4444444444444444,
              "#bd3786"
             ],
             [
              0.5555555555555556,
              "#d8576b"
             ],
             [
              0.6666666666666666,
              "#ed7953"
             ],
             [
              0.7777777777777778,
              "#fb9f3a"
             ],
             [
              0.8888888888888888,
              "#fdca26"
             ],
             [
              1,
              "#f0f921"
             ]
            ],
            "type": "histogram2d"
           }
          ],
          "histogram2dcontour": [
           {
            "colorbar": {
             "outlinewidth": 0,
             "ticks": ""
            },
            "colorscale": [
             [
              0,
              "#0d0887"
             ],
             [
              0.1111111111111111,
              "#46039f"
             ],
             [
              0.2222222222222222,
              "#7201a8"
             ],
             [
              0.3333333333333333,
              "#9c179e"
             ],
             [
              0.4444444444444444,
              "#bd3786"
             ],
             [
              0.5555555555555556,
              "#d8576b"
             ],
             [
              0.6666666666666666,
              "#ed7953"
             ],
             [
              0.7777777777777778,
              "#fb9f3a"
             ],
             [
              0.8888888888888888,
              "#fdca26"
             ],
             [
              1,
              "#f0f921"
             ]
            ],
            "type": "histogram2dcontour"
           }
          ],
          "mesh3d": [
           {
            "colorbar": {
             "outlinewidth": 0,
             "ticks": ""
            },
            "type": "mesh3d"
           }
          ],
          "parcoords": [
           {
            "line": {
             "colorbar": {
              "outlinewidth": 0,
              "ticks": ""
             }
            },
            "type": "parcoords"
           }
          ],
          "pie": [
           {
            "automargin": true,
            "type": "pie"
           }
          ],
          "scatter": [
           {
            "fillpattern": {
             "fillmode": "overlay",
             "size": 10,
             "solidity": 0.2
            },
            "type": "scatter"
           }
          ],
          "scatter3d": [
           {
            "line": {
             "colorbar": {
              "outlinewidth": 0,
              "ticks": ""
             }
            },
            "marker": {
             "colorbar": {
              "outlinewidth": 0,
              "ticks": ""
             }
            },
            "type": "scatter3d"
           }
          ],
          "scattercarpet": [
           {
            "marker": {
             "colorbar": {
              "outlinewidth": 0,
              "ticks": ""
             }
            },
            "type": "scattercarpet"
           }
          ],
          "scattergeo": [
           {
            "marker": {
             "colorbar": {
              "outlinewidth": 0,
              "ticks": ""
             }
            },
            "type": "scattergeo"
           }
          ],
          "scattergl": [
           {
            "marker": {
             "colorbar": {
              "outlinewidth": 0,
              "ticks": ""
             }
            },
            "type": "scattergl"
           }
          ],
          "scattermapbox": [
           {
            "marker": {
             "colorbar": {
              "outlinewidth": 0,
              "ticks": ""
             }
            },
            "type": "scattermapbox"
           }
          ],
          "scatterpolar": [
           {
            "marker": {
             "colorbar": {
              "outlinewidth": 0,
              "ticks": ""
             }
            },
            "type": "scatterpolar"
           }
          ],
          "scatterpolargl": [
           {
            "marker": {
             "colorbar": {
              "outlinewidth": 0,
              "ticks": ""
             }
            },
            "type": "scatterpolargl"
           }
          ],
          "scatterternary": [
           {
            "marker": {
             "colorbar": {
              "outlinewidth": 0,
              "ticks": ""
             }
            },
            "type": "scatterternary"
           }
          ],
          "surface": [
           {
            "colorbar": {
             "outlinewidth": 0,
             "ticks": ""
            },
            "colorscale": [
             [
              0,
              "#0d0887"
             ],
             [
              0.1111111111111111,
              "#46039f"
             ],
             [
              0.2222222222222222,
              "#7201a8"
             ],
             [
              0.3333333333333333,
              "#9c179e"
             ],
             [
              0.4444444444444444,
              "#bd3786"
             ],
             [
              0.5555555555555556,
              "#d8576b"
             ],
             [
              0.6666666666666666,
              "#ed7953"
             ],
             [
              0.7777777777777778,
              "#fb9f3a"
             ],
             [
              0.8888888888888888,
              "#fdca26"
             ],
             [
              1,
              "#f0f921"
             ]
            ],
            "type": "surface"
           }
          ],
          "table": [
           {
            "cells": {
             "fill": {
              "color": "#EBF0F8"
             },
             "line": {
              "color": "white"
             }
            },
            "header": {
             "fill": {
              "color": "#C8D4E3"
             },
             "line": {
              "color": "white"
             }
            },
            "type": "table"
           }
          ]
         },
         "layout": {
          "annotationdefaults": {
           "arrowcolor": "#2a3f5f",
           "arrowhead": 0,
           "arrowwidth": 1
          },
          "autotypenumbers": "strict",
          "coloraxis": {
           "colorbar": {
            "outlinewidth": 0,
            "ticks": ""
           }
          },
          "colorscale": {
           "diverging": [
            [
             0,
             "#8e0152"
            ],
            [
             0.1,
             "#c51b7d"
            ],
            [
             0.2,
             "#de77ae"
            ],
            [
             0.3,
             "#f1b6da"
            ],
            [
             0.4,
             "#fde0ef"
            ],
            [
             0.5,
             "#f7f7f7"
            ],
            [
             0.6,
             "#e6f5d0"
            ],
            [
             0.7,
             "#b8e186"
            ],
            [
             0.8,
             "#7fbc41"
            ],
            [
             0.9,
             "#4d9221"
            ],
            [
             1,
             "#276419"
            ]
           ],
           "sequential": [
            [
             0,
             "#0d0887"
            ],
            [
             0.1111111111111111,
             "#46039f"
            ],
            [
             0.2222222222222222,
             "#7201a8"
            ],
            [
             0.3333333333333333,
             "#9c179e"
            ],
            [
             0.4444444444444444,
             "#bd3786"
            ],
            [
             0.5555555555555556,
             "#d8576b"
            ],
            [
             0.6666666666666666,
             "#ed7953"
            ],
            [
             0.7777777777777778,
             "#fb9f3a"
            ],
            [
             0.8888888888888888,
             "#fdca26"
            ],
            [
             1,
             "#f0f921"
            ]
           ],
           "sequentialminus": [
            [
             0,
             "#0d0887"
            ],
            [
             0.1111111111111111,
             "#46039f"
            ],
            [
             0.2222222222222222,
             "#7201a8"
            ],
            [
             0.3333333333333333,
             "#9c179e"
            ],
            [
             0.4444444444444444,
             "#bd3786"
            ],
            [
             0.5555555555555556,
             "#d8576b"
            ],
            [
             0.6666666666666666,
             "#ed7953"
            ],
            [
             0.7777777777777778,
             "#fb9f3a"
            ],
            [
             0.8888888888888888,
             "#fdca26"
            ],
            [
             1,
             "#f0f921"
            ]
           ]
          },
          "colorway": [
           "#636efa",
           "#EF553B",
           "#00cc96",
           "#ab63fa",
           "#FFA15A",
           "#19d3f3",
           "#FF6692",
           "#B6E880",
           "#FF97FF",
           "#FECB52"
          ],
          "font": {
           "color": "#2a3f5f"
          },
          "geo": {
           "bgcolor": "white",
           "lakecolor": "white",
           "landcolor": "white",
           "showlakes": true,
           "showland": true,
           "subunitcolor": "#C8D4E3"
          },
          "hoverlabel": {
           "align": "left"
          },
          "hovermode": "closest",
          "mapbox": {
           "style": "light"
          },
          "paper_bgcolor": "white",
          "plot_bgcolor": "white",
          "polar": {
           "angularaxis": {
            "gridcolor": "#EBF0F8",
            "linecolor": "#EBF0F8",
            "ticks": ""
           },
           "bgcolor": "white",
           "radialaxis": {
            "gridcolor": "#EBF0F8",
            "linecolor": "#EBF0F8",
            "ticks": ""
           }
          },
          "scene": {
           "xaxis": {
            "backgroundcolor": "white",
            "gridcolor": "#DFE8F3",
            "gridwidth": 2,
            "linecolor": "#EBF0F8",
            "showbackground": true,
            "ticks": "",
            "zerolinecolor": "#EBF0F8"
           },
           "yaxis": {
            "backgroundcolor": "white",
            "gridcolor": "#DFE8F3",
            "gridwidth": 2,
            "linecolor": "#EBF0F8",
            "showbackground": true,
            "ticks": "",
            "zerolinecolor": "#EBF0F8"
           },
           "zaxis": {
            "backgroundcolor": "white",
            "gridcolor": "#DFE8F3",
            "gridwidth": 2,
            "linecolor": "#EBF0F8",
            "showbackground": true,
            "ticks": "",
            "zerolinecolor": "#EBF0F8"
           }
          },
          "shapedefaults": {
           "line": {
            "color": "#2a3f5f"
           }
          },
          "ternary": {
           "aaxis": {
            "gridcolor": "#DFE8F3",
            "linecolor": "#A2B1C6",
            "ticks": ""
           },
           "baxis": {
            "gridcolor": "#DFE8F3",
            "linecolor": "#A2B1C6",
            "ticks": ""
           },
           "bgcolor": "white",
           "caxis": {
            "gridcolor": "#DFE8F3",
            "linecolor": "#A2B1C6",
            "ticks": ""
           }
          },
          "title": {
           "x": 0.05
          },
          "xaxis": {
           "automargin": true,
           "gridcolor": "#EBF0F8",
           "linecolor": "#EBF0F8",
           "ticks": "",
           "title": {
            "standoff": 15
           },
           "zerolinecolor": "#EBF0F8",
           "zerolinewidth": 2
          },
          "yaxis": {
           "automargin": true,
           "gridcolor": "#EBF0F8",
           "linecolor": "#EBF0F8",
           "ticks": "",
           "title": {
            "standoff": 15
           },
           "zerolinecolor": "#EBF0F8",
           "zerolinewidth": 2
          }
         }
        },
        "title": {
         "text": "Tajima's D"
        },
        "width": 800,
        "xaxis": {
         "anchor": "y",
         "autorange": true,
         "categoryarray": [
          "BF-09_colu_2014",
          "BF-09_gamb_2014",
          "GM-N_gcx1_2011",
          "GM-N_gcx1_2019",
          "GM-N_gcx1_2021",
          "GM-M_gcx1_2019"
         ],
         "categoryorder": "array",
         "domain": [
          0,
          1
         ],
         "range": [
          -0.5,
          5.5
         ],
         "title": {
          "text": "cohort"
         },
         "type": "category"
        },
        "yaxis": {
         "anchor": "x",
         "autorange": true,
         "domain": [
          0,
          1
         ],
         "range": [
          -1.7958534143754095,
          0
         ],
         "title": {
          "text": "tajima_d_estimate"
         },
         "type": "linear"
        }
       }
      },
      "image/png": "[encoded data removed]",
      "text/html": [
       "<div>                            <div id=\"4d1c61b5-dc71-422d-abd2-51a00d9047a0\" class=\"plotly-graph-div\" style=\"height:650px; width:800px;\"></div>            <script type=\"text/javascript\">                require([\"plotly\"], function(Plotly) {                    window.PLOTLYENV=window.PLOTLYENV || {};                                    if (document.getElementById(\"4d1c61b5-dc71-422d-abd2-51a00d9047a0\")) {                    Plotly.newPlot(                        \"4d1c61b5-dc71-422d-abd2-51a00d9047a0\",                        [{\"alignmentgroup\":\"True\",\"customdata\":[[\"coluzzii\",\"Burkina Faso\",\"BF-09\",\"Hauts-Bassins\",\"Houet\",2014,7]],\"error_y\":{\"array\":[0.024726061214786172]},\"hovertemplate\":\"\\u003cb\\u003e%{hovertext}\\u003c\\u002fb\\u003e\\u003cbr\\u003e\\u003cbr\\u003etaxon=%{customdata[0]}\\u003cbr\\u003ecohort=%{x}\\u003cbr\\u003etajima_d_estimate=%{y}\\u003cbr\\u003ecountry=%{customdata[1]}\\u003cbr\\u003eadmin1_iso=%{customdata[2]}\\u003cbr\\u003eadmin1_name=%{customdata[3]}\\u003cbr\\u003eadmin2_name=%{customdata[4]}\\u003cbr\\u003eyear=%{customdata[5]}\\u003cbr\\u003emonth=%{customdata[6]}\\u003cextra\\u003e\\u003c\\u002fextra\\u003e\",\"hovertext\":[\"BF-09_colu_2014\"],\"legendgroup\":\"coluzzii\",\"marker\":{\"color\":\"rgb(228,26,28)\",\"pattern\":{\"shape\":\"\"}},\"name\":\"coluzzii\",\"offsetgroup\":\"coluzzii\",\"orientation\":\"v\",\"showlegend\":true,\"textposition\":\"auto\",\"x\":[\"BF-09_colu_2014\"],\"xaxis\":\"x\",\"y\":[-1.579958536389947],\"yaxis\":\"y\",\"type\":\"bar\"},{\"alignmentgroup\":\"True\",\"customdata\":[[\"gambiae\",\"Burkina Faso\",\"BF-09\",\"Hauts-Bassins\",\"Houet\",2014,7]],\"error_y\":{\"array\":[0.0255785808263909]},\"hovertemplate\":\"\\u003cb\\u003e%{hovertext}\\u003c\\u002fb\\u003e\\u003cbr\\u003e\\u003cbr\\u003etaxon=%{customdata[0]}\\u003cbr\\u003ecohort=%{x}\\u003cbr\\u003etajima_d_estimate=%{y}\\u003cbr\\u003ecountry=%{customdata[1]}\\u003cbr\\u003eadmin1_iso=%{customdata[2]}\\u003cbr\\u003eadmin1_name=%{customdata[3]}\\u003cbr\\u003eadmin2_name=%{customdata[4]}\\u003cbr\\u003eyear=%{customdata[5]}\\u003cbr\\u003emonth=%{customdata[6]}\\u003cextra\\u003e\\u003c\\u002fextra\\u003e\",\"hovertext\":[\"BF-09_gamb_2014\"],\"legendgroup\":\"gambiae\",\"marker\":{\"color\":\"#1616A7\",\"pattern\":{\"shape\":\"\"}},\"name\":\"gambiae\",\"offsetgroup\":\"gambiae\",\"orientation\":\"v\",\"showlegend\":true,\"textposition\":\"auto\",\"x\":[\"BF-09_gamb_2014\"],\"xaxis\":\"x\",\"y\":[-1.6804821628302482],\"yaxis\":\"y\",\"type\":\"bar\"},{\"alignmentgroup\":\"True\",\"customdata\":[[\"gcx1\",\"Gambia, The\",\"GM-M\",\"Kuntaur\",[\"Niani\",\"Nianija\"],2019,10],[\"gcx1\",\"Gambia, The\",\"GM-N\",\"Kerewan\",\"Central Badibu\",2011,[8,9,10]],[\"gcx1\",\"Gambia, The\",\"GM-N\",\"Kerewan\",[\"Illiasa\",\"Lower Niumi\",\"Sabach Sanjar\"],2019,10],[\"gcx1\",\"Gambia, The\",\"GM-N\",\"Kerewan\",[\"Central Badibu\",\"Illiasa\",\"Lower Niumi\"],2021,9]],\"error_y\":{\"array\":[0.030239000206906157,0.03737561977961609,0.03142363013239491,0.034077049566349195]},\"hovertemplate\":\"\\u003cb\\u003e%{hovertext}\\u003c\\u002fb\\u003e\\u003cbr\\u003e\\u003cbr\\u003etaxon=%{customdata[0]}\\u003cbr\\u003ecohort=%{x}\\u003cbr\\u003etajima_d_estimate=%{y}\\u003cbr\\u003ecountry=%{customdata[1]}\\u003cbr\\u003eadmin1_iso=%{customdata[2]}\\u003cbr\\u003eadmin1_name=%{customdata[3]}\\u003cbr\\u003eadmin2_name=%{customdata[4]}\\u003cbr\\u003eyear=%{customdata[5]}\\u003cbr\\u003emonth=%{customdata[6]}\\u003cextra\\u003e\\u003c\\u002fextra\\u003e\",\"hovertext\":[\"GM-M_gcx1_2019\",\"GM-N_gcx1_2011\",\"GM-N_gcx1_2019\",\"GM-N_gcx1_2021\"],\"legendgroup\":\"gcx1\",\"marker\":{\"color\":\"#1CA71C\",\"pattern\":{\"shape\":\"\"}},\"name\":\"gcx1\",\"offsetgroup\":\"gcx1\",\"orientation\":\"v\",\"showlegend\":true,\"textposition\":\"auto\",\"x\":[\"GM-M_gcx1_2019\",\"GM-N_gcx1_2011\",\"GM-N_gcx1_2019\",\"GM-N_gcx1_2021\"],\"xaxis\":\"x\",\"y\":[-1.5125312371905708,-1.3510054086063863,-1.4160200806822862,-1.368105064467052],\"yaxis\":\"y\",\"type\":\"bar\"}],                        {\"template\":{\"data\":{\"barpolar\":[{\"marker\":{\"line\":{\"color\":\"white\",\"width\":0.5},\"pattern\":{\"fillmode\":\"overlay\",\"size\":10,\"solidity\":0.2}},\"type\":\"barpolar\"}],\"bar\":[{\"error_x\":{\"color\":\"#2a3f5f\"},\"error_y\":{\"color\":\"#2a3f5f\"},\"marker\":{\"line\":{\"color\":\"white\",\"width\":0.5},\"pattern\":{\"fillmode\":\"overlay\",\"size\":10,\"solidity\":0.2}},\"type\":\"bar\"}],\"carpet\":[{\"aaxis\":{\"endlinecolor\":\"#2a3f5f\",\"gridcolor\":\"#C8D4E3\",\"linecolor\":\"#C8D4E3\",\"minorgridcolor\":\"#C8D4E3\",\"startlinecolor\":\"#2a3f5f\"},\"baxis\":{\"endlinecolor\":\"#2a3f5f\",\"gridcolor\":\"#C8D4E3\",\"linecolor\":\"#C8D4E3\",\"minorgridcolor\":\"#C8D4E3\",\"startlinecolor\":\"#2a3f5f\"},\"type\":\"carpet\"}],\"choropleth\":[{\"colorbar\":{\"outlinewidth\":0,\"ticks\":\"\"},\"type\":\"choropleth\"}],\"contourcarpet\":[{\"colorbar\":{\"outlinewidth\":0,\"ticks\":\"\"},\"type\":\"contourcarpet\"}],\"contour\":[{\"colorbar\":{\"outlinewidth\":0,\"ticks\":\"\"},\"colorscale\":[[0.0,\"#0d0887\"],[0.1111111111111111,\"#46039f\"],[0.2222222222222222,\"#7201a8\"],[0.3333333333333333,\"#9c179e\"],[0.4444444444444444,\"#bd3786\"],[0.5555555555555556,\"#d8576b\"],[0.6666666666666666,\"#ed7953\"],[0.7777777777777778,\"#fb9f3a\"],[0.8888888888888888,\"#fdca26\"],[1.0,\"#f0f921\"]],\"type\":\"contour\"}],\"heatmapgl\":[{\"colorbar\":{\"outlinewidth\":0,\"ticks\":\"\"},\"colorscale\":[[0.0,\"#0d0887\"],[0.1111111111111111,\"#46039f\"],[0.2222222222222222,\"#7201a8\"],[0.3333333333333333,\"#9c179e\"],[0.4444444444444444,\"#bd3786\"],[0.5555555555555556,\"#d8576b\"],[0.6666666666666666,\"#ed7953\"],[0.7777777777777778,\"#fb9f3a\"],[0.8888888888888888,\"#fdca26\"],[1.0,\"#f0f921\"]],\"type\":\"heatmapgl\"}],\"heatmap\":[{\"colorbar\":{\"outlinewidth\":0,\"ticks\":\"\"},\"colorscale\":[[0.0,\"#0d0887\"],[0.1111111111111111,\"#46039f\"],[0.2222222222222222,\"#7201a8\"],[0.3333333333333333,\"#9c179e\"],[0.4444444444444444,\"#bd3786\"],[0.5555555555555556,\"#d8576b\"],[0.6666666666666666,\"#ed7953\"],[0.7777777777777778,\"#fb9f3a\"],[0.8888888888888888,\"#fdca26\"],[1.0,\"#f0f921\"]],\"type\":\"heatmap\"}],\"histogram2dcontour\":[{\"colorbar\":{\"outlinewidth\":0,\"ticks\":\"\"},\"colorscale\":[[0.0,\"#0d0887\"],[0.1111111111111111,\"#46039f\"],[0.2222222222222222,\"#7201a8\"],[0.3333333333333333,\"#9c179e\"],[0.4444444444444444,\"#bd3786\"],[0.5555555555555556,\"#d8576b\"],[0.6666666666666666,\"#ed7953\"],[0.7777777777777778,\"#fb9f3a\"],[0.8888888888888888,\"#fdca26\"],[1.0,\"#f0f921\"]],\"type\":\"histogram2dcontour\"}],\"histogram2d\":[{\"colorbar\":{\"outlinewidth\":0,\"ticks\":\"\"},\"colorscale\":[[0.0,\"#0d0887\"],[0.1111111111111111,\"#46039f\"],[0.2222222222222222,\"#7201a8\"],[0.3333333333333333,\"#9c179e\"],[0.4444444444444444,\"#bd3786\"],[0.5555555555555556,\"#d8576b\"],[0.6666666666666666,\"#ed7953\"],[0.7777777777777778,\"#fb9f3a\"],[0.8888888888888888,\"#fdca26\"],[1.0,\"#f0f921\"]],\"type\":\"histogram2d\"}],\"histogram\":[{\"marker\":{\"pattern\":{\"fillmode\":\"overlay\",\"size\":10,\"solidity\":0.2}},\"type\":\"histogram\"}],\"mesh3d\":[{\"colorbar\":{\"outlinewidth\":0,\"ticks\":\"\"},\"type\":\"mesh3d\"}],\"parcoords\":[{\"line\":{\"colorbar\":{\"outlinewidth\":0,\"ticks\":\"\"}},\"type\":\"parcoords\"}],\"pie\":[{\"automargin\":true,\"type\":\"pie\"}],\"scatter3d\":[{\"line\":{\"colorbar\":{\"outlinewidth\":0,\"ticks\":\"\"}},\"marker\":{\"colorbar\":{\"outlinewidth\":0,\"ticks\":\"\"}},\"type\":\"scatter3d\"}],\"scattercarpet\":[{\"marker\":{\"colorbar\":{\"outlinewidth\":0,\"ticks\":\"\"}},\"type\":\"scattercarpet\"}],\"scattergeo\":[{\"marker\":{\"colorbar\":{\"outlinewidth\":0,\"ticks\":\"\"}},\"type\":\"scattergeo\"}],\"scattergl\":[{\"marker\":{\"colorbar\":{\"outlinewidth\":0,\"ticks\":\"\"}},\"type\":\"scattergl\"}],\"scattermapbox\":[{\"marker\":{\"colorbar\":{\"outlinewidth\":0,\"ticks\":\"\"}},\"type\":\"scattermapbox\"}],\"scatterpolargl\":[{\"marker\":{\"colorbar\":{\"outlinewidth\":0,\"ticks\":\"\"}},\"type\":\"scatterpolargl\"}],\"scatterpolar\":[{\"marker\":{\"colorbar\":{\"outlinewidth\":0,\"ticks\":\"\"}},\"type\":\"scatterpolar\"}],\"scatter\":[{\"fillpattern\":{\"fillmode\":\"overlay\",\"size\":10,\"solidity\":0.2},\"type\":\"scatter\"}],\"scatterternary\":[{\"marker\":{\"colorbar\":{\"outlinewidth\":0,\"ticks\":\"\"}},\"type\":\"scatterternary\"}],\"surface\":[{\"colorbar\":{\"outlinewidth\":0,\"ticks\":\"\"},\"colorscale\":[[0.0,\"#0d0887\"],[0.1111111111111111,\"#46039f\"],[0.2222222222222222,\"#7201a8\"],[0.3333333333333333,\"#9c179e\"],[0.4444444444444444,\"#bd3786\"],[0.5555555555555556,\"#d8576b\"],[0.6666666666666666,\"#ed7953\"],[0.7777777777777778,\"#fb9f3a\"],[0.8888888888888888,\"#fdca26\"],[1.0,\"#f0f921\"]],\"type\":\"surface\"}],\"table\":[{\"cells\":{\"fill\":{\"color\":\"#EBF0F8\"},\"line\":{\"color\":\"white\"}},\"header\":{\"fill\":{\"color\":\"#C8D4E3\"},\"line\":{\"color\":\"white\"}},\"type\":\"table\"}]},\"layout\":{\"annotationdefaults\":{\"arrowcolor\":\"#2a3f5f\",\"arrowhead\":0,\"arrowwidth\":1},\"autotypenumbers\":\"strict\",\"coloraxis\":{\"colorbar\":{\"outlinewidth\":0,\"ticks\":\"\"}},\"colorscale\":{\"diverging\":[[0,\"#8e0152\"],[0.1,\"#c51b7d\"],[0.2,\"#de77ae\"],[0.3,\"#f1b6da\"],[0.4,\"#fde0ef\"],[0.5,\"#f7f7f7\"],[0.6,\"#e6f5d0\"],[0.7,\"#b8e186\"],[0.8,\"#7fbc41\"],[0.9,\"#4d9221\"],[1,\"#276419\"]],\"sequential\":[[0.0,\"#0d0887\"],[0.1111111111111111,\"#46039f\"],[0.2222222222222222,\"#7201a8\"],[0.3333333333333333,\"#9c179e\"],[0.4444444444444444,\"#bd3786\"],[0.5555555555555556,\"#d8576b\"],[0.6666666666666666,\"#ed7953\"],[0.7777777777777778,\"#fb9f3a\"],[0.8888888888888888,\"#fdca26\"],[1.0,\"#f0f921\"]],\"sequentialminus\":[[0.0,\"#0d0887\"],[0.1111111111111111,\"#46039f\"],[0.2222222222222222,\"#7201a8\"],[0.3333333333333333,\"#9c179e\"],[0.4444444444444444,\"#bd3786\"],[0.5555555555555556,\"#d8576b\"],[0.6666666666666666,\"#ed7953\"],[0.7777777777777778,\"#fb9f3a\"],[0.8888888888888888,\"#fdca26\"],[1.0,\"#f0f921\"]]},\"colorway\":[\"#636efa\",\"#EF553B\",\"#00cc96\",\"#ab63fa\",\"#FFA15A\",\"#19d3f3\",\"#FF6692\",\"#B6E880\",\"#FF97FF\",\"#FECB52\"],\"font\":{\"color\":\"#2a3f5f\"},\"geo\":{\"bgcolor\":\"white\",\"lakecolor\":\"white\",\"landcolor\":\"white\",\"showlakes\":true,\"showland\":true,\"subunitcolor\":\"#C8D4E3\"},\"hoverlabel\":{\"align\":\"left\"},\"hovermode\":\"closest\",\"mapbox\":{\"style\":\"light\"},\"paper_bgcolor\":\"white\",\"plot_bgcolor\":\"white\",\"polar\":{\"angularaxis\":{\"gridcolor\":\"#EBF0F8\",\"linecolor\":\"#EBF0F8\",\"ticks\":\"\"},\"bgcolor\":\"white\",\"radialaxis\":{\"gridcolor\":\"#EBF0F8\",\"linecolor\":\"#EBF0F8\",\"ticks\":\"\"}},\"scene\":{\"xaxis\":{\"backgroundcolor\":\"white\",\"gridcolor\":\"#DFE8F3\",\"gridwidth\":2,\"linecolor\":\"#EBF0F8\",\"showbackground\":true,\"ticks\":\"\",\"zerolinecolor\":\"#EBF0F8\"},\"yaxis\":{\"backgroundcolor\":\"white\",\"gridcolor\":\"#DFE8F3\",\"gridwidth\":2,\"linecolor\":\"#EBF0F8\",\"showbackground\":true,\"ticks\":\"\",\"zerolinecolor\":\"#EBF0F8\"},\"zaxis\":{\"backgroundcolor\":\"white\",\"gridcolor\":\"#DFE8F3\",\"gridwidth\":2,\"linecolor\":\"#EBF0F8\",\"showbackground\":true,\"ticks\":\"\",\"zerolinecolor\":\"#EBF0F8\"}},\"shapedefaults\":{\"line\":{\"color\":\"#2a3f5f\"}},\"ternary\":{\"aaxis\":{\"gridcolor\":\"#DFE8F3\",\"linecolor\":\"#A2B1C6\",\"ticks\":\"\"},\"baxis\":{\"gridcolor\":\"#DFE8F3\",\"linecolor\":\"#A2B1C6\",\"ticks\":\"\"},\"bgcolor\":\"white\",\"caxis\":{\"gridcolor\":\"#DFE8F3\",\"linecolor\":\"#A2B1C6\",\"ticks\":\"\"}},\"title\":{\"x\":0.05},\"xaxis\":{\"automargin\":true,\"gridcolor\":\"#EBF0F8\",\"linecolor\":\"#EBF0F8\",\"ticks\":\"\",\"title\":{\"standoff\":15},\"zerolinecolor\":\"#EBF0F8\",\"zerolinewidth\":2},\"yaxis\":{\"automargin\":true,\"gridcolor\":\"#EBF0F8\",\"linecolor\":\"#EBF0F8\",\"ticks\":\"\",\"title\":{\"standoff\":15},\"zerolinecolor\":\"#EBF0F8\",\"zerolinewidth\":2}}},\"xaxis\":{\"anchor\":\"y\",\"domain\":[0.0,1.0],\"title\":{\"text\":\"cohort\"},\"categoryorder\":\"array\",\"categoryarray\":[\"BF-09_colu_2014\",\"BF-09_gamb_2014\",\"GM-N_gcx1_2011\",\"GM-N_gcx1_2019\",\"GM-N_gcx1_2021\",\"GM-M_gcx1_2019\"]},\"yaxis\":{\"anchor\":\"x\",\"domain\":[0.0,1.0],\"title\":{\"text\":\"tajima_d_estimate\"}},\"legend\":{\"title\":{\"text\":\"taxon\"},\"tracegroupgap\":0},\"title\":{\"text\":\"Tajima's D\"},\"barmode\":\"relative\",\"height\":650,\"width\":800},                        {\"responsive\": true}                    ).then(function(){\n",
       "                            \n",
       "var gd = document.getElementById('4d1c61b5-dc71-422d-abd2-51a00d9047a0');\n",
       "var x = new MutationObserver(function (mutations, observer) {{\n",
       "        var display = window.getComputedStyle(gd).display;\n",
       "        if (!display || display === 'none') {{\n",
       "            console.log([gd, 'removed!']);\n",
       "            Plotly.purge(gd);\n",
       "            observer.disconnect();\n",
       "        }}\n",
       "}});\n",
       "\n",
       "// Listen for the removal of the full notebook cells\n",
       "var notebookContainer = gd.closest('#notebook-container');\n",
       "if (notebookContainer) {{\n",
       "    x.observe(notebookContainer, {childList: true});\n",
       "}}\n",
       "\n",
       "// Listen for the clearing of the current output cell\n",
       "var outputEl = gd.closest('.output');\n",
       "if (outputEl) {{\n",
       "    x.observe(outputEl, {childList: true});\n",
       "}}\n",
       "\n",
       "                        })                };                });            </script>        </div>"
      ]
     },
     "metadata": {},
     "output_type": "display_data"
    }
   ],
   "source": [
    "fig = px.bar(\n",
    "        data_frame=subset_df,\n",
    "        x=\"cohort\",\n",
    "        y=\"tajima_d_estimate\",\n",
    "        error_y=\"tajima_d_ci_err\",\n",
    "        title=\"Tajima's D\",\n",
    "        color=\"taxon\",\n",
    "    color_discrete_map=species_color_map,\n",
    "        height=650,\n",
    "        width=800,\n",
    "        hover_name=hover_name,\n",
    "        hover_data=hover_data,\n",
    "        #labels={'tajima_d_estimate':r'$D$'},\n",
    "        template=template,\n",
    "        category_orders=category_orders,\n",
    "    )\n",
    "fig.write_image('tajima_gcx1_both.png', scale=2)\n",
    "fig.show()"
   ]
  },
  {
   "cell_type": "code",
   "execution_count": 101,
   "id": "25310901-eab1-4e3d-b009-5d22a3f1c74c",
   "metadata": {},
   "outputs": [],
   "source": [
    "species_palette = px.colors.qualitative.Dark24\n",
    "species_palette2 = px.colors.qualitative.Pastel1\n",
    "species_palette3 = px.colors.qualitative.Set1\n",
    "species_color_map = {\n",
    "    'gambiae':  species_palette[19],\n",
    "    'coluzzii': species_palette3[0],\n",
    "    'gcx1': species_palette[2],\n",
    "}"
   ]
  },
  {
   "cell_type": "code",
   "execution_count": 103,
   "id": "171b8864-32e4-4f54-8e63-dd6f56483179",
   "metadata": {},
   "outputs": [
    {
     "data": {
      "application/vnd.plotly.v1+json": {
       "config": {
        "plotlyServerURL": "https://plot.ly"
       },
       "data": [
        {
         "alignmentgroup": "True",
         "customdata": [
          [
           "coluzzii",
           "Burkina Faso",
           "BF-09",
           "Hauts-Bassins",
           "Houet",
           2014,
           7
          ]
         ],
         "error_y": {
          "array": [
           0.00010413460331874871
          ]
         },
         "hovertemplate": "<b>%{hovertext}</b><br><br>taxon=%{customdata[0]}<br>cohort=%{x}<br>theta_pi_estimate=%{y}<br>country=%{customdata[1]}<br>admin1_iso=%{customdata[2]}<br>admin1_name=%{customdata[3]}<br>admin2_name=%{customdata[4]}<br>year=%{customdata[5]}<br>month=%{customdata[6]}<extra></extra>",
         "hovertext": [
          "BF-09_colu_2014"
         ],
         "legendgroup": "coluzzii",
         "marker": {
          "color": "rgb(228,26,28)",
          "pattern": {
           "shape": ""
          }
         },
         "name": "coluzzii",
         "offsetgroup": "coluzzii",
         "orientation": "v",
         "showlegend": true,
         "textposition": "auto",
         "type": "bar",
         "x": [
          "BF-09_colu_2014"
         ],
         "xaxis": "x",
         "y": [
          0.015326346680759433
         ],
         "yaxis": "y"
        },
        {
         "alignmentgroup": "True",
         "customdata": [
          [
           "gambiae",
           "Burkina Faso",
           "BF-09",
           "Hauts-Bassins",
           "Houet",
           2014,
           7
          ]
         ],
         "error_y": {
          "array": [
           0.0001118526435285193
          ]
         },
         "hovertemplate": "<b>%{hovertext}</b><br><br>taxon=%{customdata[0]}<br>cohort=%{x}<br>theta_pi_estimate=%{y}<br>country=%{customdata[1]}<br>admin1_iso=%{customdata[2]}<br>admin1_name=%{customdata[3]}<br>admin2_name=%{customdata[4]}<br>year=%{customdata[5]}<br>month=%{customdata[6]}<extra></extra>",
         "hovertext": [
          "BF-09_gamb_2014"
         ],
         "legendgroup": "gambiae",
         "marker": {
          "color": "#1616A7",
          "pattern": {
           "shape": ""
          }
         },
         "name": "gambiae",
         "offsetgroup": "gambiae",
         "orientation": "v",
         "showlegend": true,
         "textposition": "auto",
         "type": "bar",
         "x": [
          "BF-09_gamb_2014"
         ],
         "xaxis": "x",
         "y": [
          0.015606517407548242
         ],
         "yaxis": "y"
        },
        {
         "alignmentgroup": "True",
         "customdata": [
          [
           "gcx1",
           "Gambia, The",
           "GM-M",
           "Kuntaur",
           [
            "Niani",
            "Nianija"
           ],
           2019,
           10
          ],
          [
           "gcx1",
           "Gambia, The",
           "GM-N",
           "Kerewan",
           "Central Badibu",
           2011,
           [
            8,
            9,
            10
           ]
          ],
          [
           "gcx1",
           "Gambia, The",
           "GM-N",
           "Kerewan",
           [
            "Illiasa",
            "Lower Niumi",
            "Sabach Sanjar"
           ],
           2019,
           10
          ],
          [
           "gcx1",
           "Gambia, The",
           "GM-N",
           "Kerewan",
           [
            "Central Badibu",
            "Illiasa",
            "Lower Niumi"
           ],
           2021,
           9
          ]
         ],
         "error_y": {
          "array": [
           0.00010792725634278646,
           0.00010639577154481354,
           0.000104630093148099,
           0.00010515567272220999
          ]
         },
         "hovertemplate": "<b>%{hovertext}</b><br><br>taxon=%{customdata[0]}<br>cohort=%{x}<br>theta_pi_estimate=%{y}<br>country=%{customdata[1]}<br>admin1_iso=%{customdata[2]}<br>admin1_name=%{customdata[3]}<br>admin2_name=%{customdata[4]}<br>year=%{customdata[5]}<br>month=%{customdata[6]}<extra></extra>",
         "hovertext": [
          "GM-M_gcx1_2019",
          "GM-N_gcx1_2011",
          "GM-N_gcx1_2019",
          "GM-N_gcx1_2021"
         ],
         "legendgroup": "gcx1",
         "marker": {
          "color": "#1CA71C",
          "pattern": {
           "shape": ""
          }
         },
         "name": "gcx1",
         "offsetgroup": "gcx1",
         "orientation": "v",
         "showlegend": true,
         "textposition": "auto",
         "type": "bar",
         "x": [
          "GM-M_gcx1_2019",
          "GM-N_gcx1_2011",
          "GM-N_gcx1_2019",
          "GM-N_gcx1_2021"
         ],
         "xaxis": "x",
         "y": [
          0.015547989390217681,
          0.015305410598451686,
          0.015514944283372979,
          0.015372798268263306
         ],
         "yaxis": "y"
        }
       ],
       "layout": {
        "barmode": "relative",
        "height": 650,
        "legend": {
         "title": {
          "text": "taxon"
         },
         "tracegroupgap": 0
        },
        "template": {
         "data": {
          "bar": [
           {
            "error_x": {
             "color": "#2a3f5f"
            },
            "error_y": {
             "color": "#2a3f5f"
            },
            "marker": {
             "line": {
              "color": "white",
              "width": 0.5
             },
             "pattern": {
              "fillmode": "overlay",
              "size": 10,
              "solidity": 0.2
             }
            },
            "type": "bar"
           }
          ],
          "barpolar": [
           {
            "marker": {
             "line": {
              "color": "white",
              "width": 0.5
             },
             "pattern": {
              "fillmode": "overlay",
              "size": 10,
              "solidity": 0.2
             }
            },
            "type": "barpolar"
           }
          ],
          "carpet": [
           {
            "aaxis": {
             "endlinecolor": "#2a3f5f",
             "gridcolor": "#C8D4E3",
             "linecolor": "#C8D4E3",
             "minorgridcolor": "#C8D4E3",
             "startlinecolor": "#2a3f5f"
            },
            "baxis": {
             "endlinecolor": "#2a3f5f",
             "gridcolor": "#C8D4E3",
             "linecolor": "#C8D4E3",
             "minorgridcolor": "#C8D4E3",
             "startlinecolor": "#2a3f5f"
            },
            "type": "carpet"
           }
          ],
          "choropleth": [
           {
            "colorbar": {
             "outlinewidth": 0,
             "ticks": ""
            },
            "type": "choropleth"
           }
          ],
          "contour": [
           {
            "colorbar": {
             "outlinewidth": 0,
             "ticks": ""
            },
            "colorscale": [
             [
              0,
              "#0d0887"
             ],
             [
              0.1111111111111111,
              "#46039f"
             ],
             [
              0.2222222222222222,
              "#7201a8"
             ],
             [
              0.3333333333333333,
              "#9c179e"
             ],
             [
              0.4444444444444444,
              "#bd3786"
             ],
             [
              0.5555555555555556,
              "#d8576b"
             ],
             [
              0.6666666666666666,
              "#ed7953"
             ],
             [
              0.7777777777777778,
              "#fb9f3a"
             ],
             [
              0.8888888888888888,
              "#fdca26"
             ],
             [
              1,
              "#f0f921"
             ]
            ],
            "type": "contour"
           }
          ],
          "contourcarpet": [
           {
            "colorbar": {
             "outlinewidth": 0,
             "ticks": ""
            },
            "type": "contourcarpet"
           }
          ],
          "heatmap": [
           {
            "colorbar": {
             "outlinewidth": 0,
             "ticks": ""
            },
            "colorscale": [
             [
              0,
              "#0d0887"
             ],
             [
              0.1111111111111111,
              "#46039f"
             ],
             [
              0.2222222222222222,
              "#7201a8"
             ],
             [
              0.3333333333333333,
              "#9c179e"
             ],
             [
              0.4444444444444444,
              "#bd3786"
             ],
             [
              0.5555555555555556,
              "#d8576b"
             ],
             [
              0.6666666666666666,
              "#ed7953"
             ],
             [
              0.7777777777777778,
              "#fb9f3a"
             ],
             [
              0.8888888888888888,
              "#fdca26"
             ],
             [
              1,
              "#f0f921"
             ]
            ],
            "type": "heatmap"
           }
          ],
          "heatmapgl": [
           {
            "colorbar": {
             "outlinewidth": 0,
             "ticks": ""
            },
            "colorscale": [
             [
              0,
              "#0d0887"
             ],
             [
              0.1111111111111111,
              "#46039f"
             ],
             [
              0.2222222222222222,
              "#7201a8"
             ],
             [
              0.3333333333333333,
              "#9c179e"
             ],
             [
              0.4444444444444444,
              "#bd3786"
             ],
             [
              0.5555555555555556,
              "#d8576b"
             ],
             [
              0.6666666666666666,
              "#ed7953"
             ],
             [
              0.7777777777777778,
              "#fb9f3a"
             ],
             [
              0.8888888888888888,
              "#fdca26"
             ],
             [
              1,
              "#f0f921"
             ]
            ],
            "type": "heatmapgl"
           }
          ],
          "histogram": [
           {
            "marker": {
             "pattern": {
              "fillmode": "overlay",
              "size": 10,
              "solidity": 0.2
             }
            },
            "type": "histogram"
           }
          ],
          "histogram2d": [
           {
            "colorbar": {
             "outlinewidth": 0,
             "ticks": ""
            },
            "colorscale": [
             [
              0,
              "#0d0887"
             ],
             [
              0.1111111111111111,
              "#46039f"
             ],
             [
              0.2222222222222222,
              "#7201a8"
             ],
             [
              0.3333333333333333,
              "#9c179e"
             ],
             [
              0.4444444444444444,
              "#bd3786"
             ],
             [
              0.5555555555555556,
              "#d8576b"
             ],
             [
              0.6666666666666666,
              "#ed7953"
             ],
             [
              0.7777777777777778,
              "#fb9f3a"
             ],
             [
              0.8888888888888888,
              "#fdca26"
             ],
             [
              1,
              "#f0f921"
             ]
            ],
            "type": "histogram2d"
           }
          ],
          "histogram2dcontour": [
           {
            "colorbar": {
             "outlinewidth": 0,
             "ticks": ""
            },
            "colorscale": [
             [
              0,
              "#0d0887"
             ],
             [
              0.1111111111111111,
              "#46039f"
             ],
             [
              0.2222222222222222,
              "#7201a8"
             ],
             [
              0.3333333333333333,
              "#9c179e"
             ],
             [
              0.4444444444444444,
              "#bd3786"
             ],
             [
              0.5555555555555556,
              "#d8576b"
             ],
             [
              0.6666666666666666,
              "#ed7953"
             ],
             [
              0.7777777777777778,
              "#fb9f3a"
             ],
             [
              0.8888888888888888,
              "#fdca26"
             ],
             [
              1,
              "#f0f921"
             ]
            ],
            "type": "histogram2dcontour"
           }
          ],
          "mesh3d": [
           {
            "colorbar": {
             "outlinewidth": 0,
             "ticks": ""
            },
            "type": "mesh3d"
           }
          ],
          "parcoords": [
           {
            "line": {
             "colorbar": {
              "outlinewidth": 0,
              "ticks": ""
             }
            },
            "type": "parcoords"
           }
          ],
          "pie": [
           {
            "automargin": true,
            "type": "pie"
           }
          ],
          "scatter": [
           {
            "fillpattern": {
             "fillmode": "overlay",
             "size": 10,
             "solidity": 0.2
            },
            "type": "scatter"
           }
          ],
          "scatter3d": [
           {
            "line": {
             "colorbar": {
              "outlinewidth": 0,
              "ticks": ""
             }
            },
            "marker": {
             "colorbar": {
              "outlinewidth": 0,
              "ticks": ""
             }
            },
            "type": "scatter3d"
           }
          ],
          "scattercarpet": [
           {
            "marker": {
             "colorbar": {
              "outlinewidth": 0,
              "ticks": ""
             }
            },
            "type": "scattercarpet"
           }
          ],
          "scattergeo": [
           {
            "marker": {
             "colorbar": {
              "outlinewidth": 0,
              "ticks": ""
             }
            },
            "type": "scattergeo"
           }
          ],
          "scattergl": [
           {
            "marker": {
             "colorbar": {
              "outlinewidth": 0,
              "ticks": ""
             }
            },
            "type": "scattergl"
           }
          ],
          "scattermapbox": [
           {
            "marker": {
             "colorbar": {
              "outlinewidth": 0,
              "ticks": ""
             }
            },
            "type": "scattermapbox"
           }
          ],
          "scatterpolar": [
           {
            "marker": {
             "colorbar": {
              "outlinewidth": 0,
              "ticks": ""
             }
            },
            "type": "scatterpolar"
           }
          ],
          "scatterpolargl": [
           {
            "marker": {
             "colorbar": {
              "outlinewidth": 0,
              "ticks": ""
             }
            },
            "type": "scatterpolargl"
           }
          ],
          "scatterternary": [
           {
            "marker": {
             "colorbar": {
              "outlinewidth": 0,
              "ticks": ""
             }
            },
            "type": "scatterternary"
           }
          ],
          "surface": [
           {
            "colorbar": {
             "outlinewidth": 0,
             "ticks": ""
            },
            "colorscale": [
             [
              0,
              "#0d0887"
             ],
             [
              0.1111111111111111,
              "#46039f"
             ],
             [
              0.2222222222222222,
              "#7201a8"
             ],
             [
              0.3333333333333333,
              "#9c179e"
             ],
             [
              0.4444444444444444,
              "#bd3786"
             ],
             [
              0.5555555555555556,
              "#d8576b"
             ],
             [
              0.6666666666666666,
              "#ed7953"
             ],
             [
              0.7777777777777778,
              "#fb9f3a"
             ],
             [
              0.8888888888888888,
              "#fdca26"
             ],
             [
              1,
              "#f0f921"
             ]
            ],
            "type": "surface"
           }
          ],
          "table": [
           {
            "cells": {
             "fill": {
              "color": "#EBF0F8"
             },
             "line": {
              "color": "white"
             }
            },
            "header": {
             "fill": {
              "color": "#C8D4E3"
             },
             "line": {
              "color": "white"
             }
            },
            "type": "table"
           }
          ]
         },
         "layout": {
          "annotationdefaults": {
           "arrowcolor": "#2a3f5f",
           "arrowhead": 0,
           "arrowwidth": 1
          },
          "autotypenumbers": "strict",
          "coloraxis": {
           "colorbar": {
            "outlinewidth": 0,
            "ticks": ""
           }
          },
          "colorscale": {
           "diverging": [
            [
             0,
             "#8e0152"
            ],
            [
             0.1,
             "#c51b7d"
            ],
            [
             0.2,
             "#de77ae"
            ],
            [
             0.3,
             "#f1b6da"
            ],
            [
             0.4,
             "#fde0ef"
            ],
            [
             0.5,
             "#f7f7f7"
            ],
            [
             0.6,
             "#e6f5d0"
            ],
            [
             0.7,
             "#b8e186"
            ],
            [
             0.8,
             "#7fbc41"
            ],
            [
             0.9,
             "#4d9221"
            ],
            [
             1,
             "#276419"
            ]
           ],
           "sequential": [
            [
             0,
             "#0d0887"
            ],
            [
             0.1111111111111111,
             "#46039f"
            ],
            [
             0.2222222222222222,
             "#7201a8"
            ],
            [
             0.3333333333333333,
             "#9c179e"
            ],
            [
             0.4444444444444444,
             "#bd3786"
            ],
            [
             0.5555555555555556,
             "#d8576b"
            ],
            [
             0.6666666666666666,
             "#ed7953"
            ],
            [
             0.7777777777777778,
             "#fb9f3a"
            ],
            [
             0.8888888888888888,
             "#fdca26"
            ],
            [
             1,
             "#f0f921"
            ]
           ],
           "sequentialminus": [
            [
             0,
             "#0d0887"
            ],
            [
             0.1111111111111111,
             "#46039f"
            ],
            [
             0.2222222222222222,
             "#7201a8"
            ],
            [
             0.3333333333333333,
             "#9c179e"
            ],
            [
             0.4444444444444444,
             "#bd3786"
            ],
            [
             0.5555555555555556,
             "#d8576b"
            ],
            [
             0.6666666666666666,
             "#ed7953"
            ],
            [
             0.7777777777777778,
             "#fb9f3a"
            ],
            [
             0.8888888888888888,
             "#fdca26"
            ],
            [
             1,
             "#f0f921"
            ]
           ]
          },
          "colorway": [
           "#636efa",
           "#EF553B",
           "#00cc96",
           "#ab63fa",
           "#FFA15A",
           "#19d3f3",
           "#FF6692",
           "#B6E880",
           "#FF97FF",
           "#FECB52"
          ],
          "font": {
           "color": "#2a3f5f"
          },
          "geo": {
           "bgcolor": "white",
           "lakecolor": "white",
           "landcolor": "white",
           "showlakes": true,
           "showland": true,
           "subunitcolor": "#C8D4E3"
          },
          "hoverlabel": {
           "align": "left"
          },
          "hovermode": "closest",
          "mapbox": {
           "style": "light"
          },
          "paper_bgcolor": "white",
          "plot_bgcolor": "white",
          "polar": {
           "angularaxis": {
            "gridcolor": "#EBF0F8",
            "linecolor": "#EBF0F8",
            "ticks": ""
           },
           "bgcolor": "white",
           "radialaxis": {
            "gridcolor": "#EBF0F8",
            "linecolor": "#EBF0F8",
            "ticks": ""
           }
          },
          "scene": {
           "xaxis": {
            "backgroundcolor": "white",
            "gridcolor": "#DFE8F3",
            "gridwidth": 2,
            "linecolor": "#EBF0F8",
            "showbackground": true,
            "ticks": "",
            "zerolinecolor": "#EBF0F8"
           },
           "yaxis": {
            "backgroundcolor": "white",
            "gridcolor": "#DFE8F3",
            "gridwidth": 2,
            "linecolor": "#EBF0F8",
            "showbackground": true,
            "ticks": "",
            "zerolinecolor": "#EBF0F8"
           },
           "zaxis": {
            "backgroundcolor": "white",
            "gridcolor": "#DFE8F3",
            "gridwidth": 2,
            "linecolor": "#EBF0F8",
            "showbackground": true,
            "ticks": "",
            "zerolinecolor": "#EBF0F8"
           }
          },
          "shapedefaults": {
           "line": {
            "color": "#2a3f5f"
           }
          },
          "ternary": {
           "aaxis": {
            "gridcolor": "#DFE8F3",
            "linecolor": "#A2B1C6",
            "ticks": ""
           },
           "baxis": {
            "gridcolor": "#DFE8F3",
            "linecolor": "#A2B1C6",
            "ticks": ""
           },
           "bgcolor": "white",
           "caxis": {
            "gridcolor": "#DFE8F3",
            "linecolor": "#A2B1C6",
            "ticks": ""
           }
          },
          "title": {
           "x": 0.05
          },
          "xaxis": {
           "automargin": true,
           "gridcolor": "#EBF0F8",
           "linecolor": "#EBF0F8",
           "ticks": "",
           "title": {
            "standoff": 15
           },
           "zerolinecolor": "#EBF0F8",
           "zerolinewidth": 2
          },
          "yaxis": {
           "automargin": true,
           "gridcolor": "#EBF0F8",
           "linecolor": "#EBF0F8",
           "ticks": "",
           "title": {
            "standoff": 15
           },
           "zerolinecolor": "#EBF0F8",
           "zerolinewidth": 2
          }
         }
        },
        "title": {
         "text": "π"
        },
        "width": 800,
        "xaxis": {
         "anchor": "y",
         "autorange": true,
         "categoryarray": [
          "BF-09_colu_2014",
          "BF-09_gamb_2014",
          "GM-N_gcx1_2011",
          "GM-N_gcx1_2019",
          "GM-N_gcx1_2021",
          "GM-M_gcx1_2019"
         ],
         "categoryorder": "array",
         "domain": [
          0,
          1
         ],
         "range": [
          -0.5,
          5.5
         ],
         "title": {
          "text": "cohort"
         },
         "type": "category"
        },
        "yaxis": {
         "anchor": "x",
         "autorange": true,
         "domain": [
          0,
          1
         ],
         "range": [
          0,
          0.016545652685343956
         ],
         "title": {
          "text": "theta_pi_estimate"
         },
         "type": "linear"
        }
       }
      },
      "image/png": "[encoded data removed]",
      "text/html": [
       "<div>                            <div id=\"c73424c8-34b5-4a00-ab08-3ebc5d67d119\" class=\"plotly-graph-div\" style=\"height:650px; width:800px;\"></div>            <script type=\"text/javascript\">                require([\"plotly\"], function(Plotly) {                    window.PLOTLYENV=window.PLOTLYENV || {};                                    if (document.getElementById(\"c73424c8-34b5-4a00-ab08-3ebc5d67d119\")) {                    Plotly.newPlot(                        \"c73424c8-34b5-4a00-ab08-3ebc5d67d119\",                        [{\"alignmentgroup\":\"True\",\"customdata\":[[\"coluzzii\",\"Burkina Faso\",\"BF-09\",\"Hauts-Bassins\",\"Houet\",2014,7]],\"error_y\":{\"array\":[0.00010413460331874871]},\"hovertemplate\":\"\\u003cb\\u003e%{hovertext}\\u003c\\u002fb\\u003e\\u003cbr\\u003e\\u003cbr\\u003etaxon=%{customdata[0]}\\u003cbr\\u003ecohort=%{x}\\u003cbr\\u003etheta_pi_estimate=%{y}\\u003cbr\\u003ecountry=%{customdata[1]}\\u003cbr\\u003eadmin1_iso=%{customdata[2]}\\u003cbr\\u003eadmin1_name=%{customdata[3]}\\u003cbr\\u003eadmin2_name=%{customdata[4]}\\u003cbr\\u003eyear=%{customdata[5]}\\u003cbr\\u003emonth=%{customdata[6]}\\u003cextra\\u003e\\u003c\\u002fextra\\u003e\",\"hovertext\":[\"BF-09_colu_2014\"],\"legendgroup\":\"coluzzii\",\"marker\":{\"color\":\"rgb(228,26,28)\",\"pattern\":{\"shape\":\"\"}},\"name\":\"coluzzii\",\"offsetgroup\":\"coluzzii\",\"orientation\":\"v\",\"showlegend\":true,\"textposition\":\"auto\",\"x\":[\"BF-09_colu_2014\"],\"xaxis\":\"x\",\"y\":[0.015326346680759433],\"yaxis\":\"y\",\"type\":\"bar\"},{\"alignmentgroup\":\"True\",\"customdata\":[[\"gambiae\",\"Burkina Faso\",\"BF-09\",\"Hauts-Bassins\",\"Houet\",2014,7]],\"error_y\":{\"array\":[0.0001118526435285193]},\"hovertemplate\":\"\\u003cb\\u003e%{hovertext}\\u003c\\u002fb\\u003e\\u003cbr\\u003e\\u003cbr\\u003etaxon=%{customdata[0]}\\u003cbr\\u003ecohort=%{x}\\u003cbr\\u003etheta_pi_estimate=%{y}\\u003cbr\\u003ecountry=%{customdata[1]}\\u003cbr\\u003eadmin1_iso=%{customdata[2]}\\u003cbr\\u003eadmin1_name=%{customdata[3]}\\u003cbr\\u003eadmin2_name=%{customdata[4]}\\u003cbr\\u003eyear=%{customdata[5]}\\u003cbr\\u003emonth=%{customdata[6]}\\u003cextra\\u003e\\u003c\\u002fextra\\u003e\",\"hovertext\":[\"BF-09_gamb_2014\"],\"legendgroup\":\"gambiae\",\"marker\":{\"color\":\"#1616A7\",\"pattern\":{\"shape\":\"\"}},\"name\":\"gambiae\",\"offsetgroup\":\"gambiae\",\"orientation\":\"v\",\"showlegend\":true,\"textposition\":\"auto\",\"x\":[\"BF-09_gamb_2014\"],\"xaxis\":\"x\",\"y\":[0.015606517407548242],\"yaxis\":\"y\",\"type\":\"bar\"},{\"alignmentgroup\":\"True\",\"customdata\":[[\"gcx1\",\"Gambia, The\",\"GM-M\",\"Kuntaur\",[\"Niani\",\"Nianija\"],2019,10],[\"gcx1\",\"Gambia, The\",\"GM-N\",\"Kerewan\",\"Central Badibu\",2011,[8,9,10]],[\"gcx1\",\"Gambia, The\",\"GM-N\",\"Kerewan\",[\"Illiasa\",\"Lower Niumi\",\"Sabach Sanjar\"],2019,10],[\"gcx1\",\"Gambia, The\",\"GM-N\",\"Kerewan\",[\"Central Badibu\",\"Illiasa\",\"Lower Niumi\"],2021,9]],\"error_y\":{\"array\":[0.00010792725634278646,0.00010639577154481354,0.000104630093148099,0.00010515567272220999]},\"hovertemplate\":\"\\u003cb\\u003e%{hovertext}\\u003c\\u002fb\\u003e\\u003cbr\\u003e\\u003cbr\\u003etaxon=%{customdata[0]}\\u003cbr\\u003ecohort=%{x}\\u003cbr\\u003etheta_pi_estimate=%{y}\\u003cbr\\u003ecountry=%{customdata[1]}\\u003cbr\\u003eadmin1_iso=%{customdata[2]}\\u003cbr\\u003eadmin1_name=%{customdata[3]}\\u003cbr\\u003eadmin2_name=%{customdata[4]}\\u003cbr\\u003eyear=%{customdata[5]}\\u003cbr\\u003emonth=%{customdata[6]}\\u003cextra\\u003e\\u003c\\u002fextra\\u003e\",\"hovertext\":[\"GM-M_gcx1_2019\",\"GM-N_gcx1_2011\",\"GM-N_gcx1_2019\",\"GM-N_gcx1_2021\"],\"legendgroup\":\"gcx1\",\"marker\":{\"color\":\"#1CA71C\",\"pattern\":{\"shape\":\"\"}},\"name\":\"gcx1\",\"offsetgroup\":\"gcx1\",\"orientation\":\"v\",\"showlegend\":true,\"textposition\":\"auto\",\"x\":[\"GM-M_gcx1_2019\",\"GM-N_gcx1_2011\",\"GM-N_gcx1_2019\",\"GM-N_gcx1_2021\"],\"xaxis\":\"x\",\"y\":[0.015547989390217681,0.015305410598451686,0.015514944283372979,0.015372798268263306],\"yaxis\":\"y\",\"type\":\"bar\"}],                        {\"template\":{\"data\":{\"barpolar\":[{\"marker\":{\"line\":{\"color\":\"white\",\"width\":0.5},\"pattern\":{\"fillmode\":\"overlay\",\"size\":10,\"solidity\":0.2}},\"type\":\"barpolar\"}],\"bar\":[{\"error_x\":{\"color\":\"#2a3f5f\"},\"error_y\":{\"color\":\"#2a3f5f\"},\"marker\":{\"line\":{\"color\":\"white\",\"width\":0.5},\"pattern\":{\"fillmode\":\"overlay\",\"size\":10,\"solidity\":0.2}},\"type\":\"bar\"}],\"carpet\":[{\"aaxis\":{\"endlinecolor\":\"#2a3f5f\",\"gridcolor\":\"#C8D4E3\",\"linecolor\":\"#C8D4E3\",\"minorgridcolor\":\"#C8D4E3\",\"startlinecolor\":\"#2a3f5f\"},\"baxis\":{\"endlinecolor\":\"#2a3f5f\",\"gridcolor\":\"#C8D4E3\",\"linecolor\":\"#C8D4E3\",\"minorgridcolor\":\"#C8D4E3\",\"startlinecolor\":\"#2a3f5f\"},\"type\":\"carpet\"}],\"choropleth\":[{\"colorbar\":{\"outlinewidth\":0,\"ticks\":\"\"},\"type\":\"choropleth\"}],\"contourcarpet\":[{\"colorbar\":{\"outlinewidth\":0,\"ticks\":\"\"},\"type\":\"contourcarpet\"}],\"contour\":[{\"colorbar\":{\"outlinewidth\":0,\"ticks\":\"\"},\"colorscale\":[[0.0,\"#0d0887\"],[0.1111111111111111,\"#46039f\"],[0.2222222222222222,\"#7201a8\"],[0.3333333333333333,\"#9c179e\"],[0.4444444444444444,\"#bd3786\"],[0.5555555555555556,\"#d8576b\"],[0.6666666666666666,\"#ed7953\"],[0.7777777777777778,\"#fb9f3a\"],[0.8888888888888888,\"#fdca26\"],[1.0,\"#f0f921\"]],\"type\":\"contour\"}],\"heatmapgl\":[{\"colorbar\":{\"outlinewidth\":0,\"ticks\":\"\"},\"colorscale\":[[0.0,\"#0d0887\"],[0.1111111111111111,\"#46039f\"],[0.2222222222222222,\"#7201a8\"],[0.3333333333333333,\"#9c179e\"],[0.4444444444444444,\"#bd3786\"],[0.5555555555555556,\"#d8576b\"],[0.6666666666666666,\"#ed7953\"],[0.7777777777777778,\"#fb9f3a\"],[0.8888888888888888,\"#fdca26\"],[1.0,\"#f0f921\"]],\"type\":\"heatmapgl\"}],\"heatmap\":[{\"colorbar\":{\"outlinewidth\":0,\"ticks\":\"\"},\"colorscale\":[[0.0,\"#0d0887\"],[0.1111111111111111,\"#46039f\"],[0.2222222222222222,\"#7201a8\"],[0.3333333333333333,\"#9c179e\"],[0.4444444444444444,\"#bd3786\"],[0.5555555555555556,\"#d8576b\"],[0.6666666666666666,\"#ed7953\"],[0.7777777777777778,\"#fb9f3a\"],[0.8888888888888888,\"#fdca26\"],[1.0,\"#f0f921\"]],\"type\":\"heatmap\"}],\"histogram2dcontour\":[{\"colorbar\":{\"outlinewidth\":0,\"ticks\":\"\"},\"colorscale\":[[0.0,\"#0d0887\"],[0.1111111111111111,\"#46039f\"],[0.2222222222222222,\"#7201a8\"],[0.3333333333333333,\"#9c179e\"],[0.4444444444444444,\"#bd3786\"],[0.5555555555555556,\"#d8576b\"],[0.6666666666666666,\"#ed7953\"],[0.7777777777777778,\"#fb9f3a\"],[0.8888888888888888,\"#fdca26\"],[1.0,\"#f0f921\"]],\"type\":\"histogram2dcontour\"}],\"histogram2d\":[{\"colorbar\":{\"outlinewidth\":0,\"ticks\":\"\"},\"colorscale\":[[0.0,\"#0d0887\"],[0.1111111111111111,\"#46039f\"],[0.2222222222222222,\"#7201a8\"],[0.3333333333333333,\"#9c179e\"],[0.4444444444444444,\"#bd3786\"],[0.5555555555555556,\"#d8576b\"],[0.6666666666666666,\"#ed7953\"],[0.7777777777777778,\"#fb9f3a\"],[0.8888888888888888,\"#fdca26\"],[1.0,\"#f0f921\"]],\"type\":\"histogram2d\"}],\"histogram\":[{\"marker\":{\"pattern\":{\"fillmode\":\"overlay\",\"size\":10,\"solidity\":0.2}},\"type\":\"histogram\"}],\"mesh3d\":[{\"colorbar\":{\"outlinewidth\":0,\"ticks\":\"\"},\"type\":\"mesh3d\"}],\"parcoords\":[{\"line\":{\"colorbar\":{\"outlinewidth\":0,\"ticks\":\"\"}},\"type\":\"parcoords\"}],\"pie\":[{\"automargin\":true,\"type\":\"pie\"}],\"scatter3d\":[{\"line\":{\"colorbar\":{\"outlinewidth\":0,\"ticks\":\"\"}},\"marker\":{\"colorbar\":{\"outlinewidth\":0,\"ticks\":\"\"}},\"type\":\"scatter3d\"}],\"scattercarpet\":[{\"marker\":{\"colorbar\":{\"outlinewidth\":0,\"ticks\":\"\"}},\"type\":\"scattercarpet\"}],\"scattergeo\":[{\"marker\":{\"colorbar\":{\"outlinewidth\":0,\"ticks\":\"\"}},\"type\":\"scattergeo\"}],\"scattergl\":[{\"marker\":{\"colorbar\":{\"outlinewidth\":0,\"ticks\":\"\"}},\"type\":\"scattergl\"}],\"scattermapbox\":[{\"marker\":{\"colorbar\":{\"outlinewidth\":0,\"ticks\":\"\"}},\"type\":\"scattermapbox\"}],\"scatterpolargl\":[{\"marker\":{\"colorbar\":{\"outlinewidth\":0,\"ticks\":\"\"}},\"type\":\"scatterpolargl\"}],\"scatterpolar\":[{\"marker\":{\"colorbar\":{\"outlinewidth\":0,\"ticks\":\"\"}},\"type\":\"scatterpolar\"}],\"scatter\":[{\"fillpattern\":{\"fillmode\":\"overlay\",\"size\":10,\"solidity\":0.2},\"type\":\"scatter\"}],\"scatterternary\":[{\"marker\":{\"colorbar\":{\"outlinewidth\":0,\"ticks\":\"\"}},\"type\":\"scatterternary\"}],\"surface\":[{\"colorbar\":{\"outlinewidth\":0,\"ticks\":\"\"},\"colorscale\":[[0.0,\"#0d0887\"],[0.1111111111111111,\"#46039f\"],[0.2222222222222222,\"#7201a8\"],[0.3333333333333333,\"#9c179e\"],[0.4444444444444444,\"#bd3786\"],[0.5555555555555556,\"#d8576b\"],[0.6666666666666666,\"#ed7953\"],[0.7777777777777778,\"#fb9f3a\"],[0.8888888888888888,\"#fdca26\"],[1.0,\"#f0f921\"]],\"type\":\"surface\"}],\"table\":[{\"cells\":{\"fill\":{\"color\":\"#EBF0F8\"},\"line\":{\"color\":\"white\"}},\"header\":{\"fill\":{\"color\":\"#C8D4E3\"},\"line\":{\"color\":\"white\"}},\"type\":\"table\"}]},\"layout\":{\"annotationdefaults\":{\"arrowcolor\":\"#2a3f5f\",\"arrowhead\":0,\"arrowwidth\":1},\"autotypenumbers\":\"strict\",\"coloraxis\":{\"colorbar\":{\"outlinewidth\":0,\"ticks\":\"\"}},\"colorscale\":{\"diverging\":[[0,\"#8e0152\"],[0.1,\"#c51b7d\"],[0.2,\"#de77ae\"],[0.3,\"#f1b6da\"],[0.4,\"#fde0ef\"],[0.5,\"#f7f7f7\"],[0.6,\"#e6f5d0\"],[0.7,\"#b8e186\"],[0.8,\"#7fbc41\"],[0.9,\"#4d9221\"],[1,\"#276419\"]],\"sequential\":[[0.0,\"#0d0887\"],[0.1111111111111111,\"#46039f\"],[0.2222222222222222,\"#7201a8\"],[0.3333333333333333,\"#9c179e\"],[0.4444444444444444,\"#bd3786\"],[0.5555555555555556,\"#d8576b\"],[0.6666666666666666,\"#ed7953\"],[0.7777777777777778,\"#fb9f3a\"],[0.8888888888888888,\"#fdca26\"],[1.0,\"#f0f921\"]],\"sequentialminus\":[[0.0,\"#0d0887\"],[0.1111111111111111,\"#46039f\"],[0.2222222222222222,\"#7201a8\"],[0.3333333333333333,\"#9c179e\"],[0.4444444444444444,\"#bd3786\"],[0.5555555555555556,\"#d8576b\"],[0.6666666666666666,\"#ed7953\"],[0.7777777777777778,\"#fb9f3a\"],[0.8888888888888888,\"#fdca26\"],[1.0,\"#f0f921\"]]},\"colorway\":[\"#636efa\",\"#EF553B\",\"#00cc96\",\"#ab63fa\",\"#FFA15A\",\"#19d3f3\",\"#FF6692\",\"#B6E880\",\"#FF97FF\",\"#FECB52\"],\"font\":{\"color\":\"#2a3f5f\"},\"geo\":{\"bgcolor\":\"white\",\"lakecolor\":\"white\",\"landcolor\":\"white\",\"showlakes\":true,\"showland\":true,\"subunitcolor\":\"#C8D4E3\"},\"hoverlabel\":{\"align\":\"left\"},\"hovermode\":\"closest\",\"mapbox\":{\"style\":\"light\"},\"paper_bgcolor\":\"white\",\"plot_bgcolor\":\"white\",\"polar\":{\"angularaxis\":{\"gridcolor\":\"#EBF0F8\",\"linecolor\":\"#EBF0F8\",\"ticks\":\"\"},\"bgcolor\":\"white\",\"radialaxis\":{\"gridcolor\":\"#EBF0F8\",\"linecolor\":\"#EBF0F8\",\"ticks\":\"\"}},\"scene\":{\"xaxis\":{\"backgroundcolor\":\"white\",\"gridcolor\":\"#DFE8F3\",\"gridwidth\":2,\"linecolor\":\"#EBF0F8\",\"showbackground\":true,\"ticks\":\"\",\"zerolinecolor\":\"#EBF0F8\"},\"yaxis\":{\"backgroundcolor\":\"white\",\"gridcolor\":\"#DFE8F3\",\"gridwidth\":2,\"linecolor\":\"#EBF0F8\",\"showbackground\":true,\"ticks\":\"\",\"zerolinecolor\":\"#EBF0F8\"},\"zaxis\":{\"backgroundcolor\":\"white\",\"gridcolor\":\"#DFE8F3\",\"gridwidth\":2,\"linecolor\":\"#EBF0F8\",\"showbackground\":true,\"ticks\":\"\",\"zerolinecolor\":\"#EBF0F8\"}},\"shapedefaults\":{\"line\":{\"color\":\"#2a3f5f\"}},\"ternary\":{\"aaxis\":{\"gridcolor\":\"#DFE8F3\",\"linecolor\":\"#A2B1C6\",\"ticks\":\"\"},\"baxis\":{\"gridcolor\":\"#DFE8F3\",\"linecolor\":\"#A2B1C6\",\"ticks\":\"\"},\"bgcolor\":\"white\",\"caxis\":{\"gridcolor\":\"#DFE8F3\",\"linecolor\":\"#A2B1C6\",\"ticks\":\"\"}},\"title\":{\"x\":0.05},\"xaxis\":{\"automargin\":true,\"gridcolor\":\"#EBF0F8\",\"linecolor\":\"#EBF0F8\",\"ticks\":\"\",\"title\":{\"standoff\":15},\"zerolinecolor\":\"#EBF0F8\",\"zerolinewidth\":2},\"yaxis\":{\"automargin\":true,\"gridcolor\":\"#EBF0F8\",\"linecolor\":\"#EBF0F8\",\"ticks\":\"\",\"title\":{\"standoff\":15},\"zerolinecolor\":\"#EBF0F8\",\"zerolinewidth\":2}}},\"xaxis\":{\"anchor\":\"y\",\"domain\":[0.0,1.0],\"title\":{\"text\":\"cohort\"},\"categoryorder\":\"array\",\"categoryarray\":[\"BF-09_colu_2014\",\"BF-09_gamb_2014\",\"GM-N_gcx1_2011\",\"GM-N_gcx1_2019\",\"GM-N_gcx1_2021\",\"GM-M_gcx1_2019\"]},\"yaxis\":{\"anchor\":\"x\",\"domain\":[0.0,1.0],\"title\":{\"text\":\"theta_pi_estimate\"}},\"legend\":{\"title\":{\"text\":\"taxon\"},\"tracegroupgap\":0},\"title\":{\"text\":\"π\"},\"barmode\":\"relative\",\"height\":650,\"width\":800},                        {\"responsive\": true}                    ).then(function(){\n",
       "                            \n",
       "var gd = document.getElementById('c73424c8-34b5-4a00-ab08-3ebc5d67d119');\n",
       "var x = new MutationObserver(function (mutations, observer) {{\n",
       "        var display = window.getComputedStyle(gd).display;\n",
       "        if (!display || display === 'none') {{\n",
       "            console.log([gd, 'removed!']);\n",
       "            Plotly.purge(gd);\n",
       "            observer.disconnect();\n",
       "        }}\n",
       "}});\n",
       "\n",
       "// Listen for the removal of the full notebook cells\n",
       "var notebookContainer = gd.closest('#notebook-container');\n",
       "if (notebookContainer) {{\n",
       "    x.observe(notebookContainer, {childList: true});\n",
       "}}\n",
       "\n",
       "// Listen for the clearing of the current output cell\n",
       "var outputEl = gd.closest('.output');\n",
       "if (outputEl) {{\n",
       "    x.observe(outputEl, {childList: true});\n",
       "}}\n",
       "\n",
       "                        })                };                });            </script>        </div>"
      ]
     },
     "metadata": {},
     "output_type": "display_data"
    }
   ],
   "source": [
    "fig = px.bar(\n",
    "        data_frame=subset_df,\n",
    "        x=\"cohort\",\n",
    "        y=\"theta_pi_estimate\",\n",
    "        error_y=\"theta_pi_std_err\",\n",
    "        title=\"π\",\n",
    "        color=\"taxon\",\n",
    "    color_discrete_map=species_color_map,\n",
    "        height=650,\n",
    "        width=800,\n",
    "        hover_name=hover_name,\n",
    "        hover_data=hover_data,\n",
    "        #labels={'theta_pi_std_err':r'$\\widehat{\\theta}_{\\pi}$'},\n",
    "        template=template,\n",
    "        category_orders=category_orders,\n",
    "    )\n",
    "#fig.update_layout(yaxis_range=[0, 0.016])\n",
    "#fig.update_layout(xaxis_title=\"Cohort\", yaxis_title='$π$')\n",
    "fig.write_image('pi_gcx1.png', scale=2)\n",
    "fig.show()"
   ]
  },
  {
   "cell_type": "code",
   "execution_count": 90,
   "id": "4f9cb8a3-aed5-4309-bbed-2b307324304a",
   "metadata": {},
   "outputs": [
    {
     "data": {
      "text/html": [
       "<div>\n",
       "<style scoped>\n",
       "    .dataframe tbody tr th:only-of-type {\n",
       "        vertical-align: middle;\n",
       "    }\n",
       "\n",
       "    .dataframe tbody tr th {\n",
       "        vertical-align: top;\n",
       "    }\n",
       "\n",
       "    .dataframe thead th {\n",
       "        text-align: right;\n",
       "    }\n",
       "</style>\n",
       "<table border=\"1\" class=\"dataframe\">\n",
       "  <thead>\n",
       "    <tr style=\"text-align: right;\">\n",
       "      <th></th>\n",
       "      <th>cohort</th>\n",
       "      <th>theta_pi_estimate</th>\n",
       "    </tr>\n",
       "  </thead>\n",
       "  <tbody>\n",
       "    <tr>\n",
       "      <th>0</th>\n",
       "      <td>BF-09_colu_2014</td>\n",
       "      <td>0.015326</td>\n",
       "    </tr>\n",
       "    <tr>\n",
       "      <th>1</th>\n",
       "      <td>BF-09_gamb_2014</td>\n",
       "      <td>0.015607</td>\n",
       "    </tr>\n",
       "    <tr>\n",
       "      <th>5</th>\n",
       "      <td>GM-M_gcx1_2019</td>\n",
       "      <td>0.015548</td>\n",
       "    </tr>\n",
       "    <tr>\n",
       "      <th>7</th>\n",
       "      <td>GM-N_gcx1_2011</td>\n",
       "      <td>0.015305</td>\n",
       "    </tr>\n",
       "    <tr>\n",
       "      <th>8</th>\n",
       "      <td>GM-N_gcx1_2019</td>\n",
       "      <td>0.015515</td>\n",
       "    </tr>\n",
       "    <tr>\n",
       "      <th>9</th>\n",
       "      <td>GM-N_gcx1_2021</td>\n",
       "      <td>0.015373</td>\n",
       "    </tr>\n",
       "  </tbody>\n",
       "</table>\n",
       "</div>"
      ],
      "text/plain": [
       "            cohort  theta_pi_estimate\n",
       "0  BF-09_colu_2014           0.015326\n",
       "1  BF-09_gamb_2014           0.015607\n",
       "5   GM-M_gcx1_2019           0.015548\n",
       "7   GM-N_gcx1_2011           0.015305\n",
       "8   GM-N_gcx1_2019           0.015515\n",
       "9   GM-N_gcx1_2021           0.015373"
      ]
     },
     "execution_count": 90,
     "metadata": {},
     "output_type": "execute_result"
    }
   ],
   "source": [
    "subset_df[[\"cohort\",\"theta_pi_estimate\"]]"
   ]
  },
  {
   "cell_type": "markdown",
   "id": "178af415-7077-4e9f-85e3-596f20e30d26",
   "metadata": {},
   "source": [
    "-----------------------------------"
   ]
  },
  {
   "cell_type": "code",
   "execution_count": 11,
   "id": "3bc6ed2a-e623-4bb2-9618-71da53a5ec1e",
   "metadata": {},
   "outputs": [],
   "source": [
    "subpops = 'BF_coluzzii', 'BF_gambiae', 'CI_coluzzii','GH_coluzzii', 'GH_gambiae','GM_coluzzii','GM_gcx1', 'GN_gambiae', 'GW_gcx1', 'MA_coluzzii','MA_gambiae'"
   ]
  },
  {
   "cell_type": "code",
   "execution_count": 12,
   "id": "0fa487ad-caf7-44ed-b82e-52e6b5d23a5d",
   "metadata": {},
   "outputs": [],
   "source": [
    "fn_template = 'windows_eqaccess.{window}.{chrom}.txt'\n",
    "\n",
    "def build_df(chrom, window='1000000'):\n",
    "\n",
    "    # pi\n",
    "    pi_fn = '/mnt/c/Users/rando/Documenti/Ag1000G/Data/Extras/pi.windows_eqaccess2.h5'\n",
    "    pi = h5py.File(pi_fn, mode='r')\n",
    "\n",
    "    # tajima's D\n",
    "    tjd_fn = '/mnt/c/Users/rando/Documenti/Ag1000G/Data/Extras/Tajimas_D.windows_eqaccess2.h5'\n",
    "    tjd = h5py.File(tjd_fn, mode='r')\n",
    "\n",
    "    # theta\n",
    "    tht_fn = '/mnt/c/Users/rando/Documenti/Ag1000G/Data/Extras/theta.windows_eqaccess2.h5'\n",
    "    tht = h5py.File(tht_fn, mode='r')\n",
    "\n",
    "    pops = subpops\n",
    "    \n",
    "    pig = pi[window][chrom]['BF_coluzzii']\n",
    "    # N.B., previous data includes final odd-size window, remove here\n",
    "    windows = pig['windows'][:-1]\n",
    "    starts = windows[:, 0]\n",
    "    stops = windows[:, 1]\n",
    "    midpoints = np.round(windows.mean(axis=1))\n",
    "    items = [\n",
    "        ('chrom', [chrom] * len(starts)),\n",
    "        ('start', starts),\n",
    "        ('stop', stops),\n",
    "        ('midpoint', midpoints),\n",
    "    ]\n",
    "    \n",
    "    for pop in pops:\n",
    "        x = pi[window][chrom][pop]['pi'][:-1]\n",
    "        items.append(('pi_' + pop, x))\n",
    "\n",
    "    for pop in pops:\n",
    "        y = tjd[window][chrom][pop]['tajd'][:-1]\n",
    "        items.append(('tajima_d_' + pop, y))\n",
    "        \n",
    "    for pop in pops:\n",
    "        y = tht[window][chrom][pop]['theta'][:-1]\n",
    "        items.append(('theta_' + pop, y))\n",
    "\n",
    "\n",
    "    df = pd.DataFrame.from_dict(dict(items))\n",
    "\n",
    "    fn = fn_template.format(window=window, chrom=chrom)\n",
    "    df.to_csv(fn, sep='\\t', index=False)\n",
    "    \n",
    "    return df"
   ]
  },
  {
   "cell_type": "code",
   "execution_count": 13,
   "id": "37191919-1b8f-433d-a0bc-489b3d2de1a3",
   "metadata": {},
   "outputs": [],
   "source": [
    "df = build_df('3L')\n",
    "df = build_df('3R')"
   ]
  },
  {
   "cell_type": "code",
   "execution_count": 40,
   "id": "27b0c8a1-c8f0-4158-8a31-72ab665a8c39",
   "metadata": {},
   "outputs": [],
   "source": [
    "df_3R = pd.read_csv('windows_eqaccess.1000000.3R.txt', sep = '\\t')\n",
    "df_3L = pd.read_csv('windows_eqaccess.1000000.3L.txt', sep = '\\t')"
   ]
  },
  {
   "cell_type": "code",
   "execution_count": 41,
   "id": "22261068-f77c-4a71-9097-9d797de05e9e",
   "metadata": {},
   "outputs": [],
   "source": [
    "new_df_3R = df_3R[((df_3R['start'] > 1000000) & (df_3R['stop'] < 24000000))].drop(columns=(['chrom','start','stop','midpoint']))\n",
    "new_df_3L = df_3L[((df_3L['start'] > 18000000) & (df_3L['stop'] < 41000000))].drop(columns=(['chrom','start','stop','midpoint']))"
   ]
  },
  {
   "cell_type": "code",
   "execution_count": 42,
   "id": "273b165a-168a-4bc2-939c-c9f5e4d747bd",
   "metadata": {},
   "outputs": [],
   "source": [
    "frames = [new_df_3R, new_df_3L]\n",
    "df = pd.concat(frames)"
   ]
  },
  {
   "cell_type": "code",
   "execution_count": 43,
   "id": "a0d76232-e698-463e-b18b-219e674d107b",
   "metadata": {},
   "outputs": [
    {
     "data": {
      "text/html": [
       "<div>\n",
       "<style scoped>\n",
       "    .dataframe tbody tr th:only-of-type {\n",
       "        vertical-align: middle;\n",
       "    }\n",
       "\n",
       "    .dataframe tbody tr th {\n",
       "        vertical-align: top;\n",
       "    }\n",
       "\n",
       "    .dataframe thead th {\n",
       "        text-align: right;\n",
       "    }\n",
       "</style>\n",
       "<table border=\"1\" class=\"dataframe\">\n",
       "  <thead>\n",
       "    <tr style=\"text-align: right;\">\n",
       "      <th></th>\n",
       "      <th>pi_BF_coluzzii</th>\n",
       "      <th>pi_BF_gambiae</th>\n",
       "      <th>pi_CI_coluzzii</th>\n",
       "      <th>pi_GH_coluzzii</th>\n",
       "      <th>pi_GH_gambiae</th>\n",
       "      <th>pi_GM_coluzzii</th>\n",
       "      <th>pi_GM_gcx1</th>\n",
       "      <th>pi_GN_gambiae</th>\n",
       "      <th>pi_GW_gcx1</th>\n",
       "      <th>pi_MA_coluzzii</th>\n",
       "      <th>...</th>\n",
       "      <th>theta_BF_gambiae</th>\n",
       "      <th>theta_CI_coluzzii</th>\n",
       "      <th>theta_GH_coluzzii</th>\n",
       "      <th>theta_GH_gambiae</th>\n",
       "      <th>theta_GM_coluzzii</th>\n",
       "      <th>theta_GM_gcx1</th>\n",
       "      <th>theta_GN_gambiae</th>\n",
       "      <th>theta_GW_gcx1</th>\n",
       "      <th>theta_MA_coluzzii</th>\n",
       "      <th>theta_MA_gambiae</th>\n",
       "    </tr>\n",
       "  </thead>\n",
       "  <tbody>\n",
       "    <tr>\n",
       "      <th>1</th>\n",
       "      <td>0.004618</td>\n",
       "      <td>0.004762</td>\n",
       "      <td>0.004509</td>\n",
       "      <td>0.004499</td>\n",
       "      <td>0.004722</td>\n",
       "      <td>0.004670</td>\n",
       "      <td>0.004640</td>\n",
       "      <td>0.004762</td>\n",
       "      <td>0.004871</td>\n",
       "      <td>0.004670</td>\n",
       "      <td>...</td>\n",
       "      <td>0.011002</td>\n",
       "      <td>0.008264</td>\n",
       "      <td>0.008249</td>\n",
       "      <td>0.009781</td>\n",
       "      <td>0.009643</td>\n",
       "      <td>0.008374</td>\n",
       "      <td>0.010727</td>\n",
       "      <td>0.009670</td>\n",
       "      <td>0.009753</td>\n",
       "      <td>0.010581</td>\n",
       "    </tr>\n",
       "    <tr>\n",
       "      <th>2</th>\n",
       "      <td>0.003878</td>\n",
       "      <td>0.003958</td>\n",
       "      <td>0.003802</td>\n",
       "      <td>0.003736</td>\n",
       "      <td>0.003905</td>\n",
       "      <td>0.003890</td>\n",
       "      <td>0.003892</td>\n",
       "      <td>0.003933</td>\n",
       "      <td>0.003939</td>\n",
       "      <td>0.003932</td>\n",
       "      <td>...</td>\n",
       "      <td>0.009035</td>\n",
       "      <td>0.007062</td>\n",
       "      <td>0.006761</td>\n",
       "      <td>0.008038</td>\n",
       "      <td>0.008106</td>\n",
       "      <td>0.007266</td>\n",
       "      <td>0.008698</td>\n",
       "      <td>0.008079</td>\n",
       "      <td>0.008330</td>\n",
       "      <td>0.008719</td>\n",
       "    </tr>\n",
       "    <tr>\n",
       "      <th>3</th>\n",
       "      <td>0.004497</td>\n",
       "      <td>0.004521</td>\n",
       "      <td>0.004422</td>\n",
       "      <td>0.004416</td>\n",
       "      <td>0.004414</td>\n",
       "      <td>0.004489</td>\n",
       "      <td>0.004442</td>\n",
       "      <td>0.004485</td>\n",
       "      <td>0.004567</td>\n",
       "      <td>0.004507</td>\n",
       "      <td>...</td>\n",
       "      <td>0.010072</td>\n",
       "      <td>0.008272</td>\n",
       "      <td>0.008548</td>\n",
       "      <td>0.008774</td>\n",
       "      <td>0.009683</td>\n",
       "      <td>0.008230</td>\n",
       "      <td>0.009839</td>\n",
       "      <td>0.009530</td>\n",
       "      <td>0.009639</td>\n",
       "      <td>0.009855</td>\n",
       "    </tr>\n",
       "    <tr>\n",
       "      <th>4</th>\n",
       "      <td>0.004617</td>\n",
       "      <td>0.004744</td>\n",
       "      <td>0.004484</td>\n",
       "      <td>0.004469</td>\n",
       "      <td>0.004679</td>\n",
       "      <td>0.004605</td>\n",
       "      <td>0.004595</td>\n",
       "      <td>0.004740</td>\n",
       "      <td>0.004676</td>\n",
       "      <td>0.004693</td>\n",
       "      <td>...</td>\n",
       "      <td>0.010853</td>\n",
       "      <td>0.008293</td>\n",
       "      <td>0.008498</td>\n",
       "      <td>0.009800</td>\n",
       "      <td>0.009842</td>\n",
       "      <td>0.008599</td>\n",
       "      <td>0.010588</td>\n",
       "      <td>0.009736</td>\n",
       "      <td>0.009932</td>\n",
       "      <td>0.010519</td>\n",
       "    </tr>\n",
       "    <tr>\n",
       "      <th>5</th>\n",
       "      <td>0.004939</td>\n",
       "      <td>0.005002</td>\n",
       "      <td>0.004776</td>\n",
       "      <td>0.004778</td>\n",
       "      <td>0.004942</td>\n",
       "      <td>0.004909</td>\n",
       "      <td>0.004849</td>\n",
       "      <td>0.005010</td>\n",
       "      <td>0.004943</td>\n",
       "      <td>0.004955</td>\n",
       "      <td>...</td>\n",
       "      <td>0.011333</td>\n",
       "      <td>0.008787</td>\n",
       "      <td>0.008807</td>\n",
       "      <td>0.010492</td>\n",
       "      <td>0.010489</td>\n",
       "      <td>0.009018</td>\n",
       "      <td>0.011299</td>\n",
       "      <td>0.010238</td>\n",
       "      <td>0.010662</td>\n",
       "      <td>0.011165</td>\n",
       "    </tr>\n",
       "  </tbody>\n",
       "</table>\n",
       "<p>5 rows × 33 columns</p>\n",
       "</div>"
      ],
      "text/plain": [
       "   pi_BF_coluzzii  pi_BF_gambiae  pi_CI_coluzzii  pi_GH_coluzzii  \\\n",
       "1        0.004618       0.004762        0.004509        0.004499   \n",
       "2        0.003878       0.003958        0.003802        0.003736   \n",
       "3        0.004497       0.004521        0.004422        0.004416   \n",
       "4        0.004617       0.004744        0.004484        0.004469   \n",
       "5        0.004939       0.005002        0.004776        0.004778   \n",
       "\n",
       "   pi_GH_gambiae  pi_GM_coluzzii  pi_GM_gcx1  pi_GN_gambiae  pi_GW_gcx1  \\\n",
       "1       0.004722        0.004670    0.004640       0.004762    0.004871   \n",
       "2       0.003905        0.003890    0.003892       0.003933    0.003939   \n",
       "3       0.004414        0.004489    0.004442       0.004485    0.004567   \n",
       "4       0.004679        0.004605    0.004595       0.004740    0.004676   \n",
       "5       0.004942        0.004909    0.004849       0.005010    0.004943   \n",
       "\n",
       "   pi_MA_coluzzii  ...  theta_BF_gambiae  theta_CI_coluzzii  \\\n",
       "1        0.004670  ...          0.011002           0.008264   \n",
       "2        0.003932  ...          0.009035           0.007062   \n",
       "3        0.004507  ...          0.010072           0.008272   \n",
       "4        0.004693  ...          0.010853           0.008293   \n",
       "5        0.004955  ...          0.011333           0.008787   \n",
       "\n",
       "   theta_GH_coluzzii  theta_GH_gambiae  theta_GM_coluzzii  theta_GM_gcx1  \\\n",
       "1           0.008249          0.009781           0.009643       0.008374   \n",
       "2           0.006761          0.008038           0.008106       0.007266   \n",
       "3           0.008548          0.008774           0.009683       0.008230   \n",
       "4           0.008498          0.009800           0.009842       0.008599   \n",
       "5           0.008807          0.010492           0.010489       0.009018   \n",
       "\n",
       "   theta_GN_gambiae  theta_GW_gcx1  theta_MA_coluzzii  theta_MA_gambiae  \n",
       "1          0.010727       0.009670           0.009753          0.010581  \n",
       "2          0.008698       0.008079           0.008330          0.008719  \n",
       "3          0.009839       0.009530           0.009639          0.009855  \n",
       "4          0.010588       0.009736           0.009932          0.010519  \n",
       "5          0.011299       0.010238           0.010662          0.011165  \n",
       "\n",
       "[5 rows x 33 columns]"
      ]
     },
     "execution_count": 43,
     "metadata": {},
     "output_type": "execute_result"
    }
   ],
   "source": [
    "df.head()"
   ]
  },
  {
   "cell_type": "code",
   "execution_count": 44,
   "id": "efaf073e-1dec-4573-81d4-94032a4e3149",
   "metadata": {},
   "outputs": [],
   "source": [
    "order = [\"pi_BF_coluzzii\",\"pi_MA_coluzzii\",\"pi_CI_coluzzii\",\"pi_GH_coluzzii\",\"pi_BF_gambiae\",\"pi_MA_gambiae\",\"pi_GH_gambiae\",\"pi_GN_gambiae\",\"pi_GM_coluzzii\",\"pi_GW_gcx1\",\"pi_GM_gcx1\"]\n",
    "order2 = [\"tajima_d_BF_coluzzii\",\"tajima_d_MA_coluzzii\",\"tajima_d_CI_coluzzii\",\"tajima_d_GH_coluzzii\",\"tajima_d_BF_gambiae\",\"tajima_d_MA_gambiae\",\"tajima_d_GH_gambiae\",\"tajima_d_GN_gambiae\",\"tajima_d_GM_coluzzii\",\"tajima_d_GW_gcx1\",\"tajima_d_GM_gcx1\"]\n",
    "order3 = [\"theta_BF_coluzzii\",\"theta_MA_coluzzii\",\"theta_CI_coluzzii\",\"theta_GH_coluzzii\",\"theta_BF_gambiae\",\"theta_MA_gambiae\",\"theta_GH_gambiae\",\"theta_GN_gambiae\",\"theta_GM_coluzzii\",\"theta_GM_gcx1\",\"theta_GW_gcx1\"]"
   ]
  },
  {
   "cell_type": "code",
   "execution_count": 48,
   "id": "ab94f105-5e2f-4fc4-9901-2e821948a110",
   "metadata": {},
   "outputs": [
    {
     "data": {
      "text/html": [
       "<div>\n",
       "<style scoped>\n",
       "    .dataframe tbody tr th:only-of-type {\n",
       "        vertical-align: middle;\n",
       "    }\n",
       "\n",
       "    .dataframe tbody tr th {\n",
       "        vertical-align: top;\n",
       "    }\n",
       "\n",
       "    .dataframe thead th {\n",
       "        text-align: right;\n",
       "    }\n",
       "</style>\n",
       "<table border=\"1\" class=\"dataframe\">\n",
       "  <thead>\n",
       "    <tr style=\"text-align: right;\">\n",
       "      <th></th>\n",
       "      <th>theta_BF_coluzzii</th>\n",
       "      <th>theta_MA_coluzzii</th>\n",
       "      <th>theta_CI_coluzzii</th>\n",
       "      <th>theta_GH_coluzzii</th>\n",
       "      <th>theta_BF_gambiae</th>\n",
       "      <th>theta_MA_gambiae</th>\n",
       "      <th>theta_GH_gambiae</th>\n",
       "      <th>theta_GN_gambiae</th>\n",
       "      <th>theta_GM_coluzzii</th>\n",
       "      <th>theta_GM_gcx1</th>\n",
       "      <th>theta_GW_gcx1</th>\n",
       "    </tr>\n",
       "  </thead>\n",
       "  <tbody>\n",
       "    <tr>\n",
       "      <th>1</th>\n",
       "      <td>0.009698</td>\n",
       "      <td>0.009753</td>\n",
       "      <td>0.008264</td>\n",
       "      <td>0.008249</td>\n",
       "      <td>0.011002</td>\n",
       "      <td>0.010581</td>\n",
       "      <td>0.009781</td>\n",
       "      <td>0.010727</td>\n",
       "      <td>0.009643</td>\n",
       "      <td>0.008374</td>\n",
       "      <td>0.009670</td>\n",
       "    </tr>\n",
       "    <tr>\n",
       "      <th>2</th>\n",
       "      <td>0.008275</td>\n",
       "      <td>0.008330</td>\n",
       "      <td>0.007062</td>\n",
       "      <td>0.006761</td>\n",
       "      <td>0.009035</td>\n",
       "      <td>0.008719</td>\n",
       "      <td>0.008038</td>\n",
       "      <td>0.008698</td>\n",
       "      <td>0.008106</td>\n",
       "      <td>0.007266</td>\n",
       "      <td>0.008079</td>\n",
       "    </tr>\n",
       "    <tr>\n",
       "      <th>3</th>\n",
       "      <td>0.009777</td>\n",
       "      <td>0.009639</td>\n",
       "      <td>0.008272</td>\n",
       "      <td>0.008548</td>\n",
       "      <td>0.010072</td>\n",
       "      <td>0.009855</td>\n",
       "      <td>0.008774</td>\n",
       "      <td>0.009839</td>\n",
       "      <td>0.009683</td>\n",
       "      <td>0.008230</td>\n",
       "      <td>0.009530</td>\n",
       "    </tr>\n",
       "    <tr>\n",
       "      <th>4</th>\n",
       "      <td>0.009972</td>\n",
       "      <td>0.009932</td>\n",
       "      <td>0.008293</td>\n",
       "      <td>0.008498</td>\n",
       "      <td>0.010853</td>\n",
       "      <td>0.010519</td>\n",
       "      <td>0.009800</td>\n",
       "      <td>0.010588</td>\n",
       "      <td>0.009842</td>\n",
       "      <td>0.008599</td>\n",
       "      <td>0.009736</td>\n",
       "    </tr>\n",
       "    <tr>\n",
       "      <th>5</th>\n",
       "      <td>0.010690</td>\n",
       "      <td>0.010662</td>\n",
       "      <td>0.008787</td>\n",
       "      <td>0.008807</td>\n",
       "      <td>0.011333</td>\n",
       "      <td>0.011165</td>\n",
       "      <td>0.010492</td>\n",
       "      <td>0.011299</td>\n",
       "      <td>0.010489</td>\n",
       "      <td>0.009018</td>\n",
       "      <td>0.010238</td>\n",
       "    </tr>\n",
       "  </tbody>\n",
       "</table>\n",
       "</div>"
      ],
      "text/plain": [
       "   theta_BF_coluzzii  theta_MA_coluzzii  theta_CI_coluzzii  theta_GH_coluzzii  \\\n",
       "1           0.009698           0.009753           0.008264           0.008249   \n",
       "2           0.008275           0.008330           0.007062           0.006761   \n",
       "3           0.009777           0.009639           0.008272           0.008548   \n",
       "4           0.009972           0.009932           0.008293           0.008498   \n",
       "5           0.010690           0.010662           0.008787           0.008807   \n",
       "\n",
       "   theta_BF_gambiae  theta_MA_gambiae  theta_GH_gambiae  theta_GN_gambiae  \\\n",
       "1          0.011002          0.010581          0.009781          0.010727   \n",
       "2          0.009035          0.008719          0.008038          0.008698   \n",
       "3          0.010072          0.009855          0.008774          0.009839   \n",
       "4          0.010853          0.010519          0.009800          0.010588   \n",
       "5          0.011333          0.011165          0.010492          0.011299   \n",
       "\n",
       "   theta_GM_coluzzii  theta_GM_gcx1  theta_GW_gcx1  \n",
       "1           0.009643       0.008374       0.009670  \n",
       "2           0.008106       0.007266       0.008079  \n",
       "3           0.009683       0.008230       0.009530  \n",
       "4           0.009842       0.008599       0.009736  \n",
       "5           0.010489       0.009018       0.010238  "
      ]
     },
     "execution_count": 48,
     "metadata": {},
     "output_type": "execute_result"
    }
   ],
   "source": [
    "df_pi = df.iloc[:, :11][order]\n",
    "df_tjd = df.iloc[:, 11:22][order2]\n",
    "df_theta =  df.iloc[:, 22:][order3]\n",
    "df_theta.head()"
   ]
  },
  {
   "cell_type": "code",
   "execution_count": 11,
   "id": "b3bf74ee-eb50-40ec-9cec-20e2c7ce0e28",
   "metadata": {},
   "outputs": [],
   "source": [
    "colors = ['red','red','red','red','blue','blue','blue','blue','darkorange','green','limegreen']\n",
    "labels = [\"BFcol\",\"MAcol\",\"CIcol\",\"GHcol\",\"BFgam\",\"MAgam\",\"GHgam\",\"GNgam\",\"gcx2\",\"gcx1-GM\",\"gcx1-GW\"]"
   ]
  },
  {
   "cell_type": "code",
   "execution_count": 56,
   "id": "6eb8654f-7921-4968-87ff-862809a3ccf4",
   "metadata": {},
   "outputs": [
    {
     "data": {
      "image/png": "[encoded data removed]",
      "text/plain": [
       "<Figure size 1500x500 with 3 Axes>"
      ]
     },
     "metadata": {},
     "output_type": "display_data"
    }
   ],
   "source": [
    "import matplotlib.pyplot as plt\n",
    "\n",
    "fig, (ax1, ax2, ax3) = plt.subplots(nrows=1, ncols=3, figsize=(15, 5))\n",
    "\n",
    "boxplot = ax1.boxplot(df_pi,\n",
    "                      vert=True,\n",
    "                      patch_artist=True,\n",
    "                      showfliers=False,\n",
    "                      medianprops={\"color\": \"black\"},\n",
    "                      notch=True)  # Add notches\n",
    "ax1.set_title(r'$\\pi$')\n",
    "for patch, color in zip(boxplot['boxes'], colors):\n",
    "    patch.set_facecolor(color)\n",
    "ax1.set_xticks(range(1, len(labels) + 1))  # Set tick positions\n",
    "ax1.set_xticklabels(labels, rotation=90)  # Set tick labels\n",
    "\n",
    "boxplot2 = ax2.boxplot(df_tjd,\n",
    "                       vert=True,\n",
    "                       patch_artist=True,\n",
    "                       showfliers=False,\n",
    "                      medianprops={\"color\": \"black\"},\n",
    "                       notch=True)  # Add notches\n",
    "ax2.set_title(r\"Tajima's $D$\")\n",
    "for patch, color in zip(boxplot2['boxes'], colors):\n",
    "    patch.set_facecolor(color)\n",
    "ax2.set_xticks(range(1, len(labels) + 1))  # Set tick positions\n",
    "ax2.set_xticklabels(labels, rotation=90)  # Set tick labels\n",
    "\n",
    "boxplot3 = ax3.boxplot(df_theta,\n",
    "                       vert=True,\n",
    "                       patch_artist=True,\n",
    "                       showfliers=False,\n",
    "                       notch=True,\n",
    "                      medianprops={\"color\": \"black\"}) \n",
    "ax3.set_title(r\"Watterson's theta (ƟW)\")\n",
    "for patch, color in zip(boxplot3['boxes'], colors):\n",
    "    patch.set_facecolor(color)\n",
    "ax3.set_xticks(range(1, len(labels) + 1))  # Set tick positions\n",
    "ax3.set_xticklabels(labels, rotation=90)  # Set tick labels\n",
    "\n",
    "fig.tight_layout()\n",
    "sns.despine()\n",
    "plt.show()\n",
    "fig.savefig('stats_pi_tjd.png')\n"
   ]
  },
  {
   "cell_type": "markdown",
   "id": "26803d73-fb3f-48bb-a1f9-f2c0ade448f1",
   "metadata": {},
   "source": [
    "-------------------------"
   ]
  },
  {
   "cell_type": "code",
   "execution_count": 1,
   "id": "6c1fb12b-653e-4144-8519-937f14e89566",
   "metadata": {},
   "outputs": [
    {
     "data": {
      "application/javascript": [
       "'use strict';\n",
       "(function(root) {\n",
       "  function now() {\n",
       "    return new Date();\n",
       "  }\n",
       "\n",
       "  const force = true;\n",
       "\n",
       "  if (typeof root._bokeh_onload_callbacks === \"undefined\" || force === true) {\n",
       "    root._bokeh_onload_callbacks = [];\n",
       "    root._bokeh_is_loading = undefined;\n",
       "  }\n",
       "\n",
       "const JS_MIME_TYPE = 'application/javascript';\n",
       "  const HTML_MIME_TYPE = 'text/html';\n",
       "  const EXEC_MIME_TYPE = 'application/vnd.bokehjs_exec.v0+json';\n",
       "  const CLASS_NAME = 'output_bokeh rendered_html';\n",
       "\n",
       "  /**\n",
       "   * Render data to the DOM node\n",
       "   */\n",
       "  function render(props, node) {\n",
       "    const script = document.createElement(\"script\");\n",
       "    node.appendChild(script);\n",
       "  }\n",
       "\n",
       "  /**\n",
       "   * Handle when an output is cleared or removed\n",
       "   */\n",
       "  function handleClearOutput(event, handle) {\n",
       "    function drop(id) {\n",
       "      const view = Bokeh.index.get_by_id(id)\n",
       "      if (view != null) {\n",
       "        view.model.document.clear()\n",
       "        Bokeh.index.delete(view)\n",
       "      }\n",
       "    }\n",
       "\n",
       "    const cell = handle.cell;\n",
       "\n",
       "    const id = cell.output_area._bokeh_element_id;\n",
       "    const server_id = cell.output_area._bokeh_server_id;\n",
       "\n",
       "    // Clean up Bokeh references\n",
       "    if (id != null) {\n",
       "      drop(id)\n",
       "    }\n",
       "\n",
       "    if (server_id !== undefined) {\n",
       "      // Clean up Bokeh references\n",
       "      const cmd_clean = \"from bokeh.io.state import curstate; print(curstate().uuid_to_server['\" + server_id + \"'].get_sessions()[0].document.roots[0]._id)\";\n",
       "      cell.notebook.kernel.execute(cmd_clean, {\n",
       "        iopub: {\n",
       "          output: function(msg) {\n",
       "            const id = msg.content.text.trim()\n",
       "            drop(id)\n",
       "          }\n",
       "        }\n",
       "      });\n",
       "      // Destroy server and session\n",
       "      const cmd_destroy = \"import bokeh.io.notebook as ion; ion.destroy_server('\" + server_id + \"')\";\n",
       "      cell.notebook.kernel.execute(cmd_destroy);\n",
       "    }\n",
       "  }\n",
       "\n",
       "  /**\n",
       "   * Handle when a new output is added\n",
       "   */\n",
       "  function handleAddOutput(event, handle) {\n",
       "    const output_area = handle.output_area;\n",
       "    const output = handle.output;\n",
       "\n",
       "    // limit handleAddOutput to display_data with EXEC_MIME_TYPE content only\n",
       "    if ((output.output_type != \"display_data\") || (!Object.prototype.hasOwnProperty.call(output.data, EXEC_MIME_TYPE))) {\n",
       "      return\n",
       "    }\n",
       "\n",
       "    const toinsert = output_area.element.find(\".\" + CLASS_NAME.split(' ')[0]);\n",
       "\n",
       "    if (output.metadata[EXEC_MIME_TYPE][\"id\"] !== undefined) {\n",
       "      toinsert[toinsert.length - 1].firstChild.textContent = output.data[JS_MIME_TYPE];\n",
       "      // store reference to embed id on output_area\n",
       "      output_area._bokeh_element_id = output.metadata[EXEC_MIME_TYPE][\"id\"];\n",
       "    }\n",
       "    if (output.metadata[EXEC_MIME_TYPE][\"server_id\"] !== undefined) {\n",
       "      const bk_div = document.createElement(\"div\");\n",
       "      bk_div.innerHTML = output.data[HTML_MIME_TYPE];\n",
       "      const script_attrs = bk_div.children[0].attributes;\n",
       "      for (let i = 0; i < script_attrs.length; i++) {\n",
       "        toinsert[toinsert.length - 1].firstChild.setAttribute(script_attrs[i].name, script_attrs[i].value);\n",
       "        toinsert[toinsert.length - 1].firstChild.textContent = bk_div.children[0].textContent\n",
       "      }\n",
       "      // store reference to server id on output_area\n",
       "      output_area._bokeh_server_id = output.metadata[EXEC_MIME_TYPE][\"server_id\"];\n",
       "    }\n",
       "  }\n",
       "\n",
       "  function register_renderer(events, OutputArea) {\n",
       "\n",
       "    function append_mime(data, metadata, element) {\n",
       "      // create a DOM node to render to\n",
       "      const toinsert = this.create_output_subarea(\n",
       "        metadata,\n",
       "        CLASS_NAME,\n",
       "        EXEC_MIME_TYPE\n",
       "      );\n",
       "      this.keyboard_manager.register_events(toinsert);\n",
       "      // Render to node\n",
       "      const props = {data: data, metadata: metadata[EXEC_MIME_TYPE]};\n",
       "      render(props, toinsert[toinsert.length - 1]);\n",
       "      element.append(toinsert);\n",
       "      return toinsert\n",
       "    }\n",
       "\n",
       "    /* Handle when an output is cleared or removed */\n",
       "    events.on('clear_output.CodeCell', handleClearOutput);\n",
       "    events.on('delete.Cell', handleClearOutput);\n",
       "\n",
       "    /* Handle when a new output is added */\n",
       "    events.on('output_added.OutputArea', handleAddOutput);\n",
       "\n",
       "    /**\n",
       "     * Register the mime type and append_mime function with output_area\n",
       "     */\n",
       "    OutputArea.prototype.register_mime_type(EXEC_MIME_TYPE, append_mime, {\n",
       "      /* Is output safe? */\n",
       "      safe: true,\n",
       "      /* Index of renderer in `output_area.display_order` */\n",
       "      index: 0\n",
       "    });\n",
       "  }\n",
       "\n",
       "  // register the mime type if in Jupyter Notebook environment and previously unregistered\n",
       "  if (root.Jupyter !== undefined) {\n",
       "    const events = require('base/js/events');\n",
       "    const OutputArea = require('notebook/js/outputarea').OutputArea;\n",
       "\n",
       "    if (OutputArea.prototype.mime_types().indexOf(EXEC_MIME_TYPE) == -1) {\n",
       "      register_renderer(events, OutputArea);\n",
       "    }\n",
       "  }\n",
       "  if (typeof (root._bokeh_timeout) === \"undefined\" || force === true) {\n",
       "    root._bokeh_timeout = Date.now() + 5000;\n",
       "    root._bokeh_failed_load = false;\n",
       "  }\n",
       "\n",
       "  const NB_LOAD_WARNING = {'data': {'text/html':\n",
       "     \"<div style='background-color: #fdd'>\\n\"+\n",
       "     \"<p>\\n\"+\n",
       "     \"BokehJS does not appear to have successfully loaded. If loading BokehJS from CDN, this \\n\"+\n",
       "     \"may be due to a slow or bad network connection. Possible fixes:\\n\"+\n",
       "     \"</p>\\n\"+\n",
       "     \"<ul>\\n\"+\n",
       "     \"<li>re-rerun `output_notebook()` to attempt to load from CDN again, or</li>\\n\"+\n",
       "     \"<li>use INLINE resources instead, as so:</li>\\n\"+\n",
       "     \"</ul>\\n\"+\n",
       "     \"<code>\\n\"+\n",
       "     \"from bokeh.resources import INLINE\\n\"+\n",
       "     \"output_notebook(resources=INLINE)\\n\"+\n",
       "     \"</code>\\n\"+\n",
       "     \"</div>\"}};\n",
       "\n",
       "  function display_loaded(error = null) {\n",
       "    const el = document.getElementById(null);\n",
       "    if (el != null) {\n",
       "      const html = (() => {\n",
       "        if (typeof root.Bokeh === \"undefined\") {\n",
       "          if (error == null) {\n",
       "            return \"BokehJS is loading ...\";\n",
       "          } else {\n",
       "            return \"BokehJS failed to load.\";\n",
       "          }\n",
       "        } else {\n",
       "          const prefix = `BokehJS ${root.Bokeh.version}`;\n",
       "          if (error == null) {\n",
       "            return `${prefix} successfully loaded.`;\n",
       "          } else {\n",
       "            return `${prefix} <b>encountered errors</b> while loading and may not function as expected.`;\n",
       "          }\n",
       "        }\n",
       "      })();\n",
       "      el.innerHTML = html;\n",
       "\n",
       "      if (error != null) {\n",
       "        const wrapper = document.createElement(\"div\");\n",
       "        wrapper.style.overflow = \"auto\";\n",
       "        wrapper.style.height = \"5em\";\n",
       "        wrapper.style.resize = \"vertical\";\n",
       "        const content = document.createElement(\"div\");\n",
       "        content.style.fontFamily = \"monospace\";\n",
       "        content.style.whiteSpace = \"pre-wrap\";\n",
       "        content.style.backgroundColor = \"rgb(255, 221, 221)\";\n",
       "        content.textContent = error.stack ?? error.toString();\n",
       "        wrapper.append(content);\n",
       "        el.append(wrapper);\n",
       "      }\n",
       "    } else if (Date.now() < root._bokeh_timeout) {\n",
       "      setTimeout(() => display_loaded(error), 100);\n",
       "    }\n",
       "  }\n",
       "\n",
       "  function run_callbacks() {\n",
       "    try {\n",
       "      root._bokeh_onload_callbacks.forEach(function(callback) {\n",
       "        if (callback != null)\n",
       "          callback();\n",
       "      });\n",
       "    } finally {\n",
       "      delete root._bokeh_onload_callbacks\n",
       "    }\n",
       "    console.debug(\"Bokeh: all callbacks have finished\");\n",
       "  }\n",
       "\n",
       "  function load_libs(css_urls, js_urls, callback) {\n",
       "    if (css_urls == null) css_urls = [];\n",
       "    if (js_urls == null) js_urls = [];\n",
       "\n",
       "    root._bokeh_onload_callbacks.push(callback);\n",
       "    if (root._bokeh_is_loading > 0) {\n",
       "      console.debug(\"Bokeh: BokehJS is being loaded, scheduling callback at\", now());\n",
       "      return null;\n",
       "    }\n",
       "    if (js_urls == null || js_urls.length === 0) {\n",
       "      run_callbacks();\n",
       "      return null;\n",
       "    }\n",
       "    console.debug(\"Bokeh: BokehJS not loaded, scheduling load and callback at\", now());\n",
       "    root._bokeh_is_loading = css_urls.length + js_urls.length;\n",
       "\n",
       "    function on_load() {\n",
       "      root._bokeh_is_loading--;\n",
       "      if (root._bokeh_is_loading === 0) {\n",
       "        console.debug(\"Bokeh: all BokehJS libraries/stylesheets loaded\");\n",
       "        run_callbacks()\n",
       "      }\n",
       "    }\n",
       "\n",
       "    function on_error(url) {\n",
       "      console.error(\"failed to load \" + url);\n",
       "    }\n",
       "\n",
       "    for (let i = 0; i < css_urls.length; i++) {\n",
       "      const url = css_urls[i];\n",
       "      const element = document.createElement(\"link\");\n",
       "      element.onload = on_load;\n",
       "      element.onerror = on_error.bind(null, url);\n",
       "      element.rel = \"stylesheet\";\n",
       "      element.type = \"text/css\";\n",
       "      element.href = url;\n",
       "      console.debug(\"Bokeh: injecting link tag for BokehJS stylesheet: \", url);\n",
       "      document.body.appendChild(element);\n",
       "    }\n",
       "\n",
       "    for (let i = 0; i < js_urls.length; i++) {\n",
       "      const url = js_urls[i];\n",
       "      const element = document.createElement('script');\n",
       "      element.onload = on_load;\n",
       "      element.onerror = on_error.bind(null, url);\n",
       "      element.async = false;\n",
       "      element.src = url;\n",
       "      console.debug(\"Bokeh: injecting script tag for BokehJS library: \", url);\n",
       "      document.head.appendChild(element);\n",
       "    }\n",
       "  };\n",
       "\n",
       "  function inject_raw_css(css) {\n",
       "    const element = document.createElement(\"style\");\n",
       "    element.appendChild(document.createTextNode(css));\n",
       "    document.body.appendChild(element);\n",
       "  }\n",
       "\n",
       "  const js_urls = [\"https://cdn.bokeh.org/bokeh/release/bokeh-3.4.1.min.js\", \"https://cdn.bokeh.org/bokeh/release/bokeh-gl-3.4.1.min.js\", \"https://cdn.bokeh.org/bokeh/release/bokeh-widgets-3.4.1.min.js\", \"https://cdn.bokeh.org/bokeh/release/bokeh-tables-3.4.1.min.js\", \"https://cdn.bokeh.org/bokeh/release/bokeh-mathjax-3.4.1.min.js\"];\n",
       "  const css_urls = [];\n",
       "\n",
       "  const inline_js = [    function(Bokeh) {\n",
       "      Bokeh.set_log_level(\"info\");\n",
       "    },\n",
       "function(Bokeh) {\n",
       "    }\n",
       "  ];\n",
       "\n",
       "  function run_inline_js() {\n",
       "    if (root.Bokeh !== undefined || force === true) {\n",
       "      try {\n",
       "            for (let i = 0; i < inline_js.length; i++) {\n",
       "      inline_js[i].call(root, root.Bokeh);\n",
       "    }\n",
       "\n",
       "      } catch (error) {throw error;\n",
       "      }} else if (Date.now() < root._bokeh_timeout) {\n",
       "      setTimeout(run_inline_js, 100);\n",
       "    } else if (!root._bokeh_failed_load) {\n",
       "      console.log(\"Bokeh: BokehJS failed to load within specified timeout.\");\n",
       "      root._bokeh_failed_load = true;\n",
       "    } else if (force !== true) {\n",
       "      const cell = $(document.getElementById(null)).parents('.cell').data().cell;\n",
       "      cell.output_area.append_execute_result(NB_LOAD_WARNING)\n",
       "    }\n",
       "  }\n",
       "\n",
       "  if (root._bokeh_is_loading === 0) {\n",
       "    console.debug(\"Bokeh: BokehJS loaded, going straight to plotting\");\n",
       "    run_inline_js();\n",
       "  } else {\n",
       "    load_libs(css_urls, js_urls, function() {\n",
       "      console.debug(\"Bokeh: BokehJS plotting callback run at\", now());\n",
       "      run_inline_js();\n",
       "    });\n",
       "  }\n",
       "}(window));"
      ],
      "application/vnd.bokehjs_load.v0+json": "'use strict';\n(function(root) {\n  function now() {\n    return new Date();\n  }\n\n  const force = true;\n\n  if (typeof root._bokeh_onload_callbacks === \"undefined\" || force === true) {\n    root._bokeh_onload_callbacks = [];\n    root._bokeh_is_loading = undefined;\n  }\n\n\n  if (typeof (root._bokeh_timeout) === \"undefined\" || force === true) {\n    root._bokeh_timeout = Date.now() + 5000;\n    root._bokeh_failed_load = false;\n  }\n\n  const NB_LOAD_WARNING = {'data': {'text/html':\n     \"<div style='background-color: #fdd'>\\n\"+\n     \"<p>\\n\"+\n     \"BokehJS does not appear to have successfully loaded. If loading BokehJS from CDN, this \\n\"+\n     \"may be due to a slow or bad network connection. Possible fixes:\\n\"+\n     \"</p>\\n\"+\n     \"<ul>\\n\"+\n     \"<li>re-rerun `output_notebook()` to attempt to load from CDN again, or</li>\\n\"+\n     \"<li>use INLINE resources instead, as so:</li>\\n\"+\n     \"</ul>\\n\"+\n     \"<code>\\n\"+\n     \"from bokeh.resources import INLINE\\n\"+\n     \"output_notebook(resources=INLINE)\\n\"+\n     \"</code>\\n\"+\n     \"</div>\"}};\n\n  function display_loaded(error = null) {\n    const el = document.getElementById(null);\n    if (el != null) {\n      const html = (() => {\n        if (typeof root.Bokeh === \"undefined\") {\n          if (error == null) {\n            return \"BokehJS is loading ...\";\n          } else {\n            return \"BokehJS failed to load.\";\n          }\n        } else {\n          const prefix = `BokehJS ${root.Bokeh.version}`;\n          if (error == null) {\n            return `${prefix} successfully loaded.`;\n          } else {\n            return `${prefix} <b>encountered errors</b> while loading and may not function as expected.`;\n          }\n        }\n      })();\n      el.innerHTML = html;\n\n      if (error != null) {\n        const wrapper = document.createElement(\"div\");\n        wrapper.style.overflow = \"auto\";\n        wrapper.style.height = \"5em\";\n        wrapper.style.resize = \"vertical\";\n        const content = document.createElement(\"div\");\n        content.style.fontFamily = \"monospace\";\n        content.style.whiteSpace = \"pre-wrap\";\n        content.style.backgroundColor = \"rgb(255, 221, 221)\";\n        content.textContent = error.stack ?? error.toString();\n        wrapper.append(content);\n        el.append(wrapper);\n      }\n    } else if (Date.now() < root._bokeh_timeout) {\n      setTimeout(() => display_loaded(error), 100);\n    }\n  }\n\n  function run_callbacks() {\n    try {\n      root._bokeh_onload_callbacks.forEach(function(callback) {\n        if (callback != null)\n          callback();\n      });\n    } finally {\n      delete root._bokeh_onload_callbacks\n    }\n    console.debug(\"Bokeh: all callbacks have finished\");\n  }\n\n  function load_libs(css_urls, js_urls, callback) {\n    if (css_urls == null) css_urls = [];\n    if (js_urls == null) js_urls = [];\n\n    root._bokeh_onload_callbacks.push(callback);\n    if (root._bokeh_is_loading > 0) {\n      console.debug(\"Bokeh: BokehJS is being loaded, scheduling callback at\", now());\n      return null;\n    }\n    if (js_urls == null || js_urls.length === 0) {\n      run_callbacks();\n      return null;\n    }\n    console.debug(\"Bokeh: BokehJS not loaded, scheduling load and callback at\", now());\n    root._bokeh_is_loading = css_urls.length + js_urls.length;\n\n    function on_load() {\n      root._bokeh_is_loading--;\n      if (root._bokeh_is_loading === 0) {\n        console.debug(\"Bokeh: all BokehJS libraries/stylesheets loaded\");\n        run_callbacks()\n      }\n    }\n\n    function on_error(url) {\n      console.error(\"failed to load \" + url);\n    }\n\n    for (let i = 0; i < css_urls.length; i++) {\n      const url = css_urls[i];\n      const element = document.createElement(\"link\");\n      element.onload = on_load;\n      element.onerror = on_error.bind(null, url);\n      element.rel = \"stylesheet\";\n      element.type = \"text/css\";\n      element.href = url;\n      console.debug(\"Bokeh: injecting link tag for BokehJS stylesheet: \", url);\n      document.body.appendChild(element);\n    }\n\n    for (let i = 0; i < js_urls.length; i++) {\n      const url = js_urls[i];\n      const element = document.createElement('script');\n      element.onload = on_load;\n      element.onerror = on_error.bind(null, url);\n      element.async = false;\n      element.src = url;\n      console.debug(\"Bokeh: injecting script tag for BokehJS library: \", url);\n      document.head.appendChild(element);\n    }\n  };\n\n  function inject_raw_css(css) {\n    const element = document.createElement(\"style\");\n    element.appendChild(document.createTextNode(css));\n    document.body.appendChild(element);\n  }\n\n  const js_urls = [\"https://cdn.bokeh.org/bokeh/release/bokeh-3.4.1.min.js\", \"https://cdn.bokeh.org/bokeh/release/bokeh-gl-3.4.1.min.js\", \"https://cdn.bokeh.org/bokeh/release/bokeh-widgets-3.4.1.min.js\", \"https://cdn.bokeh.org/bokeh/release/bokeh-tables-3.4.1.min.js\", \"https://cdn.bokeh.org/bokeh/release/bokeh-mathjax-3.4.1.min.js\"];\n  const css_urls = [];\n\n  const inline_js = [    function(Bokeh) {\n      Bokeh.set_log_level(\"info\");\n    },\nfunction(Bokeh) {\n    }\n  ];\n\n  function run_inline_js() {\n    if (root.Bokeh !== undefined || force === true) {\n      try {\n            for (let i = 0; i < inline_js.length; i++) {\n      inline_js[i].call(root, root.Bokeh);\n    }\n\n      } catch (error) {throw error;\n      }} else if (Date.now() < root._bokeh_timeout) {\n      setTimeout(run_inline_js, 100);\n    } else if (!root._bokeh_failed_load) {\n      console.log(\"Bokeh: BokehJS failed to load within specified timeout.\");\n      root._bokeh_failed_load = true;\n    } else if (force !== true) {\n      const cell = $(document.getElementById(null)).parents('.cell').data().cell;\n      cell.output_area.append_execute_result(NB_LOAD_WARNING)\n    }\n  }\n\n  if (root._bokeh_is_loading === 0) {\n    console.debug(\"Bokeh: BokehJS loaded, going straight to plotting\");\n    run_inline_js();\n  } else {\n    load_libs(css_urls, js_urls, function() {\n      console.debug(\"Bokeh: BokehJS plotting callback run at\", now());\n      run_inline_js();\n    });\n  }\n}(window));"
     },
     "metadata": {},
     "output_type": "display_data"
    }
   ],
   "source": [
    "import os\n",
    "import allel\n",
    "import zarr\n",
    "import pandas as pd\n",
    "import petl as etl\n",
    "import numpy as np\n",
    "import matplotlib.pyplot as plt\n",
    "import seaborn as sns\n",
    "import h5py\n",
    "import plotly.express as px\n",
    "#import pyfasta\n",
    "import sys\n",
    "from os.path import isfile, join, isdir\n",
    "import dask\n",
    "# quieten dask warnings about large chunks\n",
    "dask.config.set(**{'array.slicing.split_large_chunks': True})\n",
    "import malariagen_data\n",
    "ag3 = malariagen_data.Ag3(\"gs://vo_agam_release/\")"
   ]
  },
  {
   "cell_type": "code",
   "execution_count": null,
   "id": "1b34ecac-5ac7-4be9-bef2-0b9faf2297ef",
   "metadata": {},
   "outputs": [],
   "source": [
    " 'gcx1-GM'\n",
    " 'gcx1-GW':\n"
   ]
  },
  {
   "cell_type": "code",
   "execution_count": 2,
   "id": "1df8121c-9c0c-4152-bffc-90f08911a416",
   "metadata": {},
   "outputs": [],
   "source": [
    "subpops = 'gcx1_VMF00235','gcx1_VMF00242'"
   ]
  },
  {
   "cell_type": "code",
   "execution_count": 5,
   "id": "ab5539bf-322c-4734-aa33-fa64f4d87953",
   "metadata": {},
   "outputs": [],
   "source": [
    "fn_template = 'windows_eqaccess.{window}.{chrom}.txt'\n",
    "\n",
    "def build_df(chrom, window='1000000'):\n",
    "\n",
    "    # pi\n",
    "    pi_fn = '/mnt/c/Users/rando/Documenti/Ag1000G/Data/Extras/pi.windows_eqaccess.h5'\n",
    "    pi = h5py.File(pi_fn, mode='r')\n",
    "\n",
    "    # tajima's D\n",
    "    tjd_fn = '/mnt/c/Users/rando/Documenti/Ag1000G/Data/Extras/Tajimas_D.windows_eqaccess.h5'\n",
    "    tjd = h5py.File(tjd_fn, mode='r')\n",
    "\n",
    "\n",
    "\n",
    "    pops = subpops\n",
    "    \n",
    "    pig = pi[window][chrom]['gcx1_VMF00235']\n",
    "    # N.B., previous data includes final odd-size window, remove here\n",
    "    windows = pig['windows'][:-1]\n",
    "    starts = windows[:, 0]\n",
    "    stops = windows[:, 1]\n",
    "    midpoints = np.round(windows.mean(axis=1))\n",
    "    items = [\n",
    "        ('chrom', [chrom] * len(starts)),\n",
    "        ('start', starts),\n",
    "        ('stop', stops),\n",
    "        ('midpoint', midpoints),\n",
    "    ]\n",
    "    \n",
    "    for pop in pops:\n",
    "        x = pi[window][chrom][pop]['pi'][:-1]\n",
    "        items.append(('pi_' + pop, x))\n",
    "\n",
    "    for pop in pops:\n",
    "        y = tjd[window][chrom][pop]['tajd'][:-1]\n",
    "        items.append(('tajima_d_' + pop, y))\n",
    "        \n",
    "\n",
    "    df = pd.DataFrame.from_dict(dict(items))\n",
    "\n",
    "    fn = fn_template.format(window=window, chrom=chrom)\n",
    "    df.to_csv(fn, sep='\\t', index=False)\n",
    "    \n",
    "    return df"
   ]
  },
  {
   "cell_type": "code",
   "execution_count": 6,
   "id": "4e5ae18a-cd3c-47d1-802c-dda66a569d6c",
   "metadata": {},
   "outputs": [],
   "source": [
    "df = build_df('3L')\n",
    "df = build_df('3R')"
   ]
  },
  {
   "cell_type": "code",
   "execution_count": 7,
   "id": "08d05e54-4706-4eec-afb5-4d7d89d0032e",
   "metadata": {},
   "outputs": [],
   "source": [
    "df_3R = pd.read_csv('windows_eqaccess.1000000.3R.txt', sep = '\\t')\n",
    "df_3L = pd.read_csv('windows_eqaccess.1000000.3L.txt', sep = '\\t')"
   ]
  },
  {
   "cell_type": "code",
   "execution_count": 9,
   "id": "1a04a63f-94fe-42c3-a4eb-ba0a9a7f28e4",
   "metadata": {},
   "outputs": [],
   "source": [
    "new_df_3R = df_3R[((df_3R['start'] > 1000000) & (df_3R['stop'] < 24000000))].drop(columns=(['chrom','start','stop','midpoint']))\n",
    "new_df_3L = df_3L[((df_3L['start'] > 18000000) & (df_3L['stop'] < 41000000))].drop(columns=(['chrom','start','stop','midpoint']))\n",
    "frames = [new_df_3R, new_df_3L]\n",
    "df_39 = pd.concat(frames)"
   ]
  },
  {
   "cell_type": "code",
   "execution_count": 49,
   "id": "e09cc88d-e00b-4471-89ca-faccb5484b23",
   "metadata": {},
   "outputs": [],
   "source": [
    "df_pi2 = pd.concat([df_pi, df_39.iloc[:,0:2]], axis=1)\n",
    "df_tjd2 = pd.concat([df_tjd, df_39.iloc[:,2:4]], axis=1)"
   ]
  },
  {
   "cell_type": "code",
   "execution_count": 50,
   "id": "08e76085-9775-458e-bfed-9f533921cca1",
   "metadata": {},
   "outputs": [],
   "source": [
    "colors = ['red','red','red','red','blue','blue','blue','blue','darkorange','limegreen','green','green','green']\n",
    "labels = [\"BFcol\",\"MAcol\",\"CIcol\",\"GHcol\",\"BFgam\",\"MAgam\",\"GHgam\",\"GNgam\",\"gcx2\",\"gcx1-GW\",\"gcx1-GM\",'gcx1_VMF00235','gcx1_VMF00242']"
   ]
  },
  {
   "cell_type": "code",
   "execution_count": 51,
   "id": "8225c0cb-5381-452e-9158-670388fe1693",
   "metadata": {},
   "outputs": [
    {
     "data": {
      "image/png": "[encoded data removed]",
      "text/plain": [
       "<Figure size 1500x500 with 2 Axes>"
      ]
     },
     "metadata": {},
     "output_type": "display_data"
    }
   ],
   "source": [
    "import matplotlib.pyplot as plt\n",
    "\n",
    "fig, (ax1, ax2) = plt.subplots(nrows=1, ncols=2, figsize=(15, 5))\n",
    "\n",
    "boxplot = ax1.boxplot(df_pi2,\n",
    "                      vert=True,\n",
    "                      patch_artist=True,\n",
    "                      showfliers=False,\n",
    "                      medianprops={\"color\": \"black\"},\n",
    "                      notch=True)  # Add notches\n",
    "ax1.set_title(r'$\\pi$')\n",
    "for patch, color in zip(boxplot['boxes'], colors):\n",
    "    patch.set_facecolor(color)\n",
    "ax1.set_xticks(range(1, len(labels) + 1))  # Set tick positions\n",
    "ax1.set_xticklabels(labels, rotation=90)  # Set tick labels\n",
    "\n",
    "boxplot2 = ax2.boxplot(df_tjd2,\n",
    "                       vert=True,\n",
    "                       patch_artist=True,\n",
    "                       showfliers=False,\n",
    "                      medianprops={\"color\": \"black\"},\n",
    "                       notch=True)  # Add notches\n",
    "ax2.set_title(r\"Tajima's $D$\")\n",
    "for patch, color in zip(boxplot2['boxes'], colors):\n",
    "    patch.set_facecolor(color)\n",
    "ax2.set_xticks(range(1, len(labels) + 1))  # Set tick positions\n",
    "ax2.set_xticklabels(labels, rotation=90)  # Set tick labels\n",
    "\n",
    "\n",
    "fig.tight_layout()\n",
    "sns.despine()\n",
    "plt.show()\n",
    "fig.savefig('stats_pi_tjd39.png')\n"
   ]
  },
  {
   "cell_type": "code",
   "execution_count": null,
   "id": "29aeeed6-0da4-4671-9174-33f386a4257a",
   "metadata": {},
   "outputs": [],
   "source": []
  }
 ],
 "metadata": {
  "kernelspec": {
   "display_name": "Python 3 (ipykernel)",
   "language": "python",
   "name": "python3"
  },
  "language_info": {
   "codemirror_mode": {
    "name": "ipython",
    "version": 3
   },
   "file_extension": ".py",
   "mimetype": "text/x-python",
   "name": "python",
   "nbconvert_exporter": "python",
   "pygments_lexer": "ipython3",
   "version": "3.12.3"
  }
 },
 "nbformat": 4,
 "nbformat_minor": 5
}
