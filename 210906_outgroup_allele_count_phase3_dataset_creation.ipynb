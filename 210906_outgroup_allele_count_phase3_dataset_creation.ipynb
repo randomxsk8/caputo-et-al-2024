{
 "cells": [
  {
   "cell_type": "markdown",
   "metadata": {},
   "source": [
    "# Outgroup allele counts phase3 dataset creation\n",
    "\n",
    "In this notebook I created the new dataset with allele counts for outgroups.\n",
    "This notebook is structured in 5 steps:\n",
    "\n",
    "1) <b>Loading step</b>, I loaded the Ag1000G phase2 pass data, the ingroup data and the outgroup data\n",
    "\n",
    "2) <b>Alignment step</b>, I aligned the each outgroup genome with the phase3 pass dataset\n",
    "\n",
    "3) <b>Writing step</b>, I wrote the new allele count of the outgroups on a zarr dataset\n",
    "\n",
    "4) <b>Mapping step</b>, I mapped the outgroup alle count dataset to the phase3 biallelic daset to take only the biallelic variants for each outgroup\n",
    "\n",
    "5) <b>Building step</b>, I wrote the new biallelic allele count of the outgroups in a new dataset\n",
    "\n",
    "\n",
    "Import modules:"
   ]
  },
  {
   "cell_type": "code",
   "execution_count": 1,
   "metadata": {},
   "outputs": [
    {
     "name": "stderr",
     "output_type": "stream",
     "text": [
      "/home/randomx/anaconda3/envs/pyenv1/lib/python3.7/site-packages/statsmodels/tools/_testing.py:19: FutureWarning: pandas.util.testing is deprecated. Use the functions in the public API at pandas.testing instead.\n",
      "  import pandas.util.testing as tm\n"
     ]
    }
   ],
   "source": [
    "import os\n",
    "import sys\n",
    "import allel\n",
    "import zarr\n",
    "import pandas as pd\n",
    "import petl as etl\n",
    "from matplotlib import pyplot\n",
    "import seaborn as sns\n",
    "import h5py\n",
    "import pyfasta\n",
    "import numpy as np\n",
    "nnz = np.count_nonzero\n",
    "\n",
    "def log(*msg):\n",
    "    print(' '.join(map(str, msg)), file=sys.stdout)\n",
    "    sys.stdout.flush()\n",
    "    \n",
    "autosomes = '2R', '2L', '3R', '3L'\n",
    "chromosomes = autosomes + ('X',)"
   ]
  },
  {
   "cell_type": "markdown",
   "metadata": {},
   "source": [
    "Import Alistair modules:"
   ]
  },
  {
   "cell_type": "code",
   "execution_count": 4,
   "metadata": {},
   "outputs": [],
   "source": [
    "%run 'imports_20150407.ipynb'"
   ]
  },
  {
   "cell_type": "markdown",
   "metadata": {},
   "source": [
    "-----------------------------"
   ]
  },
  {
   "cell_type": "markdown",
   "metadata": {},
   "source": [
    "## 1) Loading step"
   ]
  },
  {
   "cell_type": "markdown",
   "metadata": {},
   "source": [
    "Loading phase2 calldata:"
   ]
  },
  {
   "cell_type": "code",
   "execution_count": 10,
   "metadata": {},
   "outputs": [],
   "source": [
    "import malariagen_data\n",
    "ag3 = malariagen_data.Ag3(\"gs://vo_agam_release/\")"
   ]
  },
  {
   "cell_type": "markdown",
   "metadata": {},
   "source": [
    "---------------------------"
   ]
  },
  {
   "cell_type": "markdown",
   "metadata": {},
   "source": [
    "Loading outgroup calldata:"
   ]
  },
  {
   "cell_type": "code",
   "execution_count": 6,
   "metadata": {},
   "outputs": [],
   "source": [
    "outgroup_species = ['chri', 'epir']"
   ]
  },
  {
   "cell_type": "code",
   "execution_count": 7,
   "metadata": {},
   "outputs": [],
   "source": [
    "outgroup_variants_fn_template = '/home/randomx/{species}_fake_cnvrt_sort.vcf.gz.vcfnp_cache/variants.{chrom}.npy'"
   ]
  },
  {
   "cell_type": "markdown",
   "metadata": {},
   "source": [
    "--------------------------"
   ]
  },
  {
   "cell_type": "markdown",
   "metadata": {},
   "source": [
    "## 2) Align step"
   ]
  },
  {
   "cell_type": "markdown",
   "metadata": {},
   "source": [
    "Align outgroup calldata to the phase3 calldata:"
   ]
  },
  {
   "cell_type": "code",
   "execution_count": 37,
   "metadata": {},
   "outputs": [],
   "source": [
    "def align_outgroup_ac(chrom, species):\n",
    "\n",
    "    # load Ag1000G variant positions and alternate alleles\n",
    "    #variants = callset[chrom]['variants']\n",
    "    filter_pass = ag3.site_filters(chrom, mask=\"gamb_colu\").compute()\n",
    "    f = filter_pass[:]\n",
    "    pos, ref, alt = ag3.snp_sites(chrom)\n",
    "    pos = allel.SortedIndex(pos[f].compute())\n",
    "    ref = ref[f].compute()\n",
    "    alt= alt[f].compute()\n",
    "    \n",
    "    # load outgroup variant positions and alternate alleles\n",
    "    variants_other = np.load(outgroup_variants_fn_template.format(species=species, chrom=chrom), mmap_mode='r')\n",
    "    pos_other = allel.SortedIndex(variants_other['POS'], copy=False)\n",
    "    alt_other = variants_other['ALT']\n",
    "\n",
    "    # locate intersection between callsets\n",
    "    loc_isec, loc_other_isec = pos.locate_intersection(pos_other)\n",
    "    # exclude duplicates\n",
    "    loc_other_dup = pos_other == np.roll(pos_other, 1)\n",
    "    loc_other_isec &= ~loc_other_dup\n",
    "    assert nnz(loc_isec) == nnz(loc_other_isec)\n",
    "    log(pos.size, 'variants in Ag1000G')\n",
    "    log(nnz(loc_isec), 'variants in intersection')\n",
    "\n",
    "    # filter data to the intersection\n",
    "    alt_isec = alt[loc_isec]\n",
    "    alt_other_isec = alt_other[loc_other_isec]\n",
    "\n",
    "    # setup array to store outgroup allele counts with alleles remapped to Ag1000G\n",
    "    n_variants_isec = nnz(loc_isec)\n",
    "    ac_am = np.zeros((n_variants_isec, 4), dtype='i4')\n",
    "    \n",
    "    # reference allele observed\n",
    "    loc_ref = alt_other_isec == b'.'\n",
    "    loc_a1 = alt_isec[:, 0] == alt_other_isec\n",
    "    loc_a2 = alt_isec[:, 1] == alt_other_isec\n",
    "    loc_a3 = alt_isec[:, 2] == alt_other_isec\n",
    "    ac_am[loc_ref, 0] = 1\n",
    "    ac_am[loc_a1, 1] = 1\n",
    "    ac_am[loc_a2, 2] = 1\n",
    "    ac_am[loc_a3, 3] = 1\n",
    "\n",
    "    # finally extend to all Ag1000G variant positions\n",
    "    ac_aligned = np.zeros((pos.shape[0], 4), dtype='i4')\n",
    "    ac_aligned[loc_isec] = ac_am\n",
    "    for i in range(4):\n",
    "        log(i, nnz(ac_aligned[:, i]))\n",
    "    \n",
    "    return ac_aligned"
   ]
  },
  {
   "cell_type": "markdown",
   "metadata": {},
   "source": [
    "christyi try:"
   ]
  },
  {
   "cell_type": "code",
   "execution_count": 38,
   "metadata": {},
   "outputs": [
    {
     "name": "stdout",
     "output_type": "stream",
     "text": [
      "28707856 variants in Ag1000G\n",
      "19274720 variants in intersection\n",
      "0 15195564\n",
      "1 1388820\n",
      "2 1544082\n",
      "3 1146254\n"
     ]
    },
    {
     "data": {
      "text/plain": [
       "array([[0, 0, 0, 0],\n",
       "       [0, 0, 0, 0],\n",
       "       [0, 0, 0, 0],\n",
       "       ...,\n",
       "       [0, 0, 0, 0],\n",
       "       [0, 0, 0, 0],\n",
       "       [0, 0, 0, 0]], dtype=int32)"
      ]
     },
     "execution_count": 38,
     "metadata": {},
     "output_type": "execute_result"
    }
   ],
   "source": [
    "ac_aligned = align_outgroup_ac('3L', 'chri')\n",
    "ac_aligned"
   ]
  },
  {
   "cell_type": "markdown",
   "metadata": {},
   "source": [
    "--------------------------------"
   ]
  },
  {
   "cell_type": "markdown",
   "metadata": {},
   "source": [
    "## 3) Writing step"
   ]
  },
  {
   "cell_type": "markdown",
   "metadata": {},
   "source": [
    "Write the align on a new hdf5 dataset:"
   ]
  },
  {
   "cell_type": "code",
   "execution_count": 39,
   "metadata": {},
   "outputs": [
    {
     "name": "stdout",
     "output_type": "stream",
     "text": [
      "2R chri building\n",
      "44439759 variants in Ag1000G\n",
      "32946127 variants in intersection\n",
      "0 26016146\n",
      "1 2375760\n",
      "2 2630901\n",
      "3 1923320\n",
      "2R epir building\n",
      "44439759 variants in Ag1000G\n",
      "33142683 variants in intersection\n",
      "0 25052652\n",
      "1 2566405\n",
      "2 3074483\n",
      "3 2449143\n",
      "2L chri building\n",
      "36005131 variants in Ag1000G\n",
      "25399023 variants in intersection\n",
      "0 20028934\n",
      "1 1833334\n",
      "2 2032322\n",
      "3 1504433\n",
      "2L epir building\n",
      "36005131 variants in Ag1000G\n",
      "26024720 variants in intersection\n",
      "0 19677290\n",
      "1 2030362\n",
      "2 2407878\n",
      "3 1909190\n",
      "3R chri building\n",
      "37199402 variants in Ag1000G\n",
      "26518390 variants in intersection\n",
      "0 21033451\n",
      "1 1876097\n",
      "2 2080609\n",
      "3 1528233\n",
      "3R epir building\n",
      "37199402 variants in Ag1000G\n",
      "26806397 variants in intersection\n",
      "0 20345542\n",
      "1 2050246\n",
      "2 2450998\n",
      "3 1959611\n",
      "3L chri building\n",
      "28707856 variants in Ag1000G\n",
      "19274720 variants in intersection\n",
      "0 15195564\n",
      "1 1388820\n",
      "2 1544082\n",
      "3 1146254\n",
      "3L epir building\n",
      "28707856 variants in Ag1000G\n",
      "19666721 variants in intersection\n",
      "0 14923702\n",
      "1 1512199\n",
      "2 1799095\n",
      "3 1431725\n",
      "X chri building\n",
      "16362809 variants in Ag1000G\n",
      "5730838 variants in intersection\n",
      "0 4371944\n",
      "1 467793\n",
      "2 510661\n",
      "3 380440\n",
      "X epir building\n",
      "16362809 variants in Ag1000G\n",
      "5673109 variants in intersection\n",
      "0 4237386\n",
      "1 454388\n",
      "2 543279\n",
      "3 438056\n"
     ]
    }
   ],
   "source": [
    "with h5py.File('data/outgroup_allele_counts_phase3.h5',\n",
    "               mode='a') as outgroup_allele_counts:\n",
    "    for chrom in chromosomes:\n",
    "        h5g = outgroup_allele_counts.require_group(chrom)\n",
    "        #for species in ingroup_species:\n",
    "         #   if species in h5g:\n",
    "          #      log(chrom, species, 'skipping')\n",
    "            #else:\n",
    "             #   log(chrom, species, 'building')\n",
    "               # ac_aligned = align_ingroup_ac(chrom, species)\n",
    "              #  h5d = h5g.create_dataset(species, data=ac_aligned, chunks=True)\n",
    "\n",
    "        for species in outgroup_species:\n",
    "            if species in h5g:\n",
    "                log(chrom, species, 'skipping')\n",
    "            else:\n",
    "                log(chrom, species, 'building')\n",
    "                ac_aligned = align_outgroup_ac(chrom, species)\n",
    "                h5d = h5g.create_dataset(species, data=ac_aligned, chunks=True)"
   ]
  },
  {
   "cell_type": "markdown",
   "metadata": {},
   "source": [
    "----------------------------------------------"
   ]
  },
  {
   "cell_type": "code",
   "execution_count": 43,
   "metadata": {},
   "outputs": [],
   "source": [
    "calldata_out= h5py.File('data/outgroup_allele_counts_phase3.h5', mode = 'r')"
   ]
  },
  {
   "cell_type": "code",
   "execution_count": 44,
   "metadata": {},
   "outputs": [],
   "source": [
    "chri_2R = calldata_out['2R']['chri'][:]\n",
    "chri_2L = calldata_out['2L']['chri'][:]\n",
    "chri_3R = calldata_out['3R']['chri'][:]\n",
    "chri_3L = calldata_out['3L']['chri'][:]\n",
    "chri_X = calldata_out['X']['chri'][:]"
   ]
  },
  {
   "cell_type": "code",
   "execution_count": 45,
   "metadata": {},
   "outputs": [],
   "source": [
    "epir_2R = calldata_out['2R']['epir'][:]\n",
    "epir_2L = calldata_out['2L']['epir'][:]\n",
    "epir_3R = calldata_out['3R']['epir'][:]\n",
    "epir_3L = calldata_out['3L']['epir'][:]\n",
    "epir_X = calldata_out['X']['epir'][:]"
   ]
  },
  {
   "cell_type": "markdown",
   "metadata": {},
   "source": [
    "## 5) Writing step"
   ]
  },
  {
   "cell_type": "code",
   "execution_count": 48,
   "metadata": {},
   "outputs": [
    {
     "data": {
      "text/plain": [
       "array([[0, 0, 0, 0],\n",
       "       [0, 0, 0, 0],\n",
       "       [0, 0, 0, 0],\n",
       "       ...,\n",
       "       [0, 0, 0, 0],\n",
       "       [0, 0, 0, 0],\n",
       "       [0, 0, 0, 0]], dtype=int32)"
      ]
     },
     "execution_count": 48,
     "metadata": {},
     "output_type": "execute_result"
    }
   ],
   "source": [
    "chri_2R"
   ]
  },
  {
   "cell_type": "code",
   "execution_count": 49,
   "metadata": {},
   "outputs": [],
   "source": [
    "root = zarr.open('data/outgroup_alleles_phase3.zarr', mode='a')"
   ]
  },
  {
   "cell_type": "code",
   "execution_count": 50,
   "metadata": {},
   "outputs": [],
   "source": [
    "#foo = root.create_group('foo')\n",
    "#bar = foo.create_dataset('bar', data=my_array)\n",
    "# shortcuts\n",
    "bar = root.create_dataset('2R/chri', data=chri_2R)\n",
    "bar = root.create_dataset('2R/epir', data=epir_2R)"
   ]
  },
  {
   "cell_type": "code",
   "execution_count": 51,
   "metadata": {},
   "outputs": [],
   "source": [
    "bar = root.create_dataset('2L/chri', data=chri_2L)\n",
    "bar = root.create_dataset('2L/epir', data=epir_2L)"
   ]
  },
  {
   "cell_type": "code",
   "execution_count": 52,
   "metadata": {},
   "outputs": [],
   "source": [
    "bar = root.create_dataset('3R/chri', data=chri_3R)\n",
    "bar = root.create_dataset('3R/epir', data=epir_3R)"
   ]
  },
  {
   "cell_type": "code",
   "execution_count": 53,
   "metadata": {},
   "outputs": [],
   "source": [
    "bar = root.create_dataset('3L/chri', data=chri_3L)\n",
    "bar = root.create_dataset('3L/epir', data=epir_3L)"
   ]
  },
  {
   "cell_type": "code",
   "execution_count": 54,
   "metadata": {},
   "outputs": [],
   "source": [
    "bar = root.create_dataset('X/chri', data=chri_X)\n",
    "bar = root.create_dataset('X/epir', data=epir_X)"
   ]
  },
  {
   "cell_type": "code",
   "execution_count": 56,
   "metadata": {
    "scrolled": true
   },
   "outputs": [
    {
     "data": {
      "application/vnd.jupyter.widget-view+json": {
       "model_id": "2038d88d6a2a46b98d638ff79ba4740a",
       "version_major": 2,
       "version_minor": 0
      },
      "text/plain": [
       "Tree(nodes=(Node(disabled=True, name='/', nodes=(Node(disabled=True, name='2L', nodes=(Node(disabled=True, ico…"
      ]
     },
     "metadata": {},
     "output_type": "display_data"
    }
   ],
   "source": [
    "root.tree()"
   ]
  },
  {
   "cell_type": "markdown",
   "metadata": {},
   "source": [
    "----------------------------------\n",
    "# Sandbox\n",
    "## Ingroup dataset"
   ]
  },
  {
   "cell_type": "markdown",
   "metadata": {},
   "source": [
    "Load ingroup calldata:"
   ]
  },
  {
   "cell_type": "code",
   "execution_count": 22,
   "metadata": {},
   "outputs": [],
   "source": [
    "ingroup_species = 'arab', 'meru', 'mela', 'quad'\n",
    "ingroup_callset_fn_template = '/bucket/outgroup/UnifiedGenotyper/{species}_ref_ug_vqsr_cnvrt_sort.h5'\n",
    "agc_callsets = {species: h5py.File(ingroup_callset_fn_template.format(species=species), mode='r')\n",
    "                    for species in ingroup_species}"
   ]
  },
  {
   "cell_type": "markdown",
   "metadata": {},
   "source": [
    "Test mela:"
   ]
  },
  {
   "cell_type": "code",
   "execution_count": 23,
   "metadata": {},
   "outputs": [
    {
     "data": {
      "text/plain": [
       "<HDF5 file \"mela_ref_ug_vqsr_cnvrt_sort.h5\" (mode r)>"
      ]
     },
     "execution_count": 23,
     "metadata": {},
     "output_type": "execute_result"
    }
   ],
   "source": [
    "agc_callsets['mela']"
   ]
  },
  {
   "cell_type": "markdown",
   "metadata": {},
   "source": [
    "Align ingroup calldata to the phase2 calldata:"
   ]
  },
  {
   "cell_type": "code",
   "execution_count": 26,
   "metadata": {},
   "outputs": [],
   "source": [
    "def align_ingroup_ac(chrom, species):\n",
    "    \n",
    "    # load Ag1000G variant positions and alternate alleles\n",
    "    #variants = callset[chrom]['variants']\n",
    "    pos = allel.SortedIndex(ag3.snp_sites(chrom, field = \"POS\", site_mask=\"gamb_colu\").compute())\n",
    "    alt = ag3.snp_sites(chrom, field = \"ALT\", site_mask=\"gamb_colu\").compute()\n",
    "    \n",
    "    # load ingroup variant positions and alternate alleles\n",
    "    variants_other = agc_callsets[species][chrom]['variants']\n",
    "    pos_other = allel.SortedIndex(variants_other['POS'][:], copy=False)\n",
    "    alt_other = agc_callsets[species][chrom]['variants']['ALT'][:]\n",
    "    \n",
    "    # locate intersection between callsets\n",
    "    loc_isec, loc_other_isec = pos.locate_intersection(pos_other)\n",
    "    # exclude duplicates\n",
    "    loc_other_dup = pos_other == np.roll(pos_other, 1)\n",
    "    loc_other_isec &= ~loc_other_dup\n",
    "    assert nnz(loc_isec) == nnz(loc_other_isec)\n",
    "    log(pos.size, 'variants in Ag1000G')\n",
    "    log(nnz(loc_isec), 'variants in intersection')\n",
    "    \n",
    "    # filter data to the intersection\n",
    "    alt_isec = alt[loc_isec]\n",
    "    alt_other_isec = alt_other[loc_other_isec]\n",
    "    \n",
    "    # load ingroup genotypes and count alleles\n",
    "    genotype_other_isec = allel.GenotypeChunkedArray(agc_callsets[species][chrom]['calldata']['genotype']).compress(loc_other_isec, axis=0)\n",
    "    ac_other_isec = genotype_other_isec.count_alleles()[:]\n",
    "\n",
    "    # setup array to store ingroup allele counts with alleles remapped to Ag1000G\n",
    "    n_variants_isec = nnz(loc_isec)\n",
    "    ac_am = np.zeros((n_variants_isec, 4), dtype='i4')\n",
    "\n",
    "    # fill in reference allele counts\n",
    "    ac_am[:, 0] = ac_other_isec[:, 0]\n",
    "    \n",
    "    # fill in alternate allele counts\n",
    "    loc_a1 = alt_isec[:, 0] == alt_other_isec\n",
    "    loc_a2 = alt_isec[:, 1] == alt_other_isec\n",
    "    loc_a3 = alt_isec[:, 2] == alt_other_isec\n",
    "    ac_am[loc_a1, 1] = ac_other_isec[loc_a1, 1]\n",
    "    ac_am[loc_a2, 2] = ac_other_isec[loc_a2, 1]\n",
    "    ac_am[loc_a3, 3] = ac_other_isec[loc_a3, 1]    \n",
    "    \n",
    "    # finally extend to all Ag1000G variant positions\n",
    "    ac_aligned = np.zeros((pos.shape[0], 4), dtype='i4')\n",
    "    ac_aligned[loc_isec] = ac_am\n",
    "    for i in range(4):\n",
    "        log(i, nnz(ac_aligned[:, i]))\n",
    "    \n",
    "    return ac_aligned"
   ]
  },
  {
   "cell_type": "code",
   "execution_count": 27,
   "metadata": {},
   "outputs": [
    {
     "name": "stdout",
     "output_type": "stream",
     "text": [
      "10640388 variants in Ag1000G\n",
      "9769468 variants in intersection\n",
      "0 9259374\n",
      "1 330829\n",
      "2 87100\n",
      "3 8495\n"
     ]
    },
    {
     "data": {
      "text/plain": [
       "array([[0, 0, 0, 0],\n",
       "       [0, 0, 0, 0],\n",
       "       [0, 0, 0, 0],\n",
       "       ...,\n",
       "       [0, 0, 0, 0],\n",
       "       [0, 0, 0, 0],\n",
       "       [0, 0, 0, 0]], dtype=int32)"
      ]
     },
     "execution_count": 27,
     "metadata": {},
     "output_type": "execute_result"
    }
   ],
   "source": [
    "ac_aligned = align_ingroup_ac('3L', 'mela')\n",
    "ac_aligned"
   ]
  }
 ],
 "metadata": {
  "kernelspec": {
   "display_name": "Python 3 (ipykernel)",
   "language": "python",
   "name": "python3"
  },
  "language_info": {
   "codemirror_mode": {
    "name": "ipython",
    "version": 3
   },
   "file_extension": ".py",
   "mimetype": "text/x-python",
   "name": "python",
   "nbconvert_exporter": "python",
   "pygments_lexer": "ipython3",
   "version": "3.11.7"
  }
 },
 "nbformat": 4,
 "nbformat_minor": 4
}
